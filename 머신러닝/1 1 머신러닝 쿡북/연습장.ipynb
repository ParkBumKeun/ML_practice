{
 "cells": [
  {
   "cell_type": "code",
   "execution_count": 105,
   "metadata": {},
   "outputs": [
    {
     "ename": "ImportError",
     "evalue": "cannot import name 'KFold'",
     "output_type": "error",
     "traceback": [
      "\u001b[1;31m---------------------------------------------------------------------------\u001b[0m",
      "\u001b[1;31mImportError\u001b[0m                               Traceback (most recent call last)",
      "\u001b[1;32m<ipython-input-105-c67c94cc2113>\u001b[0m in \u001b[0;36m<module>\u001b[1;34m()\u001b[0m\n\u001b[0;32m      1\u001b[0m \u001b[1;32mfrom\u001b[0m \u001b[0msklearn\u001b[0m \u001b[1;32mimport\u001b[0m \u001b[0mdatasets\u001b[0m\u001b[1;33m\u001b[0m\u001b[0m\n\u001b[0;32m      2\u001b[0m \u001b[1;32mfrom\u001b[0m \u001b[0msklearn\u001b[0m \u001b[1;32mimport\u001b[0m \u001b[0mmetrics\u001b[0m\u001b[1;33m\u001b[0m\u001b[0m\n\u001b[1;32m----> 3\u001b[1;33m \u001b[1;32mfrom\u001b[0m \u001b[0msklearn\u001b[0m \u001b[1;32mimport\u001b[0m \u001b[0mKFold\u001b[0m\u001b[1;33m,\u001b[0m \u001b[0mcross_val_score\u001b[0m\u001b[1;33m\u001b[0m\u001b[0m\n\u001b[0m\u001b[0;32m      4\u001b[0m \u001b[1;32mfrom\u001b[0m \u001b[0msklearn\u001b[0m\u001b[1;33m.\u001b[0m\u001b[0mpipeline\u001b[0m \u001b[1;32mimport\u001b[0m \u001b[0mPipeline\u001b[0m\u001b[1;33m\u001b[0m\u001b[0m\n\u001b[0;32m      5\u001b[0m \u001b[1;32mfrom\u001b[0m \u001b[0msklearn\u001b[0m\u001b[1;33m.\u001b[0m\u001b[0mlinear_model\u001b[0m \u001b[1;32mimport\u001b[0m \u001b[0mLogisticRegression\u001b[0m\u001b[1;33m\u001b[0m\u001b[0m\n",
      "\u001b[1;31mImportError\u001b[0m: cannot import name 'KFold'"
     ]
    }
   ],
   "source": [
    "from sklearn import datasets\n",
    "from sklearn import metrics\n",
    "from sklearn import KFold, cross_val_score\n",
    "from sklearn.pipeline import Pipeline\n",
    "from sklearn.linear_model import LogisticRegression\n",
    "from sklearn.preprocessing import StandardScaler\n",
    "\n",
    "\n"
   ]
  },
  {
   "cell_type": "code",
   "execution_count": 106,
   "metadata": {},
   "outputs": [
    {
     "ename": "NameError",
     "evalue": "name 'croos_val_score' is not defined",
     "output_type": "error",
     "traceback": [
      "\u001b[1;31m---------------------------------------------------------------------------\u001b[0m",
      "\u001b[1;31mNameError\u001b[0m                                 Traceback (most recent call last)",
      "\u001b[1;32m<ipython-input-106-5c4200e8d644>\u001b[0m in \u001b[0;36m<module>\u001b[1;34m()\u001b[0m\n\u001b[1;32m----> 1\u001b[1;33m \u001b[0mdatasets\u001b[0m\u001b[1;33m,\u001b[0m \u001b[0mmetrics\u001b[0m\u001b[1;33m,\u001b[0m \u001b[0mcroos_val_score\u001b[0m \u001b[1;33m,\u001b[0m \u001b[0mLogisticRegression\u001b[0m\u001b[1;33m,\u001b[0m \u001b[0mStandardScaler\u001b[0m\u001b[1;33m,\u001b[0m\u001b[0mPipeline\u001b[0m\u001b[1;33m\u001b[0m\u001b[0m\n\u001b[0m",
      "\u001b[1;31mNameError\u001b[0m: name 'croos_val_score' is not defined"
     ]
    }
   ],
   "source": [
    "datasets, metrics, croos_val_score , LogisticRegression, StandardScaler,Pipeline"
   ]
  },
  {
   "cell_type": "code",
   "execution_count": 107,
   "metadata": {
    "collapsed": true
   },
   "outputs": [],
   "source": [
    "from sklearn.model_selection import KFold, cross_val_score\n",
    "from sklearn.datasets import load_iris\n",
    "from sklearn.linear_model import LogisticRegression\n",
    "from sklearn import metrics\n",
    "from sklearn.preprocessing import StandardScaler\n",
    "from sklearn.pipeline import make_pipeline\n"
   ]
  },
  {
   "cell_type": "code",
   "execution_count": 108,
   "metadata": {},
   "outputs": [
    {
     "name": "stderr",
     "output_type": "stream",
     "text": [
      "C:\\ProgramData\\Anaconda3\\lib\\site-packages\\sklearn\\model_selection\\_split.py:296: FutureWarning: Setting a random_state has no effect since shuffle is False. This will raise an error in 0.24. You should leave random_state to its default (None), or set shuffle=True.\n",
      "  FutureWarning\n"
     ]
    },
    {
     "data": {
      "text/plain": [
       "array([1.        , 1.        , 1.        , 1.        , 0.86666667,\n",
       "       0.86666667, 1.        , 0.86666667, 0.86666667, 1.        ])"
      ]
     },
     "execution_count": 108,
     "metadata": {},
     "output_type": "execute_result"
    }
   ],
   "source": [
    "iris = load_iris()\n",
    "X= iris.data\n",
    "Y = iris.target\n",
    "\n",
    "scaler = StandardScaler()\n",
    "logis = LogisticRegression(random_state =1)\n",
    "\n",
    "X_std = scaler.fit_transform(X)\n",
    "\n",
    "\n",
    "\n",
    "pipeline = make_pipeline(scaler, logis)\n",
    "\n",
    "\n",
    "kf = KFold(n_splits =10, random_state =1, shuffle =False)\n",
    "\n",
    "\n",
    "cv_results = cross_val_score(pipeline, X,Y,cv=kf,scoring='accuracy', n_jobs= -1)\n",
    "\n",
    "cv_results\n"
   ]
  },
  {
   "cell_type": "code",
   "execution_count": 109,
   "metadata": {},
   "outputs": [
    {
     "data": {
      "text/plain": [
       "0.9466666666666667"
      ]
     },
     "execution_count": 109,
     "metadata": {},
     "output_type": "execute_result"
    }
   ],
   "source": [
    "cv_results.mean()"
   ]
  },
  {
   "cell_type": "code",
   "execution_count": 110,
   "metadata": {
    "collapsed": true
   },
   "outputs": [],
   "source": [
    "from sklearn.model_selection import train_test_split\n",
    "X_train, X_test, Y_train,Y_test = train_test_split(X,Y, test_size=0.1, random_state= 1)"
   ]
  },
  {
   "cell_type": "code",
   "execution_count": 111,
   "metadata": {},
   "outputs": [
    {
     "data": {
      "text/plain": [
       "(array([[4.4, 3.2, 1.3, 0.2],\n",
       "        [5.8, 2.6, 4. , 1.2],\n",
       "        [5.6, 3. , 4.5, 1.5],\n",
       "        [5.4, 3.4, 1.5, 0.4],\n",
       "        [5. , 3.2, 1.2, 0.2],\n",
       "        [5.5, 2.6, 4.4, 1.2],\n",
       "        [5.4, 3. , 4.5, 1.5],\n",
       "        [6.7, 3. , 5. , 1.7],\n",
       "        [5. , 3.5, 1.3, 0.3],\n",
       "        [7.2, 3.2, 6. , 1.8],\n",
       "        [5.7, 2.8, 4.1, 1.3],\n",
       "        [5.5, 4.2, 1.4, 0.2],\n",
       "        [5.1, 3.8, 1.5, 0.3],\n",
       "        [6.1, 2.8, 4.7, 1.2],\n",
       "        [6.3, 2.5, 5. , 1.9],\n",
       "        [6.1, 3. , 4.6, 1.4],\n",
       "        [7.7, 3. , 6.1, 2.3],\n",
       "        [5.6, 2.5, 3.9, 1.1],\n",
       "        [6.4, 2.8, 5.6, 2.1],\n",
       "        [5.8, 2.8, 5.1, 2.4],\n",
       "        [5.3, 3.7, 1.5, 0.2],\n",
       "        [5.5, 2.3, 4. , 1.3],\n",
       "        [5.2, 3.4, 1.4, 0.2],\n",
       "        [6.5, 2.8, 4.6, 1.5],\n",
       "        [6.7, 2.5, 5.8, 1.8],\n",
       "        [6.8, 3. , 5.5, 2.1],\n",
       "        [5.1, 3.5, 1.4, 0.3],\n",
       "        [6. , 2.2, 5. , 1.5],\n",
       "        [6.3, 2.9, 5.6, 1.8],\n",
       "        [6.6, 2.9, 4.6, 1.3],\n",
       "        [7.7, 2.6, 6.9, 2.3],\n",
       "        [5.7, 3.8, 1.7, 0.3],\n",
       "        [5. , 3.6, 1.4, 0.2],\n",
       "        [4.8, 3. , 1.4, 0.3],\n",
       "        [5.2, 2.7, 3.9, 1.4],\n",
       "        [5.1, 3.4, 1.5, 0.2],\n",
       "        [5.5, 3.5, 1.3, 0.2],\n",
       "        [7.7, 3.8, 6.7, 2.2],\n",
       "        [6.9, 3.1, 5.4, 2.1],\n",
       "        [7.3, 2.9, 6.3, 1.8],\n",
       "        [6.4, 2.8, 5.6, 2.2],\n",
       "        [6.2, 2.8, 4.8, 1.8],\n",
       "        [6. , 3.4, 4.5, 1.6],\n",
       "        [7.7, 2.8, 6.7, 2. ],\n",
       "        [5.7, 3. , 4.2, 1.2],\n",
       "        [4.8, 3.4, 1.6, 0.2],\n",
       "        [5.7, 2.5, 5. , 2. ],\n",
       "        [6.3, 2.7, 4.9, 1.8],\n",
       "        [4.8, 3. , 1.4, 0.1],\n",
       "        [4.7, 3.2, 1.3, 0.2],\n",
       "        [6.5, 3. , 5.8, 2.2],\n",
       "        [4.6, 3.4, 1.4, 0.3],\n",
       "        [6.1, 3. , 4.9, 1.8],\n",
       "        [6.5, 3.2, 5.1, 2. ],\n",
       "        [6.7, 3.1, 4.4, 1.4],\n",
       "        [5.7, 2.8, 4.5, 1.3],\n",
       "        [6.7, 3.3, 5.7, 2.5],\n",
       "        [6. , 3. , 4.8, 1.8],\n",
       "        [5.1, 3.8, 1.6, 0.2],\n",
       "        [6. , 2.2, 4. , 1. ],\n",
       "        [6.4, 2.9, 4.3, 1.3],\n",
       "        [6.5, 3. , 5.5, 1.8],\n",
       "        [5. , 2.3, 3.3, 1. ],\n",
       "        [6.3, 3.3, 6. , 2.5],\n",
       "        [5.5, 2.5, 4. , 1.3],\n",
       "        [5.4, 3.7, 1.5, 0.2],\n",
       "        [4.9, 3.1, 1.5, 0.2],\n",
       "        [5.2, 4.1, 1.5, 0.1],\n",
       "        [6.7, 3.3, 5.7, 2.1],\n",
       "        [4.4, 3. , 1.3, 0.2],\n",
       "        [6. , 2.7, 5.1, 1.6],\n",
       "        [6.4, 2.7, 5.3, 1.9],\n",
       "        [5.9, 3. , 5.1, 1.8],\n",
       "        [5.2, 3.5, 1.5, 0.2],\n",
       "        [5.1, 3.3, 1.7, 0.5],\n",
       "        [5.8, 2.7, 4.1, 1. ],\n",
       "        [4.9, 3.1, 1.5, 0.1],\n",
       "        [7.4, 2.8, 6.1, 1.9],\n",
       "        [6.2, 2.9, 4.3, 1.3],\n",
       "        [7.6, 3. , 6.6, 2.1],\n",
       "        [6.7, 3. , 5.2, 2.3],\n",
       "        [6.3, 2.3, 4.4, 1.3],\n",
       "        [6.2, 3.4, 5.4, 2.3],\n",
       "        [7.2, 3.6, 6.1, 2.5],\n",
       "        [5.6, 2.9, 3.6, 1.3],\n",
       "        [5.7, 4.4, 1.5, 0.4],\n",
       "        [5.8, 2.7, 3.9, 1.2],\n",
       "        [4.5, 2.3, 1.3, 0.3],\n",
       "        [5.5, 2.4, 3.8, 1.1],\n",
       "        [6.9, 3.1, 4.9, 1.5],\n",
       "        [5. , 3.4, 1.6, 0.4],\n",
       "        [6.8, 2.8, 4.8, 1.4],\n",
       "        [5. , 3.5, 1.6, 0.6],\n",
       "        [4.8, 3.4, 1.9, 0.2],\n",
       "        [6.3, 3.4, 5.6, 2.4],\n",
       "        [5.6, 2.8, 4.9, 2. ],\n",
       "        [6.8, 3.2, 5.9, 2.3],\n",
       "        [5. , 3.3, 1.4, 0.2],\n",
       "        [5.1, 3.7, 1.5, 0.4],\n",
       "        [5.9, 3.2, 4.8, 1.8],\n",
       "        [4.6, 3.1, 1.5, 0.2],\n",
       "        [5.8, 2.7, 5.1, 1.9],\n",
       "        [4.8, 3.1, 1.6, 0.2],\n",
       "        [6.5, 3. , 5.2, 2. ],\n",
       "        [4.9, 2.5, 4.5, 1.7],\n",
       "        [4.6, 3.2, 1.4, 0.2],\n",
       "        [6.4, 3.2, 5.3, 2.3],\n",
       "        [4.3, 3. , 1.1, 0.1],\n",
       "        [5.6, 3. , 4.1, 1.3],\n",
       "        [4.4, 2.9, 1.4, 0.2],\n",
       "        [5.5, 2.4, 3.7, 1. ],\n",
       "        [5. , 2. , 3.5, 1. ],\n",
       "        [5.1, 3.5, 1.4, 0.2],\n",
       "        [4.9, 3. , 1.4, 0.2],\n",
       "        [4.9, 2.4, 3.3, 1. ],\n",
       "        [4.6, 3.6, 1. , 0.2],\n",
       "        [5.9, 3. , 4.2, 1.5],\n",
       "        [6.1, 2.9, 4.7, 1.4],\n",
       "        [5. , 3.4, 1.5, 0.2],\n",
       "        [6.7, 3.1, 4.7, 1.5],\n",
       "        [5.7, 2.9, 4.2, 1.3],\n",
       "        [6.2, 2.2, 4.5, 1.5],\n",
       "        [7. , 3.2, 4.7, 1.4],\n",
       "        [5.8, 2.7, 5.1, 1.9],\n",
       "        [5.4, 3.4, 1.7, 0.2],\n",
       "        [5. , 3. , 1.6, 0.2],\n",
       "        [6.1, 2.6, 5.6, 1.4],\n",
       "        [6.1, 2.8, 4. , 1.3],\n",
       "        [7.2, 3. , 5.8, 1.6],\n",
       "        [5.7, 2.6, 3.5, 1. ],\n",
       "        [6.3, 2.8, 5.1, 1.5],\n",
       "        [6.4, 3.1, 5.5, 1.8],\n",
       "        [6.3, 2.5, 4.9, 1.5],\n",
       "        [6.7, 3.1, 5.6, 2.4],\n",
       "        [4.9, 3.6, 1.4, 0.1]]), array([[5.8, 4. , 1.2, 0.2],\n",
       "        [5.1, 2.5, 3. , 1.1],\n",
       "        [6.6, 3. , 4.4, 1.4],\n",
       "        [5.4, 3.9, 1.3, 0.4],\n",
       "        [7.9, 3.8, 6.4, 2. ],\n",
       "        [6.3, 3.3, 4.7, 1.6],\n",
       "        [6.9, 3.1, 5.1, 2.3],\n",
       "        [5.1, 3.8, 1.9, 0.4],\n",
       "        [4.7, 3.2, 1.6, 0.2],\n",
       "        [6.9, 3.2, 5.7, 2.3],\n",
       "        [5.6, 2.7, 4.2, 1.3],\n",
       "        [5.4, 3.9, 1.7, 0.4],\n",
       "        [7.1, 3. , 5.9, 2.1],\n",
       "        [6.4, 3.2, 4.5, 1.5],\n",
       "        [6. , 2.9, 4.5, 1.5]]), array([0, 1, 1, 0, 0, 1, 1, 1, 0, 2, 1, 0, 0, 1, 2, 1, 2, 1, 2, 2, 0, 1,\n",
       "        0, 1, 2, 2, 0, 2, 2, 1, 2, 0, 0, 0, 1, 0, 0, 2, 2, 2, 2, 2, 1, 2,\n",
       "        1, 0, 2, 2, 0, 0, 2, 0, 2, 2, 1, 1, 2, 2, 0, 1, 1, 2, 1, 2, 1, 0,\n",
       "        0, 0, 2, 0, 1, 2, 2, 0, 0, 1, 0, 2, 1, 2, 2, 1, 2, 2, 1, 0, 1, 0,\n",
       "        1, 1, 0, 1, 0, 0, 2, 2, 2, 0, 0, 1, 0, 2, 0, 2, 2, 0, 2, 0, 1, 0,\n",
       "        1, 1, 0, 0, 1, 0, 1, 1, 0, 1, 1, 1, 1, 2, 0, 0, 2, 1, 2, 1, 2, 2,\n",
       "        1, 2, 0]), array([0, 1, 1, 0, 2, 1, 2, 0, 0, 2, 1, 0, 2, 1, 1]))"
      ]
     },
     "execution_count": 111,
     "metadata": {},
     "output_type": "execute_result"
    }
   ],
   "source": [
    "X_train, X_test, Y_train,Y_test"
   ]
  },
  {
   "cell_type": "code",
   "execution_count": 112,
   "metadata": {},
   "outputs": [
    {
     "data": {
      "text/plain": [
       "StandardScaler(copy=True, with_mean=True, with_std=True)"
      ]
     },
     "execution_count": 112,
     "metadata": {},
     "output_type": "execute_result"
    }
   ],
   "source": [
    "scaler.fit(X_train)"
   ]
  },
  {
   "cell_type": "code",
   "execution_count": 113,
   "metadata": {
    "collapsed": true
   },
   "outputs": [],
   "source": [
    "X_train_std = scaler.fit_transform(X_train)\n",
    "X_test_std = scaler.fit_transform(X_test)"
   ]
  },
  {
   "cell_type": "code",
   "execution_count": 114,
   "metadata": {},
   "outputs": [
    {
     "data": {
      "text/plain": [
       "array([[-1.73501911,  0.40060073, -1.39621227, -1.30465636],\n",
       "       [-0.02086014, -1.01637128,  0.13621583,  0.00777739],\n",
       "       [-0.26573999, -0.07172327,  0.41999881,  0.40150751],\n",
       "       [-0.51061984,  0.87292473, -1.28269908, -1.04216961],\n",
       "       [-1.00037955,  0.40060073, -1.45296887, -1.30465636],\n",
       "       [-0.38817992, -1.01637128,  0.36324222,  0.00777739],\n",
       "       [-0.51061984, -0.07172327,  0.41999881,  0.40150751],\n",
       "       [ 1.0810992 , -0.07172327,  0.7037818 ,  0.66399426],\n",
       "       [-1.00037955,  1.10908673, -1.39621227, -1.17341299],\n",
       "       [ 1.69329884,  0.40060073,  1.27134776,  0.79523763],\n",
       "       [-0.14330006, -0.54404728,  0.19297243,  0.13902076],\n",
       "       [-0.38817992,  2.76222075, -1.33945568, -1.30465636],\n",
       "       [-0.87793962,  1.81757274, -1.28269908, -1.17341299],\n",
       "       [ 0.34645964, -0.54404728,  0.53351201,  0.00777739],\n",
       "       [ 0.5913395 , -1.25253328,  0.7037818 ,  0.92648101],\n",
       "       [ 0.34645964, -0.07172327,  0.47675541,  0.27026413],\n",
       "       [ 2.30549847, -0.07172327,  1.32810436,  1.45145451],\n",
       "       [-0.26573999, -1.25253328,  0.07945924, -0.12346599],\n",
       "       [ 0.71377942, -0.54404728,  1.04432137,  1.18896776],\n",
       "       [-0.02086014, -0.54404728,  0.76053839,  1.58269788],\n",
       "       [-0.63305977,  1.58141074, -1.28269908, -1.30465636],\n",
       "       [-0.38817992, -1.72485729,  0.13621583,  0.13902076],\n",
       "       [-0.7554997 ,  0.87292473, -1.33945568, -1.30465636],\n",
       "       [ 0.83621935, -0.54404728,  0.47675541,  0.40150751],\n",
       "       [ 1.0810992 , -1.25253328,  1.15783457,  0.79523763],\n",
       "       [ 1.20353913, -0.07172327,  0.98756478,  1.18896776],\n",
       "       [-0.87793962,  1.10908673, -1.33945568, -1.17341299],\n",
       "       [ 0.22401972, -1.96101929,  0.7037818 ,  0.40150751],\n",
       "       [ 0.5913395 , -0.30788528,  1.04432137,  0.79523763],\n",
       "       [ 0.95865928, -0.30788528,  0.47675541,  0.13902076],\n",
       "       [ 2.30549847, -1.01637128,  1.78215713,  1.45145451],\n",
       "       [-0.14330006,  1.81757274, -1.16918589, -1.17341299],\n",
       "       [-1.00037955,  1.34524874, -1.33945568, -1.30465636],\n",
       "       [-1.2452594 , -0.07172327, -1.33945568, -1.17341299],\n",
       "       [-0.7554997 , -0.78020928,  0.07945924,  0.27026413],\n",
       "       [-0.87793962,  0.87292473, -1.28269908, -1.30465636],\n",
       "       [-0.38817992,  1.10908673, -1.39621227, -1.30465636],\n",
       "       [ 2.30549847,  1.81757274,  1.66864394,  1.32021113],\n",
       "       [ 1.32597906,  0.16443873,  0.93080818,  1.18896776],\n",
       "       [ 1.81573876, -0.30788528,  1.44161755,  0.79523763],\n",
       "       [ 0.71377942, -0.54404728,  1.04432137,  1.32021113],\n",
       "       [ 0.46889957, -0.54404728,  0.5902686 ,  0.79523763],\n",
       "       [ 0.22401972,  0.87292473,  0.41999881,  0.53275088],\n",
       "       [ 2.30549847, -0.54404728,  1.66864394,  1.05772438],\n",
       "       [-0.14330006, -0.07172327,  0.24972902,  0.00777739],\n",
       "       [-1.2452594 ,  0.87292473, -1.22594248, -1.30465636],\n",
       "       [-0.14330006, -1.25253328,  0.7037818 ,  1.05772438],\n",
       "       [ 0.5913395 , -0.78020928,  0.6470252 ,  0.79523763],\n",
       "       [-1.2452594 , -0.07172327, -1.33945568, -1.43589974],\n",
       "       [-1.36769933,  0.40060073, -1.39621227, -1.30465636],\n",
       "       [ 0.83621935, -0.07172327,  1.15783457,  1.32021113],\n",
       "       [-1.49013926,  0.87292473, -1.33945568, -1.17341299],\n",
       "       [ 0.34645964, -0.07172327,  0.6470252 ,  0.79523763],\n",
       "       [ 0.83621935,  0.40060073,  0.76053839,  1.05772438],\n",
       "       [ 1.0810992 ,  0.16443873,  0.36324222,  0.27026413],\n",
       "       [-0.14330006, -0.54404728,  0.41999881,  0.13902076],\n",
       "       [ 1.0810992 ,  0.63676273,  1.10107797,  1.71394126],\n",
       "       [ 0.22401972, -0.07172327,  0.5902686 ,  0.79523763],\n",
       "       [-0.87793962,  1.81757274, -1.22594248, -1.30465636],\n",
       "       [ 0.22401972, -1.96101929,  0.13621583, -0.25470936],\n",
       "       [ 0.71377942, -0.30788528,  0.30648562,  0.13902076],\n",
       "       [ 0.83621935, -0.07172327,  0.98756478,  0.79523763],\n",
       "       [-1.00037955, -1.72485729, -0.26108034, -0.25470936],\n",
       "       [ 0.5913395 ,  0.63676273,  1.27134776,  1.71394126],\n",
       "       [-0.38817992, -1.25253328,  0.13621583,  0.13902076],\n",
       "       [-0.51061984,  1.58141074, -1.28269908, -1.30465636],\n",
       "       [-1.12281948,  0.16443873, -1.28269908, -1.30465636],\n",
       "       [-0.7554997 ,  2.52605874, -1.28269908, -1.43589974],\n",
       "       [ 1.0810992 ,  0.63676273,  1.10107797,  1.18896776],\n",
       "       [-1.73501911, -0.07172327, -1.39621227, -1.30465636],\n",
       "       [ 0.22401972, -0.78020928,  0.76053839,  0.53275088],\n",
       "       [ 0.71377942, -0.78020928,  0.87405159,  0.92648101],\n",
       "       [ 0.10157979, -0.07172327,  0.76053839,  0.79523763],\n",
       "       [-0.7554997 ,  1.10908673, -1.28269908, -1.30465636],\n",
       "       [-0.87793962,  0.63676273, -1.16918589, -0.91092624],\n",
       "       [-0.02086014, -0.78020928,  0.19297243, -0.25470936],\n",
       "       [-1.12281948,  0.16443873, -1.28269908, -1.43589974],\n",
       "       [ 1.93817869, -0.54404728,  1.32810436,  0.92648101],\n",
       "       [ 0.46889957, -0.30788528,  0.30648562,  0.13902076],\n",
       "       [ 2.18305854, -0.07172327,  1.61188734,  1.18896776],\n",
       "       [ 1.0810992 , -0.07172327,  0.81729499,  1.45145451],\n",
       "       [ 0.5913395 , -1.72485729,  0.36324222,  0.13902076],\n",
       "       [ 0.46889957,  0.87292473,  0.93080818,  1.45145451],\n",
       "       [ 1.69329884,  1.34524874,  1.32810436,  1.71394126],\n",
       "       [-0.26573999, -0.30788528, -0.09081055,  0.13902076],\n",
       "       [-0.14330006,  3.23454475, -1.28269908, -1.04216961],\n",
       "       [-0.02086014, -0.78020928,  0.07945924,  0.00777739],\n",
       "       [-1.61257918, -1.72485729, -1.39621227, -1.17341299],\n",
       "       [-0.38817992, -1.48869529,  0.02270264, -0.12346599],\n",
       "       [ 1.32597906,  0.16443873,  0.6470252 ,  0.40150751],\n",
       "       [-1.00037955,  0.87292473, -1.22594248, -1.04216961],\n",
       "       [ 1.20353913, -0.54404728,  0.5902686 ,  0.27026413],\n",
       "       [-1.00037955,  1.10908673, -1.22594248, -0.77968286],\n",
       "       [-1.2452594 ,  0.87292473, -1.05567269, -1.30465636],\n",
       "       [ 0.5913395 ,  0.87292473,  1.04432137,  1.58269788],\n",
       "       [-0.26573999, -0.54404728,  0.6470252 ,  1.05772438],\n",
       "       [ 1.20353913,  0.40060073,  1.21459116,  1.45145451],\n",
       "       [-1.00037955,  0.63676273, -1.33945568, -1.30465636],\n",
       "       [-0.87793962,  1.58141074, -1.28269908, -1.04216961],\n",
       "       [ 0.10157979,  0.40060073,  0.5902686 ,  0.79523763],\n",
       "       [-1.49013926,  0.16443873, -1.28269908, -1.30465636],\n",
       "       [-0.02086014, -0.78020928,  0.76053839,  0.92648101],\n",
       "       [-1.2452594 ,  0.16443873, -1.22594248, -1.30465636],\n",
       "       [ 0.83621935, -0.07172327,  0.81729499,  1.05772438],\n",
       "       [-1.12281948, -1.25253328,  0.41999881,  0.66399426],\n",
       "       [-1.49013926,  0.40060073, -1.33945568, -1.30465636],\n",
       "       [ 0.71377942,  0.40060073,  0.87405159,  1.45145451],\n",
       "       [-1.85745904, -0.07172327, -1.50972547, -1.43589974],\n",
       "       [-0.26573999, -0.07172327,  0.19297243,  0.13902076],\n",
       "       [-1.73501911, -0.30788528, -1.33945568, -1.30465636],\n",
       "       [-0.38817992, -1.48869529, -0.03405396, -0.25470936],\n",
       "       [-1.00037955, -2.43334329, -0.14756715, -0.25470936],\n",
       "       [-0.87793962,  1.10908673, -1.33945568, -1.30465636],\n",
       "       [-1.12281948, -0.07172327, -1.33945568, -1.30465636],\n",
       "       [-1.12281948, -1.48869529, -0.26108034, -0.25470936],\n",
       "       [-1.49013926,  1.34524874, -1.56648206, -1.30465636],\n",
       "       [ 0.10157979, -0.07172327,  0.24972902,  0.40150751],\n",
       "       [ 0.34645964, -0.30788528,  0.53351201,  0.27026413],\n",
       "       [-1.00037955,  0.87292473, -1.28269908, -1.30465636],\n",
       "       [ 1.0810992 ,  0.16443873,  0.53351201,  0.40150751],\n",
       "       [-0.14330006, -0.30788528,  0.24972902,  0.13902076],\n",
       "       [ 0.46889957, -1.96101929,  0.41999881,  0.40150751],\n",
       "       [ 1.44841898,  0.40060073,  0.53351201,  0.27026413],\n",
       "       [-0.02086014, -0.78020928,  0.76053839,  0.92648101],\n",
       "       [-0.51061984,  0.87292473, -1.16918589, -1.30465636],\n",
       "       [-1.00037955, -0.07172327, -1.22594248, -1.30465636],\n",
       "       [ 0.34645964, -1.01637128,  1.04432137,  0.27026413],\n",
       "       [ 0.34645964, -0.54404728,  0.13621583,  0.13902076],\n",
       "       [ 1.69329884, -0.07172327,  1.15783457,  0.53275088],\n",
       "       [-0.14330006, -1.01637128, -0.14756715, -0.25470936],\n",
       "       [ 0.5913395 , -0.54404728,  0.76053839,  0.40150751],\n",
       "       [ 0.71377942,  0.16443873,  0.98756478,  0.79523763],\n",
       "       [ 0.5913395 , -1.25253328,  0.6470252 ,  0.40150751],\n",
       "       [ 1.0810992 ,  0.16443873,  1.04432137,  1.58269788],\n",
       "       [-1.12281948,  1.34524874, -1.33945568, -1.43589974]])"
      ]
     },
     "execution_count": 114,
     "metadata": {},
     "output_type": "execute_result"
    }
   ],
   "source": [
    "X_train_std"
   ]
  },
  {
   "cell_type": "code",
   "execution_count": 115,
   "metadata": {},
   "outputs": [
    {
     "data": {
      "text/plain": [
       "array([[-3.24268738e-01,  1.53485153e+00, -1.46263933e+00,\n",
       "        -1.41931868e+00],\n",
       "       [-1.13494058e+00, -1.75411604e+00, -4.26123270e-01,\n",
       "        -1.98885420e-01],\n",
       "       [ 6.02213371e-01, -6.57793514e-01,  3.80055890e-01,\n",
       "         2.07925666e-01],\n",
       "       [-7.87509793e-01,  1.31558703e+00, -1.40505511e+00,\n",
       "        -1.14811129e+00],\n",
       "       [ 2.10774680e+00,  1.09632252e+00,  1.53174040e+00,\n",
       "         1.02154784e+00],\n",
       "       [ 2.54782580e-01, -9.73730007e-16,  5.52808567e-01,\n",
       "         4.79133057e-01],\n",
       "       [ 9.49644162e-01, -4.38529010e-01,  7.83145470e-01,\n",
       "         1.42835893e+00],\n",
       "       [-1.13494058e+00,  1.09632252e+00, -1.05954975e+00,\n",
       "        -1.14811129e+00],\n",
       "       [-1.59818164e+00, -2.19264505e-01, -1.23230243e+00,\n",
       "        -1.41931868e+00],\n",
       "       [ 9.49644162e-01, -2.19264505e-01,  1.12865082e+00,\n",
       "         1.42835893e+00],\n",
       "       [-5.55889266e-01, -1.31558703e+00,  2.64887438e-01,\n",
       "         7.23219709e-02],\n",
       "       [-7.87509793e-01,  1.31558703e+00, -1.17471821e+00,\n",
       "        -1.14811129e+00],\n",
       "       [ 1.18126469e+00, -6.57793514e-01,  1.24381928e+00,\n",
       "         1.15715153e+00],\n",
       "       [ 3.70592844e-01, -2.19264505e-01,  4.37640116e-01,\n",
       "         3.43529362e-01],\n",
       "       [-9.26482109e-02, -8.77058019e-01,  4.37640116e-01,\n",
       "         3.43529362e-01]])"
      ]
     },
     "execution_count": 115,
     "metadata": {},
     "output_type": "execute_result"
    }
   ],
   "source": [
    "X_test_std"
   ]
  },
  {
   "cell_type": "code",
   "execution_count": 116,
   "metadata": {
    "collapsed": true
   },
   "outputs": [],
   "source": [
    "pipeline= make_pipeline(scaler,logit)"
   ]
  },
  {
   "cell_type": "code",
   "execution_count": 117,
   "metadata": {},
   "outputs": [
    {
     "data": {
      "text/plain": [
       "Pipeline(memory=None,\n",
       "         steps=[('standardscaler',\n",
       "                 StandardScaler(copy=True, with_mean=True, with_std=True)),\n",
       "                ('logisticregression',\n",
       "                 LogisticRegression(C=1.0, class_weight=None, dual=False,\n",
       "                                    fit_intercept=True, intercept_scaling=1,\n",
       "                                    l1_ratio=None, max_iter=100,\n",
       "                                    multi_class='auto', n_jobs=None,\n",
       "                                    penalty='l2', random_state=None,\n",
       "                                    solver='lbfgs', tol=0.0001, verbose=0,\n",
       "                                    warm_start=False))],\n",
       "         verbose=False)"
      ]
     },
     "execution_count": 117,
     "metadata": {},
     "output_type": "execute_result"
    }
   ],
   "source": [
    "pipeline"
   ]
  },
  {
   "cell_type": "code",
   "execution_count": 118,
   "metadata": {
    "collapsed": true
   },
   "outputs": [],
   "source": [
    "kf2 =KFold(n_splits =10 ,random_state=1,shuffle=True)\n",
    "model = cross_val_score(pipeline,X_train_std,Y_train,cv=kf2,scoring=\"accuracy\",n_jobs=-1)"
   ]
  },
  {
   "cell_type": "code",
   "execution_count": 119,
   "metadata": {},
   "outputs": [
    {
     "data": {
      "text/plain": [
       "0.9549450549450551"
      ]
     },
     "execution_count": 119,
     "metadata": {},
     "output_type": "execute_result"
    }
   ],
   "source": [
    "model.mean()"
   ]
  },
  {
   "cell_type": "code",
   "execution_count": 136,
   "metadata": {
    "collapsed": true
   },
   "outputs": [],
   "source": [
    "model2 =LogisticRegression(random_state=50).fit(X_train_std, Y_train)"
   ]
  },
  {
   "cell_type": "code",
   "execution_count": 137,
   "metadata": {},
   "outputs": [
    {
     "data": {
      "text/plain": [
       "LogisticRegression(C=1.0, class_weight=None, dual=False, fit_intercept=True,\n",
       "                   intercept_scaling=1, l1_ratio=None, max_iter=100,\n",
       "                   multi_class='auto', n_jobs=None, penalty='l2',\n",
       "                   random_state=50, solver='lbfgs', tol=0.0001, verbose=0,\n",
       "                   warm_start=False)"
      ]
     },
     "execution_count": 137,
     "metadata": {},
     "output_type": "execute_result"
    }
   ],
   "source": [
    "model2"
   ]
  },
  {
   "cell_type": "code",
   "execution_count": 138,
   "metadata": {},
   "outputs": [
    {
     "data": {
      "text/plain": [
       "0.26666666666666666"
      ]
     },
     "execution_count": 138,
     "metadata": {},
     "output_type": "execute_result"
    }
   ],
   "source": [
    "acc = model2.score(X_test,Y_test)\n",
    "acc"
   ]
  },
  {
   "cell_type": "code",
   "execution_count": 139,
   "metadata": {},
   "outputs": [
    {
     "data": {
      "text/plain": [
       "array([1.        , 1.        , 1.        , 0.92857143, 0.92857143,\n",
       "       1.        , 0.84615385, 0.92307692, 1.        , 0.92307692])"
      ]
     },
     "execution_count": 139,
     "metadata": {},
     "output_type": "execute_result"
    }
   ],
   "source": [
    "model"
   ]
  },
  {
   "cell_type": "code",
   "execution_count": 100,
   "metadata": {
    "collapsed": true
   },
   "outputs": [],
   "source": [
    "from sklearn.tree import DecisionTreeClassifier\n",
    "dfc = DecisionTreeClassifier(max_depth=5, random_state=10)\n",
    "model3 = dfc.fit(X_train_std, Y_train) "
   ]
  },
  {
   "cell_type": "code",
   "execution_count": 101,
   "metadata": {},
   "outputs": [
    {
     "data": {
      "text/plain": [
       "0.26666666666666666"
      ]
     },
     "execution_count": 101,
     "metadata": {},
     "output_type": "execute_result"
    }
   ],
   "source": [
    "model3.score(X_test,Y_test)"
   ]
  },
  {
   "cell_type": "code",
   "execution_count": 102,
   "metadata": {},
   "outputs": [
    {
     "data": {
      "text/plain": [
       "1.0"
      ]
     },
     "execution_count": 102,
     "metadata": {},
     "output_type": "execute_result"
    }
   ],
   "source": [
    "model3.score(X_test_std,Y_test)"
   ]
  },
  {
   "cell_type": "code",
   "execution_count": 104,
   "metadata": {},
   "outputs": [
    {
     "data": {
      "text/plain": [
       "array([2, 2, 2, 2, 2, 2, 2, 2, 2, 2, 2, 2, 2, 2, 2, 2, 2, 2, 2, 2, 2, 2,\n",
       "       2, 2, 2, 2, 2, 2, 2, 2, 2, 2, 2, 2, 2, 2, 2, 2, 2, 2, 2, 2, 2, 2,\n",
       "       2, 2, 2, 2, 2, 2, 2, 2, 2, 2, 2, 2, 2, 2, 2, 2, 2, 2, 2, 2, 2, 2,\n",
       "       2, 2, 2, 2, 2, 2, 2, 2, 2, 2, 2, 2, 2, 2, 2, 2, 2, 2, 2, 2, 2, 2,\n",
       "       2, 2, 2, 2, 2, 2, 2, 2, 2, 2, 2, 2, 2, 2, 2, 2, 2, 2, 2, 2, 2, 2,\n",
       "       2, 2, 2, 2, 2, 2, 2, 2, 2, 2, 2, 2, 2, 2, 2, 2, 2, 2, 2, 2, 2, 2,\n",
       "       2, 2, 2, 2, 2, 2, 2, 2, 2, 2, 2, 2, 2, 2, 2, 2, 2, 2])"
      ]
     },
     "execution_count": 104,
     "metadata": {},
     "output_type": "execute_result"
    }
   ],
   "source": [
    "model3.predict(X)"
   ]
  },
  {
   "cell_type": "code",
   "execution_count": 93,
   "metadata": {
    "collapsed": true
   },
   "outputs": [],
   "source": [
    "from sklearn.linear_model import LogisticRegression\n",
    "dfc =  LogisticRegression()\n",
    "model3 = dfc.fit(X_train_std, Y_train) "
   ]
  },
  {
   "cell_type": "code",
   "execution_count": 94,
   "metadata": {},
   "outputs": [
    {
     "data": {
      "text/plain": [
       "1.0"
      ]
     },
     "execution_count": 94,
     "metadata": {},
     "output_type": "execute_result"
    }
   ],
   "source": [
    "model3.score(X_test_std,Y_test)"
   ]
  },
  {
   "cell_type": "code",
   "execution_count": 85,
   "metadata": {},
   "outputs": [
    {
     "data": {
      "text/plain": [
       "0.26666666666666666"
      ]
     },
     "execution_count": 85,
     "metadata": {},
     "output_type": "execute_result"
    }
   ],
   "source": [
    "model3.score(X_test,Y_test)"
   ]
  },
  {
   "cell_type": "code",
   "execution_count": 83,
   "metadata": {},
   "outputs": [
    {
     "data": {
      "text/plain": [
       "array([0, 1, 1, 0, 2, 1, 2, 0, 0, 2, 1, 0, 2, 1, 1])"
      ]
     },
     "execution_count": 83,
     "metadata": {},
     "output_type": "execute_result"
    }
   ],
   "source": [
    "model2.predict(X_test_std)"
   ]
  },
  {
   "cell_type": "code",
   "execution_count": 75,
   "metadata": {},
   "outputs": [
    {
     "data": {
      "text/plain": [
       "array([-0.25745664,  0.87422703,  1.20799755, -0.05693887,  1.8982195 ,\n",
       "        1.43972161,  1.8809816 ,  0.14432608,  0.01345363,  2.03757225,\n",
       "        1.23763119,  0.04881027,  1.94953761,  1.31639244,  1.37663586])"
      ]
     },
     "execution_count": 75,
     "metadata": {},
     "output_type": "execute_result"
    }
   ],
   "source": [
    "model3.predict(X_test_std)"
   ]
  },
  {
   "cell_type": "code",
   "execution_count": 103,
   "metadata": {},
   "outputs": [
    {
     "data": {
      "text/plain": [
       "array([0, 0, 0, 0, 0, 0, 0, 0, 0, 0, 0, 0, 0, 0, 0, 0, 0, 0, 0, 0, 0, 0,\n",
       "       0, 0, 0, 0, 0, 0, 0, 0, 0, 0, 0, 0, 0, 0, 0, 0, 0, 0, 0, 0, 0, 0,\n",
       "       0, 0, 0, 0, 0, 0, 1, 1, 1, 1, 1, 1, 1, 1, 1, 1, 1, 1, 1, 1, 1, 1,\n",
       "       1, 1, 1, 1, 1, 1, 1, 1, 1, 1, 1, 1, 1, 1, 1, 1, 1, 1, 1, 1, 1, 1,\n",
       "       1, 1, 1, 1, 1, 1, 1, 1, 1, 1, 1, 1, 2, 2, 2, 2, 2, 2, 2, 2, 2, 2,\n",
       "       2, 2, 2, 2, 2, 2, 2, 2, 2, 2, 2, 2, 2, 2, 2, 2, 2, 2, 2, 2, 2, 2,\n",
       "       2, 2, 2, 2, 2, 2, 2, 2, 2, 2, 2, 2, 2, 2, 2, 2, 2, 2])"
      ]
     },
     "execution_count": 103,
     "metadata": {},
     "output_type": "execute_result"
    }
   ],
   "source": []
  },
  {
   "cell_type": "code",
   "execution_count": 140,
   "metadata": {
    "collapsed": true
   },
   "outputs": [],
   "source": [
    "from sklearn.model_selection import ShuffleSplit\n",
    "\n",
    "ss = ShuffleSplit(n_splits = 10 , train_size= 0.5, test_size = 0.2, random_state = 42)\n",
    "\n",
    "cv_results22 = cross_val_score(pipeline,X,Y,cv=ss , scoring='accuracy', n_jobs=-1)"
   ]
  },
  {
   "cell_type": "code",
   "execution_count": 141,
   "metadata": {},
   "outputs": [
    {
     "data": {
      "text/plain": [
       "array([1.        , 0.96666667, 0.96666667, 0.93333333, 0.96666667,\n",
       "       1.        , 0.9       , 0.9       , 0.96666667, 0.93333333])"
      ]
     },
     "execution_count": 141,
     "metadata": {},
     "output_type": "execute_result"
    }
   ],
   "source": [
    "cv_results22"
   ]
  },
  {
   "cell_type": "code",
   "execution_count": 142,
   "metadata": {},
   "outputs": [
    {
     "data": {
      "text/plain": [
       "0.9533333333333334"
      ]
     },
     "execution_count": 142,
     "metadata": {},
     "output_type": "execute_result"
    }
   ],
   "source": [
    "cv_results22.mean()"
   ]
  },
  {
   "cell_type": "code",
   "execution_count": 152,
   "metadata": {
    "collapsed": true
   },
   "outputs": [],
   "source": [
    "from sklearn.model_selection import RepeatedKFold\n",
    "\n",
    "rkf = RepeatedKFold(n_splits= 10, n_repeats =5, random_state=10)\n",
    "cv_results33 = cross_val_score(pipeline,X,Y,cv=rkf , scoring='accuracy', n_jobs=-1)"
   ]
  },
  {
   "cell_type": "code",
   "execution_count": 153,
   "metadata": {},
   "outputs": [
    {
     "data": {
      "text/plain": [
       "0.9546666666666667"
      ]
     },
     "execution_count": 153,
     "metadata": {},
     "output_type": "execute_result"
    }
   ],
   "source": [
    "cv_results33.mean()"
   ]
  },
  {
   "cell_type": "code",
   "execution_count": 154,
   "metadata": {},
   "outputs": [
    {
     "data": {
      "text/plain": [
       "array([1.        , 1.        , 1.        , 0.93333333, 0.86666667,\n",
       "       0.93333333, 0.93333333, 0.93333333, 0.93333333, 1.        ,\n",
       "       1.        , 1.        , 0.93333333, 0.93333333, 0.93333333,\n",
       "       1.        , 0.86666667, 1.        , 0.93333333, 1.        ,\n",
       "       1.        , 1.        , 0.93333333, 0.93333333, 1.        ,\n",
       "       0.93333333, 0.93333333, 1.        , 0.86666667, 0.93333333,\n",
       "       0.93333333, 1.        , 0.93333333, 1.        , 1.        ,\n",
       "       1.        , 0.93333333, 0.93333333, 0.93333333, 0.86666667,\n",
       "       1.        , 0.8       , 0.86666667, 0.93333333, 0.93333333,\n",
       "       1.        , 1.        , 1.        , 1.        , 1.        ])"
      ]
     },
     "execution_count": 154,
     "metadata": {},
     "output_type": "execute_result"
    }
   ],
   "source": [
    "cv_results33"
   ]
  },
  {
   "cell_type": "code",
   "execution_count": 155,
   "metadata": {},
   "outputs": [
    {
     "data": {
      "text/plain": [
       "50"
      ]
     },
     "execution_count": 155,
     "metadata": {},
     "output_type": "execute_result"
    }
   ],
   "source": [
    "len(cv_results33)"
   ]
  },
  {
   "cell_type": "code",
   "execution_count": 156,
   "metadata": {
    "collapsed": true
   },
   "outputs": [],
   "source": [
    "from sklearn.datasets import load_boston\n",
    "from sklearn.dummy import DummyRegressor\n",
    "from sklearn.model_selection import train_test_split\n"
   ]
  },
  {
   "cell_type": "code",
   "execution_count": 164,
   "metadata": {
    "collapsed": true
   },
   "outputs": [],
   "source": [
    "boston= load_boston()\n",
    "\n",
    "X,Y = boston.data, boston.target\n",
    "\n",
    "X_train, X_test, Y_train, Y_test = train_test_split(X,Y, train_size=0.5, test_size= 0.2, random_state =0)"
   ]
  },
  {
   "cell_type": "code",
   "execution_count": 165,
   "metadata": {},
   "outputs": [
    {
     "data": {
      "text/plain": [
       "(506, 13)"
      ]
     },
     "execution_count": 165,
     "metadata": {},
     "output_type": "execute_result"
    }
   ],
   "source": [
    "X.shape"
   ]
  },
  {
   "cell_type": "code",
   "execution_count": 166,
   "metadata": {},
   "outputs": [
    {
     "data": {
      "text/plain": [
       "(253, 13)"
      ]
     },
     "execution_count": 166,
     "metadata": {},
     "output_type": "execute_result"
    }
   ],
   "source": [
    "X_train.shape"
   ]
  },
  {
   "cell_type": "code",
   "execution_count": 167,
   "metadata": {},
   "outputs": [
    {
     "data": {
      "text/plain": [
       "(253,)"
      ]
     },
     "execution_count": 167,
     "metadata": {},
     "output_type": "execute_result"
    }
   ],
   "source": [
    "Y_train.shape"
   ]
  },
  {
   "cell_type": "code",
   "execution_count": 170,
   "metadata": {},
   "outputs": [
    {
     "data": {
      "text/plain": [
       "array([26.7, 21.7, 22. , 22.9, 10.4, 21.9, 20.6, 26.4, 41.3, 17.2, 27.1,\n",
       "       20.4, 16.5, 24.4,  8.4, 23. ,  9.7, 50. , 30.5, 12.3, 19.4, 21.2,\n",
       "       20.3, 18.8, 33.4, 18.5, 19.6, 33.2, 13.1,  7.5, 13.6, 17.4,  8.4,\n",
       "       35.4, 24. , 13.4, 26.2,  7.2, 13.1, 24.5, 37.2, 25. , 24.1, 16.6,\n",
       "       32.9, 36.2, 11. ,  7.2, 22.8, 28.7, 14.4, 24.4, 18.1, 22.5, 20.5,\n",
       "       15.2, 17.4, 13.6,  8.7, 18.2, 35.4, 31.7, 33. , 22.2, 20.4, 23.9,\n",
       "       25. , 12.7, 29.1, 12. , 17.7, 27. , 20.6, 10.2, 17.5, 19.7, 29.8,\n",
       "       20.5, 14.9, 10.9, 19.5, 22.7, 19.5, 24.6, 25. , 24.5, 50. , 14.3,\n",
       "       11.8, 31. , 28.7, 16.2, 43.5, 25. , 22. , 19.9, 22.1, 46. , 22.9,\n",
       "       20.2, 43.1, 34.6, 13.8, 24.3, 21.5, 24.4, 21.2, 23.8, 26.6, 25.1,\n",
       "        9.6, 19.4, 19.4,  9.5, 14. , 26.5, 13.8, 34.7, 16.3, 21.7, 17.5,\n",
       "       15.6, 20.9, 21.7, 12.7, 18.5, 23.7, 19.3, 12.7, 21.6, 23.2, 29.6,\n",
       "       21.2, 23.8, 17.1, 22. , 36.5, 18.8, 21.9, 23.1, 20.2, 17.4, 37. ,\n",
       "       24.1, 36.2, 15.7, 32.2, 13.5, 17.9, 13.3, 11.7, 41.7, 18.4, 13.1,\n",
       "       25. , 21.2, 16. , 34.9, 25.2, 24.8, 21.5, 23.4, 18.9, 10.8, 21. ,\n",
       "       27.5, 17.5, 13.5, 28.7, 14.8, 19.1, 28.6, 13.1, 19. , 11.3, 13.3,\n",
       "       22.4, 20.1, 18.2, 22.9, 20.6, 25. , 12.8, 34.9, 23.7, 50. , 29. ,\n",
       "       30.1, 22. , 15.6, 23.3, 30.1, 14.3, 22.8, 50. , 20.8,  6.3, 34.9,\n",
       "       32.4, 19.9, 20.3, 17.8, 23.1, 20.4, 23.2,  7. , 16.8, 46.7, 50. ,\n",
       "       22.9, 23.9, 21.4, 21.7, 15.4, 15.3, 23.1, 23.9, 19.4, 11.9, 17.8,\n",
       "       31.5, 33.8, 20.8, 19.8, 22.4,  5. , 24.5, 19.4, 15.1, 18.2, 19.3,\n",
       "       27.1, 20.7, 37.6, 11.7, 33.4, 30.1, 21.4, 45.4, 20.1, 20.8, 26.4,\n",
       "       10.4, 21.8, 32. , 21.7, 18.4, 37.9, 17.8, 28. , 28.2, 36. , 18.9])"
      ]
     },
     "execution_count": 170,
     "metadata": {},
     "output_type": "execute_result"
    }
   ],
   "source": [
    "Y_train"
   ]
  },
  {
   "cell_type": "code",
   "execution_count": 171,
   "metadata": {},
   "outputs": [
    {
     "data": {
      "text/plain": [
       "-0.00037548940353260285"
      ]
     },
     "execution_count": 171,
     "metadata": {},
     "output_type": "execute_result"
    }
   ],
   "source": [
    "dummy = DummyRegressor(strategy='mean')\n",
    "\n",
    "\n",
    "model = dummy.fit(X_train,Y_train)\n",
    "\n",
    "model.score(X_test,Y_test)\n"
   ]
  },
  {
   "cell_type": "code",
   "execution_count": null,
   "metadata": {
    "collapsed": true
   },
   "outputs": [],
   "source": []
  },
  {
   "cell_type": "code",
   "execution_count": null,
   "metadata": {
    "collapsed": true
   },
   "outputs": [],
   "source": []
  },
  {
   "cell_type": "code",
   "execution_count": 174,
   "metadata": {
    "collapsed": true
   },
   "outputs": [],
   "source": [
    "from sklearn.linear_model import LinearRegression\n",
    "\n",
    "ols = LinearRegression()\n",
    "\n",
    "ols.fit(X_train,Y_train)\n",
    "\n",
    "ols.score(X_test,Y_test)\n"
   ]
  },
  {
   "cell_type": "code",
   "execution_count": 178,
   "metadata": {},
   "outputs": [
    {
     "data": {
      "text/plain": [
       "array([50., 50., 50., 50., 50., 50., 50., 50., 50., 50., 50., 50., 50.,\n",
       "       50., 50., 50., 50., 50., 50., 50., 50., 50., 50., 50., 50., 50.,\n",
       "       50., 50., 50., 50., 50., 50., 50., 50., 50., 50., 50., 50., 50.,\n",
       "       50., 50., 50., 50., 50., 50., 50., 50., 50., 50., 50., 50., 50.,\n",
       "       50., 50., 50., 50., 50., 50., 50., 50., 50., 50., 50., 50., 50.,\n",
       "       50., 50., 50., 50., 50., 50., 50., 50., 50., 50., 50., 50., 50.,\n",
       "       50., 50., 50., 50., 50., 50., 50., 50., 50., 50., 50., 50., 50.,\n",
       "       50., 50., 50., 50., 50., 50., 50., 50., 50., 50., 50.])"
      ]
     },
     "execution_count": 178,
     "metadata": {},
     "output_type": "execute_result"
    }
   ],
   "source": [
    "ols = DummyRegressor(strategy='quantile', quantile =1.0)\n",
    "ols.fit(X_train, Y_train)\n",
    "\n",
    "ols.predict(X_test)"
   ]
  },
  {
   "cell_type": "markdown",
   "metadata": {},
   "source": [
    "# 11.3 기본 분류 모델 만들기\n",
    "\n",
    "- 다른 모델과 비교하기 위해 간단한 기본 회귀모델 생성 - Dummyclassifier"
   ]
  },
  {
   "cell_type": "code",
   "execution_count": 194,
   "metadata": {},
   "outputs": [
    {
     "data": {
      "text/plain": [
       "0.42105263157894735"
      ]
     },
     "execution_count": 194,
     "metadata": {},
     "output_type": "execute_result"
    }
   ],
   "source": [
    "from sklearn.dummy import DummyClassifier\n",
    "from sklearn.datasets import load_iris\n",
    "from sklearn.model_selection import train_test_split\n",
    "\n",
    "iris = load_iris()\n",
    "\n",
    "X,Y = iris.data , iris.target\n",
    "\n",
    "X_train, X_test, Y_train,Y_test = train_test_split(X,Y,random_state = 0)\n",
    "\n",
    "\n",
    "dummy = DummyClassifier(strategy = 'uniform', random_state= 1)\n",
    "\n",
    "dummy.fit(X_train,Y_train)\n",
    "\n",
    "dummy.score(X_test,Y_test)"
   ]
  },
  {
   "cell_type": "code",
   "execution_count": 186,
   "metadata": {},
   "outputs": [
    {
     "data": {
      "text/plain": [
       "0.9736842105263158"
      ]
     },
     "execution_count": 186,
     "metadata": {},
     "output_type": "execute_result"
    }
   ],
   "source": [
    "\n",
    "from sklearn.ensemble import RandomForestClassifier\n",
    "\n",
    "RFclassifier = RandomForestClassifier()\n",
    "\n",
    "RFclassifier.fit(X_train,Y_train)\n",
    "RFclassifier.score(X_test,Y_test)"
   ]
  },
  {
   "cell_type": "code",
   "execution_count": 195,
   "metadata": {},
   "outputs": [
    {
     "data": {
      "text/plain": [
       "array([2, 2, 2, 2, 2, 2, 2, 2, 2, 2, 2, 2, 2, 2, 2, 2, 2, 2, 2, 2, 2, 2,\n",
       "       2, 2, 2, 2, 2, 2, 2, 2, 2, 2, 2, 2, 2, 2, 2, 2])"
      ]
     },
     "execution_count": 195,
     "metadata": {},
     "output_type": "execute_result"
    }
   ],
   "source": [
    "dummy=DummyClassifier(strategy='most_frequent')\n",
    "dummy.fit(X_train,Y_train)\n",
    "\n",
    "dummy.predict(X_test)\n"
   ]
  },
  {
   "cell_type": "code",
   "execution_count": 196,
   "metadata": {},
   "outputs": [
    {
     "data": {
      "text/plain": [
       "0.23684210526315788"
      ]
     },
     "execution_count": 196,
     "metadata": {},
     "output_type": "execute_result"
    }
   ],
   "source": [
    "dummy.score(X_test,Y_test)"
   ]
  },
  {
   "cell_type": "code",
   "execution_count": 197,
   "metadata": {},
   "outputs": [
    {
     "data": {
      "text/plain": [
       "array([37, 34, 41], dtype=int64)"
      ]
     },
     "execution_count": 197,
     "metadata": {},
     "output_type": "execute_result"
    }
   ],
   "source": [
    "import numpy as np\n",
    "# 훈련 세트의 타깃 개수를 확인\n",
    "np.bincount(Y_train)"
   ]
  },
  {
   "cell_type": "code",
   "execution_count": 206,
   "metadata": {
    "collapsed": true
   },
   "outputs": [],
   "source": [
    "from sklearn.datasets import make_classification\n",
    "from sklearn.model_selection import cross_val_score\n",
    "from sklearn.linear_model import LogisticRegression\n",
    "\n",
    "\n",
    "X,y = make_classification(n_samples =10000, n_features= 3, n_informative=3, n_redundant =0, n_classes=2, random_state = 1)\n",
    "\n",
    "logit = LogisticRegression()\n",
    "\n",
    "cv_results = cross_val_score(logit,X,y,scoring='accuracy',n_jobs= -1)"
   ]
  },
  {
   "cell_type": "code",
   "execution_count": 207,
   "metadata": {},
   "outputs": [
    {
     "data": {
      "text/plain": [
       "array([0.9555, 0.95  , 0.9585, 0.9555, 0.956 ])"
      ]
     },
     "execution_count": 207,
     "metadata": {},
     "output_type": "execute_result"
    }
   ],
   "source": [
    "cv_results"
   ]
  },
  {
   "cell_type": "code",
   "execution_count": 208,
   "metadata": {},
   "outputs": [
    {
     "data": {
      "text/plain": [
       "0.9550999999999998"
      ]
     },
     "execution_count": 208,
     "metadata": {},
     "output_type": "execute_result"
    }
   ],
   "source": [
    "cv_results.mean()"
   ]
  },
  {
   "cell_type": "code",
   "execution_count": 215,
   "metadata": {},
   "outputs": [
    {
     "data": {
      "text/plain": [
       "array([0.95963673, 0.94820717, 0.9635996 , 0.96149949, 0.96060606])"
      ]
     },
     "execution_count": 215,
     "metadata": {},
     "output_type": "execute_result"
    }
   ],
   "source": [
    "\n",
    "cv_results = cross_val_score(logit,X,y,scoring='precision',n_jobs= -1)\n",
    "cv_results"
   ]
  },
  {
   "cell_type": "code",
   "execution_count": 216,
   "metadata": {},
   "outputs": [
    {
     "data": {
      "text/plain": [
       "array([0.951, 0.952, 0.953, 0.949, 0.951])"
      ]
     },
     "execution_count": 216,
     "metadata": {},
     "output_type": "execute_result"
    }
   ],
   "source": [
    "\n",
    "cv_results = cross_val_score(logit,X,y,scoring='recall',n_jobs= -1)\n",
    "cv_results"
   ]
  },
  {
   "cell_type": "code",
   "execution_count": 217,
   "metadata": {},
   "outputs": [
    {
     "data": {
      "text/plain": [
       "(10000, 3)"
      ]
     },
     "execution_count": 217,
     "metadata": {},
     "output_type": "execute_result"
    }
   ],
   "source": [
    "X.shape"
   ]
  },
  {
   "cell_type": "code",
   "execution_count": 218,
   "metadata": {},
   "outputs": [
    {
     "data": {
      "text/plain": [
       "(10000,)"
      ]
     },
     "execution_count": 218,
     "metadata": {},
     "output_type": "execute_result"
    }
   ],
   "source": [
    "Y.shape"
   ]
  },
  {
   "cell_type": "code",
   "execution_count": 219,
   "metadata": {
    "collapsed": true
   },
   "outputs": [],
   "source": [
    "\n",
    "cv_results = cross_val_score(logit,X,y,scoring='f1',n_jobs= -1)"
   ]
  },
  {
   "cell_type": "code",
   "execution_count": 220,
   "metadata": {},
   "outputs": [
    {
     "data": {
      "text/plain": [
       "array([0.95529884, 0.9500998 , 0.95827049, 0.95520886, 0.95577889])"
      ]
     },
     "execution_count": 220,
     "metadata": {},
     "output_type": "execute_result"
    }
   ],
   "source": [
    "cv_results"
   ]
  },
  {
   "cell_type": "code",
   "execution_count": 221,
   "metadata": {},
   "outputs": [
    {
     "data": {
      "text/plain": [
       "{'fit_time': array([0.02692747, 0.01994562, 0.01994753, 0.02094626, 0.01794982]),\n",
       " 'score_time': array([0.00997353, 0.00849056, 0.0069809 , 0.00997615, 0.00698233]),\n",
       " 'test_accuracy': array([0.9555, 0.95  , 0.9585, 0.9555, 0.956 ]),\n",
       " 'test_f1': array([0.95529884, 0.9500998 , 0.95827049, 0.95520886, 0.95577889]),\n",
       " 'test_precision': array([0.95963673, 0.94820717, 0.9635996 , 0.96149949, 0.96060606]),\n",
       " 'test_recall': array([0.951, 0.952, 0.953, 0.949, 0.951])}"
      ]
     },
     "execution_count": 221,
     "metadata": {},
     "output_type": "execute_result"
    }
   ],
   "source": [
    "from sklearn.model_selection import cross_validate\n",
    "\n",
    "cross_validate(logit,X,y, scoring = ['accuracy', 'precision','recall', 'f1'])"
   ]
  },
  {
   "cell_type": "markdown",
   "metadata": {},
   "source": [
    "# 11.5 이진 분류기 임곗값 평가 \n",
    "\n",
    "- 이진 분류기를 여러 가지 확률 임곗값으로 평가 - ROC 곡 선을 이용해서  -ROC는 확률 임겠값(즉 어떤 샘플을 한 클래스로 예측할 확률)마다 진짜 양성과 거짓 양성 개수를 비교 , roc_curve 함수를 사용해 임곗값마다 진짜 양성과 거짓 양성을 계산해 그래프를 그림."
   ]
  },
  {
   "cell_type": "code",
   "execution_count": 228,
   "metadata": {},
   "outputs": [
    {
     "name": "stdout",
     "output_type": "stream",
     "text": [
      "(10000, 10)\n",
      "(10000,)\n"
     ]
    }
   ],
   "source": [
    "import matplotlib.pyplot as plt\n",
    "\n",
    "from sklearn.datasets import make_classification\n",
    "from sklearn.metrics import roc_curve,roc_auc_score\n",
    "from sklearn.model_selection import cross_validate\n",
    "from sklearn.linear_model import LogisticRegression\n",
    "from sklearn.model_selection import train_test_split\n",
    "\n",
    "X,Y = make_classification(n_samples = 10000, n_features =10, n_classes=2, n_informative =3, random_state =3)\n",
    "\n",
    "print(X.shape)\n",
    "print(Y.shape)\n",
    "\n"
   ]
  },
  {
   "cell_type": "code",
   "execution_count": 230,
   "metadata": {},
   "outputs": [
    {
     "data": {
      "text/plain": [
       "(10000, 10)"
      ]
     },
     "execution_count": 230,
     "metadata": {},
     "output_type": "execute_result"
    }
   ],
   "source": [
    "\n",
    "X.shape"
   ]
  },
  {
   "cell_type": "code",
   "execution_count": 232,
   "metadata": {},
   "outputs": [
    {
     "data": {
      "text/plain": [
       "LogisticRegression(C=1.0, class_weight=None, dual=False, fit_intercept=True,\n",
       "                   intercept_scaling=1, l1_ratio=None, max_iter=100,\n",
       "                   multi_class='auto', n_jobs=None, penalty='l2',\n",
       "                   random_state=None, solver='lbfgs', tol=0.0001, verbose=0,\n",
       "                   warm_start=False)"
      ]
     },
     "execution_count": 232,
     "metadata": {},
     "output_type": "execute_result"
    }
   ],
   "source": [
    "X_train,X_test, Y_train,Y_test = train_test_split(X,Y,test_size =0.1, random_state = 1)\n",
    "\n",
    "logit =LogisticRegression()\n",
    "\n",
    "logit.fit(X_train,Y_train)"
   ]
  },
  {
   "cell_type": "code",
   "execution_count": 234,
   "metadata": {},
   "outputs": [
    {
     "data": {
      "text/plain": [
       "array([[0.86891533, 0.13108467],\n",
       "       [0.46315541, 0.53684459],\n",
       "       [0.03395355, 0.96604645],\n",
       "       ...,\n",
       "       [0.46720208, 0.53279792],\n",
       "       [0.67447765, 0.32552235],\n",
       "       [0.16098342, 0.83901658]])"
      ]
     },
     "execution_count": 234,
     "metadata": {},
     "output_type": "execute_result"
    }
   ],
   "source": [
    "Y_proba = logit.predict_proba(X_test)\n",
    "Y_proba"
   ]
  },
  {
   "cell_type": "code",
   "execution_count": 237,
   "metadata": {},
   "outputs": [
    {
     "data": {
      "text/plain": [
       "array([[ 1.09285676, -1.1373461 , -0.40956071, ...,  0.33214295,\n",
       "        -0.17418384, -0.16820293],\n",
       "       [ 0.03704669, -0.97737411,  0.03899713, ...,  0.0702533 ,\n",
       "         0.95905989, -0.84663577],\n",
       "       [ 0.63748711,  0.80346544,  0.88204601, ...,  1.17253904,\n",
       "         0.63213296,  0.87327682],\n",
       "       ...,\n",
       "       [ 0.53860401, -0.46167622,  1.35349512, ...,  0.47057711,\n",
       "         1.05353529,  0.5308886 ],\n",
       "       [ 1.4683214 ,  0.0611267 ,  0.18633717, ...,  0.72249658,\n",
       "        -2.02490546,  1.03414412],\n",
       "       [ 1.84446486,  2.00434054, -1.12827856, ...,  1.5472469 ,\n",
       "         0.59806251, -1.52233408]])"
      ]
     },
     "execution_count": 237,
     "metadata": {},
     "output_type": "execute_result"
    }
   ],
   "source": [
    " X_test"
   ]
  },
  {
   "cell_type": "code",
   "execution_count": 238,
   "metadata": {
    "collapsed": true
   },
   "outputs": [],
   "source": [
    "Y_proba2 = logit.predict_proba(X_test)[:,1]"
   ]
  },
  {
   "cell_type": "code",
   "execution_count": 242,
   "metadata": {},
   "outputs": [
    {
     "data": {
      "text/plain": [
       "array([1.31084671e-01, 5.36844586e-01, 9.66046449e-01, 6.03902173e-01,\n",
       "       3.33293891e-01, 9.29492836e-01, 3.19003239e-02, 1.56032410e-01,\n",
       "       6.70107768e-01, 8.73431380e-02, 8.30474338e-01, 8.69109075e-02,\n",
       "       3.33804458e-01, 3.63626066e-02, 6.81802533e-01, 1.73373620e-01,\n",
       "       7.22134622e-01, 4.87326359e-01, 2.61709037e-02, 1.16288984e-02,\n",
       "       7.62379212e-01, 1.67309975e-01, 6.60844828e-01, 5.18592599e-02,\n",
       "       4.94697677e-01, 3.45358555e-02, 6.22134861e-02, 3.20343218e-02,\n",
       "       9.81785826e-01, 8.08003286e-01, 9.61497265e-01, 2.59031885e-02,\n",
       "       8.73104226e-01, 7.64561385e-01, 9.88453045e-01, 7.49357769e-01,\n",
       "       9.48606507e-02, 8.14189305e-02, 6.19103863e-02, 5.78306854e-02,\n",
       "       1.30000494e-01, 5.30466915e-02, 4.62585839e-01, 9.61724504e-01,\n",
       "       6.44319743e-02, 8.41273019e-01, 6.02235514e-01, 5.66586488e-02,\n",
       "       2.91293386e-01, 3.69804799e-02, 1.67257479e-02, 3.34332577e-01,\n",
       "       1.14989723e-01, 1.21588312e-01, 9.97248833e-01, 9.92123682e-01,\n",
       "       3.45571091e-01, 6.07954156e-01, 9.83948554e-01, 6.31066909e-01,\n",
       "       1.45939281e-01, 8.29517374e-01, 8.05857503e-01, 9.59729627e-01,\n",
       "       1.92047412e-01, 9.95348102e-01, 3.16371823e-02, 5.77144717e-01,\n",
       "       1.95028265e-01, 4.86312883e-01, 9.86285864e-01, 9.17112880e-01,\n",
       "       9.64386408e-01, 9.61749006e-01, 5.90974293e-01, 9.31548307e-01,\n",
       "       9.73855791e-01, 1.02770392e-01, 3.65814726e-02, 8.42212989e-01,\n",
       "       9.67457878e-01, 1.05799248e-01, 2.48775713e-01, 4.99196776e-01,\n",
       "       5.13759542e-01, 5.62441361e-01, 3.29326248e-01, 7.06870758e-01,\n",
       "       9.93868872e-01, 1.08087515e-01, 2.30923197e-01, 8.31861841e-01,\n",
       "       6.33646206e-01, 9.96932393e-01, 5.91144285e-01, 1.11359153e-02,\n",
       "       6.02825779e-01, 5.01071307e-01, 9.61544272e-01, 5.15192250e-01,\n",
       "       9.31723061e-01, 8.90586447e-03, 3.13847071e-02, 8.70409381e-01,\n",
       "       1.16541838e-01, 9.37947112e-01, 4.69469820e-02, 1.75980543e-01,\n",
       "       7.76705290e-01, 2.22195195e-01, 9.66704690e-01, 5.21127194e-01,\n",
       "       2.85045438e-01, 6.53907724e-01, 7.71743170e-01, 7.86563812e-01,\n",
       "       3.20120165e-02, 8.24245084e-01, 3.93002945e-02, 7.74861661e-01,\n",
       "       8.57540873e-01, 5.41659164e-01, 8.28151510e-02, 9.18824646e-01,\n",
       "       4.18683504e-01, 4.78316606e-02, 3.77721007e-01, 6.07835531e-01,\n",
       "       6.58420572e-02, 8.11988277e-01, 9.42431631e-01, 9.94034905e-01,\n",
       "       7.42221032e-01, 9.41812310e-01, 8.51667017e-01, 2.21278366e-01,\n",
       "       9.99138641e-01, 6.41635688e-02, 4.88129729e-01, 1.16788743e-02,\n",
       "       7.39885166e-01, 3.35689649e-01, 6.09413257e-03, 3.84179587e-01,\n",
       "       2.15816365e-01, 9.22177560e-02, 9.93039753e-02, 1.89076956e-01,\n",
       "       3.76285338e-01, 7.76367294e-01, 8.41250005e-01, 9.26603803e-01,\n",
       "       9.79070833e-01, 1.09266333e-01, 7.03547791e-01, 8.94681566e-01,\n",
       "       9.34055277e-01, 9.57231525e-01, 4.24821212e-02, 7.42430923e-01,\n",
       "       5.72415003e-01, 1.95177664e-01, 9.84647357e-01, 7.91737070e-01,\n",
       "       1.79304806e-01, 9.06145354e-01, 7.69269890e-01, 2.69872011e-01,\n",
       "       4.56508179e-01, 8.64180033e-02, 1.95383509e-01, 9.59562955e-01,\n",
       "       2.88073938e-02, 3.51937794e-01, 9.44156751e-01, 2.86283867e-01,\n",
       "       2.63616934e-01, 5.77258178e-01, 3.39420654e-01, 2.58421992e-02,\n",
       "       2.80909590e-01, 4.60073358e-02, 8.24113509e-01, 5.68787793e-02,\n",
       "       3.20749051e-01, 9.87269764e-01, 5.64132292e-01, 1.84016570e-01,\n",
       "       9.74312645e-01, 9.98456810e-01, 1.30467563e-02, 3.51306816e-03,\n",
       "       8.75210763e-01, 9.91628986e-02, 6.42841430e-03, 7.54567454e-02,\n",
       "       6.34939255e-02, 1.51541964e-01, 9.54224497e-02, 1.93477880e-02,\n",
       "       1.84560614e-02, 7.16520132e-01, 2.25102317e-02, 9.12406795e-01,\n",
       "       4.64045857e-01, 1.49829090e-01, 9.12482890e-01, 8.51429151e-02,\n",
       "       8.56068944e-01, 9.45483389e-01, 9.37044363e-01, 9.62996154e-01,\n",
       "       5.28184336e-01, 6.07215187e-01, 3.04104972e-01, 3.23182737e-02,\n",
       "       9.11725464e-01, 8.93274718e-01, 2.75395323e-01, 9.27950226e-01,\n",
       "       4.73480544e-01, 2.04843432e-01, 2.55752132e-01, 1.16350194e-02,\n",
       "       7.31634026e-02, 7.56874220e-01, 8.54414559e-01, 7.67714926e-01,\n",
       "       5.51389779e-03, 1.16657806e-01, 1.19621904e-02, 8.05615211e-01,\n",
       "       1.16287989e-01, 5.36419602e-01, 1.39062913e-01, 7.20147512e-01,\n",
       "       4.18879438e-01, 7.18240737e-02, 4.75449761e-01, 9.45937085e-01,\n",
       "       8.38145469e-01, 2.34548194e-01, 9.52136837e-01, 4.45784664e-01,\n",
       "       9.07210650e-01, 9.34052431e-01, 9.96247613e-01, 5.96363263e-01,\n",
       "       6.16255536e-01, 9.84738221e-01, 9.51869635e-01, 9.55473974e-02,\n",
       "       2.22740004e-01, 3.58381932e-02, 1.89318407e-01, 3.62512519e-02,\n",
       "       9.72451311e-01, 9.16649536e-01, 2.68414126e-01, 1.98014874e-01,\n",
       "       8.95690460e-01, 5.24573829e-01, 9.55010376e-01, 1.41752572e-02,\n",
       "       6.20653781e-01, 9.15102133e-01, 3.01574527e-03, 4.46714687e-01,\n",
       "       6.36247314e-01, 9.18409945e-01, 5.66853609e-01, 2.09010600e-01,\n",
       "       1.06485986e-01, 9.33593251e-01, 3.77082335e-01, 3.22617680e-01,\n",
       "       3.06477789e-02, 1.49127240e-01, 8.20923594e-02, 9.31210549e-01,\n",
       "       2.22371285e-01, 4.20082870e-02, 5.44553479e-01, 1.71165207e-02,\n",
       "       8.87402902e-01, 1.90667709e-02, 7.05739332e-01, 2.78396940e-01,\n",
       "       2.62370581e-02, 4.87922973e-02, 6.98401322e-01, 1.03809789e-01,\n",
       "       1.70306939e-01, 2.68608545e-02, 7.72974526e-02, 2.75880551e-01,\n",
       "       9.02483342e-01, 9.84163529e-01, 6.29823866e-02, 5.44829917e-01,\n",
       "       6.78911627e-01, 9.83005756e-01, 1.04961358e-01, 1.87340263e-01,\n",
       "       8.98324986e-01, 1.02383567e-01, 9.19279946e-01, 9.13728882e-01,\n",
       "       1.35339422e-01, 7.15174463e-01, 9.35193029e-01, 4.14729531e-01,\n",
       "       3.84801995e-01, 5.57719984e-01, 8.60115754e-04, 1.95330368e-01,\n",
       "       3.82034836e-01, 1.31010005e-02, 5.06281187e-01, 5.98825347e-01,\n",
       "       8.49850155e-01, 9.72392348e-01, 3.88953679e-01, 1.06861363e-02,\n",
       "       9.00511330e-01, 5.86420707e-01, 5.46226958e-02, 7.82481966e-01,\n",
       "       9.76488430e-01, 6.85840376e-01, 7.43938695e-01, 1.63855069e-01,\n",
       "       6.24031095e-02, 9.28090291e-01, 9.88369894e-01, 1.22690179e-02,\n",
       "       1.45757389e-01, 9.82809360e-01, 8.79485020e-01, 3.67446107e-02,\n",
       "       1.40893951e-01, 8.87175301e-02, 1.27606111e-01, 8.74346835e-01,\n",
       "       8.43414380e-01, 9.84236166e-01, 1.70151943e-01, 2.19944372e-01,\n",
       "       8.89891873e-01, 3.68714318e-01, 9.82726245e-01, 5.53395979e-01,\n",
       "       9.84048860e-01, 9.71656849e-01, 7.78236890e-01, 1.04517073e-01,\n",
       "       8.36431483e-01, 3.38969902e-01, 6.00533945e-02, 9.58576213e-01,\n",
       "       1.88879486e-02, 9.35279813e-01, 1.27532302e-01, 9.40090388e-01,\n",
       "       4.53350762e-01, 9.92744726e-01, 6.33445590e-02, 8.22434745e-01,\n",
       "       9.10761483e-01, 9.84363259e-01, 3.63930288e-01, 9.31923263e-01,\n",
       "       9.49031920e-01, 7.47260657e-01, 2.20360987e-01, 9.54439793e-01,\n",
       "       9.95656098e-01, 4.01208395e-01, 9.97105001e-01, 4.26103264e-02,\n",
       "       9.75681424e-01, 1.25129038e-01, 8.03226337e-01, 9.96933078e-01,\n",
       "       1.12575313e-01, 9.68018145e-01, 9.87400598e-01, 9.03088363e-01,\n",
       "       6.36347850e-01, 1.02667981e-01, 8.26515058e-01, 8.33496875e-01,\n",
       "       9.14437584e-01, 3.64720825e-01, 3.12322754e-01, 8.72611134e-01,\n",
       "       2.42449848e-01, 1.19864982e-01, 9.13959669e-01, 8.33428019e-01,\n",
       "       1.85458031e-01, 9.44466672e-01, 9.78303915e-01, 1.85422783e-02,\n",
       "       6.85410913e-02, 4.15491478e-02, 1.81069360e-01, 8.99538932e-01,\n",
       "       8.73769332e-01, 9.54427115e-01, 1.24361553e-01, 9.86641984e-01,\n",
       "       9.56207211e-01, 1.25080557e-01, 1.33660372e-01, 1.23922546e-01,\n",
       "       9.10909007e-01, 2.63417336e-01, 2.98688592e-01, 9.17811297e-01,\n",
       "       9.64977863e-01, 1.67931238e-01, 2.10443487e-02, 6.86647709e-01,\n",
       "       9.46055496e-01, 9.88199666e-01, 9.79206971e-01, 5.00825273e-01,\n",
       "       2.53108812e-01, 9.74485350e-01, 9.28580982e-01, 8.90415333e-01,\n",
       "       8.03265796e-02, 8.18883949e-01, 8.71869584e-01, 9.71770868e-02,\n",
       "       9.89391693e-01, 1.79613570e-01, 1.32953292e-02, 5.57805783e-01,\n",
       "       7.82227675e-01, 4.62946300e-01, 1.17906321e-01, 4.67466208e-01,\n",
       "       7.32678129e-01, 7.80141114e-02, 3.48370348e-02, 6.85918391e-01,\n",
       "       6.28587224e-02, 6.51838572e-02, 7.68129230e-01, 9.96200899e-01,\n",
       "       3.99263894e-01, 3.99313229e-03, 8.73972916e-01, 1.58509312e-01,\n",
       "       9.61738570e-01, 6.40942699e-01, 2.36932892e-01, 2.38867561e-02,\n",
       "       3.29171885e-03, 3.26105485e-01, 1.45666949e-01, 9.12595260e-01,\n",
       "       3.60719682e-01, 6.70954718e-01, 1.16861502e-01, 3.29267420e-01,\n",
       "       4.01328526e-03, 9.76955996e-01, 5.07983747e-01, 9.19391587e-01,\n",
       "       2.55214414e-01, 1.44253322e-02, 9.31710655e-03, 4.20966477e-02,\n",
       "       3.75039598e-01, 9.79249364e-01, 9.88159987e-01, 7.11859780e-02,\n",
       "       8.13263688e-01, 5.18517341e-02, 4.66733755e-01, 4.30846828e-01,\n",
       "       8.95721674e-01, 1.83009315e-01, 4.20336207e-01, 3.47711437e-02,\n",
       "       9.30986299e-01, 9.99875962e-01, 4.12082288e-02, 4.01992994e-01,\n",
       "       1.70137603e-01, 9.08010948e-01, 1.63745996e-01, 3.63562873e-01,\n",
       "       9.57203778e-01, 8.52504800e-03, 7.74763230e-01, 8.46090140e-01,\n",
       "       2.38078324e-01, 9.42081181e-01, 1.55374904e-02, 9.36869557e-01,\n",
       "       3.63681875e-02, 6.15156543e-01, 8.49588139e-01, 9.63412445e-01,\n",
       "       8.80899871e-01, 9.86140012e-01, 1.63908112e-01, 3.44439777e-01,\n",
       "       1.22400697e-01, 7.93806587e-02, 2.56089614e-01, 4.54537529e-02,\n",
       "       8.20637409e-01, 6.28362344e-01, 1.60492846e-01, 7.29689494e-01,\n",
       "       6.70434108e-01, 6.93341658e-01, 9.96786103e-01, 2.71477203e-01,\n",
       "       3.11670779e-01, 2.45417376e-01, 4.37405909e-01, 7.28651425e-03,\n",
       "       1.96065079e-02, 9.39544168e-01, 5.30302408e-01, 1.99039595e-01,\n",
       "       1.81189803e-01, 2.69187312e-01, 2.88613847e-01, 2.43025145e-01,\n",
       "       7.33826007e-01, 6.34614640e-02, 7.07514506e-01, 4.30356947e-01,\n",
       "       5.58886515e-02, 4.72355387e-01, 8.69672886e-01, 4.77710924e-01,\n",
       "       7.61480543e-01, 7.93782921e-03, 7.52457870e-01, 6.09139763e-02,\n",
       "       2.77944861e-01, 9.11423623e-03, 3.78897990e-01, 9.61067408e-01,\n",
       "       1.89736809e-02, 4.86566109e-01, 9.03215427e-01, 3.90214473e-02,\n",
       "       1.04052998e-02, 9.00393874e-01, 9.44807746e-02, 3.94823291e-01,\n",
       "       2.62747072e-01, 7.18614653e-01, 9.43542428e-01, 9.54037246e-01,\n",
       "       9.18749890e-01, 3.82670672e-01, 9.25487945e-01, 2.37617957e-01,\n",
       "       1.72472917e-02, 4.27354772e-02, 3.26939313e-02, 9.16155968e-02,\n",
       "       3.35216564e-02, 4.00571997e-01, 9.75257539e-01, 7.61682708e-01,\n",
       "       9.01404709e-01, 2.15871411e-02, 5.65880620e-01, 5.51179977e-01,\n",
       "       8.60260161e-03, 6.37986775e-02, 1.82788069e-01, 1.73859594e-01,\n",
       "       9.71336035e-01, 8.51162022e-01, 9.97153948e-01, 3.38762715e-01,\n",
       "       8.48387352e-01, 1.09598510e-02, 9.72913266e-01, 9.18191768e-01,\n",
       "       3.09890677e-01, 4.07501857e-01, 9.57807714e-01, 6.87286519e-01,\n",
       "       4.29525482e-01, 7.55927711e-01, 3.76898914e-01, 1.97337419e-01,\n",
       "       1.05460386e-01, 7.23949114e-01, 7.07850614e-01, 2.01939133e-01,\n",
       "       2.38196721e-01, 9.56880736e-01, 3.66335138e-01, 5.88087690e-01,\n",
       "       9.66098388e-01, 9.31759156e-01, 5.71989169e-01, 9.83055507e-01,\n",
       "       1.05006764e-01, 5.94251080e-02, 9.94414001e-01, 9.24398104e-01,\n",
       "       8.35332844e-01, 3.22025172e-01, 9.81245536e-01, 6.34406810e-01,\n",
       "       3.33252292e-01, 2.80542044e-01, 9.53797824e-01, 9.85198849e-01,\n",
       "       9.40166879e-01, 9.24845000e-01, 6.92803188e-01, 2.13070719e-01,\n",
       "       1.52215409e-01, 3.31811447e-01, 1.89963747e-01, 4.12401674e-01,\n",
       "       7.45092665e-02, 6.36106837e-01, 4.42468530e-01, 8.06387038e-01,\n",
       "       2.74611662e-02, 3.28591332e-01, 9.82731431e-01, 1.06948758e-01,\n",
       "       2.11147870e-03, 3.13102032e-01, 5.31661641e-02, 2.03679552e-02,\n",
       "       6.39372549e-01, 5.07129410e-01, 4.98179426e-01, 1.57683488e-01,\n",
       "       1.82664307e-01, 1.11741643e-01, 9.88856721e-01, 8.34655067e-01,\n",
       "       1.07013779e-01, 8.96782547e-01, 2.57334491e-01, 3.33394541e-01,\n",
       "       4.52054505e-02, 1.02775443e-01, 1.12074481e-01, 4.45882204e-01,\n",
       "       9.98298683e-01, 8.52347982e-01, 5.52541569e-01, 9.45531718e-01,\n",
       "       3.66170768e-01, 1.60935258e-01, 2.69372809e-02, 3.90032568e-02,\n",
       "       9.62392774e-01, 4.07720150e-01, 9.72699917e-01, 4.14802341e-02,\n",
       "       8.71057348e-01, 1.05277547e-01, 4.77233923e-02, 7.65750620e-01,\n",
       "       2.65302632e-01, 6.91075589e-01, 3.83953496e-01, 7.47545543e-01,\n",
       "       7.78256210e-02, 9.68528480e-01, 7.62208119e-01, 5.62423521e-01,\n",
       "       1.78461762e-02, 6.76151357e-01, 1.94027479e-01, 9.42474129e-01,\n",
       "       4.60888585e-01, 8.99536063e-01, 5.68195013e-01, 5.03783173e-01,\n",
       "       6.47048900e-01, 1.03806226e-01, 9.59309400e-01, 1.79328561e-01,\n",
       "       8.90966882e-01, 6.57907359e-01, 1.36031557e-02, 7.01157890e-01,\n",
       "       4.23623453e-01, 9.65483511e-01, 8.22574767e-03, 3.10278280e-01,\n",
       "       9.72044815e-01, 8.32875603e-01, 2.09312519e-01, 7.81098189e-01,\n",
       "       5.00860880e-01, 1.02565762e-01, 9.92940683e-01, 5.58468793e-01,\n",
       "       7.44461236e-01, 8.21573522e-01, 6.65123100e-01, 8.69694241e-01,\n",
       "       6.20921964e-01, 9.57876117e-02, 8.06385211e-01, 6.56077922e-01,\n",
       "       9.93005400e-02, 1.85417228e-01, 1.04680126e-01, 6.23854301e-02,\n",
       "       2.99437353e-01, 9.04967660e-02, 1.89539618e-01, 3.98782693e-01,\n",
       "       8.57754451e-01, 7.86661590e-01, 1.98702198e-01, 7.91070201e-01,\n",
       "       2.97877417e-01, 1.90973064e-02, 3.72209698e-01, 5.69857841e-02,\n",
       "       5.08987098e-02, 1.49195894e-01, 7.81339428e-01, 3.15005031e-02,\n",
       "       9.75171418e-01, 8.58063767e-01, 2.59079521e-01, 6.71904209e-01,\n",
       "       7.40721795e-02, 2.16002105e-03, 1.27522665e-02, 9.66457128e-01,\n",
       "       7.75528671e-01, 4.97922622e-02, 1.25561812e-01, 9.84449888e-02,\n",
       "       3.67091133e-01, 7.66512083e-01, 1.06984292e-01, 6.30362198e-01,\n",
       "       7.66731396e-01, 7.39780910e-01, 8.19152981e-01, 1.06038079e-01,\n",
       "       2.18777626e-01, 7.94320095e-01, 2.72462037e-01, 6.99332905e-01,\n",
       "       3.64282992e-01, 9.58149858e-01, 6.14407964e-01, 1.98940603e-01,\n",
       "       7.27143416e-01, 9.35461000e-02, 1.91878740e-02, 3.87471669e-04,\n",
       "       1.92267391e-02, 3.54190570e-01, 8.16312992e-01, 7.75068977e-01,\n",
       "       9.55385885e-01, 9.69225225e-01, 8.07597459e-01, 2.61867938e-02,\n",
       "       2.98866720e-01, 9.58725475e-01, 8.33075510e-01, 8.95462584e-01,\n",
       "       9.99419922e-01, 7.89820429e-01, 1.86966764e-01, 2.86576835e-02,\n",
       "       8.41895741e-01, 9.64273577e-01, 5.67036428e-01, 2.70413625e-01,\n",
       "       2.22818910e-01, 2.06502625e-01, 2.33244797e-01, 5.70536982e-01,\n",
       "       8.66098235e-01, 3.20891483e-01, 1.81100212e-01, 5.05954986e-02,\n",
       "       9.21748411e-01, 1.50510521e-01, 8.82788071e-01, 4.36793231e-01,\n",
       "       9.38144624e-02, 6.60721710e-01, 8.70378724e-01, 1.73591278e-01,\n",
       "       5.55457692e-02, 4.13312223e-02, 3.47867653e-01, 9.83758645e-01,\n",
       "       5.37412465e-01, 8.17634296e-03, 3.96524792e-01, 6.52027155e-01,\n",
       "       4.50254697e-03, 9.22292246e-01, 7.85165565e-01, 1.28585853e-01,\n",
       "       1.66667052e-02, 2.53302327e-01, 9.64477150e-01, 4.49688316e-01,\n",
       "       4.37020112e-01, 4.83854054e-03, 6.78280685e-02, 5.15753196e-01,\n",
       "       9.62090493e-01, 9.64269728e-02, 9.86724389e-01, 9.85754569e-02,\n",
       "       8.43632739e-01, 6.56485622e-01, 8.17917679e-02, 7.75118577e-01,\n",
       "       1.14522949e-01, 2.99875235e-02, 3.03686845e-01, 3.78199401e-02,\n",
       "       8.77575627e-01, 2.72614834e-01, 8.56831418e-01, 1.27130047e-01,\n",
       "       6.68160478e-01, 1.10260881e-01, 1.41979818e-01, 8.13439153e-01,\n",
       "       6.45227040e-01, 9.42972564e-03, 4.31770437e-01, 7.55454756e-03,\n",
       "       1.31698289e-02, 8.52899637e-01, 2.92696352e-01, 9.60290329e-01,\n",
       "       2.90966559e-02, 9.93814710e-01, 6.92630052e-02, 6.75746661e-01,\n",
       "       5.45846848e-03, 7.83668796e-03, 5.94355551e-01, 9.29942845e-01,\n",
       "       4.54839469e-02, 9.72060185e-01, 5.81261252e-01, 7.20376276e-01,\n",
       "       1.13942237e-01, 4.24204227e-02, 9.42631375e-01, 6.54419583e-01,\n",
       "       8.72147925e-01, 7.31985765e-02, 6.78976086e-01, 2.17034157e-01,\n",
       "       1.96402097e-01, 9.94527930e-01, 8.86401009e-01, 5.37059735e-01,\n",
       "       9.41190534e-01, 8.16691271e-01, 2.75492156e-01, 1.52871814e-02,\n",
       "       4.76517668e-01, 9.04564055e-01, 7.78881804e-01, 1.52037381e-02,\n",
       "       2.54912150e-02, 1.55297369e-01, 7.85305403e-01, 8.81749760e-01,\n",
       "       7.23012941e-01, 9.58970699e-01, 7.49703616e-01, 9.71877074e-01,\n",
       "       6.65176729e-02, 4.65504836e-01, 8.42711405e-01, 5.13421457e-01,\n",
       "       2.30323017e-01, 9.22658005e-01, 9.88465693e-01, 9.52232705e-01,\n",
       "       9.27411130e-01, 2.98152233e-01, 9.56795797e-01, 3.71833060e-02,\n",
       "       7.72937436e-01, 1.82285479e-01, 1.00675580e-01, 3.73880775e-02,\n",
       "       8.18913388e-01, 4.38827265e-01, 8.28210659e-01, 1.80456987e-01,\n",
       "       9.03656101e-01, 5.04457570e-01, 4.72120658e-01, 1.26511933e-01,\n",
       "       6.59521873e-01, 8.24276920e-01, 5.48613284e-01, 8.14463023e-01,\n",
       "       1.55319925e-01, 2.10600746e-01, 1.75896596e-01, 5.58153098e-01,\n",
       "       7.77855020e-01, 2.80705952e-02, 9.90045161e-01, 9.12005156e-01,\n",
       "       7.45023561e-01, 9.96724581e-01, 9.19735369e-01, 9.76896579e-02,\n",
       "       7.05972180e-02, 2.23273744e-01, 7.58744605e-01, 6.96193978e-02,\n",
       "       5.33171523e-01, 9.62455645e-02, 9.98187460e-01, 9.86784512e-01,\n",
       "       2.30030289e-01, 1.52620177e-01, 1.18433972e-01, 8.67236558e-01,\n",
       "       6.07423545e-03, 1.79426237e-03, 8.97255476e-01, 4.28033866e-01,\n",
       "       8.52540753e-01, 9.49520956e-02, 9.22976732e-01, 9.63522985e-01,\n",
       "       6.26588733e-01, 7.44059258e-01, 9.22886537e-01, 9.60623107e-01,\n",
       "       1.85392449e-01, 4.24636770e-01, 9.16101769e-01, 3.58350901e-01,\n",
       "       5.05253031e-01, 6.76061894e-02, 9.85370641e-01, 6.71552664e-01,\n",
       "       1.71611592e-01, 6.24983098e-01, 1.53386920e-02, 6.43865819e-02,\n",
       "       9.36872509e-01, 8.13701045e-01, 9.87246839e-01, 7.56963099e-01,\n",
       "       5.14919132e-02, 4.84887659e-01, 1.18610234e-01, 4.10359685e-02,\n",
       "       9.83199561e-01, 1.77068714e-01, 5.68007409e-01, 2.69744707e-01,\n",
       "       9.11190093e-01, 1.02362493e-02, 6.34784256e-01, 8.35078794e-01,\n",
       "       5.33340978e-01, 5.94917074e-01, 5.61959682e-01, 8.20930795e-02,\n",
       "       2.91227497e-02, 9.78410024e-01, 6.10052653e-01, 9.78929510e-01,\n",
       "       5.30070831e-02, 5.32797915e-01, 3.25522346e-01, 8.39016576e-01])"
      ]
     },
     "execution_count": 242,
     "metadata": {},
     "output_type": "execute_result"
    }
   ],
   "source": [
    "Y_proba2"
   ]
  },
  {
   "cell_type": "code",
   "execution_count": 243,
   "metadata": {},
   "outputs": [
    {
     "data": {
      "text/plain": [
       "(1000,)"
      ]
     },
     "execution_count": 243,
     "metadata": {},
     "output_type": "execute_result"
    }
   ],
   "source": [
    "Y_proba2.shape"
   ]
  },
  {
   "cell_type": "code",
   "execution_count": 244,
   "metadata": {
    "collapsed": true
   },
   "outputs": [],
   "source": [
    "false_positive_rate, true_positive_rate, threshold = roc_curve(Y_test, Y_proba2)"
   ]
  },
  {
   "cell_type": "code",
   "execution_count": 245,
   "metadata": {},
   "outputs": [
    {
     "data": {
      "text/plain": [
       "(236,)"
      ]
     },
     "execution_count": 245,
     "metadata": {},
     "output_type": "execute_result"
    }
   ],
   "source": [
    "false_positive_rate.shape"
   ]
  },
  {
   "cell_type": "code",
   "execution_count": 246,
   "metadata": {},
   "outputs": [
    {
     "data": {
      "text/plain": [
       "array([0.        , 0.        , 0.        , 0.00196078, 0.00196078,\n",
       "       0.00392157, 0.00392157, 0.00588235, 0.00588235, 0.00784314,\n",
       "       0.00784314, 0.00980392, 0.00980392, 0.01372549, 0.01372549,\n",
       "       0.01568627, 0.01568627, 0.01764706, 0.01764706, 0.01960784,\n",
       "       0.01960784, 0.02352941, 0.02352941, 0.0254902 , 0.0254902 ,\n",
       "       0.02745098, 0.02745098, 0.02941176, 0.02941176, 0.03137255,\n",
       "       0.03137255, 0.03333333, 0.03333333, 0.03529412, 0.03529412,\n",
       "       0.0372549 , 0.0372549 , 0.03921569, 0.03921569, 0.04117647,\n",
       "       0.04117647, 0.04313725, 0.04313725, 0.04509804, 0.04509804,\n",
       "       0.04705882, 0.04705882, 0.05098039, 0.05098039, 0.05294118,\n",
       "       0.05294118, 0.05490196, 0.05490196, 0.05686275, 0.05686275,\n",
       "       0.05882353, 0.05882353, 0.06078431, 0.06078431, 0.0627451 ,\n",
       "       0.0627451 , 0.06470588, 0.06470588, 0.06666667, 0.06666667,\n",
       "       0.06862745, 0.06862745, 0.07058824, 0.07058824, 0.07254902,\n",
       "       0.07254902, 0.0745098 , 0.0745098 , 0.07843137, 0.07843137,\n",
       "       0.08431373, 0.08431373, 0.08627451, 0.08627451, 0.08823529,\n",
       "       0.08823529, 0.09019608, 0.09019608, 0.09607843, 0.09607843,\n",
       "       0.09803922, 0.09803922, 0.1       , 0.1       , 0.10196078,\n",
       "       0.10196078, 0.10392157, 0.10392157, 0.10588235, 0.10588235,\n",
       "       0.10784314, 0.10784314, 0.10980392, 0.10980392, 0.11176471,\n",
       "       0.11176471, 0.11372549, 0.11372549, 0.12156863, 0.12156863,\n",
       "       0.1254902 , 0.1254902 , 0.13333333, 0.13333333, 0.1372549 ,\n",
       "       0.1372549 , 0.13921569, 0.13921569, 0.14313725, 0.14313725,\n",
       "       0.14901961, 0.14901961, 0.15490196, 0.15490196, 0.15686275,\n",
       "       0.15686275, 0.15882353, 0.15882353, 0.16078431, 0.16078431,\n",
       "       0.1627451 , 0.1627451 , 0.16666667, 0.16666667, 0.16862745,\n",
       "       0.16862745, 0.17254902, 0.17254902, 0.17647059, 0.17647059,\n",
       "       0.18039216, 0.18039216, 0.18431373, 0.18431373, 0.18627451,\n",
       "       0.18627451, 0.18823529, 0.18823529, 0.19215686, 0.19215686,\n",
       "       0.19607843, 0.19607843, 0.20588235, 0.20588235, 0.20980392,\n",
       "       0.20980392, 0.21568627, 0.21568627, 0.21960784, 0.21960784,\n",
       "       0.23333333, 0.23333333, 0.23529412, 0.23529412, 0.24705882,\n",
       "       0.24705882, 0.24901961, 0.24901961, 0.25294118, 0.25294118,\n",
       "       0.25882353, 0.25882353, 0.26078431, 0.26078431, 0.26862745,\n",
       "       0.26862745, 0.27843137, 0.27843137, 0.28235294, 0.28235294,\n",
       "       0.28823529, 0.28823529, 0.29215686, 0.29215686, 0.30980392,\n",
       "       0.30980392, 0.33137255, 0.33137255, 0.33529412, 0.33529412,\n",
       "       0.34901961, 0.34901961, 0.35098039, 0.35098039, 0.36470588,\n",
       "       0.36470588, 0.37058824, 0.37058824, 0.38431373, 0.38431373,\n",
       "       0.38823529, 0.38823529, 0.39607843, 0.39607843, 0.45294118,\n",
       "       0.45294118, 0.4745098 , 0.4745098 , 0.47843137, 0.47843137,\n",
       "       0.50980392, 0.50980392, 0.51568627, 0.51568627, 0.52352941,\n",
       "       0.52352941, 0.5372549 , 0.5372549 , 0.55686275, 0.55686275,\n",
       "       0.60196078, 0.60196078, 0.61764706, 0.61764706, 0.61960784,\n",
       "       0.61960784, 0.62352941, 0.62352941, 0.62941176, 0.62941176,\n",
       "       0.6372549 , 0.6372549 , 0.68039216, 0.68039216, 0.77647059,\n",
       "       0.77647059, 0.86078431, 0.86078431, 0.90392157, 0.90392157,\n",
       "       1.        ])"
      ]
     },
     "execution_count": 246,
     "metadata": {},
     "output_type": "execute_result"
    }
   ],
   "source": [
    "false_positive_rate"
   ]
  },
  {
   "cell_type": "code",
   "execution_count": 248,
   "metadata": {},
   "outputs": [
    {
     "data": {
      "text/plain": [
       "array([1.99987596e+00, 9.99875962e-01, 9.78303915e-01, 9.76955996e-01,\n",
       "       9.72699917e-01, 9.72451311e-01, 9.66704690e-01, 9.66457128e-01,\n",
       "       9.61738570e-01, 9.61724504e-01, 9.59729627e-01, 9.59562955e-01,\n",
       "       9.54439793e-01, 9.54037246e-01, 9.40166879e-01, 9.40090388e-01,\n",
       "       9.29492836e-01, 9.28580982e-01, 9.18191768e-01, 9.17811297e-01,\n",
       "       9.11725464e-01, 9.10909007e-01, 9.06145354e-01, 9.04564055e-01,\n",
       "       9.03656101e-01, 9.03215427e-01, 8.99536063e-01, 8.98324986e-01,\n",
       "       8.95462584e-01, 8.94681566e-01, 8.73769332e-01, 8.73104226e-01,\n",
       "       8.70378724e-01, 8.69694241e-01, 8.67236558e-01, 8.66098235e-01,\n",
       "       8.57540873e-01, 8.56831418e-01, 8.51667017e-01, 8.51162022e-01,\n",
       "       8.35332844e-01, 8.35078794e-01, 8.34655067e-01, 8.33496875e-01,\n",
       "       8.19152981e-01, 8.18913388e-01, 8.08003286e-01, 8.06387038e-01,\n",
       "       8.06385211e-01, 8.05857503e-01, 7.89820429e-01, 7.86661590e-01,\n",
       "       7.86563812e-01, 7.85305403e-01, 7.81339428e-01, 7.81098189e-01,\n",
       "       7.75068977e-01, 7.74861661e-01, 7.74763230e-01, 7.72937436e-01,\n",
       "       7.68129230e-01, 7.67714926e-01, 7.66731396e-01, 7.66512083e-01,\n",
       "       7.64561385e-01, 7.62379212e-01, 7.61682708e-01, 7.61480543e-01,\n",
       "       7.56874220e-01, 7.55927711e-01, 7.49357769e-01, 7.47545543e-01,\n",
       "       7.44059258e-01, 7.42430923e-01, 7.39885166e-01, 7.32678129e-01,\n",
       "       7.15174463e-01, 7.07850614e-01, 6.81802533e-01, 6.78976086e-01,\n",
       "       6.78911627e-01, 6.76151357e-01, 6.70954718e-01, 6.68160478e-01,\n",
       "       6.65123100e-01, 6.60844828e-01, 6.57907359e-01, 6.56485622e-01,\n",
       "       6.53907724e-01, 6.52027155e-01, 6.47048900e-01, 6.45227040e-01,\n",
       "       6.36347850e-01, 6.36247314e-01, 6.31066909e-01, 6.30362198e-01,\n",
       "       6.28362344e-01, 6.26588733e-01, 6.20921964e-01, 6.20653781e-01,\n",
       "       6.16255536e-01, 6.15156543e-01, 6.07835531e-01, 6.02235514e-01,\n",
       "       5.94917074e-01, 5.91144285e-01, 5.81261252e-01, 5.71989169e-01,\n",
       "       5.67036428e-01, 5.65880620e-01, 5.62423521e-01, 5.61959682e-01,\n",
       "       5.53395979e-01, 5.51179977e-01, 5.44829917e-01, 5.37412465e-01,\n",
       "       5.33171523e-01, 5.28184336e-01, 5.21127194e-01, 5.15753196e-01,\n",
       "       5.15192250e-01, 5.13759542e-01, 5.03783173e-01, 5.01071307e-01,\n",
       "       5.00825273e-01, 4.99196776e-01, 4.98179426e-01, 4.88129729e-01,\n",
       "       4.87326359e-01, 4.86566109e-01, 4.84887659e-01, 4.76517668e-01,\n",
       "       4.73480544e-01, 4.72120658e-01, 4.62946300e-01, 4.60888585e-01,\n",
       "       4.56508179e-01, 4.49688316e-01, 4.45882204e-01, 4.45784664e-01,\n",
       "       4.38827265e-01, 4.37405909e-01, 4.36793231e-01, 4.30846828e-01,\n",
       "       4.30356947e-01, 4.28033866e-01, 4.23623453e-01, 4.12401674e-01,\n",
       "       4.07720150e-01, 4.01992994e-01, 4.01208395e-01, 3.98782693e-01,\n",
       "       3.96524792e-01, 3.88953679e-01, 3.84179587e-01, 3.76898914e-01,\n",
       "       3.75039598e-01, 3.72209698e-01, 3.68714318e-01, 3.63930288e-01,\n",
       "       3.63562873e-01, 3.60719682e-01, 3.58350901e-01, 3.51937794e-01,\n",
       "       3.38969902e-01, 3.34332577e-01, 3.33804458e-01, 3.33394541e-01,\n",
       "       3.33252292e-01, 3.28591332e-01, 3.25522346e-01, 3.13102032e-01,\n",
       "       3.12322754e-01, 3.10278280e-01, 3.09890677e-01, 2.99437353e-01,\n",
       "       2.98866720e-01, 2.98152233e-01, 2.97877417e-01, 2.77944861e-01,\n",
       "       2.75880551e-01, 2.65302632e-01, 2.63616934e-01, 2.62747072e-01,\n",
       "       2.57334491e-01, 2.45417376e-01, 2.43025145e-01, 2.42449848e-01,\n",
       "       2.36932892e-01, 2.22818910e-01, 2.22740004e-01, 2.21278366e-01,\n",
       "       2.20360987e-01, 2.09312519e-01, 2.09010600e-01, 2.04843432e-01,\n",
       "       1.99039595e-01, 1.97337419e-01, 1.95383509e-01, 1.75896596e-01,\n",
       "       1.73859594e-01, 1.63745996e-01, 1.60492846e-01, 1.57683488e-01,\n",
       "       1.56032410e-01, 1.35339422e-01, 1.33660372e-01, 1.28585853e-01,\n",
       "       1.27532302e-01, 1.25129038e-01, 1.25080557e-01, 1.18433972e-01,\n",
       "       1.17906321e-01, 1.11741643e-01, 1.10260881e-01, 9.93039753e-02,\n",
       "       9.93005400e-02, 9.57876117e-02, 9.55473974e-02, 9.54224497e-02,\n",
       "       9.49520956e-02, 9.44807746e-02, 9.38144624e-02, 9.16155968e-02,\n",
       "       9.04967660e-02, 8.64180033e-02, 8.51429151e-02, 6.78280685e-02,\n",
       "       6.76061894e-02, 4.20082870e-02, 4.15491478e-02, 2.59031885e-02,\n",
       "       2.58421992e-02, 1.55374904e-02, 1.53386920e-02, 3.87471669e-04])"
      ]
     },
     "execution_count": 248,
     "metadata": {},
     "output_type": "execute_result"
    }
   ],
   "source": [
    "threshold"
   ]
  },
  {
   "cell_type": "code",
   "execution_count": 249,
   "metadata": {},
   "outputs": [
    {
     "data": {
      "text/plain": [
       "(236,)"
      ]
     },
     "execution_count": 249,
     "metadata": {},
     "output_type": "execute_result"
    }
   ],
   "source": [
    "threshold.shape"
   ]
  },
  {
   "cell_type": "code",
   "execution_count": 252,
   "metadata": {},
   "outputs": [
    {
     "data": {
      "image/png": "[encoded data removed]",
      "text/plain": [
       "<matplotlib.figure.Figure at 0x21070830d30>"
      ]
     },
     "metadata": {},
     "output_type": "display_data"
    }
   ],
   "source": [
    "import matplotlib.pyplot as plt\n",
    "\n",
    "plt.figure()\n",
    "plt.plot(false_positive_rate,true_positive_rate)\n",
    "plt.xlabel('false_positive_rate')\n",
    "plt.ylabel('true_positive_rate')\n",
    "plt.show()"
   ]
  },
  {
   "cell_type": "code",
   "execution_count": 254,
   "metadata": {},
   "outputs": [
    {
     "data": {
      "image/png": "[encoded data removed]",
      "text/plain": [
       "<matplotlib.figure.Figure at 0x210705333c8>"
      ]
     },
     "metadata": {},
     "output_type": "display_data"
    }
   ],
   "source": [
    "plt.figure()\n",
    "plt.plot(false_positive_rate,true_positive_rate)\n",
    "plt.plot([0,1],[0,1],'r--')\n",
    "plt.xlabel('false_positive_rate')\n",
    "plt.ylabel('true_positive_rate')\n",
    "plt.show()"
   ]
  },
  {
   "cell_type": "code",
   "execution_count": 263,
   "metadata": {},
   "outputs": [
    {
     "data": {
      "image/png": "[encoded data removed]",
      "text/plain": [
       "<matplotlib.figure.Figure at 0x21070d02c88>"
      ]
     },
     "metadata": {},
     "output_type": "display_data"
    }
   ],
   "source": [
    "plt.figure()\n",
    "plt.plot(false_positive_rate,true_positive_rate)\n",
    "plt.plot([0,1],[0,1],'r--')\n",
    "plt.plot([0,0],[1,0],'g')\n",
    "plt.plot([1,1],'g')\n",
    "plt.xlabel('false_positive_rate')\n",
    "plt.ylabel('true_positive_rate')\n",
    "plt.show()"
   ]
  },
  {
   "cell_type": "markdown",
   "metadata": {},
   "source": [
    "AUCROC 값이 1에 가까울 수록 좋은 모델"
   ]
  },
  {
   "cell_type": "code",
   "execution_count": 264,
   "metadata": {},
   "outputs": [
    {
     "data": {
      "text/plain": [
       "0.9073389355742297"
      ]
     },
     "execution_count": 264,
     "metadata": {},
     "output_type": "execute_result"
    }
   ],
   "source": [
    "from sklearn.metrics import roc_auc_score\n",
    "\n",
    "roc_auc_score(Y_test,Y_proba2)"
   ]
  },
  {
   "cell_type": "markdown",
   "metadata": {},
   "source": [
    "# 정밀도 - 재현율 곡선 (vs ROC 커브는 재현율 FPR 곡선)"
   ]
  },
  {
   "cell_type": "code",
   "execution_count": 265,
   "metadata": {
    "collapsed": true
   },
   "outputs": [],
   "source": [
    "from sklearn.metrics import precision_recall_curve\n",
    "\n",
    "# 진짜 양성 비율과 거짓 양성 비율 계산\n",
    "\n",
    "precision,recall,threshold = precision_recall_curve(Y_test, Y_proba2)"
   ]
  },
  {
   "cell_type": "code",
   "execution_count": 266,
   "metadata": {},
   "outputs": [
    {
     "data": {
      "text/plain": [
       "array([0.51524711, 0.51473684, 0.51527924, 0.51582278, 0.51636748,\n",
       "       0.51691332, 0.51746032, 0.51800847, 0.51855779, 0.51910828,\n",
       "       0.51965994, 0.52021277, 0.52076677, 0.52132196, 0.52187834,\n",
       "       0.5224359 , 0.52299465, 0.5235546 , 0.52411576, 0.52467811,\n",
       "       0.52524168, 0.52580645, 0.52637244, 0.52693966, 0.52642934,\n",
       "       0.52699784, 0.52756757, 0.52813853, 0.52871073, 0.52928416,\n",
       "       0.52985885, 0.53043478, 0.53101197, 0.53159041, 0.53217012,\n",
       "       0.53275109, 0.53333333, 0.53391685, 0.53450164, 0.53508772,\n",
       "       0.53567508, 0.53626374, 0.53685369, 0.53744493, 0.53803749,\n",
       "       0.53863135, 0.53922652, 0.53982301, 0.54042082, 0.54101996,\n",
       "       0.54162042, 0.54222222, 0.54282536, 0.54342984, 0.54403567,\n",
       "       0.54464286, 0.5452514 , 0.5458613 , 0.54647256, 0.5470852 ,\n",
       "       0.54769921, 0.54831461, 0.54893138, 0.54954955, 0.55016911,\n",
       "       0.55079007, 0.55141243, 0.5520362 , 0.55152888, 0.5521542 ,\n",
       "       0.55278093, 0.55340909, 0.55403868, 0.5546697 , 0.55530217,\n",
       "       0.55593607, 0.55657143, 0.55720824, 0.55784651, 0.55848624,\n",
       "       0.55912744, 0.55977011, 0.56041427, 0.56105991, 0.56170704,\n",
       "       0.56235566, 0.56300578, 0.56365741, 0.56431054, 0.5649652 ,\n",
       "       0.56562137, 0.56627907, 0.5669383 , 0.56759907, 0.56826138,\n",
       "       0.56892523, 0.56959064, 0.57025761, 0.57092614, 0.57159624,\n",
       "       0.57226792, 0.57294118, 0.57361602, 0.57429245, 0.57497048,\n",
       "       0.57565012, 0.57633136, 0.57701422, 0.5776987 , 0.5783848 ,\n",
       "       0.57907253, 0.5797619 , 0.58045292, 0.58114558, 0.5818399 ,\n",
       "       0.58253589, 0.58323353, 0.58393285, 0.58343337, 0.58413462,\n",
       "       0.58483755, 0.58554217, 0.58624849, 0.58695652, 0.58766626,\n",
       "       0.58837772, 0.58909091, 0.58980583, 0.59052248, 0.59124088,\n",
       "       0.59196102, 0.59268293, 0.59340659, 0.59413203, 0.59485924,\n",
       "       0.59558824, 0.59631902, 0.5970516 , 0.59778598, 0.59852217,\n",
       "       0.59926017, 0.59876543, 0.59950556, 0.60024752, 0.60099133,\n",
       "       0.60173697, 0.60124224, 0.60199005, 0.60273973, 0.60349127,\n",
       "       0.60299625, 0.60375   , 0.60450563, 0.60401003, 0.60476788,\n",
       "       0.60427136, 0.60503145, 0.60579345, 0.60655738, 0.60732323,\n",
       "       0.60809102, 0.60886076, 0.60963245, 0.61040609, 0.60991105,\n",
       "       0.61068702, 0.61146497, 0.6122449 , 0.61302682, 0.61381074,\n",
       "       0.61459667, 0.61538462, 0.61617458, 0.61696658, 0.61776062,\n",
       "       0.6185567 , 0.61935484, 0.62015504, 0.62095731, 0.62176166,\n",
       "       0.62256809, 0.62337662, 0.62418726, 0.625     , 0.62581486,\n",
       "       0.62663185, 0.62745098, 0.62827225, 0.62778506, 0.62860892,\n",
       "       0.62943495, 0.63026316, 0.63109354, 0.63192612, 0.6327609 ,\n",
       "       0.63359788, 0.63443709, 0.63527851, 0.63612218, 0.6356383 ,\n",
       "       0.63648469, 0.63733333, 0.63818425, 0.63903743, 0.6398929 ,\n",
       "       0.64075067, 0.64161074, 0.64112903, 0.64199192, 0.64285714,\n",
       "       0.6437247 , 0.64459459, 0.64411367, 0.64363144, 0.64450475,\n",
       "       0.64538043, 0.6462585 , 0.64577657, 0.64665757, 0.64754098,\n",
       "       0.64842681, 0.64931507, 0.65020576, 0.6510989 , 0.6519945 ,\n",
       "       0.65289256, 0.6537931 , 0.65469613, 0.65560166, 0.6565097 ,\n",
       "       0.65742025, 0.65833333, 0.65924896, 0.66016713, 0.65969317,\n",
       "       0.66061453, 0.66153846, 0.66106443, 0.66058906, 0.66151685,\n",
       "       0.66244726, 0.66338028, 0.66431594, 0.66525424, 0.66619519,\n",
       "       0.66713881, 0.66808511, 0.66903409, 0.66998578, 0.67094017,\n",
       "       0.67047076, 0.67142857, 0.67238913, 0.67335244, 0.67431851,\n",
       "       0.67528736, 0.67625899, 0.67723343, 0.67821068, 0.67919075,\n",
       "       0.68017366, 0.68115942, 0.68214804, 0.68313953, 0.68413392,\n",
       "       0.6851312 , 0.68613139, 0.6871345 , 0.68814056, 0.68914956,\n",
       "       0.69016153, 0.69117647, 0.6921944 , 0.69321534, 0.69423929,\n",
       "       0.69526627, 0.6962963 , 0.69732938, 0.69836553, 0.69940476,\n",
       "       0.69895678, 0.69850746, 0.69955157, 0.7005988 , 0.70164918,\n",
       "       0.7027027 , 0.70225564, 0.70180723, 0.70286576, 0.70392749,\n",
       "       0.70347958, 0.70454545, 0.70561457, 0.70668693, 0.70776256,\n",
       "       0.70884146, 0.70992366, 0.71100917, 0.71056662, 0.71165644,\n",
       "       0.71274962, 0.71384615, 0.71340524, 0.71450617, 0.71561051,\n",
       "       0.71671827, 0.71782946, 0.7189441 , 0.72006221, 0.7211838 ,\n",
       "       0.72074883, 0.7203125 , 0.7198748 , 0.71943574, 0.72056515,\n",
       "       0.72012579, 0.72125984, 0.72239748, 0.7235387 , 0.72468354,\n",
       "       0.72583201, 0.72698413, 0.7281399 , 0.72770701, 0.72727273,\n",
       "       0.7284345 , 0.7296    , 0.72916667, 0.73033708, 0.73151125,\n",
       "       0.73268921, 0.73387097, 0.73505654, 0.73624595, 0.73743922,\n",
       "       0.73863636, 0.7398374 , 0.74104235, 0.74225122, 0.74183007,\n",
       "       0.74304419, 0.7442623 , 0.7454844 , 0.74671053, 0.74794069,\n",
       "       0.74917492, 0.75041322, 0.75165563, 0.75290216, 0.75249169,\n",
       "       0.75374376, 0.755     , 0.75459098, 0.75585284, 0.75711893,\n",
       "       0.75838926, 0.75798319, 0.75925926, 0.76053963, 0.76013514,\n",
       "       0.76142132, 0.76271186, 0.76400679, 0.76530612, 0.76660988,\n",
       "       0.7662116 , 0.76581197, 0.76712329, 0.76843911, 0.76975945,\n",
       "       0.77108434, 0.77068966, 0.77029361, 0.7716263 , 0.7712305 ,\n",
       "       0.77256944, 0.77391304, 0.77526132, 0.77486911, 0.77447552,\n",
       "       0.77408056, 0.77368421, 0.77328647, 0.77464789, 0.77601411,\n",
       "       0.77561837, 0.77699115, 0.77659574, 0.77797513, 0.77935943,\n",
       "       0.78074866, 0.78214286, 0.78354204, 0.78494624, 0.78456014,\n",
       "       0.78597122, 0.78558559, 0.78519856, 0.78661844, 0.78804348,\n",
       "       0.78947368, 0.79090909, 0.79234973, 0.79379562, 0.7952468 ,\n",
       "       0.79487179, 0.79449541, 0.79595588, 0.79742173, 0.79704797,\n",
       "       0.79852126, 0.8       , 0.80148423, 0.80111524, 0.80260708,\n",
       "       0.80410448, 0.80373832, 0.80524345, 0.80675422, 0.80827068,\n",
       "       0.80979284, 0.81132075, 0.81096408, 0.81060606, 0.81214421,\n",
       "       0.81368821, 0.81333333, 0.8148855 , 0.81644359, 0.81609195,\n",
       "       0.81573896, 0.81730769, 0.81695568, 0.81660232, 0.81818182,\n",
       "       0.81782946, 0.81747573, 0.81906615, 0.82066277, 0.8203125 ,\n",
       "       0.82191781, 0.82352941, 0.82318271, 0.82283465, 0.82248521,\n",
       "       0.82213439, 0.82178218, 0.8234127 , 0.8250497 , 0.8247012 ,\n",
       "       0.8243513 , 0.826     , 0.82765531, 0.82730924, 0.82696177,\n",
       "       0.82862903, 0.82828283, 0.82995951, 0.831643  , 0.83130081,\n",
       "       0.83299389, 0.83265306, 0.83231084, 0.83401639, 0.83367556,\n",
       "       0.83333333, 0.83298969, 0.83264463, 0.83229814, 0.83195021,\n",
       "       0.83160083, 0.83333333, 0.83298539, 0.83472803, 0.83438155,\n",
       "       0.83403361, 0.83578947, 0.83755274, 0.83932347, 0.83898305,\n",
       "       0.83864119, 0.83829787, 0.83795309, 0.83760684, 0.83940043,\n",
       "       0.84120172, 0.84301075, 0.84267241, 0.84233261, 0.84415584,\n",
       "       0.84598698, 0.84565217, 0.8453159 , 0.84497817, 0.84463895,\n",
       "       0.84429825, 0.84615385, 0.84581498, 0.84547461, 0.84513274,\n",
       "       0.84700665, 0.84888889, 0.84855234, 0.84821429, 0.84787472,\n",
       "       0.84753363, 0.8494382 , 0.85135135, 0.85327314, 0.85520362,\n",
       "       0.85487528, 0.85454545, 0.85421412, 0.85388128, 0.85583524,\n",
       "       0.85779817, 0.85747126, 0.85714286, 0.85681293, 0.8587963 ,\n",
       "       0.86078886, 0.8627907 , 0.86480186, 0.86448598, 0.86416862,\n",
       "       0.86384977, 0.86352941, 0.86556604, 0.86524823, 0.86729858,\n",
       "       0.86698337, 0.86666667, 0.86873508, 0.86842105, 0.8705036 ,\n",
       "       0.87019231, 0.86987952, 0.86956522, 0.86924939, 0.86893204,\n",
       "       0.87104623, 0.87073171, 0.87041565, 0.87009804, 0.87223587,\n",
       "       0.87192118, 0.87407407, 0.87376238, 0.87344913, 0.87313433,\n",
       "       0.87531172, 0.875     , 0.87468672, 0.87437186, 0.87657431,\n",
       "       0.87626263, 0.87848101, 0.88071066, 0.88295165, 0.88265306,\n",
       "       0.88235294, 0.88205128, 0.88174807, 0.88402062, 0.88372093,\n",
       "       0.88601036, 0.88571429, 0.88541667, 0.88511749, 0.88481675,\n",
       "       0.88451444, 0.88421053, 0.88390501, 0.88359788, 0.88328912,\n",
       "       0.88297872, 0.88266667, 0.88235294, 0.88203753, 0.88172043,\n",
       "       0.88140162, 0.88378378, 0.88346883, 0.88315217, 0.88283379,\n",
       "       0.88251366, 0.88219178, 0.88186813, 0.8815427 , 0.88121547,\n",
       "       0.88088643, 0.88055556, 0.88300836, 0.88547486, 0.88795518,\n",
       "       0.88764045, 0.88732394, 0.88983051, 0.89235127, 0.89204545,\n",
       "       0.89173789, 0.89142857, 0.89111748, 0.89367816, 0.89337176,\n",
       "       0.89306358, 0.89275362, 0.89534884, 0.89504373, 0.89473684,\n",
       "       0.89442815, 0.89705882, 0.89675516, 0.8964497 , 0.89910979,\n",
       "       0.89880952, 0.89850746, 0.9011976 , 0.9009009 , 0.90361446,\n",
       "       0.90332326, 0.9030303 , 0.90273556, 0.9054878 , 0.90519878,\n",
       "       0.90797546, 0.90769231, 0.90740741, 0.90712074, 0.9068323 ,\n",
       "       0.90654206, 0.90625   , 0.90595611, 0.90566038, 0.90851735,\n",
       "       0.90822785, 0.90793651, 0.90764331, 0.90734824, 0.91025641,\n",
       "       0.90996785, 0.91290323, 0.91262136, 0.91233766, 0.91205212,\n",
       "       0.91176471, 0.91147541, 0.91118421, 0.91419142, 0.91390728,\n",
       "       0.91694352, 0.92      , 0.91973244, 0.91946309, 0.91919192,\n",
       "       0.91891892, 0.91864407, 0.91836735, 0.91808874, 0.91780822,\n",
       "       0.91752577, 0.92068966, 0.92041522, 0.92013889, 0.91986063,\n",
       "       0.91958042, 0.91929825, 0.91901408, 0.91872792, 0.91843972,\n",
       "       0.91814947, 0.91785714, 0.91756272, 0.91726619, 0.91696751,\n",
       "       0.91666667, 0.91636364, 0.91970803, 0.91941392, 0.92279412,\n",
       "       0.92250923, 0.92222222, 0.92193309, 0.92164179, 0.92134831,\n",
       "       0.92105263, 0.92075472, 0.92045455, 0.92015209, 0.91984733,\n",
       "       0.91954023, 0.91923077, 0.91891892, 0.91860465, 0.91828794,\n",
       "       0.921875  , 0.92156863, 0.92125984, 0.92094862, 0.92063492,\n",
       "       0.92031873, 0.92      , 0.92369478, 0.9233871 , 0.92307692,\n",
       "       0.92276423, 0.92653061, 0.92622951, 0.92592593, 0.92975207,\n",
       "       0.92946058, 0.92916667, 0.92887029, 0.92857143, 0.92827004,\n",
       "       0.9279661 , 0.93191489, 0.93162393, 0.93133047, 0.93103448,\n",
       "       0.93073593, 0.93043478, 0.930131  , 0.92982456, 0.92951542,\n",
       "       0.92920354, 0.92888889, 0.92857143, 0.92825112, 0.92792793,\n",
       "       0.92760181, 0.92727273, 0.93150685, 0.93119266, 0.93087558,\n",
       "       0.93055556, 0.93023256, 0.92990654, 0.9342723 , 0.93396226,\n",
       "       0.93364929, 0.93333333, 0.93301435, 0.93269231, 0.93236715,\n",
       "       0.93203883, 0.93658537, 0.93627451, 0.9408867 , 0.94059406,\n",
       "       0.94029851, 0.94      , 0.93969849, 0.94444444, 0.94923858,\n",
       "       0.94897959, 0.94871795, 0.94845361, 0.94818653, 0.94791667,\n",
       "       0.94764398, 0.94736842, 0.94708995, 0.94680851, 0.94652406,\n",
       "       0.94623656, 0.94594595, 0.95108696, 0.95081967, 0.95054945,\n",
       "       0.95027624, 0.95      , 0.94972067, 0.9494382 , 0.94915254,\n",
       "       0.94886364, 0.94857143, 0.94827586, 0.94797688, 0.94767442,\n",
       "       0.94736842, 0.94705882, 0.94674556, 0.94642857, 0.94610778,\n",
       "       0.94578313, 0.94545455, 0.95121951, 0.95092025, 0.95061728,\n",
       "       0.95031056, 0.95      , 0.94968553, 0.94936709, 0.94904459,\n",
       "       0.94871795, 0.9483871 , 0.94805195, 0.94771242, 0.94736842,\n",
       "       0.94701987, 0.94666667, 0.94630872, 0.94594595, 0.94557823,\n",
       "       0.94520548, 0.95172414, 0.95138889, 0.95104895, 0.95070423,\n",
       "       0.95035461, 0.95      , 0.94964029, 0.94927536, 0.94890511,\n",
       "       0.94852941, 0.94814815, 0.94776119, 0.94736842, 0.9469697 ,\n",
       "       0.94656489, 0.94615385, 0.94573643, 0.9453125 , 0.94488189,\n",
       "       0.94444444, 0.952     , 0.95967742, 0.95934959, 0.95901639,\n",
       "       0.95867769, 0.95833333, 0.95798319, 0.95762712, 0.95726496,\n",
       "       0.95689655, 0.95652174, 0.95614035, 0.95575221, 0.95535714,\n",
       "       0.95495495, 0.95454545, 0.96330275, 0.96296296, 0.96261682,\n",
       "       0.96226415, 0.96190476, 0.96153846, 0.96116505, 0.97058824,\n",
       "       0.97029703, 0.97      , 0.96969697, 0.96938776, 0.96907216,\n",
       "       0.96875   , 0.96842105, 0.96808511, 0.96774194, 0.9673913 ,\n",
       "       0.96703297, 0.96666667, 0.96629213, 0.96590909, 0.97701149,\n",
       "       0.97674419, 0.97647059, 0.97619048, 0.97590361, 0.97560976,\n",
       "       0.97530864, 0.975     , 0.97468354, 0.97435897, 0.97402597,\n",
       "       0.97368421, 0.98666667, 0.98648649, 0.98630137, 0.98611111,\n",
       "       0.98591549, 0.98571429, 0.98550725, 0.98529412, 0.98507463,\n",
       "       0.98484848, 1.        , 1.        , 1.        , 1.        ,\n",
       "       1.        , 1.        , 1.        , 1.        , 1.        ,\n",
       "       1.        , 1.        , 1.        , 1.        , 1.        ,\n",
       "       1.        , 1.        , 1.        , 1.        , 1.        ,\n",
       "       1.        , 1.        , 1.        , 1.        , 1.        ,\n",
       "       1.        , 1.        , 1.        , 1.        , 1.        ,\n",
       "       1.        , 1.        , 1.        , 1.        , 1.        ,\n",
       "       1.        , 1.        , 1.        , 1.        , 1.        ,\n",
       "       1.        , 1.        , 1.        , 1.        , 1.        ,\n",
       "       1.        , 1.        , 1.        , 1.        , 1.        ,\n",
       "       1.        , 1.        , 1.        , 1.        , 1.        ,\n",
       "       1.        , 1.        , 1.        , 1.        , 1.        ,\n",
       "       1.        , 1.        , 1.        , 1.        , 1.        ,\n",
       "       1.        , 1.        ])"
      ]
     },
     "execution_count": 266,
     "metadata": {},
     "output_type": "execute_result"
    }
   ],
   "source": [
    "precision"
   ]
  },
  {
   "cell_type": "code",
   "execution_count": 267,
   "metadata": {},
   "outputs": [
    {
     "data": {
      "text/plain": [
       "(952,)"
      ]
     },
     "execution_count": 267,
     "metadata": {},
     "output_type": "execute_result"
    }
   ],
   "source": [
    "precision.shape"
   ]
  },
  {
   "cell_type": "code",
   "execution_count": 268,
   "metadata": {},
   "outputs": [
    {
     "data": {
      "text/plain": [
       "array([1.        , 0.99795918, 0.99795918, 0.99795918, 0.99795918,\n",
       "       0.99795918, 0.99795918, 0.99795918, 0.99795918, 0.99795918,\n",
       "       0.99795918, 0.99795918, 0.99795918, 0.99795918, 0.99795918,\n",
       "       0.99795918, 0.99795918, 0.99795918, 0.99795918, 0.99795918,\n",
       "       0.99795918, 0.99795918, 0.99795918, 0.99795918, 0.99591837,\n",
       "       0.99591837, 0.99591837, 0.99591837, 0.99591837, 0.99591837,\n",
       "       0.99591837, 0.99591837, 0.99591837, 0.99591837, 0.99591837,\n",
       "       0.99591837, 0.99591837, 0.99591837, 0.99591837, 0.99591837,\n",
       "       0.99591837, 0.99591837, 0.99591837, 0.99591837, 0.99591837,\n",
       "       0.99591837, 0.99591837, 0.99591837, 0.99591837, 0.99591837,\n",
       "       0.99591837, 0.99591837, 0.99591837, 0.99591837, 0.99591837,\n",
       "       0.99591837, 0.99591837, 0.99591837, 0.99591837, 0.99591837,\n",
       "       0.99591837, 0.99591837, 0.99591837, 0.99591837, 0.99591837,\n",
       "       0.99591837, 0.99591837, 0.99591837, 0.99387755, 0.99387755,\n",
       "       0.99387755, 0.99387755, 0.99387755, 0.99387755, 0.99387755,\n",
       "       0.99387755, 0.99387755, 0.99387755, 0.99387755, 0.99387755,\n",
       "       0.99387755, 0.99387755, 0.99387755, 0.99387755, 0.99387755,\n",
       "       0.99387755, 0.99387755, 0.99387755, 0.99387755, 0.99387755,\n",
       "       0.99387755, 0.99387755, 0.99387755, 0.99387755, 0.99387755,\n",
       "       0.99387755, 0.99387755, 0.99387755, 0.99387755, 0.99387755,\n",
       "       0.99387755, 0.99387755, 0.99387755, 0.99387755, 0.99387755,\n",
       "       0.99387755, 0.99387755, 0.99387755, 0.99387755, 0.99387755,\n",
       "       0.99387755, 0.99387755, 0.99387755, 0.99387755, 0.99387755,\n",
       "       0.99387755, 0.99387755, 0.99387755, 0.99183673, 0.99183673,\n",
       "       0.99183673, 0.99183673, 0.99183673, 0.99183673, 0.99183673,\n",
       "       0.99183673, 0.99183673, 0.99183673, 0.99183673, 0.99183673,\n",
       "       0.99183673, 0.99183673, 0.99183673, 0.99183673, 0.99183673,\n",
       "       0.99183673, 0.99183673, 0.99183673, 0.99183673, 0.99183673,\n",
       "       0.99183673, 0.98979592, 0.98979592, 0.98979592, 0.98979592,\n",
       "       0.98979592, 0.9877551 , 0.9877551 , 0.9877551 , 0.9877551 ,\n",
       "       0.98571429, 0.98571429, 0.98571429, 0.98367347, 0.98367347,\n",
       "       0.98163265, 0.98163265, 0.98163265, 0.98163265, 0.98163265,\n",
       "       0.98163265, 0.98163265, 0.98163265, 0.98163265, 0.97959184,\n",
       "       0.97959184, 0.97959184, 0.97959184, 0.97959184, 0.97959184,\n",
       "       0.97959184, 0.97959184, 0.97959184, 0.97959184, 0.97959184,\n",
       "       0.97959184, 0.97959184, 0.97959184, 0.97959184, 0.97959184,\n",
       "       0.97959184, 0.97959184, 0.97959184, 0.97959184, 0.97959184,\n",
       "       0.97959184, 0.97959184, 0.97959184, 0.97755102, 0.97755102,\n",
       "       0.97755102, 0.97755102, 0.97755102, 0.97755102, 0.97755102,\n",
       "       0.97755102, 0.97755102, 0.97755102, 0.97755102, 0.9755102 ,\n",
       "       0.9755102 , 0.9755102 , 0.9755102 , 0.9755102 , 0.9755102 ,\n",
       "       0.9755102 , 0.9755102 , 0.97346939, 0.97346939, 0.97346939,\n",
       "       0.97346939, 0.97346939, 0.97142857, 0.96938776, 0.96938776,\n",
       "       0.96938776, 0.96938776, 0.96734694, 0.96734694, 0.96734694,\n",
       "       0.96734694, 0.96734694, 0.96734694, 0.96734694, 0.96734694,\n",
       "       0.96734694, 0.96734694, 0.96734694, 0.96734694, 0.96734694,\n",
       "       0.96734694, 0.96734694, 0.96734694, 0.96734694, 0.96530612,\n",
       "       0.96530612, 0.96530612, 0.96326531, 0.96122449, 0.96122449,\n",
       "       0.96122449, 0.96122449, 0.96122449, 0.96122449, 0.96122449,\n",
       "       0.96122449, 0.96122449, 0.96122449, 0.96122449, 0.96122449,\n",
       "       0.95918367, 0.95918367, 0.95918367, 0.95918367, 0.95918367,\n",
       "       0.95918367, 0.95918367, 0.95918367, 0.95918367, 0.95918367,\n",
       "       0.95918367, 0.95918367, 0.95918367, 0.95918367, 0.95918367,\n",
       "       0.95918367, 0.95918367, 0.95918367, 0.95918367, 0.95918367,\n",
       "       0.95918367, 0.95918367, 0.95918367, 0.95918367, 0.95918367,\n",
       "       0.95918367, 0.95918367, 0.95918367, 0.95918367, 0.95918367,\n",
       "       0.95714286, 0.95510204, 0.95510204, 0.95510204, 0.95510204,\n",
       "       0.95510204, 0.95306122, 0.95102041, 0.95102041, 0.95102041,\n",
       "       0.94897959, 0.94897959, 0.94897959, 0.94897959, 0.94897959,\n",
       "       0.94897959, 0.94897959, 0.94897959, 0.94693878, 0.94693878,\n",
       "       0.94693878, 0.94693878, 0.94489796, 0.94489796, 0.94489796,\n",
       "       0.94489796, 0.94489796, 0.94489796, 0.94489796, 0.94489796,\n",
       "       0.94285714, 0.94081633, 0.93877551, 0.93673469, 0.93673469,\n",
       "       0.93469388, 0.93469388, 0.93469388, 0.93469388, 0.93469388,\n",
       "       0.93469388, 0.93469388, 0.93469388, 0.93265306, 0.93061224,\n",
       "       0.93061224, 0.93061224, 0.92857143, 0.92857143, 0.92857143,\n",
       "       0.92857143, 0.92857143, 0.92857143, 0.92857143, 0.92857143,\n",
       "       0.92857143, 0.92857143, 0.92857143, 0.92857143, 0.92653061,\n",
       "       0.92653061, 0.92653061, 0.92653061, 0.92653061, 0.92653061,\n",
       "       0.92653061, 0.92653061, 0.92653061, 0.92653061, 0.9244898 ,\n",
       "       0.9244898 , 0.9244898 , 0.92244898, 0.92244898, 0.92244898,\n",
       "       0.92244898, 0.92040816, 0.92040816, 0.92040816, 0.91836735,\n",
       "       0.91836735, 0.91836735, 0.91836735, 0.91836735, 0.91836735,\n",
       "       0.91632653, 0.91428571, 0.91428571, 0.91428571, 0.91428571,\n",
       "       0.91428571, 0.9122449 , 0.91020408, 0.91020408, 0.90816327,\n",
       "       0.90816327, 0.90816327, 0.90816327, 0.90612245, 0.90408163,\n",
       "       0.90204082, 0.9       , 0.89795918, 0.89795918, 0.89795918,\n",
       "       0.89591837, 0.89591837, 0.89387755, 0.89387755, 0.89387755,\n",
       "       0.89387755, 0.89387755, 0.89387755, 0.89387755, 0.89183673,\n",
       "       0.89183673, 0.88979592, 0.8877551 , 0.8877551 , 0.8877551 ,\n",
       "       0.8877551 , 0.8877551 , 0.8877551 , 0.8877551 , 0.8877551 ,\n",
       "       0.88571429, 0.88367347, 0.88367347, 0.88367347, 0.88163265,\n",
       "       0.88163265, 0.88163265, 0.88163265, 0.87959184, 0.87959184,\n",
       "       0.87959184, 0.87755102, 0.87755102, 0.87755102, 0.87755102,\n",
       "       0.87755102, 0.87755102, 0.8755102 , 0.87346939, 0.87346939,\n",
       "       0.87346939, 0.87142857, 0.87142857, 0.87142857, 0.86938776,\n",
       "       0.86734694, 0.86734694, 0.86530612, 0.86326531, 0.86326531,\n",
       "       0.86122449, 0.85918367, 0.85918367, 0.85918367, 0.85714286,\n",
       "       0.85714286, 0.85714286, 0.85510204, 0.85306122, 0.85102041,\n",
       "       0.84897959, 0.84693878, 0.84693878, 0.84693878, 0.84489796,\n",
       "       0.84285714, 0.84285714, 0.84285714, 0.84081633, 0.83877551,\n",
       "       0.83877551, 0.83673469, 0.83673469, 0.83673469, 0.83469388,\n",
       "       0.83469388, 0.83265306, 0.83061224, 0.83061224, 0.82857143,\n",
       "       0.82653061, 0.8244898 , 0.82244898, 0.82040816, 0.81836735,\n",
       "       0.81632653, 0.81632653, 0.81428571, 0.81428571, 0.8122449 ,\n",
       "       0.81020408, 0.81020408, 0.81020408, 0.81020408, 0.80816327,\n",
       "       0.80612245, 0.80408163, 0.80204082, 0.8       , 0.8       ,\n",
       "       0.8       , 0.8       , 0.79795918, 0.79591837, 0.79591837,\n",
       "       0.79591837, 0.79387755, 0.79183673, 0.78979592, 0.7877551 ,\n",
       "       0.78571429, 0.78571429, 0.78367347, 0.78163265, 0.77959184,\n",
       "       0.77959184, 0.77959184, 0.77755102, 0.7755102 , 0.77346939,\n",
       "       0.77142857, 0.77142857, 0.77142857, 0.77142857, 0.77142857,\n",
       "       0.76938776, 0.76734694, 0.76530612, 0.76326531, 0.76326531,\n",
       "       0.76326531, 0.76122449, 0.75918367, 0.75714286, 0.75714286,\n",
       "       0.75714286, 0.75714286, 0.75714286, 0.75510204, 0.75306122,\n",
       "       0.75102041, 0.74897959, 0.74897959, 0.74693878, 0.74693878,\n",
       "       0.74489796, 0.74285714, 0.74285714, 0.74081633, 0.74081633,\n",
       "       0.73877551, 0.73673469, 0.73469388, 0.73265306, 0.73061224,\n",
       "       0.73061224, 0.72857143, 0.72653061, 0.7244898 , 0.7244898 ,\n",
       "       0.72244898, 0.72244898, 0.72040816, 0.71836735, 0.71632653,\n",
       "       0.71632653, 0.71428571, 0.7122449 , 0.71020408, 0.71020408,\n",
       "       0.70816327, 0.70816327, 0.70816327, 0.70816327, 0.70612245,\n",
       "       0.70408163, 0.70204082, 0.7       , 0.7       , 0.69795918,\n",
       "       0.69795918, 0.69591837, 0.69387755, 0.69183673, 0.68979592,\n",
       "       0.6877551 , 0.68571429, 0.68367347, 0.68163265, 0.67959184,\n",
       "       0.67755102, 0.6755102 , 0.67346939, 0.67142857, 0.66938776,\n",
       "       0.66734694, 0.66734694, 0.66530612, 0.66326531, 0.66122449,\n",
       "       0.65918367, 0.65714286, 0.65510204, 0.65306122, 0.65102041,\n",
       "       0.64897959, 0.64693878, 0.64693878, 0.64693878, 0.64693878,\n",
       "       0.64489796, 0.64285714, 0.64285714, 0.64285714, 0.64081633,\n",
       "       0.63877551, 0.63673469, 0.63469388, 0.63469388, 0.63265306,\n",
       "       0.63061224, 0.62857143, 0.62857143, 0.62653061, 0.6244898 ,\n",
       "       0.62244898, 0.62244898, 0.62040816, 0.61836735, 0.61836735,\n",
       "       0.61632653, 0.61428571, 0.61428571, 0.6122449 , 0.6122449 ,\n",
       "       0.61020408, 0.60816327, 0.60612245, 0.60612245, 0.60408163,\n",
       "       0.60408163, 0.60204082, 0.6       , 0.59795918, 0.59591837,\n",
       "       0.59387755, 0.59183673, 0.58979592, 0.5877551 , 0.5877551 ,\n",
       "       0.58571429, 0.58367347, 0.58163265, 0.57959184, 0.57959184,\n",
       "       0.57755102, 0.57755102, 0.5755102 , 0.57346939, 0.57142857,\n",
       "       0.56938776, 0.56734694, 0.56530612, 0.56530612, 0.56326531,\n",
       "       0.56326531, 0.56326531, 0.56122449, 0.55918367, 0.55714286,\n",
       "       0.55510204, 0.55306122, 0.55102041, 0.54897959, 0.54693878,\n",
       "       0.54489796, 0.54489796, 0.54285714, 0.54081633, 0.53877551,\n",
       "       0.53673469, 0.53469388, 0.53265306, 0.53061224, 0.52857143,\n",
       "       0.52653061, 0.5244898 , 0.52244898, 0.52040816, 0.51836735,\n",
       "       0.51632653, 0.51428571, 0.51428571, 0.5122449 , 0.5122449 ,\n",
       "       0.51020408, 0.50816327, 0.50612245, 0.50408163, 0.50204082,\n",
       "       0.5       , 0.49795918, 0.49591837, 0.49387755, 0.49183673,\n",
       "       0.48979592, 0.4877551 , 0.48571429, 0.48367347, 0.48163265,\n",
       "       0.48163265, 0.47959184, 0.47755102, 0.4755102 , 0.47346939,\n",
       "       0.47142857, 0.46938776, 0.46938776, 0.46734694, 0.46530612,\n",
       "       0.46326531, 0.46326531, 0.46122449, 0.45918367, 0.45918367,\n",
       "       0.45714286, 0.45510204, 0.45306122, 0.45102041, 0.44897959,\n",
       "       0.44693878, 0.44693878, 0.44489796, 0.44285714, 0.44081633,\n",
       "       0.43877551, 0.43673469, 0.43469388, 0.43265306, 0.43061224,\n",
       "       0.42857143, 0.42653061, 0.4244898 , 0.42244898, 0.42040816,\n",
       "       0.41836735, 0.41632653, 0.41632653, 0.41428571, 0.4122449 ,\n",
       "       0.41020408, 0.40816327, 0.40612245, 0.40612245, 0.40408163,\n",
       "       0.40204082, 0.4       , 0.39795918, 0.39591837, 0.39387755,\n",
       "       0.39183673, 0.39183673, 0.38979592, 0.38979592, 0.3877551 ,\n",
       "       0.38571429, 0.38367347, 0.38163265, 0.38163265, 0.38163265,\n",
       "       0.37959184, 0.37755102, 0.3755102 , 0.37346939, 0.37142857,\n",
       "       0.36938776, 0.36734694, 0.36530612, 0.36326531, 0.36122449,\n",
       "       0.35918367, 0.35714286, 0.35714286, 0.35510204, 0.35306122,\n",
       "       0.35102041, 0.34897959, 0.34693878, 0.34489796, 0.34285714,\n",
       "       0.34081633, 0.33877551, 0.33673469, 0.33469388, 0.33265306,\n",
       "       0.33061224, 0.32857143, 0.32653061, 0.3244898 , 0.32244898,\n",
       "       0.32040816, 0.31836735, 0.31836735, 0.31632653, 0.31428571,\n",
       "       0.3122449 , 0.31020408, 0.30816327, 0.30612245, 0.30408163,\n",
       "       0.30204082, 0.3       , 0.29795918, 0.29591837, 0.29387755,\n",
       "       0.29183673, 0.28979592, 0.2877551 , 0.28571429, 0.28367347,\n",
       "       0.28163265, 0.28163265, 0.27959184, 0.27755102, 0.2755102 ,\n",
       "       0.27346939, 0.27142857, 0.26938776, 0.26734694, 0.26530612,\n",
       "       0.26326531, 0.26122449, 0.25918367, 0.25714286, 0.25510204,\n",
       "       0.25306122, 0.25102041, 0.24897959, 0.24693878, 0.24489796,\n",
       "       0.24285714, 0.24285714, 0.24285714, 0.24081633, 0.23877551,\n",
       "       0.23673469, 0.23469388, 0.23265306, 0.23061224, 0.22857143,\n",
       "       0.22653061, 0.2244898 , 0.22244898, 0.22040816, 0.21836735,\n",
       "       0.21632653, 0.21428571, 0.21428571, 0.2122449 , 0.21020408,\n",
       "       0.20816327, 0.20612245, 0.20408163, 0.20204082, 0.20204082,\n",
       "       0.2       , 0.19795918, 0.19591837, 0.19387755, 0.19183673,\n",
       "       0.18979592, 0.1877551 , 0.18571429, 0.18367347, 0.18163265,\n",
       "       0.17959184, 0.17755102, 0.1755102 , 0.17346939, 0.17346939,\n",
       "       0.17142857, 0.16938776, 0.16734694, 0.16530612, 0.16326531,\n",
       "       0.16122449, 0.15918367, 0.15714286, 0.15510204, 0.15306122,\n",
       "       0.15102041, 0.15102041, 0.14897959, 0.14693878, 0.14489796,\n",
       "       0.14285714, 0.14081633, 0.13877551, 0.13673469, 0.13469388,\n",
       "       0.13265306, 0.13265306, 0.13061224, 0.12857143, 0.12653061,\n",
       "       0.1244898 , 0.12244898, 0.12040816, 0.11836735, 0.11632653,\n",
       "       0.11428571, 0.1122449 , 0.11020408, 0.10816327, 0.10612245,\n",
       "       0.10408163, 0.10204082, 0.1       , 0.09795918, 0.09591837,\n",
       "       0.09387755, 0.09183673, 0.08979592, 0.0877551 , 0.08571429,\n",
       "       0.08367347, 0.08163265, 0.07959184, 0.07755102, 0.0755102 ,\n",
       "       0.07346939, 0.07142857, 0.06938776, 0.06734694, 0.06530612,\n",
       "       0.06326531, 0.06122449, 0.05918367, 0.05714286, 0.05510204,\n",
       "       0.05306122, 0.05102041, 0.04897959, 0.04693878, 0.04489796,\n",
       "       0.04285714, 0.04081633, 0.03877551, 0.03673469, 0.03469388,\n",
       "       0.03265306, 0.03061224, 0.02857143, 0.02653061, 0.0244898 ,\n",
       "       0.02244898, 0.02040816, 0.01836735, 0.01632653, 0.01428571,\n",
       "       0.0122449 , 0.01020408, 0.00816327, 0.00612245, 0.00408163,\n",
       "       0.00204082, 0.        ])"
      ]
     },
     "execution_count": 268,
     "metadata": {},
     "output_type": "execute_result"
    }
   ],
   "source": [
    "recall"
   ]
  },
  {
   "cell_type": "code",
   "execution_count": 269,
   "metadata": {},
   "outputs": [
    {
     "data": {
      "text/plain": [
       "(952,)"
      ]
     },
     "execution_count": 269,
     "metadata": {},
     "output_type": "execute_result"
    }
   ],
   "source": [
    "recall.shape"
   ]
  },
  {
   "cell_type": "code",
   "execution_count": 270,
   "metadata": {},
   "outputs": [
    {
     "data": {
      "text/plain": [
       "array([0.01533869, 0.01553749, 0.01666671, 0.01672575, 0.01711652,\n",
       "       0.01724729, 0.01784618, 0.01845606, 0.01854228, 0.01888795,\n",
       "       0.01897368, 0.01906677, 0.01909731, 0.01918787, 0.01922674,\n",
       "       0.01934779, 0.01960651, 0.02036796, 0.02104435, 0.02158714,\n",
       "       0.02251023, 0.02388676, 0.02549122, 0.0258422 , 0.02590319,\n",
       "       0.0261709 , 0.02618679, 0.02623706, 0.02686085, 0.02693728,\n",
       "       0.02746117, 0.0280706 , 0.02865768, 0.02880739, 0.02909666,\n",
       "       0.02912275, 0.02998752, 0.03064778, 0.03138471, 0.0315005 ,\n",
       "       0.03163718, 0.03190032, 0.03201202, 0.03203432, 0.03231827,\n",
       "       0.03269393, 0.03352166, 0.03453586, 0.03477114, 0.03483703,\n",
       "       0.03583819, 0.03625125, 0.03636261, 0.03636819, 0.03658147,\n",
       "       0.03674461, 0.03698048, 0.03718331, 0.03738808, 0.03781994,\n",
       "       0.03900326, 0.03902145, 0.03930029, 0.04103597, 0.04120823,\n",
       "       0.04133122, 0.04148023, 0.04154915, 0.04200829, 0.04209665,\n",
       "       0.04242042, 0.04248212, 0.04261033, 0.04273548, 0.04520545,\n",
       "       0.04545375, 0.04548395, 0.04600734, 0.04694698, 0.04772339,\n",
       "       0.04783166, 0.0487923 , 0.04979226, 0.0505955 , 0.05089871,\n",
       "       0.05149191, 0.05185173, 0.05185926, 0.05300708, 0.05304669,\n",
       "       0.05316616, 0.0546227 , 0.05554577, 0.05588865, 0.05665865,\n",
       "       0.05687878, 0.05698578, 0.05783069, 0.05942511, 0.06005339,\n",
       "       0.06091398, 0.06191039, 0.06221349, 0.06238543, 0.06240311,\n",
       "       0.06285872, 0.06298239, 0.06334456, 0.06346146, 0.06349393,\n",
       "       0.06379868, 0.06416357, 0.06438658, 0.06443197, 0.06518386,\n",
       "       0.06584206, 0.06651767, 0.06760619, 0.06782807, 0.06854109,\n",
       "       0.06926301, 0.0696194 , 0.07059722, 0.07118598, 0.07182407,\n",
       "       0.0731634 , 0.07319858, 0.07407218, 0.07450927, 0.07545675,\n",
       "       0.07729745, 0.07782562, 0.07801411, 0.07938066, 0.08032658,\n",
       "       0.08141893, 0.08179177, 0.08209236, 0.08209308, 0.08281515,\n",
       "       0.08514292, 0.086418  , 0.08691091, 0.08734314, 0.08871753,\n",
       "       0.09049677, 0.0916156 , 0.09221776, 0.0935461 , 0.09381446,\n",
       "       0.09448077, 0.09486065, 0.0949521 , 0.09542245, 0.0955474 ,\n",
       "       0.09578761, 0.09624556, 0.09642697, 0.09717709, 0.09768966,\n",
       "       0.09844499, 0.09857546, 0.0991629 , 0.09930054, 0.09930398,\n",
       "       0.10067558, 0.10238357, 0.10256576, 0.10266798, 0.10277039,\n",
       "       0.10277544, 0.10380623, 0.10380979, 0.10451707, 0.10468013,\n",
       "       0.10496136, 0.10500676, 0.10527755, 0.10546039, 0.10579925,\n",
       "       0.10603808, 0.10648599, 0.10694876, 0.10698429, 0.10701378,\n",
       "       0.10808751, 0.10926633, 0.11026088, 0.11174164, 0.11207448,\n",
       "       0.11257531, 0.11394224, 0.11452295, 0.11498972, 0.11628799,\n",
       "       0.11654184, 0.11665781, 0.1168615 , 0.11790632, 0.11843397,\n",
       "       0.11861023, 0.11986498, 0.12158831, 0.1224007 , 0.12392255,\n",
       "       0.12436155, 0.12508056, 0.12512904, 0.12556181, 0.12651193,\n",
       "       0.12713005, 0.1275323 , 0.12760611, 0.12858585, 0.13000049,\n",
       "       0.13108467, 0.13366037, 0.13533942, 0.13906291, 0.14089395,\n",
       "       0.14197982, 0.14566695, 0.14575739, 0.14593928, 0.14912724,\n",
       "       0.14919589, 0.14982909, 0.15051052, 0.15154196, 0.15221541,\n",
       "       0.15262018, 0.15529737, 0.15531992, 0.15603241, 0.15768349,\n",
       "       0.15850931, 0.16049285, 0.16093526, 0.163746  , 0.16385507,\n",
       "       0.16390811, 0.16730998, 0.16793124, 0.1701376 , 0.17015194,\n",
       "       0.17030694, 0.17161159, 0.17337362, 0.17359128, 0.17385959,\n",
       "       0.1758966 , 0.17598054, 0.17706871, 0.17930481, 0.17932856,\n",
       "       0.17961357, 0.18045699, 0.18106936, 0.18110021, 0.1811898 ,\n",
       "       0.18228548, 0.18266431, 0.18278807, 0.18300932, 0.18401657,\n",
       "       0.18539245, 0.18541723, 0.18545803, 0.18696676, 0.18734026,\n",
       "       0.18907696, 0.18931841, 0.18953962, 0.18996375, 0.19204741,\n",
       "       0.19402748, 0.19502827, 0.19517766, 0.19533037, 0.19538351,\n",
       "       0.1964021 , 0.19733742, 0.19801487, 0.1987022 , 0.1989406 ,\n",
       "       0.1990396 , 0.20193913, 0.20484343, 0.20650262, 0.2090106 ,\n",
       "       0.20931252, 0.21060075, 0.21307072, 0.21581637, 0.21703416,\n",
       "       0.21877763, 0.21994437, 0.22036099, 0.22127837, 0.22219519,\n",
       "       0.22237129, 0.22274   , 0.22281891, 0.22327374, 0.23003029,\n",
       "       0.23032302, 0.2309232 , 0.2332448 , 0.23454819, 0.23693289,\n",
       "       0.23761796, 0.23807832, 0.23819672, 0.24244985, 0.24302515,\n",
       "       0.24541738, 0.24877571, 0.25310881, 0.25330233, 0.25521441,\n",
       "       0.25575213, 0.25608961, 0.25733449, 0.25907952, 0.26274707,\n",
       "       0.26341734, 0.26361693, 0.26530263, 0.26841413, 0.26918731,\n",
       "       0.26974471, 0.26987201, 0.27041363, 0.2714772 , 0.27246204,\n",
       "       0.27261483, 0.27539532, 0.27549216, 0.27588055, 0.27794486,\n",
       "       0.27839694, 0.28054204, 0.28090959, 0.28504544, 0.28628387,\n",
       "       0.28861385, 0.29129339, 0.29269635, 0.29787742, 0.29815223,\n",
       "       0.29868859, 0.29886672, 0.29943735, 0.30368685, 0.30410497,\n",
       "       0.30989068, 0.31027828, 0.31167078, 0.31232275, 0.31310203,\n",
       "       0.32074905, 0.32089148, 0.32202517, 0.32261768, 0.32552235,\n",
       "       0.32610548, 0.32859133, 0.32926742, 0.32932625, 0.33181145,\n",
       "       0.33325229, 0.33329389, 0.33339454, 0.33380446, 0.33433258,\n",
       "       0.33568965, 0.33876272, 0.3389699 , 0.33942065, 0.34443978,\n",
       "       0.34557109, 0.34786765, 0.35193779, 0.35419057, 0.3583509 ,\n",
       "       0.36071968, 0.36356287, 0.36393029, 0.36428299, 0.36472082,\n",
       "       0.36617077, 0.36633514, 0.36709113, 0.36871432, 0.3722097 ,\n",
       "       0.3750396 , 0.37628534, 0.37689891, 0.37708234, 0.37772101,\n",
       "       0.37889799, 0.38203484, 0.38267067, 0.3839535 , 0.38417959,\n",
       "       0.38480199, 0.38895368, 0.39482329, 0.39652479, 0.39878269,\n",
       "       0.39926389, 0.400572  , 0.40120839, 0.40199299, 0.40750186,\n",
       "       0.40772015, 0.41240167, 0.41472953, 0.4186835 , 0.41887944,\n",
       "       0.42033621, 0.42362345, 0.42463677, 0.42803387, 0.42952548,\n",
       "       0.43035695, 0.43084683, 0.43177044, 0.43679323, 0.43702011,\n",
       "       0.43740591, 0.43882727, 0.44246853, 0.44578466, 0.4458822 ,\n",
       "       0.44671469, 0.44968832, 0.45335076, 0.45650818, 0.46088858,\n",
       "       0.46258584, 0.4629463 , 0.46404586, 0.46550484, 0.46673376,\n",
       "       0.46746621, 0.47212066, 0.47235539, 0.47348054, 0.47544976,\n",
       "       0.47651767, 0.47771092, 0.48488766, 0.48631288, 0.48656611,\n",
       "       0.48732636, 0.48812973, 0.49469768, 0.49817943, 0.49919678,\n",
       "       0.50082527, 0.50086088, 0.50107131, 0.50378317, 0.50445757,\n",
       "       0.50525303, 0.50628119, 0.50712941, 0.50798375, 0.51342146,\n",
       "       0.51375954, 0.51519225, 0.5157532 , 0.52112719, 0.52457383,\n",
       "       0.52818434, 0.53030241, 0.53279792, 0.53317152, 0.53334098,\n",
       "       0.5364196 , 0.53684459, 0.53705973, 0.53741247, 0.54165916,\n",
       "       0.54455348, 0.54482992, 0.54861328, 0.55117998, 0.55254157,\n",
       "       0.55339598, 0.55771998, 0.55780578, 0.5581531 , 0.55846879,\n",
       "       0.56195968, 0.56242352, 0.56244136, 0.56413229, 0.56588062,\n",
       "       0.56685361, 0.56703643, 0.56800741, 0.56819501, 0.57053698,\n",
       "       0.57198917, 0.572415  , 0.57714472, 0.57725818, 0.58126125,\n",
       "       0.58642071, 0.58808769, 0.59097429, 0.59114428, 0.59435555,\n",
       "       0.59491707, 0.59636326, 0.59882535, 0.60223551, 0.60282578,\n",
       "       0.60390217, 0.60721519, 0.60783553, 0.60795416, 0.61005265,\n",
       "       0.61440796, 0.61515654, 0.61625554, 0.62065378, 0.62092196,\n",
       "       0.6249831 , 0.62658873, 0.62836234, 0.6303622 , 0.63106691,\n",
       "       0.63364621, 0.63440681, 0.63478426, 0.63610684, 0.63624731,\n",
       "       0.63634785, 0.63937255, 0.6409427 , 0.64522704, 0.6470489 ,\n",
       "       0.65202716, 0.65390772, 0.65441958, 0.65607792, 0.65648562,\n",
       "       0.65790736, 0.65952187, 0.66072171, 0.66084483, 0.6651231 ,\n",
       "       0.66816048, 0.67010777, 0.67043411, 0.67095472, 0.67155266,\n",
       "       0.67190421, 0.67574666, 0.67615136, 0.67891163, 0.67897609,\n",
       "       0.68180253, 0.68584038, 0.68591839, 0.68664771, 0.68728652,\n",
       "       0.69107559, 0.69280319, 0.69334166, 0.69840132, 0.6993329 ,\n",
       "       0.70115789, 0.70354779, 0.70573933, 0.70687076, 0.70751451,\n",
       "       0.70785061, 0.71517446, 0.71652013, 0.71861465, 0.72014751,\n",
       "       0.72037628, 0.72213462, 0.72301294, 0.72394911, 0.72714342,\n",
       "       0.72968949, 0.73267813, 0.73382601, 0.73978091, 0.73988517,\n",
       "       0.74222103, 0.74243092, 0.7439387 , 0.74405926, 0.74446124,\n",
       "       0.74502356, 0.74726066, 0.74754554, 0.74935777, 0.74970362,\n",
       "       0.75245787, 0.75592771, 0.75687422, 0.7569631 , 0.7587446 ,\n",
       "       0.76148054, 0.76168271, 0.76220812, 0.76237921, 0.76456138,\n",
       "       0.76575062, 0.76651208, 0.7667314 , 0.76771493, 0.76812923,\n",
       "       0.76926989, 0.77174317, 0.77293744, 0.77476323, 0.77486166,\n",
       "       0.77506898, 0.77511858, 0.77552867, 0.77636729, 0.77670529,\n",
       "       0.77785502, 0.77823689, 0.7788818 , 0.78109819, 0.78133943,\n",
       "       0.78222767, 0.78248197, 0.78516557, 0.7853054 , 0.78656381,\n",
       "       0.78666159, 0.78982043, 0.7910702 , 0.79173707, 0.79432009,\n",
       "       0.80322634, 0.80561521, 0.8058575 , 0.80638521, 0.80638704,\n",
       "       0.80759746, 0.80800329, 0.81198828, 0.81326369, 0.81343915,\n",
       "       0.81370105, 0.81446302, 0.81631299, 0.81669127, 0.81888395,\n",
       "       0.81891339, 0.81915298, 0.82063741, 0.82157352, 0.82243475,\n",
       "       0.82411351, 0.82424508, 0.82427692, 0.82651506, 0.82821066,\n",
       "       0.82951737, 0.83047434, 0.83186184, 0.8328756 , 0.83307551,\n",
       "       0.83342802, 0.83349688, 0.83465507, 0.83507879, 0.83533284,\n",
       "       0.83643148, 0.83814547, 0.83901658, 0.84125001, 0.84127302,\n",
       "       0.84189574, 0.84221299, 0.8427114 , 0.84341438, 0.84363274,\n",
       "       0.84609014, 0.84838735, 0.84958814, 0.84985016, 0.85116202,\n",
       "       0.85166702, 0.85234798, 0.85254075, 0.85289964, 0.85441456,\n",
       "       0.85606894, 0.85683142, 0.85754087, 0.85775445, 0.85806377,\n",
       "       0.86609823, 0.86723656, 0.86967289, 0.86969424, 0.87037872,\n",
       "       0.87040938, 0.87105735, 0.87186958, 0.87214792, 0.87261113,\n",
       "       0.87310423, 0.87376933, 0.87397292, 0.87434683, 0.87521076,\n",
       "       0.87757563, 0.87948502, 0.88089987, 0.88174976, 0.88278807,\n",
       "       0.88640101, 0.8874029 , 0.88989187, 0.89041533, 0.89096688,\n",
       "       0.89327472, 0.89468157, 0.89546258, 0.89569046, 0.89572167,\n",
       "       0.89678255, 0.89725548, 0.89832499, 0.89953606, 0.89953893,\n",
       "       0.90039387, 0.90051133, 0.90140471, 0.90248334, 0.90308836,\n",
       "       0.90321543, 0.9036561 , 0.90456406, 0.90614535, 0.90721065,\n",
       "       0.90801095, 0.91076148, 0.91090901, 0.91119009, 0.91172546,\n",
       "       0.91200516, 0.9124068 , 0.91248289, 0.91259526, 0.91372888,\n",
       "       0.91395967, 0.91443758, 0.91510213, 0.91610177, 0.91664954,\n",
       "       0.91711288, 0.9178113 , 0.91819177, 0.91840994, 0.91874989,\n",
       "       0.91882465, 0.91927995, 0.91939159, 0.91973537, 0.92174841,\n",
       "       0.92229225, 0.922658  , 0.92288654, 0.92297673, 0.9243981 ,\n",
       "       0.924845  , 0.92548795, 0.9266038 , 0.92741113, 0.92795023,\n",
       "       0.92809029, 0.92858098, 0.92949284, 0.92994285, 0.9309863 ,\n",
       "       0.93121055, 0.93154831, 0.93172306, 0.93175916, 0.93192326,\n",
       "       0.93359325, 0.93405243, 0.93405528, 0.93519303, 0.93527981,\n",
       "       0.93686956, 0.93687251, 0.93704436, 0.93794711, 0.93954417,\n",
       "       0.94009039, 0.94016688, 0.94119053, 0.94181231, 0.94208118,\n",
       "       0.94243163, 0.94247413, 0.94263138, 0.94354243, 0.94415675,\n",
       "       0.94446667, 0.94548339, 0.94553172, 0.94593708, 0.9460555 ,\n",
       "       0.94903192, 0.95186963, 0.95213684, 0.9522327 , 0.95379782,\n",
       "       0.95403725, 0.95442712, 0.95443979, 0.95501038, 0.95538589,\n",
       "       0.95620721, 0.9567958 , 0.95688074, 0.95720378, 0.95723152,\n",
       "       0.95780771, 0.95814986, 0.95857621, 0.95872548, 0.9589707 ,\n",
       "       0.9593094 , 0.95956295, 0.95972963, 0.96029033, 0.96062311,\n",
       "       0.96106741, 0.96149726, 0.96154427, 0.9617245 , 0.96173857,\n",
       "       0.96174901, 0.96209049, 0.96239277, 0.96299615, 0.96341244,\n",
       "       0.96352298, 0.96427358, 0.96438641, 0.96447715, 0.96497786,\n",
       "       0.96548351, 0.96604645, 0.96609839, 0.96645713, 0.96670469,\n",
       "       0.96745788, 0.96801815, 0.96852848, 0.96922523, 0.97133603,\n",
       "       0.97165685, 0.97187707, 0.97204482, 0.97206018, 0.97239235,\n",
       "       0.97245131, 0.97269992, 0.97291327, 0.97385579, 0.97431265,\n",
       "       0.97448535, 0.97517142, 0.97525754, 0.97568142, 0.97648843,\n",
       "       0.976956  , 0.97830392, 0.97841002, 0.97892951, 0.97907083,\n",
       "       0.97920697, 0.97924936, 0.98124554, 0.98178583, 0.98272624,\n",
       "       0.98273143, 0.98280936, 0.98300576, 0.98305551, 0.98319956,\n",
       "       0.98375865, 0.98394855, 0.98404886, 0.98416353, 0.98423617,\n",
       "       0.98436326, 0.98464736, 0.98473822, 0.98519885, 0.98537064,\n",
       "       0.98614001, 0.98628586, 0.98664198, 0.98672439, 0.98678451,\n",
       "       0.98724684, 0.98726976, 0.9874006 , 0.98815999, 0.98819967,\n",
       "       0.98836989, 0.98845304, 0.98846569, 0.98885672, 0.98939169,\n",
       "       0.99004516, 0.99212368, 0.99274473, 0.99294068, 0.99381471,\n",
       "       0.99386887, 0.99403491, 0.994414  , 0.99452793, 0.9953481 ,\n",
       "       0.9956561 , 0.9962009 , 0.99624761, 0.99672458, 0.9967861 ,\n",
       "       0.99693239, 0.99693308, 0.997105  , 0.99715395, 0.99724883,\n",
       "       0.99818746, 0.99829868, 0.99845681, 0.99913864, 0.99941992,\n",
       "       0.99987596])"
      ]
     },
     "execution_count": 270,
     "metadata": {},
     "output_type": "execute_result"
    }
   ],
   "source": [
    "threshold"
   ]
  },
  {
   "cell_type": "code",
   "execution_count": 271,
   "metadata": {},
   "outputs": [
    {
     "data": {
      "text/plain": [
       "(951,)"
      ]
     },
     "execution_count": 271,
     "metadata": {},
     "output_type": "execute_result"
    }
   ],
   "source": [
    "threshold.shape\n"
   ]
  },
  {
   "cell_type": "code",
   "execution_count": 276,
   "metadata": {},
   "outputs": [
    {
     "data": {
      "image/png": "[encoded data removed]",
      "text/plain": [
       "<matplotlib.figure.Figure at 0x21070924828>"
      ]
     },
     "metadata": {},
     "output_type": "display_data"
    }
   ],
   "source": [
    "plt.title('Precision-recall-curve')\n",
    "plt.plot(precision,recall)\n",
    "plt.xlabel('precision')\n",
    "plt.ylabel('recall')\n",
    "plt.show()"
   ]
  },
  {
   "cell_type": "code",
   "execution_count": 282,
   "metadata": {},
   "outputs": [
    {
     "data": {
      "image/png": "[encoded data removed]",
      "text/plain": [
       "<matplotlib.figure.Figure at 0x210709125c0>"
      ]
     },
     "metadata": {},
     "output_type": "display_data"
    }
   ],
   "source": [
    "plt.title('Precision-recall-curve')\n",
    "plt.plot(precision,recall)\n",
    "plt.plot([0,1],[0,1],'r--')\n",
    "plt.plot([1,1],'b')\n",
    "plt.plot([1,1],[0,1],'b')\n",
    "plt.xlabel('precision')\n",
    "plt.ylabel('recall')\n",
    "plt.show()"
   ]
  },
  {
   "cell_type": "code",
   "execution_count": 283,
   "metadata": {},
   "outputs": [
    {
     "data": {
      "text/plain": [
       "0.8984128719848977"
      ]
     },
     "execution_count": 283,
     "metadata": {},
     "output_type": "execute_result"
    }
   ],
   "source": [
    "# 평균 정밀도 \n",
    "from sklearn.metrics import average_precision_score\n",
    "\n",
    "average_precision_score(Y_test,Y_proba2)"
   ]
  },
  {
   "cell_type": "markdown",
   "metadata": {},
   "source": [
    "다음처럼 교차검증 함수의 scoring 매개변수에 ROCAUC와 평균 정밀도를 평가 지표로 지정할 수 있음."
   ]
  },
  {
   "cell_type": "code",
   "execution_count": 286,
   "metadata": {
    "collapsed": true
   },
   "outputs": [],
   "source": [
    "from sklearn.model_selection import cross_validate\n",
    "\n",
    "cv_result = cross_validate(logit,X,Y, scoring=['accuracy','roc_auc','average_precision'])"
   ]
  },
  {
   "cell_type": "code",
   "execution_count": 287,
   "metadata": {},
   "outputs": [
    {
     "data": {
      "text/plain": [
       "{'fit_time': array([0.0179143 , 0.01115441, 0.01096988, 0.01296425, 0.01196647]),\n",
       " 'score_time': array([0.00299168, 0.00380445, 0.00399137, 0.00299716, 0.00299287]),\n",
       " 'test_accuracy': array([0.829 , 0.8355, 0.831 , 0.837 , 0.833 ]),\n",
       " 'test_average_precision': array([0.90028629, 0.90967443, 0.90296471, 0.91135611, 0.88797021]),\n",
       " 'test_roc_auc': array([0.9007689, 0.918251 , 0.90882  , 0.915359 , 0.90261  ])}"
      ]
     },
     "execution_count": 287,
     "metadata": {},
     "output_type": "execute_result"
    }
   ],
   "source": [
    "cv_result"
   ]
  },
  {
   "cell_type": "code",
   "execution_count": 291,
   "metadata": {},
   "outputs": [
    {
     "data": {
      "text/plain": [
       "array([[ 0.95113083,  0.10088996,  0.59922172, ...,  1.31616396,\n",
       "        -1.00534424, -1.87957819],\n",
       "       [ 0.71901417,  0.98935259, -1.58166774, ...,  1.25305604,\n",
       "         0.87268006,  0.81333374],\n",
       "       [ 0.53683917,  1.0822293 , -1.27721296, ..., -0.15950734,\n",
       "         0.0940172 , -1.54091607],\n",
       "       ...,\n",
       "       [ 1.53054681,  0.67090085,  0.24030649, ...,  0.00835941,\n",
       "        -0.49541161,  0.67430704],\n",
       "       [ 1.91726789,  0.07249074,  0.17947667, ...,  0.63552128,\n",
       "         0.66742911, -0.21860399],\n",
       "       [ 2.24969944,  1.33576852,  0.29390861, ...,  1.7001302 ,\n",
       "         1.49087971,  0.74798081]])"
      ]
     },
     "execution_count": 291,
     "metadata": {},
     "output_type": "execute_result"
    }
   ],
   "source": [
    "X"
   ]
  },
  {
   "cell_type": "code",
   "execution_count": 290,
   "metadata": {},
   "outputs": [
    {
     "data": {
      "text/plain": [
       "(10000,)"
      ]
     },
     "execution_count": 290,
     "metadata": {},
     "output_type": "execute_result"
    }
   ],
   "source": [
    "Y.shape"
   ]
  },
  {
   "cell_type": "code",
   "execution_count": 295,
   "metadata": {},
   "outputs": [
    {
     "data": {
      "text/plain": [
       "array([[0.04367971, 0.95632029],\n",
       "       [0.02865235, 0.97134765],\n",
       "       [0.83789719, 0.16210281],\n",
       "       ...,\n",
       "       [0.9695829 , 0.0304171 ],\n",
       "       [0.88792552, 0.11207448],\n",
       "       [0.03375474, 0.96624526]])"
      ]
     },
     "execution_count": 295,
     "metadata": {},
     "output_type": "execute_result"
    }
   ],
   "source": [
    "logit.predict_proba(X)"
   ]
  },
  {
   "cell_type": "markdown",
   "metadata": {},
   "source": [
    "# 11.6 다중클래스 분류기 예측 평가"
   ]
  },
  {
   "cell_type": "code",
   "execution_count": 298,
   "metadata": {
    "collapsed": true
   },
   "outputs": [],
   "source": [
    "from sklearn.model_selection import cross_val_score , cross_validate\n",
    "from sklearn.metrics import roc_auc_score, average_precision_score, roc_curve, precision_recall_curve\n",
    "from sklearn.datasets import make_classification\n",
    "from sklearn.pipeline import make_pipeline\n",
    "from sklearn.linear_model import LinearRegression\n",
    "from sklearn.linear_model import LogisticRegression\n"
   ]
  },
  {
   "cell_type": "code",
   "execution_count": 304,
   "metadata": {
    "collapsed": true
   },
   "outputs": [],
   "source": [
    "X,Y = make_classification(n_samples = 10000, n_features=3, n_informative =3 , n_redundant = 0 ,n_classes= 3, random_state=1)\n",
    "\n",
    "logis = LogisticRegression()\n",
    "\n",
    "cv_result = cross_val_score(logis,X,Y,scoring='accuracy', n_jobs=-1)"
   ]
  },
  {
   "cell_type": "markdown",
   "metadata": {},
   "source": [
    "  _macro는 클래스별 평가 점수를 평균하는 방법을 나타냄\n",
    "    \n",
    "    \n",
    "- macro: 각 클래스를 동등한 가중치로 클래스별 측정 점수를 평균.\n",
    " \n",
    "- weighted : 샘플 개수에 비례하여 각 클래스별 측정 점수를 평균\n",
    "    \n",
    "- micro : 클래스별로 TP,TN, FP, FN을 모두 더하여 계산 (- accuracy)\n"
   ]
  },
  {
   "cell_type": "code",
   "execution_count": 306,
   "metadata": {},
   "outputs": [
    {
     "data": {
      "text/plain": [
       "array([0.84061272, 0.82895312, 0.82625661, 0.81515121, 0.81992692])"
      ]
     },
     "execution_count": 306,
     "metadata": {},
     "output_type": "execute_result"
    }
   ],
   "source": [
    "# 마크로 평균 F! 점수를 사용해 교차검증을 수행.\n",
    "\n",
    "cross_val_score(logit,X,Y, scoring='f1_macro', n_jobs=-1)"
   ]
  },
  {
   "cell_type": "code",
   "execution_count": 307,
   "metadata": {},
   "outputs": [
    {
     "data": {
      "text/plain": [
       "array([0.84063166, 0.8289688 , 0.82630601, 0.8151928 , 0.81998327])"
      ]
     },
     "execution_count": 307,
     "metadata": {},
     "output_type": "execute_result"
    }
   ],
   "source": [
    "cross_val_score(logit,X,Y, scoring = 'f1_weighted',n_jobs= -1)\n",
    "\n"
   ]
  },
  {
   "cell_type": "code",
   "execution_count": 308,
   "metadata": {},
   "outputs": [
    {
     "data": {
      "text/plain": [
       "array([0.841 , 0.829 , 0.8265, 0.8155, 0.82  ])"
      ]
     },
     "execution_count": 308,
     "metadata": {},
     "output_type": "execute_result"
    }
   ],
   "source": [
    "cross_val_score(logit,X,Y,scoring = 'f1_micro',n_jobs=-1)"
   ]
  },
  {
   "cell_type": "markdown",
   "metadata": {},
   "source": [
    "# 11.7 분류기 성능 시각화하기\n",
    "\n",
    "- 테스트 데이터의 예측 클래스와 진짜 클래스를 바탕으로 모델의 품질을 시각적으로 비교 - 오차 행렬을 사용해 예측 크랠스와 진짜 클래스 비교"
   ]
  },
  {
   "cell_type": "code",
   "execution_count": 311,
   "metadata": {
    "collapsed": true
   },
   "outputs": [],
   "source": [
    "import matplotlib.pyplot as plt\n",
    "import seaborn as sns\n",
    "from sklearn import datasets\n",
    "from sklearn.linear_model import LogisticRegression\n",
    "from sklearn.model_selection import train_test_split\n",
    "\n",
    "from sklearn.metrics import confusion_matrix\n",
    "import pandas as pd \n",
    "\n",
    "iris =datasets.load_iris()\n",
    "\n",
    "X= iris.data\n",
    "Y= iris.target\n",
    "\n",
    "class_names = iris.target_names\n"
   ]
  },
  {
   "cell_type": "code",
   "execution_count": 313,
   "metadata": {},
   "outputs": [
    {
     "name": "stdout",
     "output_type": "stream",
     "text": [
      "['setosa' 'versicolor' 'virginica']\n"
     ]
    }
   ],
   "source": [
    "print(class_names)"
   ]
  },
  {
   "cell_type": "code",
   "execution_count": 314,
   "metadata": {
    "collapsed": true
   },
   "outputs": [],
   "source": [
    "X_train,X_test, Y_train,Y_test = train_test_split(X,Y,random_state=1)"
   ]
  },
  {
   "cell_type": "code",
   "execution_count": 316,
   "metadata": {},
   "outputs": [
    {
     "name": "stderr",
     "output_type": "stream",
     "text": [
      "C:\\ProgramData\\Anaconda3\\lib\\site-packages\\sklearn\\linear_model\\_logistic.py:939: ConvergenceWarning: lbfgs failed to converge (status=1):\n",
      "STOP: TOTAL NO. of ITERATIONS REACHED LIMIT.\n",
      "\n",
      "Increase the number of iterations (max_iter) or scale the data as shown in:\n",
      "    https://scikit-learn.org/stable/modules/preprocessing.html.\n",
      "Please also refer to the documentation for alternative solver options:\n",
      "    https://scikit-learn.org/stable/modules/linear_model.html#logistic-regression\n",
      "  extra_warning_msg=_LOGISTIC_SOLVER_CONVERGENCE_MSG)\n"
     ]
    }
   ],
   "source": [
    "classifier = LogisticRegression()\n",
    "\n",
    "Y_predicted = classifier.fit(X_train,Y_train).predict(X_test)"
   ]
  },
  {
   "cell_type": "code",
   "execution_count": 317,
   "metadata": {},
   "outputs": [
    {
     "data": {
      "text/plain": [
       "array([0, 1, 1, 0, 2, 1, 2, 0, 0, 2, 1, 0, 2, 1, 1, 0, 1, 1, 0, 0, 1, 1,\n",
       "       2, 0, 2, 1, 0, 0, 1, 2, 1, 2, 1, 2, 2, 0, 1, 0])"
      ]
     },
     "execution_count": 317,
     "metadata": {},
     "output_type": "execute_result"
    }
   ],
   "source": [
    "Y_predicted"
   ]
  },
  {
   "cell_type": "code",
   "execution_count": 318,
   "metadata": {
    "collapsed": true
   },
   "outputs": [],
   "source": [
    "matrix = confusion_matrix(Y_test,Y_predicted)"
   ]
  },
  {
   "cell_type": "code",
   "execution_count": 320,
   "metadata": {},
   "outputs": [
    {
     "data": {
      "text/plain": [
       "array([[13,  0,  0],\n",
       "       [ 0, 15,  1],\n",
       "       [ 0,  0,  9]], dtype=int64)"
      ]
     },
     "execution_count": 320,
     "metadata": {},
     "output_type": "execute_result"
    }
   ],
   "source": [
    "matrix"
   ]
  },
  {
   "cell_type": "code",
   "execution_count": 322,
   "metadata": {},
   "outputs": [
    {
     "data": {
      "text/html": [
       "<div>\n",
       "<style scoped>\n",
       "    .dataframe tbody tr th:only-of-type {\n",
       "        vertical-align: middle;\n",
       "    }\n",
       "\n",
       "    .dataframe tbody tr th {\n",
       "        vertical-align: top;\n",
       "    }\n",
       "\n",
       "    .dataframe thead th {\n",
       "        text-align: right;\n",
       "    }\n",
       "</style>\n",
       "<table border=\"1\" class=\"dataframe\">\n",
       "  <thead>\n",
       "    <tr style=\"text-align: right;\">\n",
       "      <th></th>\n",
       "      <th>setosa</th>\n",
       "      <th>versicolor</th>\n",
       "      <th>virginica</th>\n",
       "    </tr>\n",
       "  </thead>\n",
       "  <tbody>\n",
       "    <tr>\n",
       "      <th>setosa</th>\n",
       "      <td>13</td>\n",
       "      <td>0</td>\n",
       "      <td>0</td>\n",
       "    </tr>\n",
       "    <tr>\n",
       "      <th>versicolor</th>\n",
       "      <td>0</td>\n",
       "      <td>15</td>\n",
       "      <td>1</td>\n",
       "    </tr>\n",
       "    <tr>\n",
       "      <th>virginica</th>\n",
       "      <td>0</td>\n",
       "      <td>0</td>\n",
       "      <td>9</td>\n",
       "    </tr>\n",
       "  </tbody>\n",
       "</table>\n",
       "</div>"
      ],
      "text/plain": [
       "            setosa  versicolor  virginica\n",
       "setosa          13           0          0\n",
       "versicolor       0          15          1\n",
       "virginica        0           0          9"
      ]
     },
     "execution_count": 322,
     "metadata": {},
     "output_type": "execute_result"
    }
   ],
   "source": [
    "import pandas as pd\n",
    "\n",
    "df = pd.DataFrame(matrix, index=class_names, columns=class_names)\n",
    "df"
   ]
  },
  {
   "cell_type": "code",
   "execution_count": 324,
   "metadata": {},
   "outputs": [
    {
     "data": {
      "image/png": "[encoded data removed]",
      "text/plain": [
       "<matplotlib.figure.Figure at 0x21071923390>"
      ]
     },
     "metadata": {},
     "output_type": "display_data"
    }
   ],
   "source": [
    "# 히트맵 생성\n",
    "\n",
    "sns.heatmap(df, annot=True, cbar =None, cmap='Blues') # 데이터 프레임 사용!\n",
    "plt.title('Confusion matrix')\n",
    "plt.xlabel('Predicted Class')\n",
    "plt.ylabel(\"True class\")\n",
    "plt.show()"
   ]
  },
  {
   "cell_type": "code",
   "execution_count": 327,
   "metadata": {},
   "outputs": [
    {
     "data": {
      "image/png": "[encoded data removed]",
      "text/plain": [
       "<matplotlib.figure.Figure at 0x21071a28b38>"
      ]
     },
     "metadata": {},
     "output_type": "display_data"
    }
   ],
   "source": [
    "sns.heatmap(df, annot=True, cbar =True, cmap='Blues')\n",
    "plt.show()\n"
   ]
  },
  {
   "cell_type": "code",
   "execution_count": 331,
   "metadata": {},
   "outputs": [
    {
     "data": {
      "image/png": "[encoded data removed]",
      "text/plain": [
       "<matplotlib.figure.Figure at 0x21071ba4080>"
      ]
     },
     "metadata": {},
     "output_type": "display_data"
    }
   ],
   "source": [
    "sns.heatmap(df, cbar=False, annot=True, cmap = 'Greys')\n",
    "plt.show()"
   ]
  },
  {
   "cell_type": "markdown",
   "metadata": {},
   "source": [
    "오차 행렬에서 row는 진짜 클래스 col은 예측 클래스 즉 대각선이 값이 제대로 된 예측을 한거 !! \n",
    "\n",
    "오차 행렬에 대한 세가지 언급\n",
    "\n",
    "1. 완벽한 모델은 대각선에만 값이 있고 나머지는 모두 0. 나쁜 모델은 모든 셀에 고르게 샘플들이 퍼짐.\n",
    "\n",
    "2. 오차 행렬은 모델이 나쁘다는 것뿐만 아니라 어떻게 나쁜지도 알려줌. 즉 잘못 분류된 패턴을 확인 가능 \n",
    " ex) 대각선 아닌부분 잘못 분류된 패턴 확인\n",
    "\n",
    "3. 오차 행렬은 다중 클래스 환경에도 잘 작동.(but,타깃 벡터에 백만 개의 클래스가 있다면 오차 행렬을 그래프로 나타내기 어려움)\n",
    "\n",
    "\n",
    "\n",
    "\n",
    "\n",
    "\n",
    "\n",
    "\n",
    "\n",
    "\n",
    "- 오차 행렬(http://bit.ly/2FuGKaP)\n",
    "- 사이킷런 문서: 오차 행렬(http://bit.ly/2DmnICk)"
   ]
  },
  {
   "cell_type": "markdown",
   "metadata": {},
   "source": [
    "# 11.8 회귀 모델 평가하기\n",
    "\n",
    "- 회귀 모델의 성능을 평가 - MSE 사용"
   ]
  },
  {
   "cell_type": "code",
   "execution_count": 339,
   "metadata": {
    "collapsed": true
   },
   "outputs": [],
   "source": [
    "from sklearn.metrics import mean_squared_error\n",
    "from sklearn.datasets import make_regression\n",
    "from sklearn.model_selection import cross_val_score\n",
    "from sklearn.linear_model import LinearRegression\n",
    "\n",
    "X,Y = make_regression(n_samples =10000, n_features=3, n_informative= 3, coef= False, random_state= 1, n_targets= 1 ,noise=50)"
   ]
  },
  {
   "cell_type": "code",
   "execution_count": 343,
   "metadata": {},
   "outputs": [
    {
     "data": {
      "text/plain": [
       "2506.5453918059266"
      ]
     },
     "execution_count": 343,
     "metadata": {},
     "output_type": "execute_result"
    }
   ],
   "source": [
    "ols = LinearRegression()\n",
    "\n",
    "model = ols.fit(X,Y)\n",
    "\n",
    "pred = model.predict(X)\n",
    "\n",
    "mean_squared_error(Y,pred)"
   ]
  },
  {
   "cell_type": "code",
   "execution_count": 348,
   "metadata": {
    "collapsed": true
   },
   "outputs": [],
   "source": [
    "cv_result=cross_val_score(model,X,Y,scoring='neg_mean_squared_error')"
   ]
  },
  {
   "cell_type": "code",
   "execution_count": 349,
   "metadata": {},
   "outputs": [
    {
     "data": {
      "text/plain": [
       "-2508.195292380271"
      ]
     },
     "execution_count": 349,
     "metadata": {},
     "output_type": "execute_result"
    }
   ],
   "source": [
    "cv_result.mean()"
   ]
  },
  {
   "cell_type": "code",
   "execution_count": 351,
   "metadata": {
    "collapsed": true
   },
   "outputs": [],
   "source": [
    "# 자주 사용하는 또 다른 회귀 지표 결정계수 R2 \n",
    "\n",
    "cv_result2=cross_val_score(ols,X,Y, scoring='r2')"
   ]
  },
  {
   "cell_type": "code",
   "execution_count": 352,
   "metadata": {},
   "outputs": [
    {
     "data": {
      "text/plain": [
       "0.7578096826810681"
      ]
     },
     "execution_count": 352,
     "metadata": {},
     "output_type": "execute_result"
    }
   ],
   "source": [
    "cv_result2.mean()"
   ]
  },
  {
   "cell_type": "markdown",
   "metadata": {},
   "source": [
    "# 11.9 군집 모델 평가"
   ]
  },
  {
   "cell_type": "code",
   "execution_count": 355,
   "metadata": {
    "collapsed": true
   },
   "outputs": [],
   "source": [
    "from sklearn.metrics import silhouette_score\n",
    "from sklearn import datasets\n",
    "from sklearn.cluster import KMeans\n",
    "from sklearn.datasets import make_blobs"
   ]
  },
  {
   "cell_type": "code",
   "execution_count": 357,
   "metadata": {
    "collapsed": true
   },
   "outputs": [],
   "source": [
    "X, _ = make_blobs(n_samples= 1000, n_features= 10 , centers= 2 ,cluster_std= 0.5, shuffle = True, random_state=1)"
   ]
  },
  {
   "cell_type": "code",
   "execution_count": 359,
   "metadata": {},
   "outputs": [
    {
     "data": {
      "text/plain": [
       "(1000, 10)"
      ]
     },
     "execution_count": 359,
     "metadata": {},
     "output_type": "execute_result"
    }
   ],
   "source": [
    "X.shape"
   ]
  },
  {
   "cell_type": "code",
   "execution_count": 361,
   "metadata": {},
   "outputs": [
    {
     "data": {
      "text/plain": [
       "KMeans(algorithm='auto', copy_x=True, init='k-means++', max_iter=300,\n",
       "       n_clusters=2, n_init=10, n_jobs=None, precompute_distances='auto',\n",
       "       random_state=1, tol=0.0001, verbose=0)"
      ]
     },
     "execution_count": 361,
     "metadata": {},
     "output_type": "execute_result"
    }
   ],
   "source": [
    "# K-Means 를 사용해 데이터를 클러스터링 하고 클래스를 예측\n",
    "\n",
    "km = KMeans(n_clusters=2, random_state=1).fit(X)\n",
    "\n",
    "km"
   ]
  },
  {
   "cell_type": "code",
   "execution_count": 363,
   "metadata": {},
   "outputs": [
    {
     "data": {
      "text/plain": [
       "array([0, 0, 0, 0, 0, 1, 0, 0, 1, 0, 0, 0, 1, 1, 1, 1, 0, 1, 1, 1, 1, 0,\n",
       "       1, 1, 0, 1, 0, 1, 0, 0, 0, 1, 0, 1, 0, 0, 1, 0, 0, 1, 0, 1, 0, 0,\n",
       "       0, 0, 1, 1, 1, 1, 1, 0, 0, 0, 1, 0, 1, 0, 1, 1, 1, 1, 0, 0, 0, 0,\n",
       "       0, 1, 0, 1, 0, 1, 0, 1, 1, 0, 0, 1, 0, 0, 0, 0, 0, 1, 0, 0, 0, 0,\n",
       "       0, 1, 1, 0, 1, 1, 1, 1, 0, 0, 0, 1, 0, 1, 1, 0, 0, 1, 1, 0, 1, 0,\n",
       "       1, 1, 1, 1, 1, 1, 0, 0, 0, 1, 0, 1, 0, 0, 1, 1, 1, 1, 0, 0, 1, 1,\n",
       "       0, 1, 0, 0, 1, 1, 1, 1, 1, 1, 0, 0, 1, 1, 1, 0, 1, 1, 0, 1, 1, 1,\n",
       "       0, 1, 1, 0, 0, 1, 1, 0, 0, 0, 1, 0, 0, 0, 0, 1, 0, 0, 0, 0, 1, 0,\n",
       "       1, 0, 1, 1, 0, 1, 0, 1, 0, 0, 1, 1, 0, 1, 1, 1, 1, 0, 0, 0, 1, 1,\n",
       "       0, 0, 1, 1, 0, 1, 0, 0, 0, 1, 1, 0, 1, 1, 0, 0, 0, 0, 0, 1, 1, 0,\n",
       "       0, 1, 1, 1, 1, 0, 1, 0, 0, 0, 1, 1, 1, 1, 0, 0, 0, 0, 0, 1, 1, 1,\n",
       "       1, 0, 1, 1, 1, 0, 1, 1, 0, 1, 1, 1, 0, 1, 1, 1, 1, 1, 0, 0, 1, 1,\n",
       "       1, 1, 1, 0, 0, 1, 0, 0, 0, 1, 0, 0, 1, 1, 0, 1, 1, 0, 0, 1, 1, 1,\n",
       "       0, 1, 1, 1, 1, 1, 1, 1, 1, 0, 0, 1, 0, 0, 0, 0, 1, 0, 0, 0, 0, 0,\n",
       "       0, 0, 1, 1, 1, 0, 1, 0, 1, 0, 1, 0, 0, 1, 1, 0, 1, 1, 0, 1, 0, 1,\n",
       "       1, 0, 1, 0, 1, 0, 0, 1, 1, 1, 1, 1, 0, 1, 0, 1, 1, 0, 0, 0, 0, 1,\n",
       "       0, 0, 0, 1, 1, 0, 0, 0, 0, 0, 1, 1, 0, 1, 1, 1, 1, 1, 0, 0, 1, 0,\n",
       "       0, 1, 0, 0, 1, 1, 1, 0, 0, 0, 0, 0, 1, 1, 1, 1, 0, 1, 1, 1, 1, 1,\n",
       "       0, 1, 1, 1, 1, 0, 0, 1, 1, 1, 1, 0, 0, 1, 1, 1, 0, 1, 1, 1, 1, 1,\n",
       "       1, 1, 1, 1, 1, 0, 1, 0, 0, 1, 0, 0, 1, 0, 0, 0, 1, 0, 0, 0, 1, 1,\n",
       "       0, 0, 0, 0, 1, 0, 0, 0, 0, 1, 0, 0, 0, 1, 0, 1, 0, 0, 0, 1, 0, 0,\n",
       "       0, 1, 0, 0, 1, 0, 0, 1, 0, 0, 0, 0, 1, 0, 1, 0, 1, 1, 1, 0, 1, 0,\n",
       "       0, 0, 0, 0, 1, 0, 0, 1, 0, 1, 0, 1, 0, 0, 1, 0, 1, 1, 1, 0, 1, 0,\n",
       "       0, 0, 1, 1, 0, 0, 0, 0, 0, 1, 1, 0, 0, 1, 1, 0, 0, 1, 0, 1, 1, 1,\n",
       "       0, 0, 0, 1, 0, 1, 0, 0, 0, 0, 0, 0, 0, 0, 1, 1, 1, 0, 0, 0, 0, 1,\n",
       "       1, 0, 1, 0, 0, 1, 1, 0, 1, 0, 0, 0, 1, 0, 0, 1, 1, 0, 0, 1, 0, 1,\n",
       "       1, 1, 0, 0, 0, 1, 0, 0, 1, 0, 0, 0, 0, 1, 1, 1, 0, 0, 1, 0, 1, 1,\n",
       "       1, 1, 1, 1, 1, 0, 0, 0, 0, 1, 1, 1, 1, 1, 1, 1, 1, 0, 0, 1, 0, 1,\n",
       "       1, 0, 0, 1, 1, 1, 0, 1, 1, 1, 1, 1, 0, 1, 0, 1, 1, 0, 1, 0, 0, 1,\n",
       "       0, 0, 1, 1, 1, 1, 1, 0, 1, 1, 0, 0, 0, 1, 0, 0, 1, 0, 1, 1, 1, 0,\n",
       "       0, 1, 0, 1, 0, 0, 1, 0, 1, 0, 1, 0, 0, 1, 0, 1, 0, 0, 1, 0, 1, 1,\n",
       "       1, 1, 0, 0, 1, 1, 1, 0, 0, 0, 0, 0, 1, 1, 1, 1, 0, 0, 0, 0, 1, 1,\n",
       "       0, 0, 1, 1, 1, 1, 1, 1, 1, 0, 0, 0, 0, 0, 0, 1, 1, 1, 0, 0, 1, 0,\n",
       "       1, 0, 1, 1, 1, 1, 0, 0, 1, 1, 1, 0, 1, 1, 1, 0, 1, 1, 1, 0, 0, 0,\n",
       "       1, 1, 0, 0, 1, 0, 1, 1, 0, 1, 1, 1, 0, 1, 0, 1, 0, 0, 0, 1, 0, 1,\n",
       "       1, 0, 0, 1, 0, 0, 1, 0, 1, 0, 1, 1, 0, 0, 1, 0, 0, 1, 1, 1, 1, 0,\n",
       "       0, 0, 1, 1, 0, 1, 0, 1, 1, 0, 1, 0, 1, 1, 0, 0, 0, 1, 0, 0, 0, 1,\n",
       "       1, 0, 0, 1, 1, 0, 1, 1, 0, 1, 0, 1, 0, 1, 1, 1, 0, 1, 0, 1, 1, 1,\n",
       "       1, 0, 0, 1, 0, 0, 0, 1, 0, 0, 0, 1, 0, 1, 0, 0, 1, 1, 0, 0, 1, 0,\n",
       "       1, 1, 1, 0, 1, 0, 1, 0, 0, 0, 0, 0, 0, 0, 0, 0, 1, 1, 1, 0, 1, 0,\n",
       "       1, 1, 1, 0, 0, 0, 0, 1, 1, 1, 1, 1, 0, 1, 1, 1, 0, 1, 0, 0, 1, 1,\n",
       "       1, 0, 0, 0, 0, 0, 1, 1, 0, 0, 1, 1, 0, 0, 1, 1, 1, 1, 0, 1, 0, 0,\n",
       "       1, 0, 1, 1, 1, 0, 0, 1, 1, 0, 0, 0, 0, 1, 1, 0, 1, 0, 0, 0, 0, 0,\n",
       "       1, 1, 0, 1, 0, 1, 0, 0, 0, 0, 0, 0, 1, 0, 0, 0, 0, 1, 1, 1, 0, 1,\n",
       "       1, 1, 0, 0, 1, 1, 0, 0, 0, 1, 1, 0, 1, 1, 0, 0, 0, 1, 1, 1, 1, 0,\n",
       "       0, 0, 1, 1, 1, 1, 0, 0, 0, 1])"
      ]
     },
     "execution_count": 363,
     "metadata": {},
     "output_type": "execute_result"
    }
   ],
   "source": [
    "pred = km.predict(X)\n",
    "pred"
   ]
  },
  {
   "cell_type": "code",
   "execution_count": 368,
   "metadata": {},
   "outputs": [
    {
     "data": {
      "text/plain": [
       "0.8916265564072142"
      ]
     },
     "execution_count": 368,
     "metadata": {},
     "output_type": "execute_result"
    }
   ],
   "source": [
    "# 모델을 평가\n",
    "\n",
    "silhouette_score(X,pred)"
   ]
  },
  {
   "cell_type": "markdown",
   "metadata": {},
   "source": [
    "# 11.10 사용자 정의 평가 지표 만들기\n",
    "\n",
    "- 자신만의 지표를 사용해 모델을 평가 - 평가 방법을 함수로 만들고 make_scorer 함수를 사용해 스코어 함수로 변환\n",
    "\n"
   ]
  },
  {
   "cell_type": "code",
   "execution_count": 2,
   "metadata": {
    "collapsed": true
   },
   "outputs": [],
   "source": [
    "\n",
    "from sklearn.linear_model import Ridge\n",
    "from sklearn.model_selection import train_test_split\n",
    "from sklearn.datasets import make_regression\n",
    "\n",
    "from sklearn.metrics import r2_score,make_scorer"
   ]
  },
  {
   "cell_type": "code",
   "execution_count": 5,
   "metadata": {},
   "outputs": [
    {
     "data": {
      "text/plain": [
       "0.9999999872133806"
      ]
     },
     "execution_count": 5,
     "metadata": {},
     "output_type": "execute_result"
    }
   ],
   "source": [
    "X,Y = make_regression(n_samples= 10000, n_features= 3 , random_state= 1)\n",
    "\n",
    "X_train,X_test, Y_train, Y_test = train_test_split(X,Y,random_state = 1 , test_size= 0.1)\n",
    "\n",
    "def custom_scorer(Y_test,Y_pred):\n",
    "    r2 = r2_score(Y_test,Y_pred)\n",
    "    return r2\n",
    "\n",
    "\n",
    "\n",
    "rid = Ridge()\n",
    "\n",
    "model= rid.fit(X_train,Y_train)\n",
    "\n",
    "pred = model.predict(X_test)\n",
    "\n",
    "score = make_scorer(custom_scorer,greater_is_better = True)\n",
    "\n",
    "score(model, X_test,Y_test)"
   ]
  },
  {
   "cell_type": "code",
   "execution_count": 6,
   "metadata": {},
   "outputs": [
    {
     "data": {
      "text/plain": [
       "-0.9999999872133806"
      ]
     },
     "execution_count": 6,
     "metadata": {},
     "output_type": "execute_result"
    }
   ],
   "source": [
    "X,Y = make_regression(n_samples= 10000, n_features= 3 , random_state= 1)\n",
    "\n",
    "X_train,X_test, Y_train, Y_test = train_test_split(X,Y,random_state = 1 , test_size= 0.1)\n",
    "\n",
    "def custom_scorer(Y_test,Y_pred):\n",
    "    r2 = r2_score(Y_test,Y_pred)\n",
    "    return r2\n",
    "\n",
    "\n",
    "\n",
    "rid = Ridge()\n",
    "\n",
    "model= rid.fit(X_train,Y_train)\n",
    "\n",
    "pred = model.predict(X_test)\n",
    "\n",
    "score = make_scorer(custom_scorer,greater_is_better = False)\n",
    "\n",
    "score(model, X_test,Y_test)"
   ]
  },
  {
   "cell_type": "markdown",
   "metadata": {},
   "source": [
    "# 11.11 훈련 세트 크기에 따른 영향을 시각화하기\n",
    "\n",
    "-어떤 측정 지표(정확도,F1 등)로 훈련세트에 있는 샘플 개수에 따른 영향을 평가 -학습 곡선을 그림."
   ]
  },
  {
   "cell_type": "code",
   "execution_count": 7,
   "metadata": {
    "collapsed": true
   },
   "outputs": [],
   "source": [
    "import numpy as np\n",
    "import matplotlib.pyplot as plt\n",
    "\n",
    "from sklearn.model_selection import learning_curve\n",
    "from sklearn.ensemble import RandomForestClassifier\n",
    "from sklearn.datasets import load_digits\n",
    "\n",
    "digits = load_digits()\n",
    "X= digits.data\n",
    "Y= digits.target\n",
    "\n"
   ]
  },
  {
   "cell_type": "code",
   "execution_count": 8,
   "metadata": {},
   "outputs": [
    {
     "data": {
      "text/plain": [
       "array([[ 0.,  0.,  5., ...,  0.,  0.,  0.],\n",
       "       [ 0.,  0.,  0., ..., 10.,  0.,  0.],\n",
       "       [ 0.,  0.,  0., ..., 16.,  9.,  0.],\n",
       "       ...,\n",
       "       [ 0.,  0.,  1., ...,  6.,  0.,  0.],\n",
       "       [ 0.,  0.,  2., ..., 12.,  0.,  0.],\n",
       "       [ 0.,  0., 10., ..., 12.,  1.,  0.]])"
      ]
     },
     "execution_count": 8,
     "metadata": {},
     "output_type": "execute_result"
    }
   ],
   "source": [
    "X"
   ]
  },
  {
   "cell_type": "code",
   "execution_count": 22,
   "metadata": {},
   "outputs": [
    {
     "data": {
      "text/plain": [
       "(1797,)"
      ]
     },
     "execution_count": 22,
     "metadata": {},
     "output_type": "execute_result"
    }
   ],
   "source": [
    "Y.shape"
   ]
  },
  {
   "cell_type": "code",
   "execution_count": 31,
   "metadata": {
    "collapsed": true
   },
   "outputs": [],
   "source": [
    "train_sizes, train_scores, test_scores = learning_curve(RandomForestClassifier(), X,Y,cv=10,scoring='accuracy', n_jobs= -1,\n",
    "                                                       train_sizes= np.linspace(0.01,1.0,50))"
   ]
  },
  {
   "cell_type": "code",
   "execution_count": 33,
   "metadata": {},
   "outputs": [
    {
     "data": {
      "text/plain": [
       "array([  16,   48,   81,  114,  146,  179,  212,  244,  277,  310,  342,\n",
       "        375,  408,  440,  473,  506,  538,  571,  604,  636,  669,  702,\n",
       "        734,  767,  800,  832,  865,  898,  930,  963,  996, 1028, 1061,\n",
       "       1094, 1126, 1159, 1192, 1224, 1257, 1290, 1322, 1355, 1388, 1420,\n",
       "       1453, 1486, 1518, 1551, 1584, 1617])"
      ]
     },
     "execution_count": 33,
     "metadata": {},
     "output_type": "execute_result"
    }
   ],
   "source": [
    "train_sizes"
   ]
  },
  {
   "cell_type": "code",
   "execution_count": 34,
   "metadata": {},
   "outputs": [
    {
     "data": {
      "text/plain": [
       "array([[1., 1., 1., 1., 1., 1., 1., 1., 1., 1.],\n",
       "       [1., 1., 1., 1., 1., 1., 1., 1., 1., 1.],\n",
       "       [1., 1., 1., 1., 1., 1., 1., 1., 1., 1.],\n",
       "       [1., 1., 1., 1., 1., 1., 1., 1., 1., 1.],\n",
       "       [1., 1., 1., 1., 1., 1., 1., 1., 1., 1.],\n",
       "       [1., 1., 1., 1., 1., 1., 1., 1., 1., 1.],\n",
       "       [1., 1., 1., 1., 1., 1., 1., 1., 1., 1.],\n",
       "       [1., 1., 1., 1., 1., 1., 1., 1., 1., 1.],\n",
       "       [1., 1., 1., 1., 1., 1., 1., 1., 1., 1.],\n",
       "       [1., 1., 1., 1., 1., 1., 1., 1., 1., 1.],\n",
       "       [1., 1., 1., 1., 1., 1., 1., 1., 1., 1.],\n",
       "       [1., 1., 1., 1., 1., 1., 1., 1., 1., 1.],\n",
       "       [1., 1., 1., 1., 1., 1., 1., 1., 1., 1.],\n",
       "       [1., 1., 1., 1., 1., 1., 1., 1., 1., 1.],\n",
       "       [1., 1., 1., 1., 1., 1., 1., 1., 1., 1.],\n",
       "       [1., 1., 1., 1., 1., 1., 1., 1., 1., 1.],\n",
       "       [1., 1., 1., 1., 1., 1., 1., 1., 1., 1.],\n",
       "       [1., 1., 1., 1., 1., 1., 1., 1., 1., 1.],\n",
       "       [1., 1., 1., 1., 1., 1., 1., 1., 1., 1.],\n",
       "       [1., 1., 1., 1., 1., 1., 1., 1., 1., 1.],\n",
       "       [1., 1., 1., 1., 1., 1., 1., 1., 1., 1.],\n",
       "       [1., 1., 1., 1., 1., 1., 1., 1., 1., 1.],\n",
       "       [1., 1., 1., 1., 1., 1., 1., 1., 1., 1.],\n",
       "       [1., 1., 1., 1., 1., 1., 1., 1., 1., 1.],\n",
       "       [1., 1., 1., 1., 1., 1., 1., 1., 1., 1.],\n",
       "       [1., 1., 1., 1., 1., 1., 1., 1., 1., 1.],\n",
       "       [1., 1., 1., 1., 1., 1., 1., 1., 1., 1.],\n",
       "       [1., 1., 1., 1., 1., 1., 1., 1., 1., 1.],\n",
       "       [1., 1., 1., 1., 1., 1., 1., 1., 1., 1.],\n",
       "       [1., 1., 1., 1., 1., 1., 1., 1., 1., 1.],\n",
       "       [1., 1., 1., 1., 1., 1., 1., 1., 1., 1.],\n",
       "       [1., 1., 1., 1., 1., 1., 1., 1., 1., 1.],\n",
       "       [1., 1., 1., 1., 1., 1., 1., 1., 1., 1.],\n",
       "       [1., 1., 1., 1., 1., 1., 1., 1., 1., 1.],\n",
       "       [1., 1., 1., 1., 1., 1., 1., 1., 1., 1.],\n",
       "       [1., 1., 1., 1., 1., 1., 1., 1., 1., 1.],\n",
       "       [1., 1., 1., 1., 1., 1., 1., 1., 1., 1.],\n",
       "       [1., 1., 1., 1., 1., 1., 1., 1., 1., 1.],\n",
       "       [1., 1., 1., 1., 1., 1., 1., 1., 1., 1.],\n",
       "       [1., 1., 1., 1., 1., 1., 1., 1., 1., 1.],\n",
       "       [1., 1., 1., 1., 1., 1., 1., 1., 1., 1.],\n",
       "       [1., 1., 1., 1., 1., 1., 1., 1., 1., 1.],\n",
       "       [1., 1., 1., 1., 1., 1., 1., 1., 1., 1.],\n",
       "       [1., 1., 1., 1., 1., 1., 1., 1., 1., 1.],\n",
       "       [1., 1., 1., 1., 1., 1., 1., 1., 1., 1.],\n",
       "       [1., 1., 1., 1., 1., 1., 1., 1., 1., 1.],\n",
       "       [1., 1., 1., 1., 1., 1., 1., 1., 1., 1.],\n",
       "       [1., 1., 1., 1., 1., 1., 1., 1., 1., 1.],\n",
       "       [1., 1., 1., 1., 1., 1., 1., 1., 1., 1.],\n",
       "       [1., 1., 1., 1., 1., 1., 1., 1., 1., 1.]])"
      ]
     },
     "execution_count": 34,
     "metadata": {},
     "output_type": "execute_result"
    }
   ],
   "source": [
    "train_scores"
   ]
  },
  {
   "cell_type": "code",
   "execution_count": 35,
   "metadata": {},
   "outputs": [
    {
     "data": {
      "text/plain": [
       "array([[0.58333333, 0.64444444, 0.53888889, 0.42222222, 0.48888889,\n",
       "        0.49444444, 0.61666667, 0.58100559, 0.44692737, 0.5027933 ],\n",
       "       [0.77777778, 0.76111111, 0.7       , 0.57222222, 0.65      ,\n",
       "        0.63333333, 0.74444444, 0.73184358, 0.54189944, 0.75418994],\n",
       "       [0.82222222, 0.82222222, 0.66111111, 0.57222222, 0.68333333,\n",
       "        0.74444444, 0.82222222, 0.74860335, 0.70949721, 0.74860335],\n",
       "       [0.88333333, 0.83888889, 0.74444444, 0.59444444, 0.73888889,\n",
       "        0.77222222, 0.86111111, 0.82681564, 0.75418994, 0.81005587],\n",
       "       [0.87777778, 0.85555556, 0.77222222, 0.55      , 0.72222222,\n",
       "        0.75555556, 0.82777778, 0.80446927, 0.7877095 , 0.79329609],\n",
       "       [0.88333333, 0.88333333, 0.75      , 0.60555556, 0.72222222,\n",
       "        0.74444444, 0.82222222, 0.82681564, 0.79329609, 0.75977654],\n",
       "       [0.87777778, 0.93888889, 0.76666667, 0.63888889, 0.74444444,\n",
       "        0.72777778, 0.86111111, 0.81005587, 0.78212291, 0.77094972],\n",
       "       [0.87222222, 0.92777778, 0.77222222, 0.63333333, 0.76666667,\n",
       "        0.75555556, 0.83333333, 0.83240223, 0.75977654, 0.7877095 ],\n",
       "       [0.87222222, 0.94444444, 0.76111111, 0.7       , 0.78333333,\n",
       "        0.77222222, 0.90555556, 0.83240223, 0.83240223, 0.76536313],\n",
       "       [0.87777778, 0.94444444, 0.80555556, 0.72222222, 0.82222222,\n",
       "        0.83333333, 0.90555556, 0.86592179, 0.84916201, 0.80446927],\n",
       "       [0.86666667, 0.93888889, 0.81666667, 0.69444444, 0.85      ,\n",
       "        0.82222222, 0.93333333, 0.91061453, 0.8547486 , 0.83240223],\n",
       "       [0.86111111, 0.94444444, 0.83888889, 0.75555556, 0.87777778,\n",
       "        0.85      , 0.94444444, 0.9273743 , 0.84916201, 0.8547486 ],\n",
       "       [0.86111111, 0.93888889, 0.88333333, 0.75      , 0.86666667,\n",
       "        0.86111111, 0.96666667, 0.94413408, 0.88826816, 0.87150838],\n",
       "       [0.87222222, 0.92777778, 0.88888889, 0.73333333, 0.85      ,\n",
       "        0.85      , 0.94444444, 0.93854749, 0.89944134, 0.87150838],\n",
       "       [0.86111111, 0.92777778, 0.89444444, 0.77222222, 0.88333333,\n",
       "        0.87777778, 0.95555556, 0.95530726, 0.92178771, 0.86592179],\n",
       "       [0.86666667, 0.91666667, 0.88888889, 0.79444444, 0.87777778,\n",
       "        0.88333333, 0.95      , 0.93296089, 0.9273743 , 0.8603352 ],\n",
       "       [0.86111111, 0.93888889, 0.89444444, 0.84444444, 0.90555556,\n",
       "        0.93888889, 0.93333333, 0.93854749, 0.89944134, 0.87150838],\n",
       "       [0.87777778, 0.97222222, 0.89444444, 0.90555556, 0.88333333,\n",
       "        0.93888889, 0.95      , 0.94413408, 0.93296089, 0.88826816],\n",
       "       [0.88333333, 0.95555556, 0.88888889, 0.91111111, 0.87222222,\n",
       "        0.94444444, 0.93333333, 0.95530726, 0.92178771, 0.89385475],\n",
       "       [0.86666667, 0.95      , 0.9       , 0.91666667, 0.88333333,\n",
       "        0.92777778, 0.95555556, 0.94413408, 0.93296089, 0.88826816],\n",
       "       [0.85      , 0.96666667, 0.89444444, 0.93888889, 0.94444444,\n",
       "        0.95      , 0.94444444, 0.93296089, 0.89944134, 0.91061453],\n",
       "       [0.85555556, 0.95555556, 0.89444444, 0.92777778, 0.93333333,\n",
       "        0.93333333, 0.95      , 0.93854749, 0.88268156, 0.92178771],\n",
       "       [0.87777778, 0.96111111, 0.88888889, 0.92222222, 0.94444444,\n",
       "        0.93888889, 0.95555556, 0.94413408, 0.88268156, 0.91620112],\n",
       "       [0.87222222, 0.96111111, 0.90555556, 0.93333333, 0.95      ,\n",
       "        0.93333333, 0.95      , 0.94972067, 0.89385475, 0.9273743 ],\n",
       "       [0.86666667, 0.97222222, 0.91666667, 0.92222222, 0.95      ,\n",
       "        0.95      , 0.95      , 0.93854749, 0.88268156, 0.93296089],\n",
       "       [0.87222222, 0.95      , 0.91666667, 0.92222222, 0.94444444,\n",
       "        0.93888889, 0.95      , 0.92178771, 0.90502793, 0.92178771],\n",
       "       [0.85555556, 0.96666667, 0.93333333, 0.91111111, 0.95555556,\n",
       "        0.94444444, 0.95555556, 0.93854749, 0.88268156, 0.93296089],\n",
       "       [0.87222222, 0.96111111, 0.91666667, 0.93333333, 0.95555556,\n",
       "        0.95555556, 0.95555556, 0.93296089, 0.87709497, 0.9273743 ],\n",
       "       [0.86111111, 0.95555556, 0.92222222, 0.90555556, 0.93888889,\n",
       "        0.94444444, 0.95555556, 0.93854749, 0.88268156, 0.91620112],\n",
       "       [0.87777778, 0.95555556, 0.92222222, 0.91111111, 0.96111111,\n",
       "        0.95555556, 0.97777778, 0.94413408, 0.88826816, 0.92178771],\n",
       "       [0.87222222, 0.96111111, 0.91111111, 0.92222222, 0.95555556,\n",
       "        0.94444444, 0.96666667, 0.93854749, 0.88826816, 0.91061453],\n",
       "       [0.9       , 0.96666667, 0.93888889, 0.91666667, 0.94444444,\n",
       "        0.96111111, 0.96111111, 0.93854749, 0.87709497, 0.92178771],\n",
       "       [0.87222222, 0.96111111, 0.92222222, 0.90555556, 0.93888889,\n",
       "        0.96111111, 0.96111111, 0.93854749, 0.89385475, 0.9273743 ],\n",
       "       [0.88333333, 0.96666667, 0.92777778, 0.92777778, 0.95      ,\n",
       "        0.95      , 0.96111111, 0.94413408, 0.89385475, 0.91061453],\n",
       "       [0.9       , 0.96666667, 0.92777778, 0.91666667, 0.96111111,\n",
       "        0.96111111, 0.96666667, 0.94972067, 0.87150838, 0.92178771],\n",
       "       [0.87222222, 0.97222222, 0.91666667, 0.91111111, 0.94444444,\n",
       "        0.95555556, 0.96666667, 0.95530726, 0.88268156, 0.91061453],\n",
       "       [0.87777778, 0.96666667, 0.91111111, 0.92222222, 0.95555556,\n",
       "        0.94444444, 0.98333333, 0.94413408, 0.89944134, 0.91061453],\n",
       "       [0.89444444, 0.97222222, 0.92222222, 0.92222222, 0.94444444,\n",
       "        0.94444444, 0.96111111, 0.94413408, 0.90502793, 0.92178771],\n",
       "       [0.88333333, 0.96666667, 0.92777778, 0.91666667, 0.94444444,\n",
       "        0.95      , 0.96666667, 0.95530726, 0.87709497, 0.91061453],\n",
       "       [0.9       , 0.96666667, 0.96111111, 0.92777778, 0.96666667,\n",
       "        0.95555556, 0.97222222, 0.96089385, 0.91061453, 0.92178771],\n",
       "       [0.87777778, 0.96666667, 0.96666667, 0.91111111, 0.95555556,\n",
       "        0.95      , 0.95555556, 0.95530726, 0.92178771, 0.92178771],\n",
       "       [0.87777778, 0.96111111, 0.96111111, 0.91666667, 0.95555556,\n",
       "        0.97222222, 0.96666667, 0.96089385, 0.92178771, 0.91620112],\n",
       "       [0.88888889, 0.96111111, 0.96666667, 0.91666667, 0.95555556,\n",
       "        0.96666667, 0.97222222, 0.95530726, 0.90502793, 0.92178771],\n",
       "       [0.88888889, 0.96666667, 0.96666667, 0.92222222, 0.95555556,\n",
       "        0.96111111, 0.99444444, 0.95530726, 0.92178771, 0.9273743 ],\n",
       "       [0.9       , 0.97222222, 0.94444444, 0.92777778, 0.95555556,\n",
       "        0.96111111, 0.97222222, 0.97765363, 0.93854749, 0.92178771],\n",
       "       [0.88333333, 0.97222222, 0.93333333, 0.93333333, 0.95      ,\n",
       "        0.95555556, 0.98333333, 0.96089385, 0.93296089, 0.93854749],\n",
       "       [0.9       , 0.96111111, 0.93333333, 0.92777778, 0.96111111,\n",
       "        0.97222222, 0.97222222, 0.96089385, 0.93296089, 0.9273743 ],\n",
       "       [0.88888889, 0.96666667, 0.92777778, 0.95      , 0.95      ,\n",
       "        0.95555556, 0.97777778, 0.96089385, 0.93296089, 0.91620112],\n",
       "       [0.9       , 0.97777778, 0.93888889, 0.93888889, 0.96111111,\n",
       "        0.97222222, 0.97222222, 0.97765363, 0.9273743 , 0.91620112],\n",
       "       [0.90555556, 0.96666667, 0.91666667, 0.92222222, 0.95555556,\n",
       "        0.97222222, 0.97777778, 0.96648045, 0.94413408, 0.94972067]])"
      ]
     },
     "execution_count": 35,
     "metadata": {},
     "output_type": "execute_result"
    }
   ],
   "source": [
    "test_scores"
   ]
  },
  {
   "cell_type": "code",
   "execution_count": 32,
   "metadata": {
    "collapsed": true
   },
   "outputs": [],
   "source": [
    "# 훈련 세트 점수의 평균과 표준편차를 계산\n",
    "\n",
    "train_mean = np.mean(train_scores, axis =1)\n",
    "train_std = np.std(train_scores, axis= 1)\n",
    "\n",
    "test_mean = np.mean(test_scores , axis=1)\n",
    "test_std = np.std(test_scores, axis=1)"
   ]
  },
  {
   "cell_type": "code",
   "execution_count": 37,
   "metadata": {},
   "outputs": [
    {
     "data": {
      "image/png": "[encoded data removed]",
      "text/plain": [
       "<matplotlib.figure.Figure at 0x2273cf9dcf8>"
      ]
     },
     "metadata": {},
     "output_type": "display_data"
    }
   ],
   "source": [
    "plt.plot(train_sizes, train_mean, '--', color='b', label='Training score')\n",
    "plt.plot(train_sizes, test_mean, color='g', label='cross_validation score')\n",
    "plt.legend()\n",
    "plt.show()"
   ]
  },
  {
   "cell_type": "code",
   "execution_count": 40,
   "metadata": {},
   "outputs": [
    {
     "data": {
      "image/png": "[encoded data removed]",
      "text/plain": [
       "<matplotlib.figure.Figure at 0x2273cf3a128>"
      ]
     },
     "metadata": {},
     "output_type": "display_data"
    }
   ],
   "source": [
    "plt.fill_between(train_sizes, train_mean-train_std,train_mean+train_std, color='y')\n",
    "plt.fill_between(train_sizes, test_mean-test_std,test_mean+test_std, color='g')\n",
    "plt.show()"
   ]
  },
  {
   "cell_type": "markdown",
   "metadata": {},
   "source": [
    "# 11.12 평가 지표 리포트 만들기\n",
    "\n",
    "- 분류기 성능을 간단하게 요약- classification_report 사용"
   ]
  },
  {
   "cell_type": "code",
   "execution_count": 58,
   "metadata": {
    "collapsed": true
   },
   "outputs": [],
   "source": [
    "from sklearn.model_selection import train_test_split\n",
    "from sklearn.linear_model import LogisticRegression\n",
    "from sklearn import datasets\n",
    "from sklearn.metrics import classification_report\n",
    "\n",
    "iris =datasets.load_iris()\n",
    "\n",
    "X= iris.data\n",
    "Y= iris.target"
   ]
  },
  {
   "cell_type": "code",
   "execution_count": 59,
   "metadata": {},
   "outputs": [
    {
     "data": {
      "text/plain": [
       "array([[5.1, 3.5, 1.4, 0.2],\n",
       "       [4.9, 3. , 1.4, 0.2],\n",
       "       [4.7, 3.2, 1.3, 0.2],\n",
       "       [4.6, 3.1, 1.5, 0.2],\n",
       "       [5. , 3.6, 1.4, 0.2],\n",
       "       [5.4, 3.9, 1.7, 0.4],\n",
       "       [4.6, 3.4, 1.4, 0.3],\n",
       "       [5. , 3.4, 1.5, 0.2],\n",
       "       [4.4, 2.9, 1.4, 0.2],\n",
       "       [4.9, 3.1, 1.5, 0.1],\n",
       "       [5.4, 3.7, 1.5, 0.2],\n",
       "       [4.8, 3.4, 1.6, 0.2],\n",
       "       [4.8, 3. , 1.4, 0.1],\n",
       "       [4.3, 3. , 1.1, 0.1],\n",
       "       [5.8, 4. , 1.2, 0.2],\n",
       "       [5.7, 4.4, 1.5, 0.4],\n",
       "       [5.4, 3.9, 1.3, 0.4],\n",
       "       [5.1, 3.5, 1.4, 0.3],\n",
       "       [5.7, 3.8, 1.7, 0.3],\n",
       "       [5.1, 3.8, 1.5, 0.3],\n",
       "       [5.4, 3.4, 1.7, 0.2],\n",
       "       [5.1, 3.7, 1.5, 0.4],\n",
       "       [4.6, 3.6, 1. , 0.2],\n",
       "       [5.1, 3.3, 1.7, 0.5],\n",
       "       [4.8, 3.4, 1.9, 0.2],\n",
       "       [5. , 3. , 1.6, 0.2],\n",
       "       [5. , 3.4, 1.6, 0.4],\n",
       "       [5.2, 3.5, 1.5, 0.2],\n",
       "       [5.2, 3.4, 1.4, 0.2],\n",
       "       [4.7, 3.2, 1.6, 0.2],\n",
       "       [4.8, 3.1, 1.6, 0.2],\n",
       "       [5.4, 3.4, 1.5, 0.4],\n",
       "       [5.2, 4.1, 1.5, 0.1],\n",
       "       [5.5, 4.2, 1.4, 0.2],\n",
       "       [4.9, 3.1, 1.5, 0.2],\n",
       "       [5. , 3.2, 1.2, 0.2],\n",
       "       [5.5, 3.5, 1.3, 0.2],\n",
       "       [4.9, 3.6, 1.4, 0.1],\n",
       "       [4.4, 3. , 1.3, 0.2],\n",
       "       [5.1, 3.4, 1.5, 0.2],\n",
       "       [5. , 3.5, 1.3, 0.3],\n",
       "       [4.5, 2.3, 1.3, 0.3],\n",
       "       [4.4, 3.2, 1.3, 0.2],\n",
       "       [5. , 3.5, 1.6, 0.6],\n",
       "       [5.1, 3.8, 1.9, 0.4],\n",
       "       [4.8, 3. , 1.4, 0.3],\n",
       "       [5.1, 3.8, 1.6, 0.2],\n",
       "       [4.6, 3.2, 1.4, 0.2],\n",
       "       [5.3, 3.7, 1.5, 0.2],\n",
       "       [5. , 3.3, 1.4, 0.2],\n",
       "       [7. , 3.2, 4.7, 1.4],\n",
       "       [6.4, 3.2, 4.5, 1.5],\n",
       "       [6.9, 3.1, 4.9, 1.5],\n",
       "       [5.5, 2.3, 4. , 1.3],\n",
       "       [6.5, 2.8, 4.6, 1.5],\n",
       "       [5.7, 2.8, 4.5, 1.3],\n",
       "       [6.3, 3.3, 4.7, 1.6],\n",
       "       [4.9, 2.4, 3.3, 1. ],\n",
       "       [6.6, 2.9, 4.6, 1.3],\n",
       "       [5.2, 2.7, 3.9, 1.4],\n",
       "       [5. , 2. , 3.5, 1. ],\n",
       "       [5.9, 3. , 4.2, 1.5],\n",
       "       [6. , 2.2, 4. , 1. ],\n",
       "       [6.1, 2.9, 4.7, 1.4],\n",
       "       [5.6, 2.9, 3.6, 1.3],\n",
       "       [6.7, 3.1, 4.4, 1.4],\n",
       "       [5.6, 3. , 4.5, 1.5],\n",
       "       [5.8, 2.7, 4.1, 1. ],\n",
       "       [6.2, 2.2, 4.5, 1.5],\n",
       "       [5.6, 2.5, 3.9, 1.1],\n",
       "       [5.9, 3.2, 4.8, 1.8],\n",
       "       [6.1, 2.8, 4. , 1.3],\n",
       "       [6.3, 2.5, 4.9, 1.5],\n",
       "       [6.1, 2.8, 4.7, 1.2],\n",
       "       [6.4, 2.9, 4.3, 1.3],\n",
       "       [6.6, 3. , 4.4, 1.4],\n",
       "       [6.8, 2.8, 4.8, 1.4],\n",
       "       [6.7, 3. , 5. , 1.7],\n",
       "       [6. , 2.9, 4.5, 1.5],\n",
       "       [5.7, 2.6, 3.5, 1. ],\n",
       "       [5.5, 2.4, 3.8, 1.1],\n",
       "       [5.5, 2.4, 3.7, 1. ],\n",
       "       [5.8, 2.7, 3.9, 1.2],\n",
       "       [6. , 2.7, 5.1, 1.6],\n",
       "       [5.4, 3. , 4.5, 1.5],\n",
       "       [6. , 3.4, 4.5, 1.6],\n",
       "       [6.7, 3.1, 4.7, 1.5],\n",
       "       [6.3, 2.3, 4.4, 1.3],\n",
       "       [5.6, 3. , 4.1, 1.3],\n",
       "       [5.5, 2.5, 4. , 1.3],\n",
       "       [5.5, 2.6, 4.4, 1.2],\n",
       "       [6.1, 3. , 4.6, 1.4],\n",
       "       [5.8, 2.6, 4. , 1.2],\n",
       "       [5. , 2.3, 3.3, 1. ],\n",
       "       [5.6, 2.7, 4.2, 1.3],\n",
       "       [5.7, 3. , 4.2, 1.2],\n",
       "       [5.7, 2.9, 4.2, 1.3],\n",
       "       [6.2, 2.9, 4.3, 1.3],\n",
       "       [5.1, 2.5, 3. , 1.1],\n",
       "       [5.7, 2.8, 4.1, 1.3],\n",
       "       [6.3, 3.3, 6. , 2.5],\n",
       "       [5.8, 2.7, 5.1, 1.9],\n",
       "       [7.1, 3. , 5.9, 2.1],\n",
       "       [6.3, 2.9, 5.6, 1.8],\n",
       "       [6.5, 3. , 5.8, 2.2],\n",
       "       [7.6, 3. , 6.6, 2.1],\n",
       "       [4.9, 2.5, 4.5, 1.7],\n",
       "       [7.3, 2.9, 6.3, 1.8],\n",
       "       [6.7, 2.5, 5.8, 1.8],\n",
       "       [7.2, 3.6, 6.1, 2.5],\n",
       "       [6.5, 3.2, 5.1, 2. ],\n",
       "       [6.4, 2.7, 5.3, 1.9],\n",
       "       [6.8, 3. , 5.5, 2.1],\n",
       "       [5.7, 2.5, 5. , 2. ],\n",
       "       [5.8, 2.8, 5.1, 2.4],\n",
       "       [6.4, 3.2, 5.3, 2.3],\n",
       "       [6.5, 3. , 5.5, 1.8],\n",
       "       [7.7, 3.8, 6.7, 2.2],\n",
       "       [7.7, 2.6, 6.9, 2.3],\n",
       "       [6. , 2.2, 5. , 1.5],\n",
       "       [6.9, 3.2, 5.7, 2.3],\n",
       "       [5.6, 2.8, 4.9, 2. ],\n",
       "       [7.7, 2.8, 6.7, 2. ],\n",
       "       [6.3, 2.7, 4.9, 1.8],\n",
       "       [6.7, 3.3, 5.7, 2.1],\n",
       "       [7.2, 3.2, 6. , 1.8],\n",
       "       [6.2, 2.8, 4.8, 1.8],\n",
       "       [6.1, 3. , 4.9, 1.8],\n",
       "       [6.4, 2.8, 5.6, 2.1],\n",
       "       [7.2, 3. , 5.8, 1.6],\n",
       "       [7.4, 2.8, 6.1, 1.9],\n",
       "       [7.9, 3.8, 6.4, 2. ],\n",
       "       [6.4, 2.8, 5.6, 2.2],\n",
       "       [6.3, 2.8, 5.1, 1.5],\n",
       "       [6.1, 2.6, 5.6, 1.4],\n",
       "       [7.7, 3. , 6.1, 2.3],\n",
       "       [6.3, 3.4, 5.6, 2.4],\n",
       "       [6.4, 3.1, 5.5, 1.8],\n",
       "       [6. , 3. , 4.8, 1.8],\n",
       "       [6.9, 3.1, 5.4, 2.1],\n",
       "       [6.7, 3.1, 5.6, 2.4],\n",
       "       [6.9, 3.1, 5.1, 2.3],\n",
       "       [5.8, 2.7, 5.1, 1.9],\n",
       "       [6.8, 3.2, 5.9, 2.3],\n",
       "       [6.7, 3.3, 5.7, 2.5],\n",
       "       [6.7, 3. , 5.2, 2.3],\n",
       "       [6.3, 2.5, 5. , 1.9],\n",
       "       [6.5, 3. , 5.2, 2. ],\n",
       "       [6.2, 3.4, 5.4, 2.3],\n",
       "       [5.9, 3. , 5.1, 1.8]])"
      ]
     },
     "execution_count": 59,
     "metadata": {},
     "output_type": "execute_result"
    }
   ],
   "source": [
    "X"
   ]
  },
  {
   "cell_type": "code",
   "execution_count": 60,
   "metadata": {},
   "outputs": [
    {
     "data": {
      "text/plain": [
       "array([0, 0, 0, 0, 0, 0, 0, 0, 0, 0, 0, 0, 0, 0, 0, 0, 0, 0, 0, 0, 0, 0,\n",
       "       0, 0, 0, 0, 0, 0, 0, 0, 0, 0, 0, 0, 0, 0, 0, 0, 0, 0, 0, 0, 0, 0,\n",
       "       0, 0, 0, 0, 0, 0, 1, 1, 1, 1, 1, 1, 1, 1, 1, 1, 1, 1, 1, 1, 1, 1,\n",
       "       1, 1, 1, 1, 1, 1, 1, 1, 1, 1, 1, 1, 1, 1, 1, 1, 1, 1, 1, 1, 1, 1,\n",
       "       1, 1, 1, 1, 1, 1, 1, 1, 1, 1, 1, 1, 2, 2, 2, 2, 2, 2, 2, 2, 2, 2,\n",
       "       2, 2, 2, 2, 2, 2, 2, 2, 2, 2, 2, 2, 2, 2, 2, 2, 2, 2, 2, 2, 2, 2,\n",
       "       2, 2, 2, 2, 2, 2, 2, 2, 2, 2, 2, 2, 2, 2, 2, 2, 2, 2])"
      ]
     },
     "execution_count": 60,
     "metadata": {},
     "output_type": "execute_result"
    }
   ],
   "source": [
    "Y"
   ]
  },
  {
   "cell_type": "code",
   "execution_count": 61,
   "metadata": {
    "collapsed": true
   },
   "outputs": [],
   "source": [
    "class_names = iris.target_names"
   ]
  },
  {
   "cell_type": "code",
   "execution_count": 63,
   "metadata": {},
   "outputs": [
    {
     "name": "stdout",
     "output_type": "stream",
     "text": [
      "              precision    recall  f1-score   support\n",
      "\n",
      "      setosa       1.00      1.00      1.00        13\n",
      "  versicolor       1.00      0.94      0.97        16\n",
      "   virginica       0.90      1.00      0.95         9\n",
      "\n",
      "    accuracy                           0.97        38\n",
      "   macro avg       0.97      0.98      0.97        38\n",
      "weighted avg       0.98      0.97      0.97        38\n",
      "\n"
     ]
    },
    {
     "name": "stderr",
     "output_type": "stream",
     "text": [
      "C:\\ProgramData\\Anaconda3\\lib\\site-packages\\sklearn\\linear_model\\_logistic.py:939: ConvergenceWarning: lbfgs failed to converge (status=1):\n",
      "STOP: TOTAL NO. of ITERATIONS REACHED LIMIT.\n",
      "\n",
      "Increase the number of iterations (max_iter) or scale the data as shown in:\n",
      "    https://scikit-learn.org/stable/modules/preprocessing.html.\n",
      "Please also refer to the documentation for alternative solver options:\n",
      "    https://scikit-learn.org/stable/modules/linear_model.html#logistic-regression\n",
      "  extra_warning_msg=_LOGISTIC_SOLVER_CONVERGENCE_MSG)\n"
     ]
    }
   ],
   "source": [
    "X_train, X_test, Y_train,Y_test = train_test_split(X,Y, random_state =1 )\n",
    "\n",
    "classifier = LogisticRegression()\n",
    "\n",
    "model = classifier.fit(X_train,Y_train)\n",
    "\n",
    "Y_pred = model.predict(X_test)\n",
    "\n",
    "####### 분류 리포트 설정\n",
    "\n",
    "print(classification_report(Y_test,Y_pred, target_names = class_names))"
   ]
  },
  {
   "cell_type": "code",
   "execution_count": 67,
   "metadata": {},
   "outputs": [
    {
     "name": "stdout",
     "output_type": "stream",
     "text": [
      "              precision    recall  f1-score   support\n",
      "\n",
      "      setosa       1.00      1.00      1.00        13\n",
      "  versicolor       1.00      0.94      0.97        16\n",
      "   virginica       0.90      1.00      0.95         9\n",
      "\n",
      "    accuracy                           0.97        38\n",
      "   macro avg       0.97      0.98      0.97        38\n",
      "weighted avg       0.98      0.97      0.97        38\n",
      "\n"
     ]
    }
   ],
   "source": [
    "print(classification_report(Y_test,Y_pred,target_names= class_names))"
   ]
  },
  {
   "cell_type": "markdown",
   "metadata": {},
   "source": [
    "# 11.13 하이퍼파라미터 값의 영향을 시각화 하기\n",
    "- 일부 하이퍼파라미터 값을 변경할 때 모델의 성능 변화를 확인 - 검증 곡선 (Validation curve) 사용.\n"
   ]
  },
  {
   "cell_type": "code",
   "execution_count": null,
   "metadata": {
    "collapsed": true
   },
   "outputs": [],
   "source": [
    "import matplotlib.pyplot as plt\n",
    "import numpy as np\n",
    "from sklearn.datasets import load_digits\n",
    "from sklearn.ensemble import RandomForestClassifier\n",
    "from sklearn.model_selection import validation_curve\n",
    "\n",
    "digits = load_digits()\n",
    "\n",
    "X,Y = digits.data, digits.target\n",
    "\n",
    "\n",
    "param_range= np.arange(1,250,2)\n",
    "\n",
    "\n",
    "train_scores, test_scores = validation_curve(RandomForestClassifier(),\n",
    "                                            X,\n",
    "                                            Y,\n",
    "                                            param_name = 'n_estimators',\n",
    "                                            param_range = param_range,\n",
    "                                            cv=3,\n",
    "                                            scoring='accuracy',\n",
    "                                            n_jobs = -1)\n",
    "\n",
    "\n",
    "\n",
    "train_mean = np.mean(train_scores, axis=1)\n",
    "train_std = np.std(train_scores, axis =1)\n",
    "\n",
    "test_mean = np.mean(test_scores, axis=1)\n",
    "test_std = np.std(test_scores, axis =1)\n",
    "\n",
    "plt.plot(param_range, train_mean, label='Training score', color='black')\n",
    "plt.plot(param_range, test_mean, label='Cross-validation score', color ='dimgrey')\n",
    "\n",
    "plt.show()\n"
   ]
  },
  {
   "cell_type": "code",
   "execution_count": null,
   "metadata": {
    "collapsed": true
   },
   "outputs": [],
   "source": [
    "plt.fill_between(param_range,train_mean-train_std, train_mean+train_std, color = 'gray')\n",
    "plt.fill_between(param_range,train_mean -train_std, train_mean + train_std, color ='gainsboro')\n",
    "plt.title('validation Curve With Random Forest')\n",
    "plt.xlabel('Number Of Trees')\n",
    "plt.ylabel('Auccuracy score')\n",
    "plt.tight_layout()\n",
    "plt.legend(loc='best')\n",
    "plt.show()"
   ]
  },
  {
   "cell_type": "markdown",
   "metadata": {
    "collapsed": true
   },
   "source": [
    "# 11.13 하이퍼파라미터 값의 영향을 시각화하기\n",
    "\n",
    "-일부 하이퍼파라미터 값을 변경할 때 모델의 성능 변화를 확인 - 검증 곡선 (Validation curve)사용."
   ]
  },
  {
   "cell_type": "code",
   "execution_count": 8,
   "metadata": {},
   "outputs": [],
   "source": [
    "import matplotlib.pyplot as plt\n",
    "import numpy as np\n",
    "from sklearn.datasets import load_digits\n",
    "from sklearn.ensemble import RandomForestClassifier\n",
    "from sklearn.model_selection import validation_curve\n",
    "\n",
    "digits = load_digits()\n",
    "\n",
    "X,Y = digits.data, digits.target\n",
    "\n",
    "param_range = np.arange(1,250,2)\n",
    "\n",
    "train_scores, test_scores = validation_curve(RandomForestClassifier(), X,Y, param_range = param_range, param_name='n_estimators',cv=3,\n",
    "                                             scoring='accuracy', n_jobs =-1)"
   ]
  },
  {
   "cell_type": "code",
   "execution_count": 6,
   "metadata": {},
   "outputs": [
    {
     "data": {
      "text/plain": [
       "(1797, 64)"
      ]
     },
     "execution_count": 6,
     "metadata": {},
     "output_type": "execute_result"
    }
   ],
   "source": [
    "X.shape"
   ]
  },
  {
   "cell_type": "code",
   "execution_count": 7,
   "metadata": {},
   "outputs": [
    {
     "data": {
      "text/plain": [
       "(1797,)"
      ]
     },
     "execution_count": 7,
     "metadata": {},
     "output_type": "execute_result"
    }
   ],
   "source": [
    "Y.shape"
   ]
  },
  {
   "cell_type": "code",
   "execution_count": 9,
   "metadata": {},
   "outputs": [
    {
     "data": {
      "text/plain": [
       "array([[0.92737896, 0.9148581 , 0.92070117],\n",
       "       [0.97579299, 0.96828047, 0.97495826],\n",
       "       [0.9933222 , 0.99081803, 0.99415693],\n",
       "       [0.99749583, 0.99582638, 0.99916528],\n",
       "       [1.        , 1.        , 0.99916528],\n",
       "       [1.        , 1.        , 1.        ],\n",
       "       [1.        , 1.        , 1.        ],\n",
       "       [1.        , 1.        , 1.        ],\n",
       "       [1.        , 1.        , 1.        ],\n",
       "       [1.        , 1.        , 1.        ],\n",
       "       [1.        , 1.        , 1.        ],\n",
       "       [1.        , 1.        , 1.        ],\n",
       "       [1.        , 1.        , 1.        ],\n",
       "       [1.        , 1.        , 1.        ],\n",
       "       [1.        , 1.        , 1.        ],\n",
       "       [1.        , 1.        , 1.        ],\n",
       "       [1.        , 1.        , 1.        ],\n",
       "       [1.        , 1.        , 1.        ],\n",
       "       [1.        , 1.        , 1.        ],\n",
       "       [1.        , 1.        , 1.        ],\n",
       "       [1.        , 1.        , 1.        ],\n",
       "       [1.        , 1.        , 1.        ],\n",
       "       [1.        , 1.        , 1.        ],\n",
       "       [1.        , 1.        , 1.        ],\n",
       "       [1.        , 1.        , 1.        ],\n",
       "       [1.        , 1.        , 1.        ],\n",
       "       [1.        , 1.        , 1.        ],\n",
       "       [1.        , 1.        , 1.        ],\n",
       "       [1.        , 1.        , 1.        ],\n",
       "       [1.        , 1.        , 1.        ],\n",
       "       [1.        , 1.        , 1.        ],\n",
       "       [1.        , 1.        , 1.        ],\n",
       "       [1.        , 1.        , 1.        ],\n",
       "       [1.        , 1.        , 1.        ],\n",
       "       [1.        , 1.        , 1.        ],\n",
       "       [1.        , 1.        , 1.        ],\n",
       "       [1.        , 1.        , 1.        ],\n",
       "       [1.        , 1.        , 1.        ],\n",
       "       [1.        , 1.        , 1.        ],\n",
       "       [1.        , 1.        , 1.        ],\n",
       "       [1.        , 1.        , 1.        ],\n",
       "       [1.        , 1.        , 1.        ],\n",
       "       [1.        , 1.        , 1.        ],\n",
       "       [1.        , 1.        , 1.        ],\n",
       "       [1.        , 1.        , 1.        ],\n",
       "       [1.        , 1.        , 1.        ],\n",
       "       [1.        , 1.        , 1.        ],\n",
       "       [1.        , 1.        , 1.        ],\n",
       "       [1.        , 1.        , 1.        ],\n",
       "       [1.        , 1.        , 1.        ],\n",
       "       [1.        , 1.        , 1.        ],\n",
       "       [1.        , 1.        , 1.        ],\n",
       "       [1.        , 1.        , 1.        ],\n",
       "       [1.        , 1.        , 1.        ],\n",
       "       [1.        , 1.        , 1.        ],\n",
       "       [1.        , 1.        , 1.        ],\n",
       "       [1.        , 1.        , 1.        ],\n",
       "       [1.        , 1.        , 1.        ],\n",
       "       [1.        , 1.        , 1.        ],\n",
       "       [1.        , 1.        , 1.        ],\n",
       "       [1.        , 1.        , 1.        ],\n",
       "       [1.        , 1.        , 1.        ],\n",
       "       [1.        , 1.        , 1.        ],\n",
       "       [1.        , 1.        , 1.        ],\n",
       "       [1.        , 1.        , 1.        ],\n",
       "       [1.        , 1.        , 1.        ],\n",
       "       [1.        , 1.        , 1.        ],\n",
       "       [1.        , 1.        , 1.        ],\n",
       "       [1.        , 1.        , 1.        ],\n",
       "       [1.        , 1.        , 1.        ],\n",
       "       [1.        , 1.        , 1.        ],\n",
       "       [1.        , 1.        , 1.        ],\n",
       "       [1.        , 1.        , 1.        ],\n",
       "       [1.        , 1.        , 1.        ],\n",
       "       [1.        , 1.        , 1.        ],\n",
       "       [1.        , 1.        , 1.        ],\n",
       "       [1.        , 1.        , 1.        ],\n",
       "       [1.        , 1.        , 1.        ],\n",
       "       [1.        , 1.        , 1.        ],\n",
       "       [1.        , 1.        , 1.        ],\n",
       "       [1.        , 1.        , 1.        ],\n",
       "       [1.        , 1.        , 1.        ],\n",
       "       [1.        , 1.        , 1.        ],\n",
       "       [1.        , 1.        , 1.        ],\n",
       "       [1.        , 1.        , 1.        ],\n",
       "       [1.        , 1.        , 1.        ],\n",
       "       [1.        , 1.        , 1.        ],\n",
       "       [1.        , 1.        , 1.        ],\n",
       "       [1.        , 1.        , 1.        ],\n",
       "       [1.        , 1.        , 1.        ],\n",
       "       [1.        , 1.        , 1.        ],\n",
       "       [1.        , 1.        , 1.        ],\n",
       "       [1.        , 1.        , 1.        ],\n",
       "       [1.        , 1.        , 1.        ],\n",
       "       [1.        , 1.        , 1.        ],\n",
       "       [1.        , 1.        , 1.        ],\n",
       "       [1.        , 1.        , 1.        ],\n",
       "       [1.        , 1.        , 1.        ],\n",
       "       [1.        , 1.        , 1.        ],\n",
       "       [1.        , 1.        , 1.        ],\n",
       "       [1.        , 1.        , 1.        ],\n",
       "       [1.        , 1.        , 1.        ],\n",
       "       [1.        , 1.        , 1.        ],\n",
       "       [1.        , 1.        , 1.        ],\n",
       "       [1.        , 1.        , 1.        ],\n",
       "       [1.        , 1.        , 1.        ],\n",
       "       [1.        , 1.        , 1.        ],\n",
       "       [1.        , 1.        , 1.        ],\n",
       "       [1.        , 1.        , 1.        ],\n",
       "       [1.        , 1.        , 1.        ],\n",
       "       [1.        , 1.        , 1.        ],\n",
       "       [1.        , 1.        , 1.        ],\n",
       "       [1.        , 1.        , 1.        ],\n",
       "       [1.        , 1.        , 1.        ],\n",
       "       [1.        , 1.        , 1.        ],\n",
       "       [1.        , 1.        , 1.        ],\n",
       "       [1.        , 1.        , 1.        ],\n",
       "       [1.        , 1.        , 1.        ],\n",
       "       [1.        , 1.        , 1.        ],\n",
       "       [1.        , 1.        , 1.        ],\n",
       "       [1.        , 1.        , 1.        ],\n",
       "       [1.        , 1.        , 1.        ],\n",
       "       [1.        , 1.        , 1.        ],\n",
       "       [1.        , 1.        , 1.        ],\n",
       "       [1.        , 1.        , 1.        ]])"
      ]
     },
     "execution_count": 9,
     "metadata": {},
     "output_type": "execute_result"
    }
   ],
   "source": [
    "train_scores"
   ]
  },
  {
   "cell_type": "code",
   "execution_count": 10,
   "metadata": {},
   "outputs": [
    {
     "data": {
      "text/plain": [
       "array([[0.70617696, 0.71786311, 0.67779633],\n",
       "       [0.73288815, 0.78797997, 0.77963272],\n",
       "       [0.85475793, 0.87479132, 0.83973289],\n",
       "       [0.82971619, 0.89315526, 0.90317195],\n",
       "       [0.90984975, 0.9115192 , 0.89148581],\n",
       "       [0.89315526, 0.90651085, 0.90317195],\n",
       "       [0.9081803 , 0.91986644, 0.90651085],\n",
       "       [0.9081803 , 0.92988314, 0.90651085],\n",
       "       [0.9115192 , 0.92320534, 0.9148581 ],\n",
       "       [0.91652755, 0.93489149, 0.9048414 ],\n",
       "       [0.91652755, 0.93322204, 0.91318865],\n",
       "       [0.92320534, 0.93322204, 0.93989983],\n",
       "       [0.9148581 , 0.94323873, 0.92320534],\n",
       "       [0.9115192 , 0.92821369, 0.91819699],\n",
       "       [0.93155259, 0.94657763, 0.90984975],\n",
       "       [0.92320534, 0.94991653, 0.91986644],\n",
       "       [0.92654424, 0.94991653, 0.91986644],\n",
       "       [0.93155259, 0.94991653, 0.92320534],\n",
       "       [0.93489149, 0.94824708, 0.92487479],\n",
       "       [0.92320534, 0.93656093, 0.93155259],\n",
       "       [0.93322204, 0.95325543, 0.92320534],\n",
       "       [0.93989983, 0.94323873, 0.93322204],\n",
       "       [0.93656093, 0.95826377, 0.92487479],\n",
       "       [0.93322204, 0.95826377, 0.92153589],\n",
       "       [0.93489149, 0.95158598, 0.92821369],\n",
       "       [0.93989983, 0.95158598, 0.90984975],\n",
       "       [0.92821369, 0.96327212, 0.92988314],\n",
       "       [0.92654424, 0.95826377, 0.92487479],\n",
       "       [0.94323873, 0.94490818, 0.92988314],\n",
       "       [0.92654424, 0.95158598, 0.92320534],\n",
       "       [0.93823038, 0.95325543, 0.92487479],\n",
       "       [0.92487479, 0.93989983, 0.93823038],\n",
       "       [0.93322204, 0.95659432, 0.93489149],\n",
       "       [0.92988314, 0.95325543, 0.93656093],\n",
       "       [0.93489149, 0.95158598, 0.92487479],\n",
       "       [0.93656093, 0.95659432, 0.93489149],\n",
       "       [0.93322204, 0.94991653, 0.92487479],\n",
       "       [0.93489149, 0.94991653, 0.93155259],\n",
       "       [0.94323873, 0.95325543, 0.92153589],\n",
       "       [0.92988314, 0.95659432, 0.92821369],\n",
       "       [0.93656093, 0.95659432, 0.92153589],\n",
       "       [0.93989983, 0.95158598, 0.93322204],\n",
       "       [0.92988314, 0.95659432, 0.92654424],\n",
       "       [0.93989983, 0.95993322, 0.92821369],\n",
       "       [0.93989983, 0.94323873, 0.93823038],\n",
       "       [0.94156928, 0.95826377, 0.92821369],\n",
       "       [0.94490818, 0.95492487, 0.92821369],\n",
       "       [0.93656093, 0.96327212, 0.93823038],\n",
       "       [0.93155259, 0.96160267, 0.93155259],\n",
       "       [0.93823038, 0.95158598, 0.93155259],\n",
       "       [0.93322204, 0.95659432, 0.92821369],\n",
       "       [0.93823038, 0.95492487, 0.92487479],\n",
       "       [0.94323873, 0.95993322, 0.92487479],\n",
       "       [0.94490818, 0.96327212, 0.92821369],\n",
       "       [0.93823038, 0.94824708, 0.92320534],\n",
       "       [0.93989983, 0.96160267, 0.92821369],\n",
       "       [0.93989983, 0.96160267, 0.92821369],\n",
       "       [0.93656093, 0.95492487, 0.92153589],\n",
       "       [0.93322204, 0.96160267, 0.93155259],\n",
       "       [0.93155259, 0.95826377, 0.92988314],\n",
       "       [0.93489149, 0.95993322, 0.92487479],\n",
       "       [0.93656093, 0.95826377, 0.92821369],\n",
       "       [0.93656093, 0.95993322, 0.92821369],\n",
       "       [0.94490818, 0.95492487, 0.92821369],\n",
       "       [0.94323873, 0.94824708, 0.92487479],\n",
       "       [0.93322204, 0.94991653, 0.93155259],\n",
       "       [0.95325543, 0.95158598, 0.92320534],\n",
       "       [0.94156928, 0.96160267, 0.93155259],\n",
       "       [0.94156928, 0.95826377, 0.93155259],\n",
       "       [0.93823038, 0.95993322, 0.92654424],\n",
       "       [0.94156928, 0.95826377, 0.93155259],\n",
       "       [0.93989983, 0.95993322, 0.92320534],\n",
       "       [0.93989983, 0.95826377, 0.92988314],\n",
       "       [0.92988314, 0.96160267, 0.92821369],\n",
       "       [0.93989983, 0.95492487, 0.92487479],\n",
       "       [0.93989983, 0.95659432, 0.92487479],\n",
       "       [0.93489149, 0.95659432, 0.92654424],\n",
       "       [0.94156928, 0.95993322, 0.92153589],\n",
       "       [0.93823038, 0.95492487, 0.92821369],\n",
       "       [0.94156928, 0.95325543, 0.91986644],\n",
       "       [0.94490818, 0.95993322, 0.93155259],\n",
       "       [0.94156928, 0.95492487, 0.93322204],\n",
       "       [0.94156928, 0.95826377, 0.92654424],\n",
       "       [0.93489149, 0.95826377, 0.92988314],\n",
       "       [0.93823038, 0.95993322, 0.92320534],\n",
       "       [0.93489149, 0.95826377, 0.92654424],\n",
       "       [0.93656093, 0.96160267, 0.92654424],\n",
       "       [0.93155259, 0.95993322, 0.92988314],\n",
       "       [0.93823038, 0.95158598, 0.92988314],\n",
       "       [0.93989983, 0.95993322, 0.92821369],\n",
       "       [0.94490818, 0.95492487, 0.93322204],\n",
       "       [0.93823038, 0.95325543, 0.92654424],\n",
       "       [0.93989983, 0.95993322, 0.92654424],\n",
       "       [0.94657763, 0.96494157, 0.91986644],\n",
       "       [0.93989983, 0.96160267, 0.92654424],\n",
       "       [0.94156928, 0.95993322, 0.91986644],\n",
       "       [0.94156928, 0.95659432, 0.92821369],\n",
       "       [0.93656093, 0.95659432, 0.92487479],\n",
       "       [0.93989983, 0.95325543, 0.93155259],\n",
       "       [0.93489149, 0.95826377, 0.92654424],\n",
       "       [0.94156928, 0.94991653, 0.92821369],\n",
       "       [0.93989983, 0.95659432, 0.92821369],\n",
       "       [0.94490818, 0.95826377, 0.92487479],\n",
       "       [0.94156928, 0.95325543, 0.92320534],\n",
       "       [0.94490818, 0.96327212, 0.93489149],\n",
       "       [0.94323873, 0.95826377, 0.92654424],\n",
       "       [0.94490818, 0.96494157, 0.92821369],\n",
       "       [0.94490818, 0.95993322, 0.93489149],\n",
       "       [0.93155259, 0.95826377, 0.92821369],\n",
       "       [0.94156928, 0.95659432, 0.92821369],\n",
       "       [0.94156928, 0.95492487, 0.92487479],\n",
       "       [0.94657763, 0.95325543, 0.92821369],\n",
       "       [0.93823038, 0.96494157, 0.92320534],\n",
       "       [0.94323873, 0.95993322, 0.91986644],\n",
       "       [0.94490818, 0.95492487, 0.91986644],\n",
       "       [0.93989983, 0.96327212, 0.92654424],\n",
       "       [0.93489149, 0.96160267, 0.92988314],\n",
       "       [0.93989983, 0.95659432, 0.92153589],\n",
       "       [0.94156928, 0.95659432, 0.92654424],\n",
       "       [0.94323873, 0.95659432, 0.92988314],\n",
       "       [0.93823038, 0.95993322, 0.92988314],\n",
       "       [0.94657763, 0.96160267, 0.93155259],\n",
       "       [0.93656093, 0.96160267, 0.92487479],\n",
       "       [0.94156928, 0.95158598, 0.92988314],\n",
       "       [0.93823038, 0.96494157, 0.92821369]])"
      ]
     },
     "execution_count": 10,
     "metadata": {},
     "output_type": "execute_result"
    }
   ],
   "source": [
    "test_scores"
   ]
  },
  {
   "cell_type": "code",
   "execution_count": 11,
   "metadata": {},
   "outputs": [],
   "source": [
    "\n",
    "train_mean = np.mean(train_scores, axis = 1)\n",
    "train_std = np.std(train_scores, axis=1)\n"
   ]
  },
  {
   "cell_type": "code",
   "execution_count": 12,
   "metadata": {},
   "outputs": [],
   "source": [
    "# 테스트 세트 점수의 평균과 표준편차를 계산.\n",
    "test_mean = np.mean(test_scores, axis =1)\n",
    "test_std = np.std(test_scores, axis= 1)"
   ]
  },
  {
   "cell_type": "code",
   "execution_count": 13,
   "metadata": {},
   "outputs": [
    {
     "data": {
      "text/plain": [
       "<matplotlib.legend.Legend at 0x1a23d89b6a0>"
      ]
     },
     "execution_count": 13,
     "metadata": {},
     "output_type": "execute_result"
    },
    {
     "data": {
      "image/png": "[encoded data removed]",
      "text/plain": [
       "<Figure size 432x288 with 1 Axes>"
      ]
     },
     "metadata": {
      "needs_background": "light"
     },
     "output_type": "display_data"
    }
   ],
   "source": [
    "\n",
    "\n",
    "# 훈련 세트와 테스트 세트의 평균 정확도 점수를 그래프로 그림\n",
    "plt.plot(param_range,train_mean, label = \"Training score\", color = 'black')\n",
    "plt.plot(param_range,test_mean, label = 'Cross-validation score', color = 'dimgrey')\n",
    "\n",
    "\n",
    "# 훈련 세트와 테스트 세트의 정확도에 대한 표준편차 그래프로 그리기\n",
    "\n",
    "plt.fill_between(param_range,train_mean-train_std,train_mean+train_std, color ='gray')\n",
    "plt.fill_between(param_range,test_mean-test_std,test_mean+test_std, color ='gainsboro')\n",
    "\n",
    "# 그래프 출력.\n",
    "plt.title('validation Curve With Random Forest')\n",
    "plt.xlabel('Number Of Trees')\n",
    "plt.ylabel('Auccuracy score')\n",
    "plt.tight_layout()\n",
    "plt.legend(loc='best')"
   ]
  },
  {
   "cell_type": "code",
   "execution_count": 14,
   "metadata": {},
   "outputs": [
    {
     "data": {
      "text/plain": [
       "array([[0.92737896, 0.9148581 , 0.92070117],\n",
       "       [0.97579299, 0.96828047, 0.97495826],\n",
       "       [0.9933222 , 0.99081803, 0.99415693],\n",
       "       [0.99749583, 0.99582638, 0.99916528],\n",
       "       [1.        , 1.        , 0.99916528],\n",
       "       [1.        , 1.        , 1.        ],\n",
       "       [1.        , 1.        , 1.        ],\n",
       "       [1.        , 1.        , 1.        ],\n",
       "       [1.        , 1.        , 1.        ],\n",
       "       [1.        , 1.        , 1.        ],\n",
       "       [1.        , 1.        , 1.        ],\n",
       "       [1.        , 1.        , 1.        ],\n",
       "       [1.        , 1.        , 1.        ],\n",
       "       [1.        , 1.        , 1.        ],\n",
       "       [1.        , 1.        , 1.        ],\n",
       "       [1.        , 1.        , 1.        ],\n",
       "       [1.        , 1.        , 1.        ],\n",
       "       [1.        , 1.        , 1.        ],\n",
       "       [1.        , 1.        , 1.        ],\n",
       "       [1.        , 1.        , 1.        ],\n",
       "       [1.        , 1.        , 1.        ],\n",
       "       [1.        , 1.        , 1.        ],\n",
       "       [1.        , 1.        , 1.        ],\n",
       "       [1.        , 1.        , 1.        ],\n",
       "       [1.        , 1.        , 1.        ],\n",
       "       [1.        , 1.        , 1.        ],\n",
       "       [1.        , 1.        , 1.        ],\n",
       "       [1.        , 1.        , 1.        ],\n",
       "       [1.        , 1.        , 1.        ],\n",
       "       [1.        , 1.        , 1.        ],\n",
       "       [1.        , 1.        , 1.        ],\n",
       "       [1.        , 1.        , 1.        ],\n",
       "       [1.        , 1.        , 1.        ],\n",
       "       [1.        , 1.        , 1.        ],\n",
       "       [1.        , 1.        , 1.        ],\n",
       "       [1.        , 1.        , 1.        ],\n",
       "       [1.        , 1.        , 1.        ],\n",
       "       [1.        , 1.        , 1.        ],\n",
       "       [1.        , 1.        , 1.        ],\n",
       "       [1.        , 1.        , 1.        ],\n",
       "       [1.        , 1.        , 1.        ],\n",
       "       [1.        , 1.        , 1.        ],\n",
       "       [1.        , 1.        , 1.        ],\n",
       "       [1.        , 1.        , 1.        ],\n",
       "       [1.        , 1.        , 1.        ],\n",
       "       [1.        , 1.        , 1.        ],\n",
       "       [1.        , 1.        , 1.        ],\n",
       "       [1.        , 1.        , 1.        ],\n",
       "       [1.        , 1.        , 1.        ],\n",
       "       [1.        , 1.        , 1.        ],\n",
       "       [1.        , 1.        , 1.        ],\n",
       "       [1.        , 1.        , 1.        ],\n",
       "       [1.        , 1.        , 1.        ],\n",
       "       [1.        , 1.        , 1.        ],\n",
       "       [1.        , 1.        , 1.        ],\n",
       "       [1.        , 1.        , 1.        ],\n",
       "       [1.        , 1.        , 1.        ],\n",
       "       [1.        , 1.        , 1.        ],\n",
       "       [1.        , 1.        , 1.        ],\n",
       "       [1.        , 1.        , 1.        ],\n",
       "       [1.        , 1.        , 1.        ],\n",
       "       [1.        , 1.        , 1.        ],\n",
       "       [1.        , 1.        , 1.        ],\n",
       "       [1.        , 1.        , 1.        ],\n",
       "       [1.        , 1.        , 1.        ],\n",
       "       [1.        , 1.        , 1.        ],\n",
       "       [1.        , 1.        , 1.        ],\n",
       "       [1.        , 1.        , 1.        ],\n",
       "       [1.        , 1.        , 1.        ],\n",
       "       [1.        , 1.        , 1.        ],\n",
       "       [1.        , 1.        , 1.        ],\n",
       "       [1.        , 1.        , 1.        ],\n",
       "       [1.        , 1.        , 1.        ],\n",
       "       [1.        , 1.        , 1.        ],\n",
       "       [1.        , 1.        , 1.        ],\n",
       "       [1.        , 1.        , 1.        ],\n",
       "       [1.        , 1.        , 1.        ],\n",
       "       [1.        , 1.        , 1.        ],\n",
       "       [1.        , 1.        , 1.        ],\n",
       "       [1.        , 1.        , 1.        ],\n",
       "       [1.        , 1.        , 1.        ],\n",
       "       [1.        , 1.        , 1.        ],\n",
       "       [1.        , 1.        , 1.        ],\n",
       "       [1.        , 1.        , 1.        ],\n",
       "       [1.        , 1.        , 1.        ],\n",
       "       [1.        , 1.        , 1.        ],\n",
       "       [1.        , 1.        , 1.        ],\n",
       "       [1.        , 1.        , 1.        ],\n",
       "       [1.        , 1.        , 1.        ],\n",
       "       [1.        , 1.        , 1.        ],\n",
       "       [1.        , 1.        , 1.        ],\n",
       "       [1.        , 1.        , 1.        ],\n",
       "       [1.        , 1.        , 1.        ],\n",
       "       [1.        , 1.        , 1.        ],\n",
       "       [1.        , 1.        , 1.        ],\n",
       "       [1.        , 1.        , 1.        ],\n",
       "       [1.        , 1.        , 1.        ],\n",
       "       [1.        , 1.        , 1.        ],\n",
       "       [1.        , 1.        , 1.        ],\n",
       "       [1.        , 1.        , 1.        ],\n",
       "       [1.        , 1.        , 1.        ],\n",
       "       [1.        , 1.        , 1.        ],\n",
       "       [1.        , 1.        , 1.        ],\n",
       "       [1.        , 1.        , 1.        ],\n",
       "       [1.        , 1.        , 1.        ],\n",
       "       [1.        , 1.        , 1.        ],\n",
       "       [1.        , 1.        , 1.        ],\n",
       "       [1.        , 1.        , 1.        ],\n",
       "       [1.        , 1.        , 1.        ],\n",
       "       [1.        , 1.        , 1.        ],\n",
       "       [1.        , 1.        , 1.        ],\n",
       "       [1.        , 1.        , 1.        ],\n",
       "       [1.        , 1.        , 1.        ],\n",
       "       [1.        , 1.        , 1.        ],\n",
       "       [1.        , 1.        , 1.        ],\n",
       "       [1.        , 1.        , 1.        ],\n",
       "       [1.        , 1.        , 1.        ],\n",
       "       [1.        , 1.        , 1.        ],\n",
       "       [1.        , 1.        , 1.        ],\n",
       "       [1.        , 1.        , 1.        ],\n",
       "       [1.        , 1.        , 1.        ],\n",
       "       [1.        , 1.        , 1.        ],\n",
       "       [1.        , 1.        , 1.        ],\n",
       "       [1.        , 1.        , 1.        ],\n",
       "       [1.        , 1.        , 1.        ]])"
      ]
     },
     "execution_count": 14,
     "metadata": {},
     "output_type": "execute_result"
    }
   ],
   "source": [
    "train_scores"
   ]
  },
  {
   "cell_type": "markdown",
   "metadata": {},
   "source": [
    "(이 책에서 다루는 여러 알고리즘을 포함해) 대부분의 훈련 알고리즘에는 훈련 과정을 시작하기 전에 선택해야만 하는 하이퍼파라미터가 있음. 예를 들어 랜덤 포레스트 분류기는 의사결정 트리의 앙상블(ensemble)을 만듬. 트리마다 샘플의 클래스를 예측. 랜덤 포레스트 분류기의 하이퍼파라미터는 앙상블을 할 트리의 개수. 많은 경우 하이퍼파라미터 값은 모델 선택(12장)과정을 통해 선택. 하지만 때로는 하이퍼파라미터 값의 변화에 따라 모델 성능의 변화를 시각화하는 것이 도움이 됌. 해결에서 트리 개수가 증가할 때 랜덤 포레스트 분류기의 훈련 세트 정확도와 교차검증 정확도의 변화를 그래프로 나타냄. 트리 개수가 적을 때는 훈련 세트의 점수와 교차 검증 점수가 모두 낮아 모델이 과소적합(underfit)되었음. 트리 개수를 250까지 증가하면 두 정확도 모두 변화가 없이 평탄해짐. 이 문제를 위해 대규모 랜덤 포레스트 모델을 훈련할 가치가 없음을 의미.\n",
    "\n",
    "-사이킷런에서 validation_curve 함수로 검증 곡선을 계산가능. 이 함수의 중요한 파라미터 세 개는 다음과 같음.\n",
    "\n",
    "1. param_name은 바꿀 하이퍼파라미터의 이름.\n",
    "\n",
    "2. param_range는 사용할 하이퍼파라미터의 범위.\n",
    "\n",
    "3. scoring은 모델을 평가하는 데 사용할 지표.\n",
    "\n",
    "- 사이킷런 문서: 검증 곡선(http://bit.ly/2FuwYFG)"
   ]
  },
  {
   "cell_type": "code",
   "execution_count": null,
   "metadata": {},
   "outputs": [],
   "source": []
  }
 ],
 "metadata": {
  "kernelspec": {
   "display_name": "Python 3",
   "language": "python",
   "name": "python3"
  },
  "language_info": {
   "codemirror_mode": {
    "name": "ipython",
    "version": 3
   },
   "file_extension": ".py",
   "mimetype": "text/x-python",
   "name": "python",
   "nbconvert_exporter": "python",
   "pygments_lexer": "ipython3",
   "version": "3.6.7"
  }
 },
 "nbformat": 4,
 "nbformat_minor": 2
}

{
 "cells": [
  {
   "cell_type": "markdown",
   "metadata": {},
   "source": [
    "# 11.1 교차검증 모델 만들기"
   ]
  },
  {
   "cell_type": "markdown",
   "metadata": {},
   "source": [
    "실전에서 모델이 얼마나 잘 작동할지 평가 - 데이터 전처리 파이프라인을 만들고 모델을 훈련한 다음 교차 검증으로 평가"
   ]
  },
  {
   "cell_type": "code",
   "execution_count": 13,
   "metadata": {},
   "outputs": [
    {
     "data": {
      "text/plain": [
       "0.9693916821849783"
      ]
     },
     "execution_count": 13,
     "metadata": {},
     "output_type": "execute_result"
    }
   ],
   "source": [
    "from sklearn import datasets\n",
    "from sklearn import metrics\n",
    "from sklearn.model_selection import KFold, cross_val_score\n",
    "from sklearn.pipeline import make_pipeline\n",
    "from sklearn.linear_model import LogisticRegression\n",
    "from sklearn.preprocessing import StandardScaler\n",
    "\n",
    "# 숫자 데이터 셋을 로드\n",
    "digits = datasets.load_digits()\n",
    "\n",
    "# 특성 행렬을 만듬\n",
    "features = digits.data\n",
    "\n",
    "# 타깃 벡터를 만듬\n",
    "target = digits.target\n",
    "\n",
    "# 표준화 객체를 만듬\n",
    "standardizer =StandardScaler()\n",
    "\n",
    "# 로지스틱 회귀 객체를 만듬\n",
    "\n",
    "logit =LogisticRegression()\n",
    "\n",
    "# 표준화한 다음 로지스틱 회귀를 실행하는 파이프라인 만들기\n",
    "\n",
    "pipeline = make_pipeline(standardizer,logit) #(정규화,모델)순?\n",
    "\n",
    "# k-폴드 교차검증을 만듬\n",
    "kf = KFold(n_splits=10, shuffle= True , random_state=1) # 10개\n",
    "\n",
    "# k-폴드 교차검증을 수행\n",
    "cv_results = cross_val_score(pipeline, # 파이프라인\n",
    "                             features, # 특성행렬\n",
    "                             target, # 타깃 벡터\n",
    "                             cv=kf, # 교차검증 기법\n",
    "                             scoring = 'accuracy', # 평가 지표\n",
    "                             n_jobs = -1 # 모든 CPU 코어 사용\n",
    "                            )\n",
    "\n",
    "# 평균을 계산\n",
    "cv_results.mean()"
   ]
  },
  {
   "cell_type": "code",
   "execution_count": 11,
   "metadata": {},
   "outputs": [
    {
     "data": {
      "text/plain": [
       "array([[ 0.,  0.,  5., ...,  0.,  0.,  0.],\n",
       "       [ 0.,  0.,  0., ..., 10.,  0.,  0.],\n",
       "       [ 0.,  0.,  0., ..., 16.,  9.,  0.],\n",
       "       ...,\n",
       "       [ 0.,  0.,  1., ...,  6.,  0.,  0.],\n",
       "       [ 0.,  0.,  2., ..., 12.,  0.,  0.],\n",
       "       [ 0.,  0., 10., ..., 12.,  1.,  0.]])"
      ]
     },
     "execution_count": 11,
     "metadata": {},
     "output_type": "execute_result"
    }
   ],
   "source": [
    "features"
   ]
  },
  {
   "cell_type": "code",
   "execution_count": 14,
   "metadata": {},
   "outputs": [
    {
     "data": {
      "text/plain": [
       "array([0, 1, 2, ..., 8, 9, 8])"
      ]
     },
     "execution_count": 14,
     "metadata": {},
     "output_type": "execute_result"
    }
   ],
   "source": [
    "target"
   ]
  },
  {
   "cell_type": "markdown",
   "metadata": {},
   "source": [
    "k-폴드 교차검증(KFCV: k_fold cross-validation)에서는 데이터를 폴드(fold)라고 부르는 k개의 부분으로 나눔. k-1 개 폴드를 하나으 ㅣ훈련 세트로 합쳐모델을 훈련하고 남은 폴드를 테스트 세트처럼 사용. 이를 k번 반복. 반복마다 다른 폴드를 테스트세트로 사용. k번 반복에서 얻은 모델 성능을 평균하여 최종 성능을 산출\n",
    "\n",
    "kf= KFold(n_splits=10,으로 설정해서 10개 폴드 \n"
   ]
  },
  {
   "cell_type": "code",
   "execution_count": 15,
   "metadata": {},
   "outputs": [
    {
     "data": {
      "text/plain": [
       "array([0.97777778, 0.98888889, 0.96111111, 0.94444444, 0.97777778,\n",
       "       0.98333333, 0.95555556, 0.98882682, 0.97765363, 0.93854749])"
      ]
     },
     "execution_count": 15,
     "metadata": {},
     "output_type": "execute_result"
    }
   ],
   "source": [
    "cv_results # 10개의 폴드의 점수를 몯 ㅜ확인."
   ]
  },
  {
   "cell_type": "markdown",
   "metadata": {},
   "source": [
    "\n",
    "\n",
    "# KFCV 사용시 중점사항 \n",
    "\n",
    "1. KFCV는 각 샘플이 다른 샘플과 독립적으로 생성 되었다고 가정(즉 데이터는 독립 동일 분포(independent identically distributed[IID])\n",
    "   - 데이터가 iid면 shuffle =True가 좋음\n",
    "   \n",
    "2. KFCV를 사용해 분류기를 평가할 때, 각 타깃 클래스의 샘플이 거의 같은 비율로 폴드에 담기는 것이 좋음(계층별 k-폴드) ex)성별 타깃 벡터 중에서 80% 샘플이 남성이라면 각 폴드도 80% 남성과 20% 여성 샘플로 이룸. 사이킷런에서는 KFold 클래스를 StratifiedKFoldf로 바꾸어 계층별 k-폴드 교차검증을 수행\n",
    "\n",
    "3. 검증 세트나 교차 검증을 사용할 때 훈련 세트에서 데이터를 전처리하고 이 변환을 훈련 세트와 테스트 세트에 적용하는 것ㅇ ㅣ중요!\n",
    " - ex) 표준화 객체 standardizer의 fit 메서드를 호출하여 훈련 세트의 평균과 분산을 계산. 그다음 이 변환을(transform 메서드를 사용해) 훈련세트와 테스트 세트에 모두 적용.\n"
   ]
  },
  {
   "cell_type": "code",
   "execution_count": 19,
   "metadata": {
    "collapsed": true
   },
   "outputs": [],
   "source": [
    "# 라이브러리를 임포트\n",
    "from sklearn.model_selection import train_test_split\n",
    "\n",
    "# 훈련 세트와 테스트 세트를 만듬\n",
    "features_train, features_test, target_train,target_test = train_test_split(features, target,test_size=0.1, random_state=1) \n",
    "# 여기서 features와 target은 데이터  ex 데이터 프레임 슬라이싱 해논거 X,Y"
   ]
  },
  {
   "cell_type": "code",
   "execution_count": 18,
   "metadata": {},
   "outputs": [
    {
     "data": {
      "text/plain": [
       "array([[ 0.,  0.,  2., ...,  0.,  0.,  0.],\n",
       "       [ 0.,  0.,  0., ..., 14.,  2.,  0.],\n",
       "       [ 0.,  0., 10., ...,  8.,  6.,  0.],\n",
       "       ...,\n",
       "       [ 0.,  0.,  7., ..., 13.,  2.,  0.],\n",
       "       [ 0.,  0.,  0., ..., 16.,  1.,  0.],\n",
       "       [ 0.,  0.,  8., ...,  0.,  0.,  0.]])"
      ]
     },
     "execution_count": 18,
     "metadata": {},
     "output_type": "execute_result"
    }
   ],
   "source": [
    "features_train"
   ]
  },
  {
   "cell_type": "code",
   "execution_count": 21,
   "metadata": {},
   "outputs": [
    {
     "data": {
      "text/plain": [
       "StandardScaler(copy=True, with_mean=True, with_std=True)"
      ]
     },
     "execution_count": 21,
     "metadata": {},
     "output_type": "execute_result"
    }
   ],
   "source": [
    "# 훈련 셋으로 standarizer의 fit 메서드를 호출\n",
    "standardizer.fit(features_train)"
   ]
  },
  {
   "cell_type": "code",
   "execution_count": 22,
   "metadata": {
    "collapsed": true
   },
   "outputs": [],
   "source": [
    "# 훈련 세트와 테스트 세트 모두 적용\n",
    "features_train_std = standardizer.transform(features_train)\n",
    "features_test_std=standardizer.transform(features_test)"
   ]
  },
  {
   "cell_type": "markdown",
   "metadata": {},
   "source": [
    "이렇게 하는 이유는 테스트 세트를 모르는 척하기 위해서 임. 이 전처리 객체를 훈련세트와 테스트 세트에 있는 모든 샘플로 훈련한다면 테스트 세트의 정보가 훈련 세트로 유출 됌. 이 규칙은 선택 같은 모든 전처리 단계에 적용.\n",
    "\n",
    "사이키런의 pipeline 패키지는 교차검증 기법을 사용할 때 이 규칙을 손쉽게 구현. 먼저 데이터를 전처리(ex Standardizer)하고 모델을 훈련(ex 로지스틱 회귀)하는 파이프라인 생성"
   ]
  },
  {
   "cell_type": "code",
   "execution_count": 27,
   "metadata": {
    "collapsed": true
   },
   "outputs": [],
   "source": [
    "pipeline= make_pipeline(standardizer,logit)\n",
    "# = pipeline = make_pipeline(StandardScaler(),LogisticRegression())"
   ]
  },
  {
   "cell_type": "code",
   "execution_count": 28,
   "metadata": {},
   "outputs": [
    {
     "data": {
      "text/plain": [
       "Pipeline(memory=None,\n",
       "         steps=[('standardscaler',\n",
       "                 StandardScaler(copy=True, with_mean=True, with_std=True)),\n",
       "                ('logisticregression',\n",
       "                 LogisticRegression(C=1.0, class_weight=None, dual=False,\n",
       "                                    fit_intercept=True, intercept_scaling=1,\n",
       "                                    l1_ratio=None, max_iter=100,\n",
       "                                    multi_class='auto', n_jobs=None,\n",
       "                                    penalty='l2', random_state=None,\n",
       "                                    solver='lbfgs', tol=0.0001, verbose=0,\n",
       "                                    warm_start=False))],\n",
       "         verbose=False)"
      ]
     },
     "execution_count": 28,
     "metadata": {},
     "output_type": "execute_result"
    }
   ],
   "source": [
    "pipeline"
   ]
  },
  {
   "cell_type": "code",
   "execution_count": 30,
   "metadata": {
    "collapsed": true
   },
   "outputs": [],
   "source": [
    "# k폴드 교차 검증 수행\n",
    "\n",
    "cv_results = cross_val_score(pipeline,\n",
    "                            features,\n",
    "                            target,\n",
    "                            cv=kf, # 위에 kf 교차검증\n",
    "                            scoring='accuracy',\n",
    "                            n_jobs= -1) # 모든 CPU 코어 사용\n"
   ]
  },
  {
   "cell_type": "code",
   "execution_count": 31,
   "metadata": {},
   "outputs": [
    {
     "data": {
      "text/plain": [
       "array([0.97777778, 0.98888889, 0.96111111, 0.94444444, 0.97777778,\n",
       "       0.98333333, 0.95555556, 0.98882682, 0.97765363, 0.93854749])"
      ]
     },
     "execution_count": 31,
     "metadata": {},
     "output_type": "execute_result"
    }
   ],
   "source": [
    "cv_results"
   ]
  },
  {
   "cell_type": "markdown",
   "metadata": {},
   "source": [
    "-참고\n",
    "\n",
    "모든 통계학자가 교차검증을 알아야만 하는 이유(http://bit.ly/2Fzhz6X)\n",
    "\n",
    "잘못된 교차검증(http://bit.ly/2FzfIiw)"
   ]
  },
  {
   "cell_type": "markdown",
   "metadata": {},
   "source": [
    "shuffleSplit는 반복 횟수에 상관없이 훈련 폴드와 테스트 폴드 크기를 임의로 지정할 수 있음. train_size,test_size 매개변수에는 사용할 샘플 개수 또는 비율을 입력. 반복마다 랜덤하게 분할하기 때문에 하나의 샘플이 여러 번 테스트 폴드에 포함될 수 있음. 계층별 교차검증을 위한 StratifiedShuffleSplit도 있음. 다음 코드는 훈련 50%, 테스트 폴드 20%를 사용해 10번 반복하는 예"
   ]
  },
  {
   "cell_type": "code",
   "execution_count": 43,
   "metadata": {},
   "outputs": [
    {
     "name": "stdout",
     "output_type": "stream",
     "text": [
      "[0.96111111 0.98333333 0.95555556 0.96666667 0.97777778 0.96666667\n",
      " 0.95       0.95       0.95277778 0.96666667]\n",
      "0.9630555555555554\n"
     ]
    }
   ],
   "source": [
    "from sklearn.model_selection import ShuffleSplit\n",
    "# ShuffleSplit 분할기 생성\n",
    "ss = ShuffleSplit(n_splits = 10, train_size= 0.5, test_size=0.2, random_state= 42)\n",
    "\n",
    "# 교차 검증 수행\n",
    "\n",
    "cv_results22 = cross_val_score(pipeline,\n",
    "                            features,\n",
    "                            target,\n",
    "                            cv=ss,\n",
    "                            scoring='accuracy',\n",
    "                            n_jobs = -1)\n",
    "\n",
    "print(cv_results22)\n",
    "print(cv_results22.mean())"
   ]
  },
  {
   "cell_type": "code",
   "execution_count": 44,
   "metadata": {},
   "outputs": [
    {
     "data": {
      "text/plain": [
       "array([0.97777778, 0.97777778, 0.96666667, 0.95555556, 0.97222222,\n",
       "       0.96666667, 0.96666667, 0.97206704, 0.96648045, 0.93296089,\n",
       "       0.98888889, 0.97777778, 0.97222222, 0.97222222, 0.95      ,\n",
       "       0.96666667, 0.96666667, 0.98324022, 0.98324022, 0.96648045,\n",
       "       0.97777778, 0.95      , 0.97222222, 0.98888889, 0.97777778,\n",
       "       0.95555556, 0.95555556, 0.98882682, 0.97765363, 0.96648045,\n",
       "       0.98333333, 0.95555556, 0.96111111, 0.97777778, 0.95555556,\n",
       "       0.96111111, 0.97777778, 0.97765363, 0.96648045, 0.96648045,\n",
       "       0.97222222, 0.97777778, 0.95555556, 0.97222222, 0.96111111,\n",
       "       0.98888889, 0.96111111, 0.93296089, 0.98882682, 0.98882682])"
      ]
     },
     "execution_count": 44,
     "metadata": {},
     "output_type": "execute_result"
    }
   ],
   "source": [
    "from sklearn.model_selection import RepeatedKFold\n",
    "\n",
    "# RepeatedKFold 분할기 생성\n",
    "rkf = RepeatedKFold(n_splits= 10, n_repeats= 5 , random_state= 42)\n",
    "\n",
    "# 교차 검증 수행\n",
    "\n",
    "cv_results33 = cross_val_score(pipeline,\n",
    "                              features,\n",
    "                              target,\n",
    "                              cv=rkf,\n",
    "                              scoring='accuracy',\n",
    "                              n_jobs= -1)\n",
    "\n",
    "cv_results33 # RepeatefKFold 가 10개로 스필릿하고 5번 반복이라 50개"
   ]
  },
  {
   "cell_type": "code",
   "execution_count": 45,
   "metadata": {},
   "outputs": [
    {
     "data": {
      "text/plain": [
       "0.9695065176908755"
      ]
     },
     "execution_count": 45,
     "metadata": {},
     "output_type": "execute_result"
    }
   ],
   "source": [
    "cv_results33.mean()"
   ]
  },
  {
   "cell_type": "code",
   "execution_count": 46,
   "metadata": {},
   "outputs": [
    {
     "data": {
      "text/plain": [
       "50"
      ]
     },
     "execution_count": 46,
     "metadata": {},
     "output_type": "execute_result"
    }
   ],
   "source": [
    "# 검증 개수를 확인\n",
    "len(cv_results33)"
   ]
  },
  {
   "cell_type": "markdown",
   "metadata": {},
   "source": [
    "# 11.2 기본 회귀모델 만들기"
   ]
  },
  {
   "cell_type": "markdown",
   "metadata": {},
   "source": [
    "다른 모델과 비교하기 위해 간단한 기본 회귀 모델 생성 -사이킷런의 DummyRegressor를 사용해 기본 모델로 사용할 간단한 더미 모델 생성"
   ]
  },
  {
   "cell_type": "code",
   "execution_count": 1,
   "metadata": {},
   "outputs": [],
   "source": [
    "from sklearn.datasets import load_boston\n",
    "from sklearn.dummy import DummyRegressor\n",
    "from sklearn.model_selection import train_test_split\n",
    "\n",
    "# 데이터를 로드\n",
    "boston = load_boston()\n",
    "\n",
    "# 특성 생성 ########################\n",
    "features, target = boston.data, boston.target\n",
    "\n",
    "# 훈련 세트와 테스트 세트를 나눔\n",
    "\n",
    "features_train, features_test, target_train,target_test = train_test_split(features,target, train_size=0.5,test_size=0.2,random_state=0)"
   ]
  },
  {
   "cell_type": "code",
   "execution_count": 2,
   "metadata": {},
   "outputs": [
    {
     "data": {
      "text/plain": [
       "-0.00037548940353260285"
      ]
     },
     "execution_count": 2,
     "metadata": {},
     "output_type": "execute_result"
    }
   ],
   "source": [
    "# 더미 회귀 모델 생성\n",
    "\n",
    "dummy = DummyRegressor(strategy='mean')\n",
    "\n",
    "# 모델 학습\n",
    "dummy.fit(features_train,target_train)\n",
    "\n",
    "# R^2 점수를 계산???\n",
    "dummy.score(features_test,target_test)"
   ]
  },
  {
   "cell_type": "code",
   "execution_count": 69,
   "metadata": {
    "collapsed": true
   },
   "outputs": [],
   "source": [
    "from sklearn.datasets import load_boston\n",
    "from sklearn.dummy import DummyRegressor\n",
    "from sklearn.model_selection import train_test_split\n",
    "\n",
    "# 데이터를 로드\n",
    "boston = load_boston()\n",
    "\n",
    "# 특성 생성 ########################\n",
    "features, target = boston.data, boston.target\n",
    "\n",
    "# 훈련 세트와 테스트 세트를 나눔\n",
    "\n",
    "features_train, features_test, target_train,target_test = train_test_split(features,target,random_state=0)"
   ]
  },
  {
   "cell_type": "code",
   "execution_count": 70,
   "metadata": {},
   "outputs": [
    {
     "data": {
      "text/plain": [
       "-0.001119359203955339"
      ]
     },
     "execution_count": 70,
     "metadata": {},
     "output_type": "execute_result"
    }
   ],
   "source": [
    "# 더미 회귀 모델 생성\n",
    "\n",
    "dummy = DummyRegressor(strategy='mean')\n",
    "\n",
    "# 모델 학습\n",
    "dummy.fit(features_train,target_train)\n",
    "\n",
    "# R^2 점수를 계산???\n",
    "dummy.score(features_test,target_test)"
   ]
  },
  {
   "cell_type": "code",
   "execution_count": 71,
   "metadata": {},
   "outputs": [
    {
     "name": "stdout",
     "output_type": "stream",
     "text": [
      "(379, 13) \t (127, 13) \t (379,) \t (127,)\n"
     ]
    }
   ],
   "source": [
    "print(features_train.shape,'\\t', features_test.shape, '\\t', target_train.shape, '\\t', target_test.shape )"
   ]
  },
  {
   "cell_type": "markdown",
   "metadata": {},
   "source": [
    "다른 모델을 훈련하고 평가하여 성능 점수를 비교\n"
   ]
  },
  {
   "cell_type": "code",
   "execution_count": 74,
   "metadata": {},
   "outputs": [
    {
     "data": {
      "text/plain": [
       "0.6354638433202114"
      ]
     },
     "execution_count": 74,
     "metadata": {},
     "output_type": "execute_result"
    }
   ],
   "source": [
    "from sklearn.linear_model import LinearRegression\n",
    "\n",
    "ols = LinearRegression()\n",
    "\n",
    "ols.fit(features_train,target_train)\n",
    "\n",
    "ols.score(features_test,target_test)"
   ]
  },
  {
   "cell_type": "markdown",
   "metadata": {},
   "source": [
    " DummyRegressor 클래스는 실제 모델과 비교하기 위해 사용할 수 있는 매우 간다한 모델 생성. 기존 제품이나 시스템의 단순한 예측방식을 흉내 내는데 종종 사용. 예로 모든 새로운 사용자는 특성에 상관없이 첫 달에 100달러를 사용할 것이라고 가정하도록 애초부투터 시스템에 하드코딩되어 있다고 가정하면 기본 모델로 삼으면 머신러닝 방식을 사용햇을 때 장점을 명확히 확인 가능 !!\n",
    " \n",
    " \n",
    " DummyRegressor 클래스는 strategy 매개변수를 사용해 예측 방법을 지정. 훈련 세트의 평균 또는 중간값을 사용. 또한 strategy를 constant로 지정하고 constant 매개 변수를 사용하면 모든 샘플에 대해 일정한 값으로 예측하는 더미 회귀 모델을 만들 수 있음\n",
    " \n",
    " strategy가 mean일 때 평균값으로 예측하고 median일 대 중간값으로 예측 strategy='quantile'로 짖어하면 quantile 매개변수에 지정한 분위값을 예측으로 사용. quantile 매개변수에는 0과 1사이의 실수값을 지정하며 0.5일 대 중간값과 같고 0이면 최솟값 1이면 최댓값!"
   ]
  },
  {
   "cell_type": "code",
   "execution_count": 75,
   "metadata": {},
   "outputs": [
    {
     "data": {
      "text/plain": [
       "-0.06510502029325727"
      ]
     },
     "execution_count": 75,
     "metadata": {},
     "output_type": "execute_result"
    }
   ],
   "source": [
    "# 모든 샘플에 대해 20으로 예측하는 더미 회귀모델 생성.\n",
    "\n",
    "clf = DummyRegressor(strategy ='constant', constant=20)\n",
    "clf.fit(features_train,target_train)\n",
    "\n",
    "clf.score(features_test,target_test)"
   ]
  },
  {
   "cell_type": "code",
   "execution_count": 78,
   "metadata": {},
   "outputs": [
    {
     "data": {
      "text/plain": [
       "array([50., 50., 50., 50., 50., 50., 50., 50., 50., 50., 50., 50., 50.,\n",
       "       50., 50., 50., 50., 50., 50., 50., 50., 50., 50., 50., 50., 50.,\n",
       "       50., 50., 50., 50., 50., 50., 50., 50., 50., 50., 50., 50., 50.,\n",
       "       50., 50., 50., 50., 50., 50., 50., 50., 50., 50., 50., 50., 50.,\n",
       "       50., 50., 50., 50., 50., 50., 50., 50., 50., 50., 50., 50., 50.,\n",
       "       50., 50., 50., 50., 50., 50., 50., 50., 50., 50., 50., 50., 50.,\n",
       "       50., 50., 50., 50., 50., 50., 50., 50., 50., 50., 50., 50., 50.,\n",
       "       50., 50., 50., 50., 50., 50., 50., 50., 50., 50., 50., 50., 50.,\n",
       "       50., 50., 50., 50., 50., 50., 50., 50., 50., 50., 50., 50., 50.,\n",
       "       50., 50., 50., 50., 50., 50., 50., 50., 50., 50.])"
      ]
     },
     "execution_count": 78,
     "metadata": {},
     "output_type": "execute_result"
    }
   ],
   "source": [
    "clf = DummyRegressor(strategy ='quantile', quantile=1.0)\n",
    "clf.fit(features_train,target_train)\n",
    "\n",
    "clf.predict(features_test)"
   ]
  },
  {
   "cell_type": "code",
   "execution_count": 83,
   "metadata": {},
   "outputs": [
    {
     "data": {
      "text/plain": [
       "50.0"
      ]
     },
     "execution_count": 83,
     "metadata": {},
     "output_type": "execute_result"
    }
   ],
   "source": [
    "target_train.max()"
   ]
  },
  {
   "cell_type": "markdown",
   "metadata": {},
   "source": [
    "# 11.3 기본 분류 모델 만들기"
   ]
  },
  {
   "cell_type": "markdown",
   "metadata": {},
   "source": [
    "다른 모델과 비교하기 위해 간단한 기본 회귀모델 생성 -DummyClassifier"
   ]
  },
  {
   "cell_type": "code",
   "execution_count": 88,
   "metadata": {},
   "outputs": [
    {
     "data": {
      "text/plain": [
       "0.42105263157894735"
      ]
     },
     "execution_count": 88,
     "metadata": {},
     "output_type": "execute_result"
    }
   ],
   "source": [
    "from sklearn.dummy import DummyClassifier\n",
    "from sklearn.datasets import load_iris\n",
    "from sklearn.model_selection import train_test_split\n",
    "\n",
    "iris = load_iris()\n",
    "\n",
    "X,Y = iris.data, iris.target\n",
    "\n",
    "X_train,X_test,Y_train,Y_test = train_test_split(X,Y, random_state= 0)\n",
    "\n",
    "# 더미 분류모델 생성\n",
    "dummy = DummyClassifier(strategy='uniform', random_state= 1)\n",
    "\n",
    "# 모델 학습\n",
    "dummy.fit(X_train,Y_train)\n",
    "\n",
    "# 모델 평가\n",
    "dummy.score(X_test,Y_test)"
   ]
  },
  {
   "cell_type": "code",
   "execution_count": 91,
   "metadata": {},
   "outputs": [
    {
     "data": {
      "text/plain": [
       "0.9736842105263158"
      ]
     },
     "execution_count": 91,
     "metadata": {},
     "output_type": "execute_result"
    }
   ],
   "source": [
    "'''\n",
    "더미분류모델을 랜덤포레스트와 비교\n",
    "'''\n",
    "from sklearn.ensemble import RandomForestClassifier\n",
    "\n",
    "RFclassifier = RandomForestClassifier()\n",
    "\n",
    "RFclassifier.fit(X_train,Y_train)\n",
    "RFclassifier.score(X_test,Y_test)"
   ]
  },
  {
   "cell_type": "markdown",
   "metadata": {},
   "source": [
    "분류 모델의 성능을 측정하는 일반적인 방법은 랜덤한 추측보다 얼마나 더 나은지 비교하는 것입니다. 사이킷런의 DummyClassifier를 사용하면 이런 비교를 쉽게 할 수 있음. strategy 매개변수는 예측값을 생성하는 여러 가지 옵션을 제공함. 전형적으로 많이 사용하는 두 가지 전략이 있음. \n",
    "\n",
    "\n",
    "첫 번째는 stratified 옵션은 훈련 세트에 있는 타깃 벡터의 클래스 비율에 비례하는 예측을 만듬.(즉, 훈련 세트에서 샘플의 20%가 여성이라면 DummyClassifier는 20%를 여성이라고 예측 \n",
    "\n",
    "두 번째는 uniform 옵션은 클래스 비중이 균등하도록 랜덤하게 예측. 예를 들어 샘플의 20%가 여성이고 80%가 남서일 때 uniform 옵션은 50% 여성, 50% 남성으로 예측\n",
    "\n",
    "- 사이킷런 문서:DummyClassifier(http://bit.ly/2Fr178G)"
   ]
  },
  {
   "cell_type": "code",
   "execution_count": 92,
   "metadata": {},
   "outputs": [
    {
     "data": {
      "text/plain": [
       "array([2, 2, 2, 2, 2, 2, 2, 2, 2, 2, 2, 2, 2, 2, 2, 2, 2, 2, 2, 2, 2, 2,\n",
       "       2, 2, 2, 2, 2, 2, 2, 2, 2, 2, 2, 2, 2, 2, 2, 2])"
      ]
     },
     "execution_count": 92,
     "metadata": {},
     "output_type": "execute_result"
    }
   ],
   "source": [
    "'''\n",
    "strategy에 자주 사용하는 또다른 옵션은 most_frequent. 이옵션은 무조건 훈련 세트에서 가장 많은 타깃 레이블로 예측을 만듬.\n",
    "'''\n",
    "\n",
    "dummy=DummyClassifier(strategy='most_frequent')\n",
    "dummy.fit(X_train,Y_train)\n",
    "\n",
    "dummy.predict(X_test)\n"
   ]
  },
  {
   "cell_type": "code",
   "execution_count": 95,
   "metadata": {},
   "outputs": [
    {
     "data": {
      "text/plain": [
       "array([37, 34, 41], dtype=int64)"
      ]
     },
     "execution_count": 95,
     "metadata": {},
     "output_type": "execute_result"
    }
   ],
   "source": [
    "import numpy as np\n",
    "# 훈련 세트의 타깃 개수를 확인\n",
    "np.bincount(Y_train)"
   ]
  },
  {
   "cell_type": "markdown",
   "metadata": {},
   "source": [
    "# 11.4 이진 분류기의 예측 평가하기 (p288 중요!!)"
   ]
  },
  {
   "cell_type": "markdown",
   "metadata": {},
   "source": [
    "-훈련된 분류 모델의 품질을 평가 - 사이킷런의 cross-val_score 함수를 사용해 교차검증을 수행. scoring 매개 변수에 'accurcy'정확도,\n",
    "'precision' 정밀도, 'recall':재현율, F1 등이 있음. "
   ]
  },
  {
   "cell_type": "code",
   "execution_count": 99,
   "metadata": {},
   "outputs": [
    {
     "data": {
      "text/plain": [
       "array([0.9555, 0.95  , 0.9585, 0.9555, 0.956 ])"
      ]
     },
     "execution_count": 99,
     "metadata": {},
     "output_type": "execute_result"
    }
   ],
   "source": [
    "from sklearn.datasets import make_classification\n",
    "from sklearn.linear_model import LogisticRegression\n",
    "from sklearn.model_selection import cross_val_score\n",
    "\n",
    "# 특성 행렬과 타깃 벡터 생성\n",
    "X,y = make_classification(n_samples =10000, n_features=3, n_informative=3, n_redundant=0, n_classes =2, random_state=1)\n",
    "\n",
    "# 로지스틱 회귀 모델 생성.\n",
    "logit = LogisticRegression()\n",
    "\n",
    "# 정확도를 사용해 교차검증을 수헹\n",
    "\n",
    "cv_results= cross_val_score(logit,X,y,scoring='accuracy',n_jobs=-1) # 위에 cv= kf 나 이런거 교차검증 기법 설정한거랑 비교!!\n",
    "cv_results"
   ]
  },
  {
   "cell_type": "code",
   "execution_count": 100,
   "metadata": {},
   "outputs": [
    {
     "data": {
      "text/plain": [
       "array([0.95963673, 0.94820717, 0.9635996 , 0.96149949, 0.96060606])"
      ]
     },
     "execution_count": 100,
     "metadata": {},
     "output_type": "execute_result"
    }
   ],
   "source": [
    "cross_val_score(logit,X,y,scoring='precision')"
   ]
  },
  {
   "cell_type": "code",
   "execution_count": 101,
   "metadata": {},
   "outputs": [
    {
     "data": {
      "text/plain": [
       "array([0.951, 0.952, 0.953, 0.949, 0.951])"
      ]
     },
     "execution_count": 101,
     "metadata": {},
     "output_type": "execute_result"
    }
   ],
   "source": [
    "cross_val_score(logit,X,y,scoring='recall')"
   ]
  },
  {
   "cell_type": "code",
   "execution_count": 102,
   "metadata": {},
   "outputs": [
    {
     "data": {
      "text/plain": [
       "(10000, 3)"
      ]
     },
     "execution_count": 102,
     "metadata": {},
     "output_type": "execute_result"
    }
   ],
   "source": [
    "X.shape"
   ]
  },
  {
   "cell_type": "code",
   "execution_count": 103,
   "metadata": {},
   "outputs": [
    {
     "data": {
      "text/plain": [
       "(10000,)"
      ]
     },
     "execution_count": 103,
     "metadata": {},
     "output_type": "execute_result"
    }
   ],
   "source": [
    "y.shape"
   ]
  },
  {
   "cell_type": "code",
   "execution_count": 104,
   "metadata": {},
   "outputs": [
    {
     "data": {
      "text/plain": [
       "array([0.95529884, 0.9500998 , 0.95827049, 0.95520886, 0.95577889])"
      ]
     },
     "execution_count": 104,
     "metadata": {},
     "output_type": "execute_result"
    }
   ],
   "source": [
    "'''\n",
    "F1 = 2 * (정밀도 * 재현율) /(정밀도 + 재현율)\n",
    "\n",
    "!!!!!! 이는 진짜 양성 레이블을 가진 샘플을 양성으로 성공적으로 예측한 정도를 측정.\n",
    "\n",
    "F1은 정밀도와 재현율을 비교적 동등학게 취급해 이 둘 사이의 균형을 표현. \n",
    "'''\n",
    "\n",
    "cross_val_score(logit,X,y,scoring='f1')"
   ]
  },
  {
   "cell_type": "markdown",
   "metadata": {},
   "source": [
    " # cross_val_score를 사용하는 대신 진짜 y 값과 예측한 y 값이 있으면 직접 정확도와 재현율을 계산할 수 있음 !!!!!!!!!!!  즉, Y_test, Y_pred가 있으면 !!!\n"
   ]
  },
  {
   "cell_type": "code",
   "execution_count": 112,
   "metadata": {},
   "outputs": [
    {
     "data": {
      "text/plain": [
       "0.947"
      ]
     },
     "execution_count": 112,
     "metadata": {},
     "output_type": "execute_result"
    }
   ],
   "source": [
    "from sklearn.model_selection import train_test_split\n",
    "from sklearn.metrics import accuracy_score\n",
    "\n",
    "X_train,X_test, Y_train,Y_test = train_test_split(X,y,test_size = 0.1, random_state=1)\n",
    "\n",
    "# 테스트 셋의 예측을 만듭!!!!!!!!!!!\n",
    "y_hat = logit.fit(X_train,Y_train).predict(X_test)\n",
    "\n",
    "# 정확도를 계산\n",
    "accuracy_score(Y_test,y_hat)"
   ]
  },
  {
   "cell_type": "markdown",
   "metadata": {},
   "source": [
    "- 정확도의 역설(http://bit.ly/2FxTpx0)\n",
    "\n",
    "cross_val_score 함수의 cv 매개변수를 지정하지 않으면 회귀일 때는 KFold, 분류 일때는 StratifiedKFold 분할기를 사용. cv 매개변수에 정수를 입력해 기본 분할기의 폴드 수를 지정 가능."
   ]
  },
  {
   "cell_type": "code",
   "execution_count": 113,
   "metadata": {},
   "outputs": [
    {
     "data": {
      "text/plain": [
       "{'fit_time': array([0.01835179, 0.01835132, 0.01785779, 0.0148797 , 0.01537395]),\n",
       " 'score_time': array([0.00347257, 0.00148845, 0.00148606, 0.00198555, 0.00148821]),\n",
       " 'test_accuracy': array([0.9555, 0.95  , 0.9585, 0.9555, 0.956 ]),\n",
       " 'test_precision': array([0.95963673, 0.94820717, 0.9635996 , 0.96149949, 0.96060606])}"
      ]
     },
     "execution_count": 113,
     "metadata": {},
     "output_type": "execute_result"
    }
   ],
   "source": [
    "'''\n",
    "cross_validate 메서드는 cross_val_score 와 사용법이 매우 비슷하짐나 scoring 매개변수에 여러 개의 평가지표를 추가 가능\n",
    "\n",
    "scikit-learn ==0.22 에서 cross_val_score와 cross_validate의 cv 기본값이 3에서 5로 변경됌.\n",
    "\n",
    "\n",
    "'''\n",
    "\n",
    "from sklearn.model_selection import cross_validate\n",
    "\n",
    "cross_validate(logit,X,y, scoring=['accuracy','precision'])"
   ]
  },
  {
   "cell_type": "markdown",
   "metadata": {},
   "source": [
    "# 11.5 이진 분류기 임곗값 평가하기 (중요!!!!!!!!!!!!!!!!)\n"
   ]
  },
  {
   "cell_type": "markdown",
   "metadata": {},
   "source": [
    "이진 분류기를 여러 가지 확률 임곗값으로 평가 - ROC 곡 선을 이용해서 - ROC는 확률 임곗값(즉 어떤 샘플을 한 클래스로 예측할 확률)마다 진짜 양성과 거짓 양성 개수를 비교. roc_curve 함수를 사용해 임곗값마다 진짜 양성과 거짓 양성을 계산해 그래프를 그림"
   ]
  },
  {
   "cell_type": "code",
   "execution_count": 116,
   "metadata": {},
   "outputs": [
    {
     "name": "stdout",
     "output_type": "stream",
     "text": [
      "(10000, 10)\n",
      "(10000,)\n"
     ]
    }
   ],
   "source": [
    "import matplotlib.pyplot as plt\n",
    "\n",
    "from sklearn.datasets import make_classification\n",
    "from sklearn.metrics import roc_curve, roc_auc_score\n",
    "from sklearn.linear_model import LogisticRegression\n",
    "from sklearn.model_selection import train_test_split\n",
    "\n",
    "# 특성 행렬과 타깃 벡터 생성\n",
    "X,Y = make_classification(n_samples=10000,n_features=10,n_classes= 2, n_informative=3,random_state=3)\n",
    "print(X.shape)\n",
    "print(Y.shape)"
   ]
  },
  {
   "cell_type": "code",
   "execution_count": 117,
   "metadata": {},
   "outputs": [
    {
     "data": {
      "text/plain": [
       "LogisticRegression(C=1.0, class_weight=None, dual=False, fit_intercept=True,\n",
       "                   intercept_scaling=1, l1_ratio=None, max_iter=100,\n",
       "                   multi_class='auto', n_jobs=None, penalty='l2',\n",
       "                   random_state=None, solver='lbfgs', tol=0.0001, verbose=0,\n",
       "                   warm_start=False)"
      ]
     },
     "execution_count": 117,
     "metadata": {},
     "output_type": "execute_result"
    }
   ],
   "source": [
    "X_train,X_test, Y_train,Y_test = train_test_split(X,Y,test_size =0.1, random_state = 1)\n",
    "\n",
    "logit =LogisticRegression()\n",
    "\n",
    "logit.fit(X_train,Y_train)\n",
    "\n"
   ]
  },
  {
   "cell_type": "code",
   "execution_count": null,
   "metadata": {
    "collapsed": true
   },
   "outputs": [],
   "source": [
    "# 예측 확률을 계산 !!\n",
    "\n",
    "Y_probabilities1 =logit.predict_proba(X_test)"
   ]
  },
  {
   "cell_type": "markdown",
   "metadata": {},
   "source": [
    "## 이거 대로하면 앞에는 loss고 뒤에는 evaluation임!!!??"
   ]
  },
  {
   "cell_type": "code",
   "execution_count": 133,
   "metadata": {},
   "outputs": [
    {
     "data": {
      "text/plain": [
       "array([[0.86891533, 0.13108467],\n",
       "       [0.46315541, 0.53684459],\n",
       "       [0.03395355, 0.96604645],\n",
       "       ...,\n",
       "       [0.46720208, 0.53279792],\n",
       "       [0.67447765, 0.32552235],\n",
       "       [0.16098342, 0.83901658]])"
      ]
     },
     "execution_count": 133,
     "metadata": {},
     "output_type": "execute_result"
    }
   ],
   "source": [
    "Y_probabilities1 ## 이거 대로하면 앞에는 loss고 뒤에는 evaluation임!!!?? ㄴㄴ 라벨 0일 확률 이고 라벨 1일 확률 각각 그래서 더하면 1"
   ]
  },
  {
   "cell_type": "code",
   "execution_count": 134,
   "metadata": {},
   "outputs": [
    {
     "data": {
      "text/plain": [
       "(1000, 2)"
      ]
     },
     "execution_count": 134,
     "metadata": {},
     "output_type": "execute_result"
    }
   ],
   "source": [
    "Y_probabilities1.shape"
   ]
  },
  {
   "cell_type": "code",
   "execution_count": 136,
   "metadata": {},
   "outputs": [
    {
     "data": {
      "text/plain": [
       "array([1.31084671e-01, 5.36844586e-01, 9.66046449e-01, 6.03902173e-01,\n",
       "       3.33293891e-01, 9.29492836e-01, 3.19003239e-02, 1.56032410e-01,\n",
       "       6.70107768e-01, 8.73431380e-02, 8.30474338e-01, 8.69109075e-02,\n",
       "       3.33804458e-01, 3.63626066e-02, 6.81802533e-01, 1.73373620e-01,\n",
       "       7.22134622e-01, 4.87326359e-01, 2.61709037e-02, 1.16288984e-02,\n",
       "       7.62379212e-01, 1.67309975e-01, 6.60844828e-01, 5.18592599e-02,\n",
       "       4.94697677e-01, 3.45358555e-02, 6.22134861e-02, 3.20343218e-02,\n",
       "       9.81785826e-01, 8.08003286e-01, 9.61497265e-01, 2.59031885e-02,\n",
       "       8.73104226e-01, 7.64561385e-01, 9.88453045e-01, 7.49357769e-01,\n",
       "       9.48606507e-02, 8.14189305e-02, 6.19103863e-02, 5.78306854e-02,\n",
       "       1.30000494e-01, 5.30466915e-02, 4.62585839e-01, 9.61724504e-01,\n",
       "       6.44319743e-02, 8.41273019e-01, 6.02235514e-01, 5.66586488e-02,\n",
       "       2.91293386e-01, 3.69804799e-02, 1.67257479e-02, 3.34332577e-01,\n",
       "       1.14989723e-01, 1.21588312e-01, 9.97248833e-01, 9.92123682e-01,\n",
       "       3.45571091e-01, 6.07954156e-01, 9.83948554e-01, 6.31066909e-01,\n",
       "       1.45939281e-01, 8.29517374e-01, 8.05857503e-01, 9.59729627e-01,\n",
       "       1.92047412e-01, 9.95348102e-01, 3.16371823e-02, 5.77144717e-01,\n",
       "       1.95028265e-01, 4.86312883e-01, 9.86285864e-01, 9.17112880e-01,\n",
       "       9.64386408e-01, 9.61749006e-01, 5.90974293e-01, 9.31548307e-01,\n",
       "       9.73855791e-01, 1.02770392e-01, 3.65814726e-02, 8.42212989e-01,\n",
       "       9.67457878e-01, 1.05799248e-01, 2.48775713e-01, 4.99196776e-01,\n",
       "       5.13759542e-01, 5.62441361e-01, 3.29326248e-01, 7.06870758e-01,\n",
       "       9.93868872e-01, 1.08087515e-01, 2.30923197e-01, 8.31861841e-01,\n",
       "       6.33646206e-01, 9.96932393e-01, 5.91144285e-01, 1.11359153e-02,\n",
       "       6.02825779e-01, 5.01071307e-01, 9.61544272e-01, 5.15192250e-01,\n",
       "       9.31723061e-01, 8.90586447e-03, 3.13847071e-02, 8.70409381e-01,\n",
       "       1.16541838e-01, 9.37947112e-01, 4.69469820e-02, 1.75980543e-01,\n",
       "       7.76705290e-01, 2.22195195e-01, 9.66704690e-01, 5.21127194e-01,\n",
       "       2.85045438e-01, 6.53907724e-01, 7.71743170e-01, 7.86563812e-01,\n",
       "       3.20120165e-02, 8.24245084e-01, 3.93002945e-02, 7.74861661e-01,\n",
       "       8.57540873e-01, 5.41659164e-01, 8.28151510e-02, 9.18824646e-01,\n",
       "       4.18683504e-01, 4.78316606e-02, 3.77721007e-01, 6.07835531e-01,\n",
       "       6.58420572e-02, 8.11988277e-01, 9.42431631e-01, 9.94034905e-01,\n",
       "       7.42221032e-01, 9.41812310e-01, 8.51667017e-01, 2.21278366e-01,\n",
       "       9.99138641e-01, 6.41635688e-02, 4.88129729e-01, 1.16788743e-02,\n",
       "       7.39885166e-01, 3.35689649e-01, 6.09413257e-03, 3.84179587e-01,\n",
       "       2.15816365e-01, 9.22177560e-02, 9.93039753e-02, 1.89076956e-01,\n",
       "       3.76285338e-01, 7.76367294e-01, 8.41250005e-01, 9.26603803e-01,\n",
       "       9.79070833e-01, 1.09266333e-01, 7.03547791e-01, 8.94681566e-01,\n",
       "       9.34055277e-01, 9.57231525e-01, 4.24821212e-02, 7.42430923e-01,\n",
       "       5.72415003e-01, 1.95177664e-01, 9.84647357e-01, 7.91737070e-01,\n",
       "       1.79304806e-01, 9.06145354e-01, 7.69269890e-01, 2.69872011e-01,\n",
       "       4.56508179e-01, 8.64180033e-02, 1.95383509e-01, 9.59562955e-01,\n",
       "       2.88073938e-02, 3.51937794e-01, 9.44156751e-01, 2.86283867e-01,\n",
       "       2.63616934e-01, 5.77258178e-01, 3.39420654e-01, 2.58421992e-02,\n",
       "       2.80909590e-01, 4.60073358e-02, 8.24113509e-01, 5.68787793e-02,\n",
       "       3.20749051e-01, 9.87269764e-01, 5.64132292e-01, 1.84016570e-01,\n",
       "       9.74312645e-01, 9.98456810e-01, 1.30467563e-02, 3.51306816e-03,\n",
       "       8.75210763e-01, 9.91628986e-02, 6.42841430e-03, 7.54567454e-02,\n",
       "       6.34939255e-02, 1.51541964e-01, 9.54224497e-02, 1.93477880e-02,\n",
       "       1.84560614e-02, 7.16520132e-01, 2.25102317e-02, 9.12406795e-01,\n",
       "       4.64045857e-01, 1.49829090e-01, 9.12482890e-01, 8.51429151e-02,\n",
       "       8.56068944e-01, 9.45483389e-01, 9.37044363e-01, 9.62996154e-01,\n",
       "       5.28184336e-01, 6.07215187e-01, 3.04104972e-01, 3.23182737e-02,\n",
       "       9.11725464e-01, 8.93274718e-01, 2.75395323e-01, 9.27950226e-01,\n",
       "       4.73480544e-01, 2.04843432e-01, 2.55752132e-01, 1.16350194e-02,\n",
       "       7.31634026e-02, 7.56874220e-01, 8.54414559e-01, 7.67714926e-01,\n",
       "       5.51389779e-03, 1.16657806e-01, 1.19621904e-02, 8.05615211e-01,\n",
       "       1.16287989e-01, 5.36419602e-01, 1.39062913e-01, 7.20147512e-01,\n",
       "       4.18879438e-01, 7.18240737e-02, 4.75449761e-01, 9.45937085e-01,\n",
       "       8.38145469e-01, 2.34548194e-01, 9.52136837e-01, 4.45784664e-01,\n",
       "       9.07210650e-01, 9.34052431e-01, 9.96247613e-01, 5.96363263e-01,\n",
       "       6.16255536e-01, 9.84738221e-01, 9.51869635e-01, 9.55473974e-02,\n",
       "       2.22740004e-01, 3.58381932e-02, 1.89318407e-01, 3.62512519e-02,\n",
       "       9.72451311e-01, 9.16649536e-01, 2.68414126e-01, 1.98014874e-01,\n",
       "       8.95690460e-01, 5.24573829e-01, 9.55010376e-01, 1.41752572e-02,\n",
       "       6.20653781e-01, 9.15102133e-01, 3.01574527e-03, 4.46714687e-01,\n",
       "       6.36247314e-01, 9.18409945e-01, 5.66853609e-01, 2.09010600e-01,\n",
       "       1.06485986e-01, 9.33593251e-01, 3.77082335e-01, 3.22617680e-01,\n",
       "       3.06477789e-02, 1.49127240e-01, 8.20923594e-02, 9.31210549e-01,\n",
       "       2.22371285e-01, 4.20082870e-02, 5.44553479e-01, 1.71165207e-02,\n",
       "       8.87402902e-01, 1.90667709e-02, 7.05739332e-01, 2.78396940e-01,\n",
       "       2.62370581e-02, 4.87922973e-02, 6.98401322e-01, 1.03809789e-01,\n",
       "       1.70306939e-01, 2.68608545e-02, 7.72974526e-02, 2.75880551e-01,\n",
       "       9.02483342e-01, 9.84163529e-01, 6.29823866e-02, 5.44829917e-01,\n",
       "       6.78911627e-01, 9.83005756e-01, 1.04961358e-01, 1.87340263e-01,\n",
       "       8.98324986e-01, 1.02383567e-01, 9.19279946e-01, 9.13728882e-01,\n",
       "       1.35339422e-01, 7.15174463e-01, 9.35193029e-01, 4.14729531e-01,\n",
       "       3.84801995e-01, 5.57719984e-01, 8.60115754e-04, 1.95330368e-01,\n",
       "       3.82034836e-01, 1.31010005e-02, 5.06281187e-01, 5.98825347e-01,\n",
       "       8.49850155e-01, 9.72392348e-01, 3.88953679e-01, 1.06861363e-02,\n",
       "       9.00511330e-01, 5.86420707e-01, 5.46226958e-02, 7.82481966e-01,\n",
       "       9.76488430e-01, 6.85840376e-01, 7.43938695e-01, 1.63855069e-01,\n",
       "       6.24031095e-02, 9.28090291e-01, 9.88369894e-01, 1.22690179e-02,\n",
       "       1.45757389e-01, 9.82809360e-01, 8.79485020e-01, 3.67446107e-02,\n",
       "       1.40893951e-01, 8.87175301e-02, 1.27606111e-01, 8.74346835e-01,\n",
       "       8.43414380e-01, 9.84236166e-01, 1.70151943e-01, 2.19944372e-01,\n",
       "       8.89891873e-01, 3.68714318e-01, 9.82726245e-01, 5.53395979e-01,\n",
       "       9.84048860e-01, 9.71656849e-01, 7.78236890e-01, 1.04517073e-01,\n",
       "       8.36431483e-01, 3.38969902e-01, 6.00533945e-02, 9.58576213e-01,\n",
       "       1.88879486e-02, 9.35279813e-01, 1.27532302e-01, 9.40090388e-01,\n",
       "       4.53350762e-01, 9.92744726e-01, 6.33445590e-02, 8.22434745e-01,\n",
       "       9.10761483e-01, 9.84363259e-01, 3.63930288e-01, 9.31923263e-01,\n",
       "       9.49031920e-01, 7.47260657e-01, 2.20360987e-01, 9.54439793e-01,\n",
       "       9.95656098e-01, 4.01208395e-01, 9.97105001e-01, 4.26103264e-02,\n",
       "       9.75681424e-01, 1.25129038e-01, 8.03226337e-01, 9.96933078e-01,\n",
       "       1.12575313e-01, 9.68018145e-01, 9.87400598e-01, 9.03088363e-01,\n",
       "       6.36347850e-01, 1.02667981e-01, 8.26515058e-01, 8.33496875e-01,\n",
       "       9.14437584e-01, 3.64720825e-01, 3.12322754e-01, 8.72611134e-01,\n",
       "       2.42449848e-01, 1.19864982e-01, 9.13959669e-01, 8.33428019e-01,\n",
       "       1.85458031e-01, 9.44466672e-01, 9.78303915e-01, 1.85422783e-02,\n",
       "       6.85410913e-02, 4.15491478e-02, 1.81069360e-01, 8.99538932e-01,\n",
       "       8.73769332e-01, 9.54427115e-01, 1.24361553e-01, 9.86641984e-01,\n",
       "       9.56207211e-01, 1.25080557e-01, 1.33660372e-01, 1.23922546e-01,\n",
       "       9.10909007e-01, 2.63417336e-01, 2.98688592e-01, 9.17811297e-01,\n",
       "       9.64977863e-01, 1.67931238e-01, 2.10443487e-02, 6.86647709e-01,\n",
       "       9.46055496e-01, 9.88199666e-01, 9.79206971e-01, 5.00825273e-01,\n",
       "       2.53108812e-01, 9.74485350e-01, 9.28580982e-01, 8.90415333e-01,\n",
       "       8.03265796e-02, 8.18883949e-01, 8.71869584e-01, 9.71770868e-02,\n",
       "       9.89391693e-01, 1.79613570e-01, 1.32953292e-02, 5.57805783e-01,\n",
       "       7.82227675e-01, 4.62946300e-01, 1.17906321e-01, 4.67466208e-01,\n",
       "       7.32678129e-01, 7.80141114e-02, 3.48370348e-02, 6.85918391e-01,\n",
       "       6.28587224e-02, 6.51838572e-02, 7.68129230e-01, 9.96200899e-01,\n",
       "       3.99263894e-01, 3.99313229e-03, 8.73972916e-01, 1.58509312e-01,\n",
       "       9.61738570e-01, 6.40942699e-01, 2.36932892e-01, 2.38867561e-02,\n",
       "       3.29171885e-03, 3.26105485e-01, 1.45666949e-01, 9.12595260e-01,\n",
       "       3.60719682e-01, 6.70954718e-01, 1.16861502e-01, 3.29267420e-01,\n",
       "       4.01328526e-03, 9.76955996e-01, 5.07983747e-01, 9.19391587e-01,\n",
       "       2.55214414e-01, 1.44253322e-02, 9.31710655e-03, 4.20966477e-02,\n",
       "       3.75039598e-01, 9.79249364e-01, 9.88159987e-01, 7.11859780e-02,\n",
       "       8.13263688e-01, 5.18517341e-02, 4.66733755e-01, 4.30846828e-01,\n",
       "       8.95721674e-01, 1.83009315e-01, 4.20336207e-01, 3.47711437e-02,\n",
       "       9.30986299e-01, 9.99875962e-01, 4.12082288e-02, 4.01992994e-01,\n",
       "       1.70137603e-01, 9.08010948e-01, 1.63745996e-01, 3.63562873e-01,\n",
       "       9.57203778e-01, 8.52504800e-03, 7.74763230e-01, 8.46090140e-01,\n",
       "       2.38078324e-01, 9.42081181e-01, 1.55374904e-02, 9.36869557e-01,\n",
       "       3.63681875e-02, 6.15156543e-01, 8.49588139e-01, 9.63412445e-01,\n",
       "       8.80899871e-01, 9.86140012e-01, 1.63908112e-01, 3.44439777e-01,\n",
       "       1.22400697e-01, 7.93806587e-02, 2.56089614e-01, 4.54537529e-02,\n",
       "       8.20637409e-01, 6.28362344e-01, 1.60492846e-01, 7.29689494e-01,\n",
       "       6.70434108e-01, 6.93341658e-01, 9.96786103e-01, 2.71477203e-01,\n",
       "       3.11670779e-01, 2.45417376e-01, 4.37405909e-01, 7.28651425e-03,\n",
       "       1.96065079e-02, 9.39544168e-01, 5.30302408e-01, 1.99039595e-01,\n",
       "       1.81189803e-01, 2.69187312e-01, 2.88613847e-01, 2.43025145e-01,\n",
       "       7.33826007e-01, 6.34614640e-02, 7.07514506e-01, 4.30356947e-01,\n",
       "       5.58886515e-02, 4.72355387e-01, 8.69672886e-01, 4.77710924e-01,\n",
       "       7.61480543e-01, 7.93782921e-03, 7.52457870e-01, 6.09139763e-02,\n",
       "       2.77944861e-01, 9.11423623e-03, 3.78897990e-01, 9.61067408e-01,\n",
       "       1.89736809e-02, 4.86566109e-01, 9.03215427e-01, 3.90214473e-02,\n",
       "       1.04052998e-02, 9.00393874e-01, 9.44807746e-02, 3.94823291e-01,\n",
       "       2.62747072e-01, 7.18614653e-01, 9.43542428e-01, 9.54037246e-01,\n",
       "       9.18749890e-01, 3.82670672e-01, 9.25487945e-01, 2.37617957e-01,\n",
       "       1.72472917e-02, 4.27354772e-02, 3.26939313e-02, 9.16155968e-02,\n",
       "       3.35216564e-02, 4.00571997e-01, 9.75257539e-01, 7.61682708e-01,\n",
       "       9.01404709e-01, 2.15871411e-02, 5.65880620e-01, 5.51179977e-01,\n",
       "       8.60260161e-03, 6.37986775e-02, 1.82788069e-01, 1.73859594e-01,\n",
       "       9.71336035e-01, 8.51162022e-01, 9.97153948e-01, 3.38762715e-01,\n",
       "       8.48387352e-01, 1.09598510e-02, 9.72913266e-01, 9.18191768e-01,\n",
       "       3.09890677e-01, 4.07501857e-01, 9.57807714e-01, 6.87286519e-01,\n",
       "       4.29525482e-01, 7.55927711e-01, 3.76898914e-01, 1.97337419e-01,\n",
       "       1.05460386e-01, 7.23949114e-01, 7.07850614e-01, 2.01939133e-01,\n",
       "       2.38196721e-01, 9.56880736e-01, 3.66335138e-01, 5.88087690e-01,\n",
       "       9.66098388e-01, 9.31759156e-01, 5.71989169e-01, 9.83055507e-01,\n",
       "       1.05006764e-01, 5.94251080e-02, 9.94414001e-01, 9.24398104e-01,\n",
       "       8.35332844e-01, 3.22025172e-01, 9.81245536e-01, 6.34406810e-01,\n",
       "       3.33252292e-01, 2.80542044e-01, 9.53797824e-01, 9.85198849e-01,\n",
       "       9.40166879e-01, 9.24845000e-01, 6.92803188e-01, 2.13070719e-01,\n",
       "       1.52215409e-01, 3.31811447e-01, 1.89963747e-01, 4.12401674e-01,\n",
       "       7.45092665e-02, 6.36106837e-01, 4.42468530e-01, 8.06387038e-01,\n",
       "       2.74611662e-02, 3.28591332e-01, 9.82731431e-01, 1.06948758e-01,\n",
       "       2.11147870e-03, 3.13102032e-01, 5.31661641e-02, 2.03679552e-02,\n",
       "       6.39372549e-01, 5.07129410e-01, 4.98179426e-01, 1.57683488e-01,\n",
       "       1.82664307e-01, 1.11741643e-01, 9.88856721e-01, 8.34655067e-01,\n",
       "       1.07013779e-01, 8.96782547e-01, 2.57334491e-01, 3.33394541e-01,\n",
       "       4.52054505e-02, 1.02775443e-01, 1.12074481e-01, 4.45882204e-01,\n",
       "       9.98298683e-01, 8.52347982e-01, 5.52541569e-01, 9.45531718e-01,\n",
       "       3.66170768e-01, 1.60935258e-01, 2.69372809e-02, 3.90032568e-02,\n",
       "       9.62392774e-01, 4.07720150e-01, 9.72699917e-01, 4.14802341e-02,\n",
       "       8.71057348e-01, 1.05277547e-01, 4.77233923e-02, 7.65750620e-01,\n",
       "       2.65302632e-01, 6.91075589e-01, 3.83953496e-01, 7.47545543e-01,\n",
       "       7.78256210e-02, 9.68528480e-01, 7.62208119e-01, 5.62423521e-01,\n",
       "       1.78461762e-02, 6.76151357e-01, 1.94027479e-01, 9.42474129e-01,\n",
       "       4.60888585e-01, 8.99536063e-01, 5.68195013e-01, 5.03783173e-01,\n",
       "       6.47048900e-01, 1.03806226e-01, 9.59309400e-01, 1.79328561e-01,\n",
       "       8.90966882e-01, 6.57907359e-01, 1.36031557e-02, 7.01157890e-01,\n",
       "       4.23623453e-01, 9.65483511e-01, 8.22574767e-03, 3.10278280e-01,\n",
       "       9.72044815e-01, 8.32875603e-01, 2.09312519e-01, 7.81098189e-01,\n",
       "       5.00860880e-01, 1.02565762e-01, 9.92940683e-01, 5.58468793e-01,\n",
       "       7.44461236e-01, 8.21573522e-01, 6.65123100e-01, 8.69694241e-01,\n",
       "       6.20921964e-01, 9.57876117e-02, 8.06385211e-01, 6.56077922e-01,\n",
       "       9.93005400e-02, 1.85417228e-01, 1.04680126e-01, 6.23854301e-02,\n",
       "       2.99437353e-01, 9.04967660e-02, 1.89539618e-01, 3.98782693e-01,\n",
       "       8.57754451e-01, 7.86661590e-01, 1.98702198e-01, 7.91070201e-01,\n",
       "       2.97877417e-01, 1.90973064e-02, 3.72209698e-01, 5.69857841e-02,\n",
       "       5.08987098e-02, 1.49195894e-01, 7.81339428e-01, 3.15005031e-02,\n",
       "       9.75171418e-01, 8.58063767e-01, 2.59079521e-01, 6.71904209e-01,\n",
       "       7.40721795e-02, 2.16002105e-03, 1.27522665e-02, 9.66457128e-01,\n",
       "       7.75528671e-01, 4.97922622e-02, 1.25561812e-01, 9.84449888e-02,\n",
       "       3.67091133e-01, 7.66512083e-01, 1.06984292e-01, 6.30362198e-01,\n",
       "       7.66731396e-01, 7.39780910e-01, 8.19152981e-01, 1.06038079e-01,\n",
       "       2.18777626e-01, 7.94320095e-01, 2.72462037e-01, 6.99332905e-01,\n",
       "       3.64282992e-01, 9.58149858e-01, 6.14407964e-01, 1.98940603e-01,\n",
       "       7.27143416e-01, 9.35461000e-02, 1.91878740e-02, 3.87471669e-04,\n",
       "       1.92267391e-02, 3.54190570e-01, 8.16312992e-01, 7.75068977e-01,\n",
       "       9.55385885e-01, 9.69225225e-01, 8.07597459e-01, 2.61867938e-02,\n",
       "       2.98866720e-01, 9.58725475e-01, 8.33075510e-01, 8.95462584e-01,\n",
       "       9.99419922e-01, 7.89820429e-01, 1.86966764e-01, 2.86576835e-02,\n",
       "       8.41895741e-01, 9.64273577e-01, 5.67036428e-01, 2.70413625e-01,\n",
       "       2.22818910e-01, 2.06502625e-01, 2.33244797e-01, 5.70536982e-01,\n",
       "       8.66098235e-01, 3.20891483e-01, 1.81100212e-01, 5.05954986e-02,\n",
       "       9.21748411e-01, 1.50510521e-01, 8.82788071e-01, 4.36793231e-01,\n",
       "       9.38144624e-02, 6.60721710e-01, 8.70378724e-01, 1.73591278e-01,\n",
       "       5.55457692e-02, 4.13312223e-02, 3.47867653e-01, 9.83758645e-01,\n",
       "       5.37412465e-01, 8.17634296e-03, 3.96524792e-01, 6.52027155e-01,\n",
       "       4.50254697e-03, 9.22292246e-01, 7.85165565e-01, 1.28585853e-01,\n",
       "       1.66667052e-02, 2.53302327e-01, 9.64477150e-01, 4.49688316e-01,\n",
       "       4.37020112e-01, 4.83854054e-03, 6.78280685e-02, 5.15753196e-01,\n",
       "       9.62090493e-01, 9.64269728e-02, 9.86724389e-01, 9.85754569e-02,\n",
       "       8.43632739e-01, 6.56485622e-01, 8.17917679e-02, 7.75118577e-01,\n",
       "       1.14522949e-01, 2.99875235e-02, 3.03686845e-01, 3.78199401e-02,\n",
       "       8.77575627e-01, 2.72614834e-01, 8.56831418e-01, 1.27130047e-01,\n",
       "       6.68160478e-01, 1.10260881e-01, 1.41979818e-01, 8.13439153e-01,\n",
       "       6.45227040e-01, 9.42972564e-03, 4.31770437e-01, 7.55454756e-03,\n",
       "       1.31698289e-02, 8.52899637e-01, 2.92696352e-01, 9.60290329e-01,\n",
       "       2.90966559e-02, 9.93814710e-01, 6.92630052e-02, 6.75746661e-01,\n",
       "       5.45846848e-03, 7.83668796e-03, 5.94355551e-01, 9.29942845e-01,\n",
       "       4.54839469e-02, 9.72060185e-01, 5.81261252e-01, 7.20376276e-01,\n",
       "       1.13942237e-01, 4.24204227e-02, 9.42631375e-01, 6.54419583e-01,\n",
       "       8.72147925e-01, 7.31985765e-02, 6.78976086e-01, 2.17034157e-01,\n",
       "       1.96402097e-01, 9.94527930e-01, 8.86401009e-01, 5.37059735e-01,\n",
       "       9.41190534e-01, 8.16691271e-01, 2.75492156e-01, 1.52871814e-02,\n",
       "       4.76517668e-01, 9.04564055e-01, 7.78881804e-01, 1.52037381e-02,\n",
       "       2.54912150e-02, 1.55297369e-01, 7.85305403e-01, 8.81749760e-01,\n",
       "       7.23012941e-01, 9.58970699e-01, 7.49703616e-01, 9.71877074e-01,\n",
       "       6.65176729e-02, 4.65504836e-01, 8.42711405e-01, 5.13421457e-01,\n",
       "       2.30323017e-01, 9.22658005e-01, 9.88465693e-01, 9.52232705e-01,\n",
       "       9.27411130e-01, 2.98152233e-01, 9.56795797e-01, 3.71833060e-02,\n",
       "       7.72937436e-01, 1.82285479e-01, 1.00675580e-01, 3.73880775e-02,\n",
       "       8.18913388e-01, 4.38827265e-01, 8.28210659e-01, 1.80456987e-01,\n",
       "       9.03656101e-01, 5.04457570e-01, 4.72120658e-01, 1.26511933e-01,\n",
       "       6.59521873e-01, 8.24276920e-01, 5.48613284e-01, 8.14463023e-01,\n",
       "       1.55319925e-01, 2.10600746e-01, 1.75896596e-01, 5.58153098e-01,\n",
       "       7.77855020e-01, 2.80705952e-02, 9.90045161e-01, 9.12005156e-01,\n",
       "       7.45023561e-01, 9.96724581e-01, 9.19735369e-01, 9.76896579e-02,\n",
       "       7.05972180e-02, 2.23273744e-01, 7.58744605e-01, 6.96193978e-02,\n",
       "       5.33171523e-01, 9.62455645e-02, 9.98187460e-01, 9.86784512e-01,\n",
       "       2.30030289e-01, 1.52620177e-01, 1.18433972e-01, 8.67236558e-01,\n",
       "       6.07423545e-03, 1.79426237e-03, 8.97255476e-01, 4.28033866e-01,\n",
       "       8.52540753e-01, 9.49520956e-02, 9.22976732e-01, 9.63522985e-01,\n",
       "       6.26588733e-01, 7.44059258e-01, 9.22886537e-01, 9.60623107e-01,\n",
       "       1.85392449e-01, 4.24636770e-01, 9.16101769e-01, 3.58350901e-01,\n",
       "       5.05253031e-01, 6.76061894e-02, 9.85370641e-01, 6.71552664e-01,\n",
       "       1.71611592e-01, 6.24983098e-01, 1.53386920e-02, 6.43865819e-02,\n",
       "       9.36872509e-01, 8.13701045e-01, 9.87246839e-01, 7.56963099e-01,\n",
       "       5.14919132e-02, 4.84887659e-01, 1.18610234e-01, 4.10359685e-02,\n",
       "       9.83199561e-01, 1.77068714e-01, 5.68007409e-01, 2.69744707e-01,\n",
       "       9.11190093e-01, 1.02362493e-02, 6.34784256e-01, 8.35078794e-01,\n",
       "       5.33340978e-01, 5.94917074e-01, 5.61959682e-01, 8.20930795e-02,\n",
       "       2.91227497e-02, 9.78410024e-01, 6.10052653e-01, 9.78929510e-01,\n",
       "       5.30070831e-02, 5.32797915e-01, 3.25522346e-01, 8.39016576e-01])"
      ]
     },
     "execution_count": 136,
     "metadata": {},
     "output_type": "execute_result"
    }
   ],
   "source": [
    "logit.predict_proba(X_test)[:,1]"
   ]
  },
  {
   "cell_type": "code",
   "execution_count": 137,
   "metadata": {
    "collapsed": true
   },
   "outputs": [],
   "source": [
    "Y_probabilities2 =logit.predict_proba(X_test)[:,1] ### 이거로 아래 코드 계속사용"
   ]
  },
  {
   "cell_type": "code",
   "execution_count": 138,
   "metadata": {},
   "outputs": [
    {
     "data": {
      "text/plain": [
       "(1000,)"
      ]
     },
     "execution_count": 138,
     "metadata": {},
     "output_type": "execute_result"
    }
   ],
   "source": [
    "Y_probabilities2.shape"
   ]
  },
  {
   "cell_type": "code",
   "execution_count": 140,
   "metadata": {
    "collapsed": true
   },
   "outputs": [],
   "source": [
    "# 진짜 양성 비율과 거짓 양성 비율을 계산\n",
    "\n",
    "false_positive_rate, true_positive_rate, threshold =roc_curve(Y_test,Y_probabilities2)"
   ]
  },
  {
   "cell_type": "code",
   "execution_count": 141,
   "metadata": {},
   "outputs": [
    {
     "name": "stdout",
     "output_type": "stream",
     "text": [
      "(236,)\n",
      "[0.         0.         0.         0.00196078 0.00196078 0.00392157\n",
      " 0.00392157 0.00588235 0.00588235 0.00784314 0.00784314 0.00980392\n",
      " 0.00980392 0.01372549 0.01372549 0.01568627 0.01568627 0.01764706\n",
      " 0.01764706 0.01960784 0.01960784 0.02352941 0.02352941 0.0254902\n",
      " 0.0254902  0.02745098 0.02745098 0.02941176 0.02941176 0.03137255\n",
      " 0.03137255 0.03333333 0.03333333 0.03529412 0.03529412 0.0372549\n",
      " 0.0372549  0.03921569 0.03921569 0.04117647 0.04117647 0.04313725\n",
      " 0.04313725 0.04509804 0.04509804 0.04705882 0.04705882 0.05098039\n",
      " 0.05098039 0.05294118 0.05294118 0.05490196 0.05490196 0.05686275\n",
      " 0.05686275 0.05882353 0.05882353 0.06078431 0.06078431 0.0627451\n",
      " 0.0627451  0.06470588 0.06470588 0.06666667 0.06666667 0.06862745\n",
      " 0.06862745 0.07058824 0.07058824 0.07254902 0.07254902 0.0745098\n",
      " 0.0745098  0.07843137 0.07843137 0.08431373 0.08431373 0.08627451\n",
      " 0.08627451 0.08823529 0.08823529 0.09019608 0.09019608 0.09607843\n",
      " 0.09607843 0.09803922 0.09803922 0.1        0.1        0.10196078\n",
      " 0.10196078 0.10392157 0.10392157 0.10588235 0.10588235 0.10784314\n",
      " 0.10784314 0.10980392 0.10980392 0.11176471 0.11176471 0.11372549\n",
      " 0.11372549 0.12156863 0.12156863 0.1254902  0.1254902  0.13333333\n",
      " 0.13333333 0.1372549  0.1372549  0.13921569 0.13921569 0.14313725\n",
      " 0.14313725 0.14901961 0.14901961 0.15490196 0.15490196 0.15686275\n",
      " 0.15686275 0.15882353 0.15882353 0.16078431 0.16078431 0.1627451\n",
      " 0.1627451  0.16666667 0.16666667 0.16862745 0.16862745 0.17254902\n",
      " 0.17254902 0.17647059 0.17647059 0.18039216 0.18039216 0.18431373\n",
      " 0.18431373 0.18627451 0.18627451 0.18823529 0.18823529 0.19215686\n",
      " 0.19215686 0.19607843 0.19607843 0.20588235 0.20588235 0.20980392\n",
      " 0.20980392 0.21568627 0.21568627 0.21960784 0.21960784 0.23333333\n",
      " 0.23333333 0.23529412 0.23529412 0.24705882 0.24705882 0.24901961\n",
      " 0.24901961 0.25294118 0.25294118 0.25882353 0.25882353 0.26078431\n",
      " 0.26078431 0.26862745 0.26862745 0.27843137 0.27843137 0.28235294\n",
      " 0.28235294 0.28823529 0.28823529 0.29215686 0.29215686 0.30980392\n",
      " 0.30980392 0.33137255 0.33137255 0.33529412 0.33529412 0.34901961\n",
      " 0.34901961 0.35098039 0.35098039 0.36470588 0.36470588 0.37058824\n",
      " 0.37058824 0.38431373 0.38431373 0.38823529 0.38823529 0.39607843\n",
      " 0.39607843 0.45294118 0.45294118 0.4745098  0.4745098  0.47843137\n",
      " 0.47843137 0.50980392 0.50980392 0.51568627 0.51568627 0.52352941\n",
      " 0.52352941 0.5372549  0.5372549  0.55686275 0.55686275 0.60196078\n",
      " 0.60196078 0.61764706 0.61764706 0.61960784 0.61960784 0.62352941\n",
      " 0.62352941 0.62941176 0.62941176 0.6372549  0.6372549  0.68039216\n",
      " 0.68039216 0.77647059 0.77647059 0.86078431 0.86078431 0.90392157\n",
      " 0.90392157 1.        ]\n"
     ]
    }
   ],
   "source": [
    "print(false_positive_rate.shape)\n",
    "print(false_positive_rate)"
   ]
  },
  {
   "cell_type": "code",
   "execution_count": 142,
   "metadata": {},
   "outputs": [
    {
     "name": "stdout",
     "output_type": "stream",
     "text": [
      "(236,)\n",
      "[0.         0.00204082 0.13265306 0.13265306 0.15102041 0.15102041\n",
      " 0.17346939 0.17346939 0.20204082 0.20204082 0.21428571 0.21428571\n",
      " 0.24285714 0.24285714 0.28163265 0.28163265 0.31836735 0.31836735\n",
      " 0.35714286 0.35714286 0.38163265 0.38163265 0.38979592 0.38979592\n",
      " 0.39183673 0.39183673 0.40612245 0.40612245 0.41632653 0.41632653\n",
      " 0.44693878 0.44693878 0.45918367 0.45918367 0.46326531 0.46326531\n",
      " 0.46938776 0.46938776 0.48163265 0.48163265 0.5122449  0.5122449\n",
      " 0.51428571 0.51428571 0.54489796 0.54489796 0.56326531 0.56326531\n",
      " 0.56530612 0.56530612 0.57755102 0.57755102 0.57959184 0.57959184\n",
      " 0.5877551  0.5877551  0.60408163 0.60408163 0.60612245 0.60612245\n",
      " 0.6122449  0.6122449  0.61428571 0.61428571 0.61836735 0.61836735\n",
      " 0.62244898 0.62244898 0.62857143 0.62857143 0.63469388 0.63469388\n",
      " 0.64285714 0.64285714 0.64693878 0.64693878 0.66734694 0.66734694\n",
      " 0.69795918 0.69795918 0.7        0.7        0.70816327 0.70816327\n",
      " 0.71020408 0.71020408 0.71632653 0.71632653 0.72244898 0.72244898\n",
      " 0.7244898  0.7244898  0.73061224 0.73061224 0.74081633 0.74081633\n",
      " 0.74285714 0.74285714 0.74693878 0.74693878 0.74897959 0.74897959\n",
      " 0.75714286 0.75714286 0.76326531 0.76326531 0.77142857 0.77142857\n",
      " 0.77959184 0.77959184 0.78571429 0.78571429 0.79591837 0.79591837\n",
      " 0.8        0.8        0.81020408 0.81020408 0.81428571 0.81428571\n",
      " 0.81632653 0.81632653 0.83061224 0.83061224 0.83469388 0.83469388\n",
      " 0.83673469 0.83673469 0.83877551 0.83877551 0.84285714 0.84285714\n",
      " 0.84693878 0.84693878 0.85714286 0.85714286 0.85918367 0.85918367\n",
      " 0.86326531 0.86326531 0.86734694 0.86734694 0.87142857 0.87142857\n",
      " 0.87346939 0.87346939 0.87755102 0.87755102 0.87959184 0.87959184\n",
      " 0.88163265 0.88163265 0.88367347 0.88367347 0.8877551  0.8877551\n",
      " 0.89183673 0.89183673 0.89387755 0.89387755 0.89591837 0.89591837\n",
      " 0.89795918 0.89795918 0.90816327 0.90816327 0.91020408 0.91020408\n",
      " 0.91428571 0.91428571 0.91836735 0.91836735 0.92040816 0.92040816\n",
      " 0.92244898 0.92244898 0.9244898  0.9244898  0.92653061 0.92653061\n",
      " 0.92857143 0.92857143 0.93061224 0.93061224 0.93469388 0.93469388\n",
      " 0.93673469 0.93673469 0.94489796 0.94489796 0.94693878 0.94693878\n",
      " 0.94897959 0.94897959 0.95102041 0.95102041 0.95510204 0.95510204\n",
      " 0.95918367 0.95918367 0.96122449 0.96122449 0.96530612 0.96530612\n",
      " 0.96734694 0.96734694 0.96938776 0.96938776 0.97346939 0.97346939\n",
      " 0.9755102  0.9755102  0.97755102 0.97755102 0.97959184 0.97959184\n",
      " 0.98163265 0.98163265 0.98367347 0.98367347 0.98571429 0.98571429\n",
      " 0.9877551  0.9877551  0.98979592 0.98979592 0.99183673 0.99183673\n",
      " 0.99387755 0.99387755 0.99591837 0.99591837 0.99795918 0.99795918\n",
      " 1.         1.        ]\n"
     ]
    }
   ],
   "source": [
    "print(true_positive_rate.shape)\n",
    "print(true_positive_rate)"
   ]
  },
  {
   "cell_type": "code",
   "execution_count": 143,
   "metadata": {},
   "outputs": [
    {
     "name": "stdout",
     "output_type": "stream",
     "text": [
      "(236,)\n",
      "[1.99987596e+00 9.99875962e-01 9.78303915e-01 9.76955996e-01\n",
      " 9.72699917e-01 9.72451311e-01 9.66704690e-01 9.66457128e-01\n",
      " 9.61738570e-01 9.61724504e-01 9.59729627e-01 9.59562955e-01\n",
      " 9.54439793e-01 9.54037246e-01 9.40166879e-01 9.40090388e-01\n",
      " 9.29492836e-01 9.28580982e-01 9.18191768e-01 9.17811297e-01\n",
      " 9.11725464e-01 9.10909007e-01 9.06145354e-01 9.04564055e-01\n",
      " 9.03656101e-01 9.03215427e-01 8.99536063e-01 8.98324986e-01\n",
      " 8.95462584e-01 8.94681566e-01 8.73769332e-01 8.73104226e-01\n",
      " 8.70378724e-01 8.69694241e-01 8.67236558e-01 8.66098235e-01\n",
      " 8.57540873e-01 8.56831418e-01 8.51667017e-01 8.51162022e-01\n",
      " 8.35332844e-01 8.35078794e-01 8.34655067e-01 8.33496875e-01\n",
      " 8.19152981e-01 8.18913388e-01 8.08003286e-01 8.06387038e-01\n",
      " 8.06385211e-01 8.05857503e-01 7.89820429e-01 7.86661590e-01\n",
      " 7.86563812e-01 7.85305403e-01 7.81339428e-01 7.81098189e-01\n",
      " 7.75068977e-01 7.74861661e-01 7.74763230e-01 7.72937436e-01\n",
      " 7.68129230e-01 7.67714926e-01 7.66731396e-01 7.66512083e-01\n",
      " 7.64561385e-01 7.62379212e-01 7.61682708e-01 7.61480543e-01\n",
      " 7.56874220e-01 7.55927711e-01 7.49357769e-01 7.47545543e-01\n",
      " 7.44059258e-01 7.42430923e-01 7.39885166e-01 7.32678129e-01\n",
      " 7.15174463e-01 7.07850614e-01 6.81802533e-01 6.78976086e-01\n",
      " 6.78911627e-01 6.76151357e-01 6.70954718e-01 6.68160478e-01\n",
      " 6.65123100e-01 6.60844828e-01 6.57907359e-01 6.56485622e-01\n",
      " 6.53907724e-01 6.52027155e-01 6.47048900e-01 6.45227040e-01\n",
      " 6.36347850e-01 6.36247314e-01 6.31066909e-01 6.30362198e-01\n",
      " 6.28362344e-01 6.26588733e-01 6.20921964e-01 6.20653781e-01\n",
      " 6.16255536e-01 6.15156543e-01 6.07835531e-01 6.02235514e-01\n",
      " 5.94917074e-01 5.91144285e-01 5.81261252e-01 5.71989169e-01\n",
      " 5.67036428e-01 5.65880620e-01 5.62423521e-01 5.61959682e-01\n",
      " 5.53395979e-01 5.51179977e-01 5.44829917e-01 5.37412465e-01\n",
      " 5.33171523e-01 5.28184336e-01 5.21127194e-01 5.15753196e-01\n",
      " 5.15192250e-01 5.13759542e-01 5.03783173e-01 5.01071307e-01\n",
      " 5.00825273e-01 4.99196776e-01 4.98179426e-01 4.88129729e-01\n",
      " 4.87326359e-01 4.86566109e-01 4.84887659e-01 4.76517668e-01\n",
      " 4.73480544e-01 4.72120658e-01 4.62946300e-01 4.60888585e-01\n",
      " 4.56508179e-01 4.49688316e-01 4.45882204e-01 4.45784664e-01\n",
      " 4.38827265e-01 4.37405909e-01 4.36793231e-01 4.30846828e-01\n",
      " 4.30356947e-01 4.28033866e-01 4.23623453e-01 4.12401674e-01\n",
      " 4.07720150e-01 4.01992994e-01 4.01208395e-01 3.98782693e-01\n",
      " 3.96524792e-01 3.88953679e-01 3.84179587e-01 3.76898914e-01\n",
      " 3.75039598e-01 3.72209698e-01 3.68714318e-01 3.63930288e-01\n",
      " 3.63562873e-01 3.60719682e-01 3.58350901e-01 3.51937794e-01\n",
      " 3.38969902e-01 3.34332577e-01 3.33804458e-01 3.33394541e-01\n",
      " 3.33252292e-01 3.28591332e-01 3.25522346e-01 3.13102032e-01\n",
      " 3.12322754e-01 3.10278280e-01 3.09890677e-01 2.99437353e-01\n",
      " 2.98866720e-01 2.98152233e-01 2.97877417e-01 2.77944861e-01\n",
      " 2.75880551e-01 2.65302632e-01 2.63616934e-01 2.62747072e-01\n",
      " 2.57334491e-01 2.45417376e-01 2.43025145e-01 2.42449848e-01\n",
      " 2.36932892e-01 2.22818910e-01 2.22740004e-01 2.21278366e-01\n",
      " 2.20360987e-01 2.09312519e-01 2.09010600e-01 2.04843432e-01\n",
      " 1.99039595e-01 1.97337419e-01 1.95383509e-01 1.75896596e-01\n",
      " 1.73859594e-01 1.63745996e-01 1.60492846e-01 1.57683488e-01\n",
      " 1.56032410e-01 1.35339422e-01 1.33660372e-01 1.28585853e-01\n",
      " 1.27532302e-01 1.25129038e-01 1.25080557e-01 1.18433972e-01\n",
      " 1.17906321e-01 1.11741643e-01 1.10260881e-01 9.93039753e-02\n",
      " 9.93005400e-02 9.57876117e-02 9.55473974e-02 9.54224497e-02\n",
      " 9.49520956e-02 9.44807746e-02 9.38144624e-02 9.16155968e-02\n",
      " 9.04967660e-02 8.64180033e-02 8.51429151e-02 6.78280685e-02\n",
      " 6.76061894e-02 4.20082870e-02 4.15491478e-02 2.59031885e-02\n",
      " 2.58421992e-02 1.55374904e-02 1.53386920e-02 3.87471669e-04]\n"
     ]
    }
   ],
   "source": [
    "print(threshold.shape)\n",
    "print(threshold)"
   ]
  },
  {
   "cell_type": "code",
   "execution_count": 145,
   "metadata": {},
   "outputs": [
    {
     "data": {
      "image/png": "[encoded data removed]",
      "text/plain": [
       "<matplotlib.figure.Figure at 0x2ca2105c8d0>"
      ]
     },
     "metadata": {},
     "output_type": "display_data"
    }
   ],
   "source": [
    "plt.title(\"Receiver Operating Characteristic\")\n",
    "plt.plot(false_positive_rate, true_positive_rate)\n",
    "plt.ylabel(\"True Positive Rate\")\n",
    "plt.xlabel(\"False Positive Rate\")\n",
    "plt.show()"
   ]
  },
  {
   "cell_type": "code",
   "execution_count": 157,
   "metadata": {},
   "outputs": [
    {
     "data": {
      "image/png": "[encoded data removed]",
      "text/plain": [
       "<matplotlib.figure.Figure at 0x2ca20e9aba8>"
      ]
     },
     "metadata": {},
     "output_type": "display_data"
    }
   ],
   "source": [
    "plt.title(\"Receiver Operating Characteristic\")\n",
    "plt.plot([0, 0], [1, 0] , c=\".7\")\n",
    "#plt.plot([1, 1] , c=\".7\")\n",
    "plt.plot([0,1],[1,1], 'r--')\n",
    "plt.ylabel(\"True Positive Rate\")\n",
    "plt.xlabel(\"False Positive Rate\")\n",
    "plt.show()"
   ]
  },
  {
   "cell_type": "code",
   "execution_count": 144,
   "metadata": {},
   "outputs": [
    {
     "data": {
      "image/png": "[encoded data removed]",
      "text/plain": [
       "<matplotlib.figure.Figure at 0x2ca2085d668>"
      ]
     },
     "metadata": {},
     "output_type": "display_data"
    }
   ],
   "source": [
    "# ROC 곡선을 그립니다.\n",
    "plt.title(\"Receiver Operating Characteristic\")\n",
    "plt.plot(false_positive_rate, true_positive_rate)\n",
    "plt.plot([0, 1], ls=\"--\")\n",
    "plt.plot([0, 0], [1, 0] , c=\".7\"), plt.plot([1, 1] , c=\".7\")\n",
    "plt.ylabel(\"True Positive Rate\")\n",
    "plt.xlabel(\"False Positive Rate\")\n",
    "plt.show()"
   ]
  },
  {
   "cell_type": "markdown",
   "metadata": {},
   "source": [
    "!!! ROC 곡선의 TPR 과 FPR은 정밀도 재현율이 아님 근데, TRP은 재현율임!!!!!! !!!   진짜 양성비율 TPR = (진짜 양성)/ (진짜 양성 + 거짓 음성) 이고, ,거짓 양성 비율 FPR은 = (거짓 양성)/ (거짓 양성 + 진짜 음성)"
   ]
  },
  {
   "cell_type": "code",
   "execution_count": 3,
   "metadata": {},
   "outputs": [
    {
     "data": {
      "text/plain": [
       "'\\n지금까지 예측값을 기반으로 모델을 평가 but, 많은 머신러닝 알고리즘들은 확률을 기반으로 예측값을 만듬. 즉, 모든 샘플은 각 클래스에 속할 명\\n시적인 확률이 주어짐. predict_proba 메서드를 사용해 해결에 있는 첫 번째 샘플에 대한 예측확률을 확인 간으.\\n'"
      ]
     },
     "execution_count": 3,
     "metadata": {},
     "output_type": "execute_result"
    }
   ],
   "source": [
    "'''\n",
    "지금까지 예측값을 기반으로 모델을 평가 but, 많은 머신러닝 알고리즘들은 확률을 기반으로 예측값을 만듬. 즉, 모든 샘플은 각 클래스에 속할 명\n",
    "시적인 확률이 주어짐. predict_proba 메서드를 사용해 해결에 있는 첫 번째 샘플에 대한 예측확률을 확인 간으.\n",
    "'''"
   ]
  },
  {
   "cell_type": "code",
   "execution_count": 173,
   "metadata": {},
   "outputs": [
    {
     "data": {
      "text/plain": [
       "array([[0.86891533, 0.13108467],\n",
       "       [0.46315541, 0.53684459],\n",
       "       [0.03395355, 0.96604645],\n",
       "       ...,\n",
       "       [0.46720208, 0.53279792],\n",
       "       [0.67447765, 0.32552235],\n",
       "       [0.16098342, 0.83901658]])"
      ]
     },
     "execution_count": 173,
     "metadata": {},
     "output_type": "execute_result"
    }
   ],
   "source": [
    "# 예측 확률을 계산\n",
    "\n",
    "logit.predict_proba(X_test)\n"
   ]
  },
  {
   "cell_type": "code",
   "execution_count": 175,
   "metadata": {},
   "outputs": [
    {
     "data": {
      "text/plain": [
       "array([[0.86891533, 0.13108467]])"
      ]
     },
     "execution_count": 175,
     "metadata": {},
     "output_type": "execute_result"
    }
   ],
   "source": [
    "\n",
    "logit.predict_proba(X_test[:1])\n"
   ]
  },
  {
   "cell_type": "code",
   "execution_count": 177,
   "metadata": {},
   "outputs": [
    {
     "data": {
      "text/plain": [
       "array([0, 1])"
      ]
     },
     "execution_count": 177,
     "metadata": {},
     "output_type": "execute_result"
    }
   ],
   "source": [
    "# classes_를 사용해 클래스를 확인가능\n",
    "logit.classes_           "
   ]
  },
  {
   "cell_type": "markdown",
   "metadata": {},
   "source": [
    "여기서 첫 번째 샘플은 음성 클래스(0)가 될 가능성이 87% 정도이고 양성 클래스(1)가 될 가능성은 13% 정도입니다. 기본적으로 사이킷 런은 확률이 0.5(임곗값)보다 크면 양성 클래스로 예측. 종종 실제 필요에 의해 중간값볻 ㅏ다른 임곗값을 사용해 모델을 편향되게 만드렁야 하는데 예를 들면 거짓 양성이 회사에 매우 큰 비용을 치르게 한다면 확률 임곗값이 높은 모델을 선호함. \n",
    "\n",
    "ROC곡선은 확률 임곗값마다 TPR과 FPR을 나타냄 예를 들어 해결에서 임곗값이 0.5일 때 TPR은 0.81이고 FPR은 0.15"
   ]
  },
  {
   "cell_type": "code",
   "execution_count": 178,
   "metadata": {},
   "outputs": [
    {
     "name": "stdout",
     "output_type": "stream",
     "text": [
      "임곗값: 0.06651767287264236\n",
      "진짜 양성 비율: 0.810204081632653\n",
      "거짓 양성 비율: 0.14901960784313725\n"
     ]
    }
   ],
   "source": [
    "print(\"임곗값:\",threshold[116])\n",
    "print(\"진짜 양성 비율:\", true_positive_rate[116])\n",
    "print(\"거짓 양성 비율:\",false_positive_rate[116])"
   ]
  },
  {
   "cell_type": "code",
   "execution_count": 180,
   "metadata": {},
   "outputs": [
    {
     "name": "stdout",
     "output_type": "stream",
     "text": [
      "임곗값: 0.03269393130329915\n",
      "진짜 양성 비율: 0.5448979591836735\n",
      "거짓 양성 비율: 0.00392156862745098\n"
     ]
    },
    {
     "data": {
      "text/plain": [
       "' 양성 클래스로 예측하기 위한 기준을 높였기 때문에 모델이 많은 양성 샘플을 구분 못함.(낮은 TPR)\\n또한 양성클래스로 예측되는 음성 샘플의 수를 감소시킴(FPR을 낮춤)'"
      ]
     },
     "execution_count": 180,
     "metadata": {},
     "output_type": "execute_result"
    }
   ],
   "source": [
    "'''\n",
    "임곗값을 80%로 증가시키면(즉,샘플을 양성으로 예측하기 위해 모델이 확신하는 정도를 증가시키면 TPR과 FPR이 크게 감소!!)\n",
    "'''\n",
    "\n",
    "print(\"임곗값:\",threshold[45])\n",
    "print(\"진짜 양성 비율:\", true_positive_rate[45])\n",
    "print(\"거짓 양성 비율:\",false_positive_rate[5])\n",
    "\n",
    "\n",
    "''' 양성 클래스로 예측하기 위한 기준을 높였기 때문에 모델이 많은 양성 샘플을 구분 못함.(낮은 TPR)\n",
    "또한 양성클래스로 예측되는 음성 샘플의 수를 감소시킴(FPR을 낮춤)'''\n",
    "\n"
   ]
  },
  {
   "cell_type": "markdown",
   "metadata": {},
   "source": [
    "TPR과 FPR 간의 트레이드 오프를 시각화하는 것 외에 ROC 곡선은 일반적인 모델 지표로 사용. 이런 이유로 ROC 곡선 아래 면적(AUCROC)을 계산해 모든 가능한 임곗값에서 모델의 전반적인 품질을 평가!!!!!!!!!!!!! AUCROC이 1에 가까울수록 더 좋은 모델임. \n",
    "\n",
    "sklearn에서 roc_auc_score를 이용해 AUCROC를 계산!!"
   ]
  },
  {
   "cell_type": "code",
   "execution_count": 181,
   "metadata": {},
   "outputs": [
    {
     "data": {
      "text/plain": [
       "0.9073389355742297"
      ]
     },
     "execution_count": 181,
     "metadata": {},
     "output_type": "execute_result"
    }
   ],
   "source": [
    "from sklearn.metrics import roc_auc_score\n",
    "\n",
    "roc_auc_score(Y_test,Y_probabilities2)"
   ]
  },
  {
   "cell_type": "markdown",
   "metadata": {},
   "source": [
    "- 파이썬과 R에서 ROC곡선(http://bit.ly/2FuqoyV)\n",
    "- ROC 곡선 아래 면적(http://bit.ly/2FxTrl6)"
   ]
  },
  {
   "cell_type": "markdown",
   "metadata": {},
   "source": [
    "# 정밀도 -재현율 곡선!!!!!!!! (vs ROC 커브는 재현율 FPR 곡선)"
   ]
  },
  {
   "cell_type": "markdown",
   "metadata": {},
   "source": [
    "ROC 곡선은 TPR(재현율)과 FPR(거짓 양성 비율)을 사용 vs 정밀도와 재현율로 평가하는 정밀도-재현율 곡선 precision_recall_curve 함수를 사용해 임계점마다 정밀도와 재현율을 계산하여 정밀도 -재현율 곡선을 그림."
   ]
  },
  {
   "cell_type": "code",
   "execution_count": 158,
   "metadata": {
    "collapsed": true
   },
   "outputs": [],
   "source": [
    "from sklearn.metrics import precision_recall_curve\n",
    "\n",
    "# 진짜 양성 비율과 거짓 양성 비율을 계산\n",
    "\n",
    "precision, recall, threshold = precision_recall_curve(Y_test,Y_probabilities2)"
   ]
  },
  {
   "cell_type": "code",
   "execution_count": 159,
   "metadata": {},
   "outputs": [
    {
     "data": {
      "image/png": "[encoded data removed]",
      "text/plain": [
       "<matplotlib.figure.Figure at 0x2ca21175780>"
      ]
     },
     "metadata": {},
     "output_type": "display_data"
    }
   ],
   "source": [
    "plt.title(\"Precision-Recall Curve\")\n",
    "plt.plot(precision,recall)\n",
    "\n",
    "plt.plot([0,1], ls='--')\n",
    "plt.plot([1,1], c='.7')\n",
    "plt.plot([1,1],[1,0],c='.7')\n",
    "plt.xlabel('recall')\n",
    "plt.ylabel('Precision')\n",
    "plt.show()"
   ]
  },
  {
   "cell_type": "markdown",
   "metadata": {},
   "source": [
    "정밀도 재현율곡선에서는 오른쪽 맨 위에 가꺼ㅏ울 수록 좋은 모델. 이 곡선의 아래 면적을 평균 정밀도라고 부르며 average_precision_score 함수를 사용해 계산가능.\n",
    "\n"
   ]
  },
  {
   "cell_type": "code",
   "execution_count": 160,
   "metadata": {},
   "outputs": [
    {
     "data": {
      "text/plain": [
       "0.8984128719848977"
      ]
     },
     "execution_count": 160,
     "metadata": {},
     "output_type": "execute_result"
    }
   ],
   "source": [
    "from sklearn.metrics import average_precision_score\n",
    "\n",
    "average_precision_score(Y_test,Y_probabilities2) ## 케라스에서 딥러닝으로 예측한것은 X_test로 하는데 여기는 target 데이터 이용?"
   ]
  },
  {
   "cell_type": "markdown",
   "metadata": {},
   "source": [
    "다음처럼 교차검증 함수의 scoring 매개변수에 ROCAUC와 평균 정밀도를 평가 지표로 지정할 수 있음.\n",
    "\n"
   ]
  },
  {
   "cell_type": "code",
   "execution_count": 168,
   "metadata": {},
   "outputs": [
    {
     "data": {
      "text/plain": [
       "{'fit_time': array([0.01780391, 0.01385593, 0.01335526, 0.01407242, 0.01587129]),\n",
       " 'score_time': array([0.00300837, 0.0030086 , 0.00301552, 0.00298071, 0.00248098]),\n",
       " 'test_average_precision': array([0.90028629, 0.90967443, 0.90296471, 0.91135611, 0.88797021]),\n",
       " 'test_roc_auc': array([0.9007689, 0.918251 , 0.90882  , 0.915359 , 0.90261  ])}"
      ]
     },
     "execution_count": 168,
     "metadata": {},
     "output_type": "execute_result"
    }
   ],
   "source": [
    "cv_result=cross_validate(logit,X,Y,scoring=['average_precision','roc_auc'])\n",
    "cv_result"
   ]
  },
  {
   "cell_type": "code",
   "execution_count": 169,
   "metadata": {},
   "outputs": [
    {
     "data": {
      "text/plain": [
       "{'fit_time': array([0.01732087, 0.01583314, 0.01354599, 0.01389527, 0.01528001]),\n",
       " 'score_time': array([0.00252056, 0.00297618, 0.00248003, 0.00248003, 0.00251412]),\n",
       " 'test_average_precision': array([0.90028629, 0.90967443, 0.90296471, 0.91135611, 0.88797021]),\n",
       " 'test_roc_auc': array([0.9007689, 0.918251 , 0.90882  , 0.915359 , 0.90261  ])}"
      ]
     },
     "execution_count": 169,
     "metadata": {},
     "output_type": "execute_result"
    }
   ],
   "source": [
    "cv_result=cross_validate(logit,X,Y,scoring=['roc_auc','average_precision'])\n",
    "cv_result"
   ]
  },
  {
   "cell_type": "code",
   "execution_count": 167,
   "metadata": {},
   "outputs": [
    {
     "data": {
      "text/plain": [
       "array([0.90028629, 0.90967443, 0.90296471, 0.91135611, 0.88797021])"
      ]
     },
     "execution_count": 167,
     "metadata": {},
     "output_type": "execute_result"
    }
   ],
   "source": [
    "cv_result['test_average_precision']"
   ]
  },
  {
   "cell_type": "code",
   "execution_count": 170,
   "metadata": {},
   "outputs": [
    {
     "data": {
      "text/plain": [
       "0.902450351338447"
      ]
     },
     "execution_count": 170,
     "metadata": {},
     "output_type": "execute_result"
    }
   ],
   "source": [
    "cv_result['test_average_precision'].mean()"
   ]
  },
  {
   "cell_type": "code",
   "execution_count": null,
   "metadata": {
    "collapsed": true
   },
   "outputs": [],
   "source": []
  },
  {
   "cell_type": "markdown",
   "metadata": {},
   "source": [
    "# 11.6 다중클래스 분류기 예측 평가하기"
   ]
  },
  {
   "cell_type": "markdown",
   "metadata": {},
   "source": [
    "세 개 이상의 클래스를 예측하는 모델의 성능을 평가 - 두 개 이상의 클래스를 다룰 수 있는 평가 지표로 교차검증을 수행\n",
    "\n",
    "균형한 클래스( ex. 타깃 벡터의 클래스에 속한 샘플 개수가 거의 동일할 때)에서는 정확가 가장 용이한 평가지표 but, 불균형 클래스는 다른 평가지표를 사용하는게 나음. ex) 앞의 'precision': 정밀도, 'recall':재현율, 'F1' \n",
    "\n",
    "클래스가 두 개 이상일 때로 확장. n_classes >=3"
   ]
  },
  {
   "cell_type": "code",
   "execution_count": 4,
   "metadata": {},
   "outputs": [
    {
     "data": {
      "text/plain": [
       "array([0.841 , 0.829 , 0.8265, 0.8155, 0.82  ])"
      ]
     },
     "execution_count": 4,
     "metadata": {},
     "output_type": "execute_result"
    }
   ],
   "source": [
    "from sklearn.model_selection import cross_val_score\n",
    "from sklearn.linear_model import LogisticRegression\n",
    "from sklearn.datasets import make_classification\n",
    "\n",
    "X,Y = make_classification(n_samples=10000,n_features=3, n_informative=3,n_redundant= 0, n_classes=3, random_state=1)# 클래스 3개 다중클래스\n",
    "\n",
    "logit = LogisticRegression()\n",
    "\n",
    "cross_val_score(logit,X,Y,scoring='accuracy', n_jobs=-1)"
   ]
  },
  {
   "cell_type": "markdown",
   "metadata": {},
   "source": [
    "  _macro는 클래스별 평가 점수를 평균하는 방법을 나타냄\n",
    "    \n",
    "    \n",
    "- macro: 각 클래스를 동등한 가중치로 클래스별 측정 점수를 평균.\n",
    " \n",
    "- weighted : 샘플 개수에 비례하여 각 클래스별 측정 점수를 평균\n",
    "    \n",
    "- micro : 클래스별로 TP,TN, FP, FN을 모두 더하여 계산 (- accuracy)\n"
   ]
  },
  {
   "cell_type": "code",
   "execution_count": 188,
   "metadata": {},
   "outputs": [
    {
     "data": {
      "text/plain": [
       "array([0.84061272, 0.82895312, 0.82625661, 0.81515121, 0.81992692])"
      ]
     },
     "execution_count": 188,
     "metadata": {},
     "output_type": "execute_result"
    }
   ],
   "source": [
    "# 마크로 평균 F1 점수를 사용해 교차검증을 수행\n",
    "cross_val_score(logit,X,Y,scoring='f1_macro', n_jobs=-1)"
   ]
  },
  {
   "cell_type": "code",
   "execution_count": 189,
   "metadata": {},
   "outputs": [
    {
     "data": {
      "text/plain": [
       "array([0.84063166, 0.8289688 , 0.82630601, 0.8151928 , 0.81998327])"
      ]
     },
     "execution_count": 189,
     "metadata": {},
     "output_type": "execute_result"
    }
   ],
   "source": [
    "cross_val_score(logit,X,Y,scoring='f1_weighted', n_jobs=-1)"
   ]
  },
  {
   "cell_type": "code",
   "execution_count": 191,
   "metadata": {},
   "outputs": [
    {
     "data": {
      "text/plain": [
       "array([0.841 , 0.829 , 0.8265, 0.8155, 0.82  ])"
      ]
     },
     "execution_count": 191,
     "metadata": {},
     "output_type": "execute_result"
    }
   ],
   "source": [
    "cross_val_score(logit,X,Y,scoring='f1_micro', n_jobs=-1)"
   ]
  },
  {
   "cell_type": "code",
   "execution_count": 192,
   "metadata": {},
   "outputs": [
    {
     "data": {
      "text/plain": [
       "array([0.841 , 0.829 , 0.8265, 0.8155, 0.82  ])"
      ]
     },
     "execution_count": 192,
     "metadata": {},
     "output_type": "execute_result"
    }
   ],
   "source": [
    "cross_val_score(logit,X,Y,scoring='f1_micro')"
   ]
  },
  {
   "cell_type": "markdown",
   "metadata": {},
   "source": [
    "# 11.7 분류기 성능 시각화하기"
   ]
  },
  {
   "cell_type": "markdown",
   "metadata": {},
   "source": [
    "테스트 데이터의 예측 클래스와 진짜 클래스를 바탕으로 모델의 품질을 시각적으로 비교. - 오차 행렬을 사용해 예측 클래스와 진짜 클래스를 비교"
   ]
  },
  {
   "cell_type": "code",
   "execution_count": 200,
   "metadata": {
    "collapsed": true
   },
   "outputs": [],
   "source": [
    "import matplotlib.pyplot as plt\n",
    "import seaborn as sns\n",
    "from sklearn import datasets\n",
    "from sklearn.linear_model import LogisticRegression\n",
    "from sklearn.model_selection import train_test_split\n",
    "\n",
    "from sklearn.metrics import confusion_matrix\n",
    "import pandas as pd\n",
    "\n",
    "# 데이터를 로드\n",
    "iris= datasets.load_iris()\n",
    "\n",
    "X= iris.data\n",
    "Y= iris.target\n",
    "\n",
    "# 클래스 이름의 리스트를 만듬. \n",
    "\n",
    "class_names = iris.target_names\n",
    "\n"
   ]
  },
  {
   "cell_type": "code",
   "execution_count": 202,
   "metadata": {},
   "outputs": [
    {
     "name": "stdout",
     "output_type": "stream",
     "text": [
      "['setosa' 'versicolor' 'virginica']\n"
     ]
    }
   ],
   "source": [
    "print(class_names)"
   ]
  },
  {
   "cell_type": "code",
   "execution_count": 204,
   "metadata": {},
   "outputs": [
    {
     "name": "stderr",
     "output_type": "stream",
     "text": [
      "C:\\ProgramData\\Anaconda3\\lib\\site-packages\\sklearn\\linear_model\\_logistic.py:939: ConvergenceWarning: lbfgs failed to converge (status=1):\n",
      "STOP: TOTAL NO. of ITERATIONS REACHED LIMIT.\n",
      "\n",
      "Increase the number of iterations (max_iter) or scale the data as shown in:\n",
      "    https://scikit-learn.org/stable/modules/preprocessing.html.\n",
      "Please also refer to the documentation for alternative solver options:\n",
      "    https://scikit-learn.org/stable/modules/linear_model.html#logistic-regression\n",
      "  extra_warning_msg=_LOGISTIC_SOLVER_CONVERGENCE_MSG)\n"
     ]
    },
    {
     "data": {
      "text/plain": [
       "array([[13,  0,  0],\n",
       "       [ 0, 15,  1],\n",
       "       [ 0,  0,  9]], dtype=int64)"
      ]
     },
     "execution_count": 204,
     "metadata": {},
     "output_type": "execute_result"
    }
   ],
   "source": [
    "X_train,X_test, Y_train,Y_test = train_test_split(X,Y,random_state=1)\n",
    "\n",
    "classifier = LogisticRegression()\n",
    "\n",
    "# 모델을 훈련하고 예측 결과를 계산\n",
    "\n",
    "Y_predicted = classifier.fit(X_train,Y_train).predict(X_test)\n",
    "\n",
    "# 오차 행렬을 생성\n",
    "\n",
    "matrix = confusion_matrix(Y_test,Y_predicted)\n",
    "matrix"
   ]
  },
  {
   "cell_type": "code",
   "execution_count": 206,
   "metadata": {},
   "outputs": [
    {
     "data": {
      "text/html": [
       "<div>\n",
       "<style scoped>\n",
       "    .dataframe tbody tr th:only-of-type {\n",
       "        vertical-align: middle;\n",
       "    }\n",
       "\n",
       "    .dataframe tbody tr th {\n",
       "        vertical-align: top;\n",
       "    }\n",
       "\n",
       "    .dataframe thead th {\n",
       "        text-align: right;\n",
       "    }\n",
       "</style>\n",
       "<table border=\"1\" class=\"dataframe\">\n",
       "  <thead>\n",
       "    <tr style=\"text-align: right;\">\n",
       "      <th></th>\n",
       "      <th>setosa</th>\n",
       "      <th>versicolor</th>\n",
       "      <th>virginica</th>\n",
       "    </tr>\n",
       "  </thead>\n",
       "  <tbody>\n",
       "    <tr>\n",
       "      <th>setosa</th>\n",
       "      <td>13</td>\n",
       "      <td>0</td>\n",
       "      <td>0</td>\n",
       "    </tr>\n",
       "    <tr>\n",
       "      <th>versicolor</th>\n",
       "      <td>0</td>\n",
       "      <td>15</td>\n",
       "      <td>1</td>\n",
       "    </tr>\n",
       "    <tr>\n",
       "      <th>virginica</th>\n",
       "      <td>0</td>\n",
       "      <td>0</td>\n",
       "      <td>9</td>\n",
       "    </tr>\n",
       "  </tbody>\n",
       "</table>\n",
       "</div>"
      ],
      "text/plain": [
       "            setosa  versicolor  virginica\n",
       "setosa          13           0          0\n",
       "versicolor       0          15          1\n",
       "virginica        0           0          9"
      ]
     },
     "execution_count": 206,
     "metadata": {},
     "output_type": "execute_result"
    }
   ],
   "source": [
    "# 데이터 프레임생성\n",
    "\n",
    "dataframe = pd.DataFrame(matrix, index=class_names, columns=class_names)\n",
    "dataframe"
   ]
  },
  {
   "cell_type": "code",
   "execution_count": 211,
   "metadata": {},
   "outputs": [
    {
     "data": {
      "image/png": "[encoded data removed]",
      "text/plain": [
       "<matplotlib.figure.Figure at 0x2ca22271e10>"
      ]
     },
     "metadata": {},
     "output_type": "display_data"
    }
   ],
   "source": [
    "# 히트맵 생성\n",
    "\n",
    "sns.heatmap(dataframe, annot=True,cbar=None, cmap=\"Blues\")  # 데이터 프레임 사용!\n",
    "plt.title(\"Confusion Matrix\")\n",
    "plt.tight_layout()\n",
    "plt.ylabel(\"True Class\")\n",
    "plt.xlabel(\"Predicted Class\")\n",
    "plt.show()"
   ]
  },
  {
   "cell_type": "code",
   "execution_count": 216,
   "metadata": {},
   "outputs": [
    {
     "data": {
      "image/png": "[encoded data removed]",
      "text/plain": [
       "<matplotlib.figure.Figure at 0x2ca224063c8>"
      ]
     },
     "metadata": {},
     "output_type": "display_data"
    }
   ],
   "source": [
    "\n",
    "sns.heatmap(dataframe, annot=False # annotation인듯\n",
    "            ,cbar=None, cmap=\"Blues\")\n",
    "plt.title(\"Confusion Matrix\")\n",
    "plt.tight_layout()\n",
    "plt.ylabel(\"True Class\")\n",
    "plt.xlabel(\"Predicted Class\")\n",
    "plt.show()\n"
   ]
  },
  {
   "cell_type": "code",
   "execution_count": 217,
   "metadata": {},
   "outputs": [
    {
     "data": {
      "image/png": "[encoded data removed]",
      "text/plain": [
       "<matplotlib.figure.Figure at 0x2ca1d4e2ac8>"
      ]
     },
     "metadata": {},
     "output_type": "display_data"
    }
   ],
   "source": [
    "\n",
    "sns.heatmap(dataframe, annot=True, # annotation인듯\n",
    "         \n",
    "            cmap=\"Blues\")\n",
    "plt.title(\"Confusion Matrix\")\n",
    "plt.tight_layout()\n",
    "plt.ylabel(\"True Class\")\n",
    "plt.xlabel(\"Predicted Class\")\n",
    "plt.show()\n"
   ]
  },
  {
   "cell_type": "code",
   "execution_count": 220,
   "metadata": {},
   "outputs": [
    {
     "data": {
      "image/png": "[encoded data removed]",
      "text/plain": [
       "<matplotlib.figure.Figure at 0x2ca222e71d0>"
      ]
     },
     "metadata": {},
     "output_type": "display_data"
    }
   ],
   "source": [
    "\n",
    "sns.heatmap(dataframe, annot=True,\n",
    "            # annotation인듯\n",
    "         \n",
    "            cbar=2,cmap=\"gray\")\n",
    "plt.title(\"Confusion Matrix\")\n",
    "plt.tight_layout()\n",
    "plt.ylabel(\"True Class\")\n",
    "plt.xlabel(\"Predicted Class\")\n",
    "plt.show()\n"
   ]
  },
  {
   "cell_type": "markdown",
   "metadata": {},
   "source": [
    "오차 행렬에서 row는 진짜 클래스 col은 예측 클래스 즉 대각선이 값이 제대로 된 예측을 한거 !! \n",
    "\n",
    "오차 행렬에 대한 세가지 언급\n",
    "\n",
    "1. 완벽한 모델은 대각선에만 값이 있고 나머지는 모두 0. 나쁜 모델은 모든 셀에 고르게 샘플들이 퍼짐.\n",
    "\n",
    "2. 오차 행렬은 모델이 나쁘다는 것뿐만 아니라 어떻게 나쁜지도 알려줌. 즉 잘못 분류된 패턴을 확인 가능 \n",
    " ex) 대각선 아닌부분 잘못 분류된 패턴 확인\n",
    "\n",
    "3. 오차 행렬은 다중 클래스 환경에도 잘 작동.(but,타깃 벡터에 백만 개의 클래스가 있다면 오차 행렬을 그래프로 나타내기 어려움)\n",
    "\n",
    "\n",
    "\n",
    "\n",
    "\n",
    "\n",
    "\n",
    "\n",
    "\n",
    "\n",
    "- 오차 행렬(http://bit.ly/2FuGKaP)\n",
    "- 사이킷런 문서: 오차 행렬(http://bit.ly/2DmnICk)"
   ]
  },
  {
   "cell_type": "markdown",
   "metadata": {},
   "source": [
    "# 11.8 회귀 모델 평가하기"
   ]
  },
  {
   "cell_type": "markdown",
   "metadata": {},
   "source": [
    "회귀 모델의 성능을 평가 - 평균 제곱 오차 MSE를 사용"
   ]
  },
  {
   "cell_type": "code",
   "execution_count": 233,
   "metadata": {},
   "outputs": [
    {
     "data": {
      "text/plain": [
       "array([-2460.57358849, -2560.52760428, -2477.0182585 , -2500.1031327 ,\n",
       "       -2542.75387793])"
      ]
     },
     "execution_count": 233,
     "metadata": {},
     "output_type": "execute_result"
    }
   ],
   "source": [
    "from sklearn.datasets import make_regression\n",
    "from sklearn.metrics import mean_squared_error\n",
    "from sklearn.model_selection import cross_val_score\n",
    "from sklearn.linear_model import LinearRegression\n",
    "\n",
    "# 특성 행렬과 타깃 벡터 생성\n",
    "\n",
    "X,Y = make_regression(n_samples=10000, n_features=3,n_informative=3, n_targets=1,noise=50, coef=False, random_state=1)\n",
    "\n",
    "ols =LinearRegression()\n",
    "\n",
    "# 음의 MSE를 사용한 교차검증을 수행\n",
    "\n",
    "cross_val_score(ols,X,Y, scoring= 'neg_mean_squared_error')\n"
   ]
  },
  {
   "cell_type": "code",
   "execution_count": 234,
   "metadata": {},
   "outputs": [
    {
     "data": {
      "text/plain": [
       "array([0.7618103 , 0.75118402, 0.75675456, 0.75739721, 0.76190233])"
      ]
     },
     "execution_count": 234,
     "metadata": {},
     "output_type": "execute_result"
    }
   ],
   "source": [
    "# 자주 사용하는 또 다른 회귀 지표 결정계수 R2 \n",
    "\n",
    "cross_val_score(ols,X,Y, scoring='r2')"
   ]
  },
  {
   "cell_type": "markdown",
   "metadata": {},
   "source": [
    "- 평균 제곱 오차(http://bit.ly/2HgALnc)\n",
    "- 결정계수(http://bit.ly/2HjW7Qn)"
   ]
  },
  {
   "cell_type": "markdown",
   "metadata": {},
   "source": [
    "# 11.9 군집 모델 평가하기"
   ]
  },
  {
   "cell_type": "markdown",
   "metadata": {},
   "source": [
    "데이터를 클러스터로 모으기 위해 비지도 학습 알고리즘을 사용  - 군집을 평가하는 한 가지 방법은 클러스터의 품질을 측정하는 실루엣 계수(silhouette coefficients)"
   ]
  },
  {
   "cell_type": "code",
   "execution_count": 237,
   "metadata": {},
   "outputs": [
    {
     "data": {
      "text/plain": [
       "array([1, 1, 1, 1, 1, 0, 1, 1, 0, 1, 1, 1, 0, 0, 0, 0, 1, 0, 0, 0, 0, 1,\n",
       "       0, 0, 1, 0, 1, 0, 1, 1, 1, 0, 1, 0, 1, 1, 0, 1, 1, 0, 1, 0, 1, 1,\n",
       "       1, 1, 0, 0, 0, 0, 0, 1, 1, 1, 0, 1, 0, 1, 0, 0, 0, 0, 1, 1, 1, 1,\n",
       "       1, 0, 1, 0, 1, 0, 1, 0, 0, 1, 1, 0, 1, 1, 1, 1, 1, 0, 1, 1, 1, 1,\n",
       "       1, 0, 0, 1, 0, 0, 0, 0, 1, 1, 1, 0, 1, 0, 0, 1, 1, 0, 0, 1, 0, 1,\n",
       "       0, 0, 0, 0, 0, 0, 1, 1, 1, 0, 1, 0, 1, 1, 0, 0, 0, 0, 1, 1, 0, 0,\n",
       "       1, 0, 1, 1, 0, 0, 0, 0, 0, 0, 1, 1, 0, 0, 0, 1, 0, 0, 1, 0, 0, 0,\n",
       "       1, 0, 0, 1, 1, 0, 0, 1, 1, 1, 0, 1, 1, 1, 1, 0, 1, 1, 1, 1, 0, 1,\n",
       "       0, 1, 0, 0, 1, 0, 1, 0, 1, 1, 0, 0, 1, 0, 0, 0, 0, 1, 1, 1, 0, 0,\n",
       "       1, 1, 0, 0, 1, 0, 1, 1, 1, 0, 0, 1, 0, 0, 1, 1, 1, 1, 1, 0, 0, 1,\n",
       "       1, 0, 0, 0, 0, 1, 0, 1, 1, 1, 0, 0, 0, 0, 1, 1, 1, 1, 1, 0, 0, 0,\n",
       "       0, 1, 0, 0, 0, 1, 0, 0, 1, 0, 0, 0, 1, 0, 0, 0, 0, 0, 1, 1, 0, 0,\n",
       "       0, 0, 0, 1, 1, 0, 1, 1, 1, 0, 1, 1, 0, 0, 1, 0, 0, 1, 1, 0, 0, 0,\n",
       "       1, 0, 0, 0, 0, 0, 0, 0, 0, 1, 1, 0, 1, 1, 1, 1, 0, 1, 1, 1, 1, 1,\n",
       "       1, 1, 0, 0, 0, 1, 0, 1, 0, 1, 0, 1, 1, 0, 0, 1, 0, 0, 1, 0, 1, 0,\n",
       "       0, 1, 0, 1, 0, 1, 1, 0, 0, 0, 0, 0, 1, 0, 1, 0, 0, 1, 1, 1, 1, 0,\n",
       "       1, 1, 1, 0, 0, 1, 1, 1, 1, 1, 0, 0, 1, 0, 0, 0, 0, 0, 1, 1, 0, 1,\n",
       "       1, 0, 1, 1, 0, 0, 0, 1, 1, 1, 1, 1, 0, 0, 0, 0, 1, 0, 0, 0, 0, 0,\n",
       "       1, 0, 0, 0, 0, 1, 1, 0, 0, 0, 0, 1, 1, 0, 0, 0, 1, 0, 0, 0, 0, 0,\n",
       "       0, 0, 0, 0, 0, 1, 0, 1, 1, 0, 1, 1, 0, 1, 1, 1, 0, 1, 1, 1, 0, 0,\n",
       "       1, 1, 1, 1, 0, 1, 1, 1, 1, 0, 1, 1, 1, 0, 1, 0, 1, 1, 1, 0, 1, 1,\n",
       "       1, 0, 1, 1, 0, 1, 1, 0, 1, 1, 1, 1, 0, 1, 0, 1, 0, 0, 0, 1, 0, 1,\n",
       "       1, 1, 1, 1, 0, 1, 1, 0, 1, 0, 1, 0, 1, 1, 0, 1, 0, 0, 0, 1, 0, 1,\n",
       "       1, 1, 0, 0, 1, 1, 1, 1, 1, 0, 0, 1, 1, 0, 0, 1, 1, 0, 1, 0, 0, 0,\n",
       "       1, 1, 1, 0, 1, 0, 1, 1, 1, 1, 1, 1, 1, 1, 0, 0, 0, 1, 1, 1, 1, 0,\n",
       "       0, 1, 0, 1, 1, 0, 0, 1, 0, 1, 1, 1, 0, 1, 1, 0, 0, 1, 1, 0, 1, 0,\n",
       "       0, 0, 1, 1, 1, 0, 1, 1, 0, 1, 1, 1, 1, 0, 0, 0, 1, 1, 0, 1, 0, 0,\n",
       "       0, 0, 0, 0, 0, 1, 1, 1, 1, 0, 0, 0, 0, 0, 0, 0, 0, 1, 1, 0, 1, 0,\n",
       "       0, 1, 1, 0, 0, 0, 1, 0, 0, 0, 0, 0, 1, 0, 1, 0, 0, 1, 0, 1, 1, 0,\n",
       "       1, 1, 0, 0, 0, 0, 0, 1, 0, 0, 1, 1, 1, 0, 1, 1, 0, 1, 0, 0, 0, 1,\n",
       "       1, 0, 1, 0, 1, 1, 0, 1, 0, 1, 0, 1, 1, 0, 1, 0, 1, 1, 0, 1, 0, 0,\n",
       "       0, 0, 1, 1, 0, 0, 0, 1, 1, 1, 1, 1, 0, 0, 0, 0, 1, 1, 1, 1, 0, 0,\n",
       "       1, 1, 0, 0, 0, 0, 0, 0, 0, 1, 1, 1, 1, 1, 1, 0, 0, 0, 1, 1, 0, 1,\n",
       "       0, 1, 0, 0, 0, 0, 1, 1, 0, 0, 0, 1, 0, 0, 0, 1, 0, 0, 0, 1, 1, 1,\n",
       "       0, 0, 1, 1, 0, 1, 0, 0, 1, 0, 0, 0, 1, 0, 1, 0, 1, 1, 1, 0, 1, 0,\n",
       "       0, 1, 1, 0, 1, 1, 0, 1, 0, 1, 0, 0, 1, 1, 0, 1, 1, 0, 0, 0, 0, 1,\n",
       "       1, 1, 0, 0, 1, 0, 1, 0, 0, 1, 0, 1, 0, 0, 1, 1, 1, 0, 1, 1, 1, 0,\n",
       "       0, 1, 1, 0, 0, 1, 0, 0, 1, 0, 1, 0, 1, 0, 0, 0, 1, 0, 1, 0, 0, 0,\n",
       "       0, 1, 1, 0, 1, 1, 1, 0, 1, 1, 1, 0, 1, 0, 1, 1, 0, 0, 1, 1, 0, 1,\n",
       "       0, 0, 0, 1, 0, 1, 0, 1, 1, 1, 1, 1, 1, 1, 1, 1, 0, 0, 0, 1, 0, 1,\n",
       "       0, 0, 0, 1, 1, 1, 1, 0, 0, 0, 0, 0, 1, 0, 0, 0, 1, 0, 1, 1, 0, 0,\n",
       "       0, 1, 1, 1, 1, 1, 0, 0, 1, 1, 0, 0, 1, 1, 0, 0, 0, 0, 1, 0, 1, 1,\n",
       "       0, 1, 0, 0, 0, 1, 1, 0, 0, 1, 1, 1, 1, 0, 0, 1, 0, 1, 1, 1, 1, 1,\n",
       "       0, 0, 1, 0, 1, 0, 1, 1, 1, 1, 1, 1, 0, 1, 1, 1, 1, 0, 0, 0, 1, 0,\n",
       "       0, 0, 1, 1, 0, 0, 1, 1, 1, 0, 0, 1, 0, 0, 1, 1, 1, 0, 0, 0, 0, 1,\n",
       "       1, 1, 0, 0, 0, 0, 1, 1, 1, 0])"
      ]
     },
     "execution_count": 237,
     "metadata": {},
     "output_type": "execute_result"
    }
   ],
   "source": [
    "import numpy as np\n",
    "from sklearn.metrics import silhouette_score\n",
    "from sklearn import datasets\n",
    "from sklearn.cluster import KMeans\n",
    "from sklearn.datasets import make_blobs\n",
    "\n",
    "# 특성 행렬을 생성\n",
    "\n",
    "features, _ = make_blobs(n_samples = 1000, n_features= 10, centers=2, cluster_std =0.5, shuffle = True, random_state=1)\n",
    "\n",
    "_\n",
    "\n"
   ]
  },
  {
   "cell_type": "code",
   "execution_count": 238,
   "metadata": {},
   "outputs": [
    {
     "data": {
      "text/plain": [
       "array([[-1.69447144,  3.23887889, -5.90612526, ...,  1.84068368,\n",
       "        -7.95912024, -6.33972358],\n",
       "       [-1.46528223,  3.13504785, -5.54488655, ...,  0.46824734,\n",
       "        -7.31223947, -6.33047766],\n",
       "       [-1.38723852,  3.78863535, -6.15814893, ...,  2.0206174 ,\n",
       "        -7.53142717, -5.60147422],\n",
       "       ...,\n",
       "       [-1.07462939,  3.27468549, -5.79053892, ...,  0.45251815,\n",
       "        -7.15140785, -6.36095282],\n",
       "       [-1.45810635,  4.57155117, -6.12525727, ...,  1.32757808,\n",
       "        -7.12927195, -5.49113664],\n",
       "       [-1.84629813,  3.74593658, -9.96694552, ..., -3.26826911,\n",
       "        -1.94726487,  1.51474148]])"
      ]
     },
     "execution_count": 238,
     "metadata": {},
     "output_type": "execute_result"
    }
   ],
   "source": [
    "features"
   ]
  },
  {
   "cell_type": "code",
   "execution_count": 240,
   "metadata": {},
   "outputs": [
    {
     "data": {
      "text/plain": [
       "KMeans(algorithm='auto', copy_x=True, init='k-means++', max_iter=300,\n",
       "       n_clusters=2, n_init=10, n_jobs=None, precompute_distances='auto',\n",
       "       random_state=1, tol=0.0001, verbose=0)"
      ]
     },
     "execution_count": 240,
     "metadata": {},
     "output_type": "execute_result"
    }
   ],
   "source": [
    "# K-Means 를 사용해 데이터를 클러스터링 하고 클래스를 예측\n",
    "\n",
    "model = KMeans(n_clusters=2, random_state = 1).fit(features)\n",
    "model"
   ]
  },
  {
   "cell_type": "code",
   "execution_count": 242,
   "metadata": {
    "scrolled": true
   },
   "outputs": [
    {
     "data": {
      "text/plain": [
       "array([0, 0, 0, 0, 0, 1, 0, 0, 1, 0, 0, 0, 1, 1, 1, 1, 0, 1, 1, 1, 1, 0,\n",
       "       1, 1, 0, 1, 0, 1, 0, 0, 0, 1, 0, 1, 0, 0, 1, 0, 0, 1, 0, 1, 0, 0,\n",
       "       0, 0, 1, 1, 1, 1, 1, 0, 0, 0, 1, 0, 1, 0, 1, 1, 1, 1, 0, 0, 0, 0,\n",
       "       0, 1, 0, 1, 0, 1, 0, 1, 1, 0, 0, 1, 0, 0, 0, 0, 0, 1, 0, 0, 0, 0,\n",
       "       0, 1, 1, 0, 1, 1, 1, 1, 0, 0, 0, 1, 0, 1, 1, 0, 0, 1, 1, 0, 1, 0,\n",
       "       1, 1, 1, 1, 1, 1, 0, 0, 0, 1, 0, 1, 0, 0, 1, 1, 1, 1, 0, 0, 1, 1,\n",
       "       0, 1, 0, 0, 1, 1, 1, 1, 1, 1, 0, 0, 1, 1, 1, 0, 1, 1, 0, 1, 1, 1,\n",
       "       0, 1, 1, 0, 0, 1, 1, 0, 0, 0, 1, 0, 0, 0, 0, 1, 0, 0, 0, 0, 1, 0,\n",
       "       1, 0, 1, 1, 0, 1, 0, 1, 0, 0, 1, 1, 0, 1, 1, 1, 1, 0, 0, 0, 1, 1,\n",
       "       0, 0, 1, 1, 0, 1, 0, 0, 0, 1, 1, 0, 1, 1, 0, 0, 0, 0, 0, 1, 1, 0,\n",
       "       0, 1, 1, 1, 1, 0, 1, 0, 0, 0, 1, 1, 1, 1, 0, 0, 0, 0, 0, 1, 1, 1,\n",
       "       1, 0, 1, 1, 1, 0, 1, 1, 0, 1, 1, 1, 0, 1, 1, 1, 1, 1, 0, 0, 1, 1,\n",
       "       1, 1, 1, 0, 0, 1, 0, 0, 0, 1, 0, 0, 1, 1, 0, 1, 1, 0, 0, 1, 1, 1,\n",
       "       0, 1, 1, 1, 1, 1, 1, 1, 1, 0, 0, 1, 0, 0, 0, 0, 1, 0, 0, 0, 0, 0,\n",
       "       0, 0, 1, 1, 1, 0, 1, 0, 1, 0, 1, 0, 0, 1, 1, 0, 1, 1, 0, 1, 0, 1,\n",
       "       1, 0, 1, 0, 1, 0, 0, 1, 1, 1, 1, 1, 0, 1, 0, 1, 1, 0, 0, 0, 0, 1,\n",
       "       0, 0, 0, 1, 1, 0, 0, 0, 0, 0, 1, 1, 0, 1, 1, 1, 1, 1, 0, 0, 1, 0,\n",
       "       0, 1, 0, 0, 1, 1, 1, 0, 0, 0, 0, 0, 1, 1, 1, 1, 0, 1, 1, 1, 1, 1,\n",
       "       0, 1, 1, 1, 1, 0, 0, 1, 1, 1, 1, 0, 0, 1, 1, 1, 0, 1, 1, 1, 1, 1,\n",
       "       1, 1, 1, 1, 1, 0, 1, 0, 0, 1, 0, 0, 1, 0, 0, 0, 1, 0, 0, 0, 1, 1,\n",
       "       0, 0, 0, 0, 1, 0, 0, 0, 0, 1, 0, 0, 0, 1, 0, 1, 0, 0, 0, 1, 0, 0,\n",
       "       0, 1, 0, 0, 1, 0, 0, 1, 0, 0, 0, 0, 1, 0, 1, 0, 1, 1, 1, 0, 1, 0,\n",
       "       0, 0, 0, 0, 1, 0, 0, 1, 0, 1, 0, 1, 0, 0, 1, 0, 1, 1, 1, 0, 1, 0,\n",
       "       0, 0, 1, 1, 0, 0, 0, 0, 0, 1, 1, 0, 0, 1, 1, 0, 0, 1, 0, 1, 1, 1,\n",
       "       0, 0, 0, 1, 0, 1, 0, 0, 0, 0, 0, 0, 0, 0, 1, 1, 1, 0, 0, 0, 0, 1,\n",
       "       1, 0, 1, 0, 0, 1, 1, 0, 1, 0, 0, 0, 1, 0, 0, 1, 1, 0, 0, 1, 0, 1,\n",
       "       1, 1, 0, 0, 0, 1, 0, 0, 1, 0, 0, 0, 0, 1, 1, 1, 0, 0, 1, 0, 1, 1,\n",
       "       1, 1, 1, 1, 1, 0, 0, 0, 0, 1, 1, 1, 1, 1, 1, 1, 1, 0, 0, 1, 0, 1,\n",
       "       1, 0, 0, 1, 1, 1, 0, 1, 1, 1, 1, 1, 0, 1, 0, 1, 1, 0, 1, 0, 0, 1,\n",
       "       0, 0, 1, 1, 1, 1, 1, 0, 1, 1, 0, 0, 0, 1, 0, 0, 1, 0, 1, 1, 1, 0,\n",
       "       0, 1, 0, 1, 0, 0, 1, 0, 1, 0, 1, 0, 0, 1, 0, 1, 0, 0, 1, 0, 1, 1,\n",
       "       1, 1, 0, 0, 1, 1, 1, 0, 0, 0, 0, 0, 1, 1, 1, 1, 0, 0, 0, 0, 1, 1,\n",
       "       0, 0, 1, 1, 1, 1, 1, 1, 1, 0, 0, 0, 0, 0, 0, 1, 1, 1, 0, 0, 1, 0,\n",
       "       1, 0, 1, 1, 1, 1, 0, 0, 1, 1, 1, 0, 1, 1, 1, 0, 1, 1, 1, 0, 0, 0,\n",
       "       1, 1, 0, 0, 1, 0, 1, 1, 0, 1, 1, 1, 0, 1, 0, 1, 0, 0, 0, 1, 0, 1,\n",
       "       1, 0, 0, 1, 0, 0, 1, 0, 1, 0, 1, 1, 0, 0, 1, 0, 0, 1, 1, 1, 1, 0,\n",
       "       0, 0, 1, 1, 0, 1, 0, 1, 1, 0, 1, 0, 1, 1, 0, 0, 0, 1, 0, 0, 0, 1,\n",
       "       1, 0, 0, 1, 1, 0, 1, 1, 0, 1, 0, 1, 0, 1, 1, 1, 0, 1, 0, 1, 1, 1,\n",
       "       1, 0, 0, 1, 0, 0, 0, 1, 0, 0, 0, 1, 0, 1, 0, 0, 1, 1, 0, 0, 1, 0,\n",
       "       1, 1, 1, 0, 1, 0, 1, 0, 0, 0, 0, 0, 0, 0, 0, 0, 1, 1, 1, 0, 1, 0,\n",
       "       1, 1, 1, 0, 0, 0, 0, 1, 1, 1, 1, 1, 0, 1, 1, 1, 0, 1, 0, 0, 1, 1,\n",
       "       1, 0, 0, 0, 0, 0, 1, 1, 0, 0, 1, 1, 0, 0, 1, 1, 1, 1, 0, 1, 0, 0,\n",
       "       1, 0, 1, 1, 1, 0, 0, 1, 1, 0, 0, 0, 0, 1, 1, 0, 1, 0, 0, 0, 0, 0,\n",
       "       1, 1, 0, 1, 0, 1, 0, 0, 0, 0, 0, 0, 1, 0, 0, 0, 0, 1, 1, 1, 0, 1,\n",
       "       1, 1, 0, 0, 1, 1, 0, 0, 0, 1, 1, 0, 1, 1, 0, 0, 0, 1, 1, 1, 1, 0,\n",
       "       0, 0, 1, 1, 1, 1, 0, 0, 0, 1])"
      ]
     },
     "execution_count": 242,
     "metadata": {},
     "output_type": "execute_result"
    }
   ],
   "source": [
    "# 예측된 클래스\n",
    "\n",
    "target_predicted = model.labels_\n",
    "target_predicted"
   ]
  },
  {
   "cell_type": "code",
   "execution_count": 245,
   "metadata": {},
   "outputs": [
    {
     "data": {
      "text/plain": [
       "0.8916265564072142"
      ]
     },
     "execution_count": 245,
     "metadata": {},
     "output_type": "execute_result"
    }
   ],
   "source": [
    "# 모델을 평가\n",
    "\n",
    "silhouette_score(features,target_predicted)"
   ]
  },
  {
   "cell_type": "markdown",
   "metadata": {},
   "source": [
    "지도 학습 모델 평가는 타깃 벡터의 정답값과 예측값(예를 들면,클래스나 실숫값)을 비교. 군집 방법을 사용하는 대부분의 이유는 타깃 벡터가 없기 때문. 하지만 여러가지 군집 평가 지표는 타깃 벡터가 필요. 타깃 벡터를 가지고 있을 때 군집 같은 비지도 학습 방법을 사용하면 역효과.\n",
    "\n",
    "타깃 벡터가 없기 때문에 예측과 정답을 평가할 수 없지만 군집 자체의 특성을 평가할 수 있음. 클러스터 내의 샘플 간의 거리는 가깝고(즉, 조밀한 클러스터) 클러스터 간 거리는 먼것(즉, 잘 구분된 클러스터)이 좋은 클러스터. 실루엣 계수는 이 두 특성을 측정한 하나의 수치를 제공. \n",
    "\n",
    "silhouette_score 함수의 반환값은 모든 샘플의 실루엣 계수를 평균한 값. 실루엣 계수의 범위는 -1과 1 사이. 1은 조밀하고 잘 구분되는 클러스터를 의미.\n",
    "\n",
    "사이킷런 문서: sihouette_score(http://bit.ly/2BEVQV5)"
   ]
  },
  {
   "cell_type": "markdown",
   "metadata": {
    "collapsed": true
   },
   "source": [
    "# 11.10 사용자 정의 평가 지표 만들기\n"
   ]
  },
  {
   "cell_type": "markdown",
   "metadata": {},
   "source": [
    "자신만의 지표를 사용해 모델을 평가 - 평가 방법을 함수로 만들고 make_scorer 함수를 사용해 스코어 함수로 변환"
   ]
  },
  {
   "cell_type": "code",
   "execution_count": 2,
   "metadata": {},
   "outputs": [],
   "source": [
    "from sklearn.metrics import r2_score,make_scorer\n",
    "from sklearn.model_selection import train_test_split\n",
    "from sklearn.linear_model import Ridge\n",
    "from sklearn.datasets import make_regression"
   ]
  },
  {
   "cell_type": "code",
   "execution_count": 8,
   "metadata": {},
   "outputs": [
    {
     "data": {
      "text/plain": [
       "0.9999999872133806"
      ]
     },
     "execution_count": 8,
     "metadata": {},
     "output_type": "execute_result"
    }
   ],
   "source": [
    "# 특성 행렬과 타깃 벡터를 만듬\n",
    "X,Y = make_regression(n_samples=10000, n_features=3, random_state=1)\n",
    "\n",
    "X_train,X_test,Y_train,Y_test = train_test_split(X,Y, test_size = 0.1, random_state=1)\n",
    "\n",
    "# 사용자 정의 지표 생성\n",
    "\n",
    "def custom_metric(Y_test,Y_predicted):\n",
    "    r2= r2_score(Y_test,Y_predicted)\n",
    "    return r2\n",
    "\n",
    "\n",
    "#### 높은 점수가 좋은 것을 나타내는 스코어 함수를 만듬.\n",
    "\n",
    "score =make_scorer(custom_metric,greater_is_better=True)\n",
    "\n",
    "# 리지 회귀 모델을 만듬\n",
    "\n",
    "classifier = Ridge()\n",
    "\n",
    "# 리지 회귀 모델을 훈련\n",
    "\n",
    "model = classifier.fit(X_train,Y_train)\n",
    "\n",
    "# 사용자 정의 스코어 함수를 적용.\n",
    "score(model, X_test,Y_test)\n"
   ]
  },
  {
   "cell_type": "code",
   "execution_count": 9,
   "metadata": {},
   "outputs": [
    {
     "data": {
      "text/plain": [
       "-0.9999999872133806"
      ]
     },
     "execution_count": 9,
     "metadata": {},
     "output_type": "execute_result"
    }
   ],
   "source": [
    "# 특성 행렬과 타깃 벡터를 만듬\n",
    "X,Y = make_regression(n_samples=10000, n_features=3, random_state=1)\n",
    "\n",
    "X_train,X_test,Y_train,Y_test = train_test_split(X,Y, test_size = 0.1, random_state=1)\n",
    "\n",
    "# 사용자 정의 지표 생성\n",
    "\n",
    "def custom_metric(Y_test,Y_predicted):\n",
    "    r2= r2_score(Y_test,Y_predicted)\n",
    "    return r2\n",
    "\n",
    "\n",
    "#### 높은 점수가 좋은 것을 나타내는 스코어 함수를 만듬.\n",
    "\n",
    "score =make_scorer(custom_metric,greater_is_better=False)\n",
    "\n",
    "# 리지 회귀 모델을 만듬\n",
    "\n",
    "classifier = Ridge()\n",
    "\n",
    "# 리지 회귀 모델을 훈련\n",
    "\n",
    "model = classifier.fit(X_train,Y_train)\n",
    "\n",
    "# 사용자 정의 스코어 함수를 적용.\n",
    "score(model, X_test,Y_test)\n"
   ]
  },
  {
   "cell_type": "markdown",
   "metadata": {},
   "source": [
    "- 사이킷런 문서:make_scorer(http://bit.ly/2FwMm4m)"
   ]
  },
  {
   "cell_type": "markdown",
   "metadata": {},
   "source": [
    "# 11.11 훈련 세트 크기에 따른 영향을 시각화하기"
   ]
  },
  {
   "cell_type": "markdown",
   "metadata": {},
   "source": [
    "어떤 측정 지표(정확도,F1 등)로 훈련세트에 있는 샘플 개수에 따른 영향을 평가 - 학습곡선을 그림."
   ]
  },
  {
   "cell_type": "code",
   "execution_count": 12,
   "metadata": {},
   "outputs": [
    {
     "data": {
      "text/plain": [
       "array([[ 0.,  0.,  5., ...,  0.,  0.,  0.],\n",
       "       [ 0.,  0.,  0., ..., 10.,  0.,  0.],\n",
       "       [ 0.,  0.,  0., ..., 16.,  9.,  0.],\n",
       "       ...,\n",
       "       [ 0.,  0.,  1., ...,  6.,  0.,  0.],\n",
       "       [ 0.,  0.,  2., ..., 12.,  0.,  0.],\n",
       "       [ 0.,  0., 10., ..., 12.,  1.,  0.]])"
      ]
     },
     "execution_count": 12,
     "metadata": {},
     "output_type": "execute_result"
    }
   ],
   "source": [
    "# 라이브러리 임포트\n",
    "import numpy as np\n",
    "import matplotlib.pyplot as plt\n",
    "\n",
    "from sklearn.model_selection import learning_curve\n",
    "from sklearn.datasets import load_digits\n",
    "from sklearn.ensemble import RandomForestClassifier\n",
    "\n",
    "\n",
    "digits = load_digits()\n",
    "X= digits.data\n",
    "Y= digits.target\n",
    "\n",
    "X"
   ]
  },
  {
   "cell_type": "code",
   "execution_count": 13,
   "metadata": {},
   "outputs": [
    {
     "data": {
      "text/plain": [
       "array([0, 1, 2, ..., 8, 9, 8])"
      ]
     },
     "execution_count": 13,
     "metadata": {},
     "output_type": "execute_result"
    }
   ],
   "source": [
    "Y"
   ]
  },
  {
   "cell_type": "code",
   "execution_count": 17,
   "metadata": {
    "collapsed": true
   },
   "outputs": [],
   "source": [
    "train_sizes, train_scores, test_scores = learning_curve(RandomForestClassifier(), # 분류기\n",
    "                                                       X,\n",
    "                                                       Y,\n",
    "                                                       cv=10, # 폴드수\n",
    "                                                       scoring='accuracy',# 평가지표\n",
    "                                                       n_jobs=-1, # 모든 코어 사용\n",
    "                                                       train_sizes= np.linspace(0.01, 1.0, 50))# 50개의 훈련 세트 크기)\n",
    "                                                        \n",
    "    \n",
    "\n",
    "                       \n",
    "                                                        "
   ]
  },
  {
   "cell_type": "code",
   "execution_count": 18,
   "metadata": {
    "collapsed": true
   },
   "outputs": [],
   "source": [
    "# 훈련 세트 점수의 평균과 표준편차를 계산\n",
    "\n",
    "train_mean = np.mean(train_scores, axis=1)\n",
    "train_std = np.std(train_scores, axis=1)\n",
    "\n",
    "# 테스트 세트 점수의 평균과 표준편차를 계산\n",
    "test_mean = np.mean(test_scores, axis =1)\n",
    "test_std = np.std(test_scores, axis=1)\n"
   ]
  },
  {
   "cell_type": "code",
   "execution_count": 22,
   "metadata": {},
   "outputs": [
    {
     "data": {
      "image/png": "[encoded data removed]",
      "text/plain": [
       "<matplotlib.figure.Figure at 0x17fd9e780b8>"
      ]
     },
     "metadata": {},
     "output_type": "display_data"
    }
   ],
   "source": [
    "# 그래프 생성\n",
    "\n",
    "plt.plot(train_sizes, train_mean, '--', color=\"#111111\",label='Training score')\n",
    "plt.plot(train_sizes, test_mean, color= '#111111', label='Cross-Validation score')\n",
    "\n",
    "plt.show()\n",
    "                                                        \n",
    "                                     "
   ]
  },
  {
   "cell_type": "code",
   "execution_count": 45,
   "metadata": {},
   "outputs": [
    {
     "data": {
      "image/png": "[encoded data removed]",
      "text/plain": [
       "<matplotlib.figure.Figure at 0x17fd9fdfe10>"
      ]
     },
     "metadata": {},
     "output_type": "display_data"
    }
   ],
   "source": [
    "# 표준 편차 영역을 그림\n",
    "plt.fill_between(train_sizes, train_mean-train_std,train_mean+train_std, color=\"#AAAAAA\")\n",
    "\n",
    "plt.fill_between(train_sizes, test_mean-test_std,test_mean+test_std, color=\"#CCCCCC\")\n",
    "\n",
    "                                             \n",
    "    \n",
    "plt.show()   "
   ]
  },
  {
   "cell_type": "code",
   "execution_count": 46,
   "metadata": {},
   "outputs": [
    {
     "data": {
      "image/png": "[encoded data removed]",
      "text/plain": [
       "<matplotlib.figure.Figure at 0x17fda243208>"
      ]
     },
     "metadata": {},
     "output_type": "display_data"
    }
   ],
   "source": [
    "# 그래프 생성\n",
    "\n",
    "plt.plot(train_sizes, train_mean, '--', color=\"#111111\",label='Training score')\n",
    "plt.plot(train_sizes, test_mean, color= '#111111', label='Cross-Validation score')\n",
    "# 표준 편차 영역을 그림\n",
    "plt.fill_between(train_sizes, train_mean-train_std,train_mean+train_std, color=\"#DDDDDD\")\n",
    "\n",
    "plt.fill_between(train_sizes, test_mean-test_std,test_mean+test_std, color=\"#AAAAAA\")\n",
    "plt.title(\"Learning Curve\")\n",
    "plt.xlabel(\"Training Set Size\"), plt.ylabel(\"Accuracy Score\"),\n",
    "plt.legend(loc=\"best\")\n",
    "plt.tight_layout()\n",
    "plt.show()                   "
   ]
  },
  {
   "cell_type": "markdown",
   "metadata": {},
   "source": [
    "학습 곡선은 훈련 세트의 샘플 수가 증가함에 따라 훈련 세트와 교차검증의 성능(예로, 정확도나 재현율을)시각화 함. 더 많은 훈련 데이터를 모아서 학습 알고리즘에 도움될지 결정하는 데 널리 사용. 해결에서 훈련 세트 샘플의 1%에서 100%까지 50개 크기에서 랜덤 포레스트 분류기의 정확도를 그래프로 그림. 모델의 교차검증 정확도가 증가하면 추가적인 샘플이 도움을 줌.(실전에서는 샘플을 더 모으는 것이 불가능할 수 있음.)\n",
    "\n",
    "사이킷런 문서 : Learning Curve (http://bit.ly/2FwjBve)"
   ]
  },
  {
   "cell_type": "markdown",
   "metadata": {},
   "source": [
    "# 11.12 평가 지표 리포트 만들기"
   ]
  },
  {
   "cell_type": "markdown",
   "metadata": {},
   "source": [
    "분류기 성능을 간단하게 요약 - classification_report 사용"
   ]
  },
  {
   "cell_type": "code",
   "execution_count": 54,
   "metadata": {
    "collapsed": true
   },
   "outputs": [],
   "source": [
    "from sklearn.model_selection import train_test_split\n",
    "from sklearn.linear_model import LogisticRegression # LinearRegression으로 하면 오류남!!\n",
    "from sklearn import datasets\n",
    "from sklearn.metrics import classification_report\n",
    "\n",
    "iris = datasets.load_iris()\n",
    "\n",
    "X= iris.data\n",
    "Y= iris.target"
   ]
  },
  {
   "cell_type": "code",
   "execution_count": 55,
   "metadata": {},
   "outputs": [
    {
     "data": {
      "text/plain": [
       "array([[5.1, 3.5, 1.4, 0.2],\n",
       "       [4.9, 3. , 1.4, 0.2],\n",
       "       [4.7, 3.2, 1.3, 0.2],\n",
       "       [4.6, 3.1, 1.5, 0.2],\n",
       "       [5. , 3.6, 1.4, 0.2],\n",
       "       [5.4, 3.9, 1.7, 0.4],\n",
       "       [4.6, 3.4, 1.4, 0.3],\n",
       "       [5. , 3.4, 1.5, 0.2],\n",
       "       [4.4, 2.9, 1.4, 0.2],\n",
       "       [4.9, 3.1, 1.5, 0.1],\n",
       "       [5.4, 3.7, 1.5, 0.2],\n",
       "       [4.8, 3.4, 1.6, 0.2],\n",
       "       [4.8, 3. , 1.4, 0.1],\n",
       "       [4.3, 3. , 1.1, 0.1],\n",
       "       [5.8, 4. , 1.2, 0.2],\n",
       "       [5.7, 4.4, 1.5, 0.4],\n",
       "       [5.4, 3.9, 1.3, 0.4],\n",
       "       [5.1, 3.5, 1.4, 0.3],\n",
       "       [5.7, 3.8, 1.7, 0.3],\n",
       "       [5.1, 3.8, 1.5, 0.3],\n",
       "       [5.4, 3.4, 1.7, 0.2],\n",
       "       [5.1, 3.7, 1.5, 0.4],\n",
       "       [4.6, 3.6, 1. , 0.2],\n",
       "       [5.1, 3.3, 1.7, 0.5],\n",
       "       [4.8, 3.4, 1.9, 0.2],\n",
       "       [5. , 3. , 1.6, 0.2],\n",
       "       [5. , 3.4, 1.6, 0.4],\n",
       "       [5.2, 3.5, 1.5, 0.2],\n",
       "       [5.2, 3.4, 1.4, 0.2],\n",
       "       [4.7, 3.2, 1.6, 0.2],\n",
       "       [4.8, 3.1, 1.6, 0.2],\n",
       "       [5.4, 3.4, 1.5, 0.4],\n",
       "       [5.2, 4.1, 1.5, 0.1],\n",
       "       [5.5, 4.2, 1.4, 0.2],\n",
       "       [4.9, 3.1, 1.5, 0.2],\n",
       "       [5. , 3.2, 1.2, 0.2],\n",
       "       [5.5, 3.5, 1.3, 0.2],\n",
       "       [4.9, 3.6, 1.4, 0.1],\n",
       "       [4.4, 3. , 1.3, 0.2],\n",
       "       [5.1, 3.4, 1.5, 0.2],\n",
       "       [5. , 3.5, 1.3, 0.3],\n",
       "       [4.5, 2.3, 1.3, 0.3],\n",
       "       [4.4, 3.2, 1.3, 0.2],\n",
       "       [5. , 3.5, 1.6, 0.6],\n",
       "       [5.1, 3.8, 1.9, 0.4],\n",
       "       [4.8, 3. , 1.4, 0.3],\n",
       "       [5.1, 3.8, 1.6, 0.2],\n",
       "       [4.6, 3.2, 1.4, 0.2],\n",
       "       [5.3, 3.7, 1.5, 0.2],\n",
       "       [5. , 3.3, 1.4, 0.2],\n",
       "       [7. , 3.2, 4.7, 1.4],\n",
       "       [6.4, 3.2, 4.5, 1.5],\n",
       "       [6.9, 3.1, 4.9, 1.5],\n",
       "       [5.5, 2.3, 4. , 1.3],\n",
       "       [6.5, 2.8, 4.6, 1.5],\n",
       "       [5.7, 2.8, 4.5, 1.3],\n",
       "       [6.3, 3.3, 4.7, 1.6],\n",
       "       [4.9, 2.4, 3.3, 1. ],\n",
       "       [6.6, 2.9, 4.6, 1.3],\n",
       "       [5.2, 2.7, 3.9, 1.4],\n",
       "       [5. , 2. , 3.5, 1. ],\n",
       "       [5.9, 3. , 4.2, 1.5],\n",
       "       [6. , 2.2, 4. , 1. ],\n",
       "       [6.1, 2.9, 4.7, 1.4],\n",
       "       [5.6, 2.9, 3.6, 1.3],\n",
       "       [6.7, 3.1, 4.4, 1.4],\n",
       "       [5.6, 3. , 4.5, 1.5],\n",
       "       [5.8, 2.7, 4.1, 1. ],\n",
       "       [6.2, 2.2, 4.5, 1.5],\n",
       "       [5.6, 2.5, 3.9, 1.1],\n",
       "       [5.9, 3.2, 4.8, 1.8],\n",
       "       [6.1, 2.8, 4. , 1.3],\n",
       "       [6.3, 2.5, 4.9, 1.5],\n",
       "       [6.1, 2.8, 4.7, 1.2],\n",
       "       [6.4, 2.9, 4.3, 1.3],\n",
       "       [6.6, 3. , 4.4, 1.4],\n",
       "       [6.8, 2.8, 4.8, 1.4],\n",
       "       [6.7, 3. , 5. , 1.7],\n",
       "       [6. , 2.9, 4.5, 1.5],\n",
       "       [5.7, 2.6, 3.5, 1. ],\n",
       "       [5.5, 2.4, 3.8, 1.1],\n",
       "       [5.5, 2.4, 3.7, 1. ],\n",
       "       [5.8, 2.7, 3.9, 1.2],\n",
       "       [6. , 2.7, 5.1, 1.6],\n",
       "       [5.4, 3. , 4.5, 1.5],\n",
       "       [6. , 3.4, 4.5, 1.6],\n",
       "       [6.7, 3.1, 4.7, 1.5],\n",
       "       [6.3, 2.3, 4.4, 1.3],\n",
       "       [5.6, 3. , 4.1, 1.3],\n",
       "       [5.5, 2.5, 4. , 1.3],\n",
       "       [5.5, 2.6, 4.4, 1.2],\n",
       "       [6.1, 3. , 4.6, 1.4],\n",
       "       [5.8, 2.6, 4. , 1.2],\n",
       "       [5. , 2.3, 3.3, 1. ],\n",
       "       [5.6, 2.7, 4.2, 1.3],\n",
       "       [5.7, 3. , 4.2, 1.2],\n",
       "       [5.7, 2.9, 4.2, 1.3],\n",
       "       [6.2, 2.9, 4.3, 1.3],\n",
       "       [5.1, 2.5, 3. , 1.1],\n",
       "       [5.7, 2.8, 4.1, 1.3],\n",
       "       [6.3, 3.3, 6. , 2.5],\n",
       "       [5.8, 2.7, 5.1, 1.9],\n",
       "       [7.1, 3. , 5.9, 2.1],\n",
       "       [6.3, 2.9, 5.6, 1.8],\n",
       "       [6.5, 3. , 5.8, 2.2],\n",
       "       [7.6, 3. , 6.6, 2.1],\n",
       "       [4.9, 2.5, 4.5, 1.7],\n",
       "       [7.3, 2.9, 6.3, 1.8],\n",
       "       [6.7, 2.5, 5.8, 1.8],\n",
       "       [7.2, 3.6, 6.1, 2.5],\n",
       "       [6.5, 3.2, 5.1, 2. ],\n",
       "       [6.4, 2.7, 5.3, 1.9],\n",
       "       [6.8, 3. , 5.5, 2.1],\n",
       "       [5.7, 2.5, 5. , 2. ],\n",
       "       [5.8, 2.8, 5.1, 2.4],\n",
       "       [6.4, 3.2, 5.3, 2.3],\n",
       "       [6.5, 3. , 5.5, 1.8],\n",
       "       [7.7, 3.8, 6.7, 2.2],\n",
       "       [7.7, 2.6, 6.9, 2.3],\n",
       "       [6. , 2.2, 5. , 1.5],\n",
       "       [6.9, 3.2, 5.7, 2.3],\n",
       "       [5.6, 2.8, 4.9, 2. ],\n",
       "       [7.7, 2.8, 6.7, 2. ],\n",
       "       [6.3, 2.7, 4.9, 1.8],\n",
       "       [6.7, 3.3, 5.7, 2.1],\n",
       "       [7.2, 3.2, 6. , 1.8],\n",
       "       [6.2, 2.8, 4.8, 1.8],\n",
       "       [6.1, 3. , 4.9, 1.8],\n",
       "       [6.4, 2.8, 5.6, 2.1],\n",
       "       [7.2, 3. , 5.8, 1.6],\n",
       "       [7.4, 2.8, 6.1, 1.9],\n",
       "       [7.9, 3.8, 6.4, 2. ],\n",
       "       [6.4, 2.8, 5.6, 2.2],\n",
       "       [6.3, 2.8, 5.1, 1.5],\n",
       "       [6.1, 2.6, 5.6, 1.4],\n",
       "       [7.7, 3. , 6.1, 2.3],\n",
       "       [6.3, 3.4, 5.6, 2.4],\n",
       "       [6.4, 3.1, 5.5, 1.8],\n",
       "       [6. , 3. , 4.8, 1.8],\n",
       "       [6.9, 3.1, 5.4, 2.1],\n",
       "       [6.7, 3.1, 5.6, 2.4],\n",
       "       [6.9, 3.1, 5.1, 2.3],\n",
       "       [5.8, 2.7, 5.1, 1.9],\n",
       "       [6.8, 3.2, 5.9, 2.3],\n",
       "       [6.7, 3.3, 5.7, 2.5],\n",
       "       [6.7, 3. , 5.2, 2.3],\n",
       "       [6.3, 2.5, 5. , 1.9],\n",
       "       [6.5, 3. , 5.2, 2. ],\n",
       "       [6.2, 3.4, 5.4, 2.3],\n",
       "       [5.9, 3. , 5.1, 1.8]])"
      ]
     },
     "execution_count": 55,
     "metadata": {},
     "output_type": "execute_result"
    }
   ],
   "source": [
    "X"
   ]
  },
  {
   "cell_type": "code",
   "execution_count": 56,
   "metadata": {},
   "outputs": [
    {
     "data": {
      "text/plain": [
       "array([0, 0, 0, 0, 0, 0, 0, 0, 0, 0, 0, 0, 0, 0, 0, 0, 0, 0, 0, 0, 0, 0,\n",
       "       0, 0, 0, 0, 0, 0, 0, 0, 0, 0, 0, 0, 0, 0, 0, 0, 0, 0, 0, 0, 0, 0,\n",
       "       0, 0, 0, 0, 0, 0, 1, 1, 1, 1, 1, 1, 1, 1, 1, 1, 1, 1, 1, 1, 1, 1,\n",
       "       1, 1, 1, 1, 1, 1, 1, 1, 1, 1, 1, 1, 1, 1, 1, 1, 1, 1, 1, 1, 1, 1,\n",
       "       1, 1, 1, 1, 1, 1, 1, 1, 1, 1, 1, 1, 2, 2, 2, 2, 2, 2, 2, 2, 2, 2,\n",
       "       2, 2, 2, 2, 2, 2, 2, 2, 2, 2, 2, 2, 2, 2, 2, 2, 2, 2, 2, 2, 2, 2,\n",
       "       2, 2, 2, 2, 2, 2, 2, 2, 2, 2, 2, 2, 2, 2, 2, 2, 2, 2])"
      ]
     },
     "execution_count": 56,
     "metadata": {},
     "output_type": "execute_result"
    }
   ],
   "source": [
    "Y"
   ]
  },
  {
   "cell_type": "code",
   "execution_count": 57,
   "metadata": {
    "collapsed": true
   },
   "outputs": [],
   "source": [
    "class_names = iris.target_names"
   ]
  },
  {
   "cell_type": "code",
   "execution_count": 58,
   "metadata": {},
   "outputs": [
    {
     "name": "stdout",
     "output_type": "stream",
     "text": [
      "              precision    recall  f1-score   support\n",
      "\n",
      "      setosa       1.00      1.00      1.00        13\n",
      "  versicolor       1.00      0.94      0.97        16\n",
      "   virginica       0.90      1.00      0.95         9\n",
      "\n",
      "    accuracy                           0.97        38\n",
      "   macro avg       0.97      0.98      0.97        38\n",
      "weighted avg       0.98      0.97      0.97        38\n",
      "\n"
     ]
    },
    {
     "name": "stderr",
     "output_type": "stream",
     "text": [
      "C:\\ProgramData\\Anaconda3\\lib\\site-packages\\sklearn\\linear_model\\_logistic.py:939: ConvergenceWarning: lbfgs failed to converge (status=1):\n",
      "STOP: TOTAL NO. of ITERATIONS REACHED LIMIT.\n",
      "\n",
      "Increase the number of iterations (max_iter) or scale the data as shown in:\n",
      "    https://scikit-learn.org/stable/modules/preprocessing.html.\n",
      "Please also refer to the documentation for alternative solver options:\n",
      "    https://scikit-learn.org/stable/modules/linear_model.html#logistic-regression\n",
      "  extra_warning_msg=_LOGISTIC_SOLVER_CONVERGENCE_MSG)\n"
     ]
    }
   ],
   "source": [
    "X_train,X_test,Y_train,Y_test = train_test_split(X,Y,random_state=1)\n",
    "\n",
    "\n",
    "classifier = LogisticRegression() # LinearRegression으로 하면 오류남!!\n",
    "\n",
    "model =classifier.fit(X_train,Y_train)\n",
    "Y_predicted = model.predict(X_test)\n",
    "\n",
    "# 분류 리포트를 생성\n",
    "print(classification_report(Y_test,Y_predicted, target_names= class_names))"
   ]
  },
  {
   "cell_type": "markdown",
   "metadata": {
    "collapsed": true
   },
   "source": [
    "# 11.13 하이퍼파라미터 값의 영향을 시각화하기"
   ]
  },
  {
   "cell_type": "markdown",
   "metadata": {},
   "source": [
    "일부 하이퍼파라미터 값을 변경할 때 모델의 성능 변화를 확인 - 검증 곡선 (Validation curve)사용."
   ]
  },
  {
   "cell_type": "code",
   "execution_count": 10,
   "metadata": {},
   "outputs": [
    {
     "data": {
      "image/png": "[encoded data removed]",
      "text/plain": [
       "<matplotlib.figure.Figure at 0x263cd773c88>"
      ]
     },
     "metadata": {},
     "output_type": "display_data"
    }
   ],
   "source": [
    "import matplotlib.pyplot as plt\n",
    "import numpy as np\n",
    "from sklearn.datasets import load_digits\n",
    "from sklearn.ensemble import RandomForestClassifier\n",
    "from sklearn.model_selection import validation_curve\n",
    "\n",
    "# 데이터를 로드합니다.\n",
    "digits = load_digits()\n",
    "\n",
    "# 특성 행렬과 타깃 벡터 생성.\n",
    "X,Y = digits.data, digits.target\n",
    "\n",
    "# 파라미터 값의 범위를 만듬\n",
    "param_range = np.arange(1,250,2)\n",
    "\n",
    "# 파라미터 값의 범위를 사용해 훈련 세트와 테스트 세트의 정확도를 계산.\n",
    "train_scores, test_scores = validation_curve(RandomForestClassifier(), # 분류기\n",
    "                                            X, #특성행렬\n",
    "                                            Y, # 타깃 벡터\n",
    "                                            param_name='n_estimators', #조사할 하이퍼 파라미터 \n",
    "                                            param_range = param_range , # 하이퍼파라미터 값의 범위\n",
    "                                            cv=3, # 폴드 수\n",
    "                                            scoring='accuracy', # 성능 지표\n",
    "                                            n_jobs = -1 # 모든 코어사용\n",
    "                                            )\n",
    "\n",
    "# 훈련 세트 점수의 평균과 표준편차를 계산\n",
    "\n",
    "train_mean = np.mean(train_scores, axis = 1)\n",
    "train_std = np.std(train_scores, axis=1)\n",
    "\n",
    "# 테스트 세트 점수의 평균과 표준편차를 계산.\n",
    "test_mean = np.mean(test_scores, axis =1)\n",
    "test_std = np.std(test_scores, axis= 1)\n",
    "\n",
    "# 훈련 세트와 테스트 세트의 평균 정확도 점수를 그래프로 그림\n",
    "plt.plot(param_range,train_mean, label = \"Training score\", color = 'black')\n",
    "plt.plot(param_range,test_mean, label = 'Cross-validation score', color = 'dimgrey')\n",
    "\n",
    "\n",
    "# 훈련 세트와 테스트 세트의 정확도에 대한 표준편차 그래프로 그리기\n",
    "\n",
    "plt.fill_between(param_range,train_mean-train_std,train_mean+train_std, color ='gray')\n",
    "plt.fill_between(param_range,test_mean-test_std,test_mean+test_std, color ='gainsboro')\n",
    "\n",
    "# 그래프 출력.\n",
    "plt.title('validation Curve With Random Forest')\n",
    "plt.xlabel('Number Of Trees')\n",
    "plt.ylabel('Auccuracy score')\n",
    "plt.tight_layout()\n",
    "plt.legend(loc='best')\n",
    "plt.show()"
   ]
  },
  {
   "cell_type": "code",
   "execution_count": 4,
   "metadata": {},
   "outputs": [
    {
     "data": {
      "text/plain": [
       "array([[0.93489149, 0.90567613, 0.92070117],\n",
       "       [0.97829716, 0.97412354, 0.97829716],\n",
       "       [0.9933222 , 0.99499165, 0.99582638],\n",
       "       [0.99833055, 0.99833055, 0.99916528],\n",
       "       [0.99916528, 1.        , 0.99916528],\n",
       "       [1.        , 1.        , 1.        ],\n",
       "       [0.99916528, 1.        , 0.99916528],\n",
       "       [1.        , 1.        , 0.99916528],\n",
       "       [1.        , 1.        , 1.        ],\n",
       "       [1.        , 1.        , 1.        ],\n",
       "       [1.        , 1.        , 1.        ],\n",
       "       [1.        , 1.        , 1.        ],\n",
       "       [1.        , 1.        , 1.        ],\n",
       "       [1.        , 1.        , 1.        ],\n",
       "       [1.        , 1.        , 1.        ],\n",
       "       [1.        , 1.        , 1.        ],\n",
       "       [1.        , 1.        , 1.        ],\n",
       "       [1.        , 1.        , 1.        ],\n",
       "       [1.        , 1.        , 1.        ],\n",
       "       [1.        , 1.        , 1.        ],\n",
       "       [1.        , 1.        , 1.        ],\n",
       "       [1.        , 1.        , 1.        ],\n",
       "       [1.        , 1.        , 1.        ],\n",
       "       [1.        , 1.        , 1.        ],\n",
       "       [1.        , 1.        , 1.        ],\n",
       "       [1.        , 1.        , 1.        ],\n",
       "       [1.        , 1.        , 1.        ],\n",
       "       [1.        , 1.        , 1.        ],\n",
       "       [1.        , 1.        , 1.        ],\n",
       "       [1.        , 1.        , 1.        ],\n",
       "       [1.        , 1.        , 1.        ],\n",
       "       [1.        , 1.        , 1.        ],\n",
       "       [1.        , 1.        , 1.        ],\n",
       "       [1.        , 1.        , 1.        ],\n",
       "       [1.        , 1.        , 1.        ],\n",
       "       [1.        , 1.        , 1.        ],\n",
       "       [1.        , 1.        , 1.        ],\n",
       "       [1.        , 1.        , 1.        ],\n",
       "       [1.        , 1.        , 1.        ],\n",
       "       [1.        , 1.        , 1.        ],\n",
       "       [1.        , 1.        , 1.        ],\n",
       "       [1.        , 1.        , 1.        ],\n",
       "       [1.        , 1.        , 1.        ],\n",
       "       [1.        , 1.        , 1.        ],\n",
       "       [1.        , 1.        , 1.        ],\n",
       "       [1.        , 1.        , 1.        ],\n",
       "       [1.        , 1.        , 1.        ],\n",
       "       [1.        , 1.        , 1.        ],\n",
       "       [1.        , 1.        , 1.        ],\n",
       "       [1.        , 1.        , 1.        ],\n",
       "       [1.        , 1.        , 1.        ],\n",
       "       [1.        , 1.        , 1.        ],\n",
       "       [1.        , 1.        , 1.        ],\n",
       "       [1.        , 1.        , 1.        ],\n",
       "       [1.        , 1.        , 1.        ],\n",
       "       [1.        , 1.        , 1.        ],\n",
       "       [1.        , 1.        , 1.        ],\n",
       "       [1.        , 1.        , 1.        ],\n",
       "       [1.        , 1.        , 1.        ],\n",
       "       [1.        , 1.        , 1.        ],\n",
       "       [1.        , 1.        , 1.        ],\n",
       "       [1.        , 1.        , 1.        ],\n",
       "       [1.        , 1.        , 1.        ],\n",
       "       [1.        , 1.        , 1.        ],\n",
       "       [1.        , 1.        , 1.        ],\n",
       "       [1.        , 1.        , 1.        ],\n",
       "       [1.        , 1.        , 1.        ],\n",
       "       [1.        , 1.        , 1.        ],\n",
       "       [1.        , 1.        , 1.        ],\n",
       "       [1.        , 1.        , 1.        ],\n",
       "       [1.        , 1.        , 1.        ],\n",
       "       [1.        , 1.        , 1.        ],\n",
       "       [1.        , 1.        , 1.        ],\n",
       "       [1.        , 1.        , 1.        ],\n",
       "       [1.        , 1.        , 1.        ],\n",
       "       [1.        , 1.        , 1.        ],\n",
       "       [1.        , 1.        , 1.        ],\n",
       "       [1.        , 1.        , 1.        ],\n",
       "       [1.        , 1.        , 1.        ],\n",
       "       [1.        , 1.        , 1.        ],\n",
       "       [1.        , 1.        , 1.        ],\n",
       "       [1.        , 1.        , 1.        ],\n",
       "       [1.        , 1.        , 1.        ],\n",
       "       [1.        , 1.        , 1.        ],\n",
       "       [1.        , 1.        , 1.        ],\n",
       "       [1.        , 1.        , 1.        ],\n",
       "       [1.        , 1.        , 1.        ],\n",
       "       [1.        , 1.        , 1.        ],\n",
       "       [1.        , 1.        , 1.        ],\n",
       "       [1.        , 1.        , 1.        ],\n",
       "       [1.        , 1.        , 1.        ],\n",
       "       [1.        , 1.        , 1.        ],\n",
       "       [1.        , 1.        , 1.        ],\n",
       "       [1.        , 1.        , 1.        ],\n",
       "       [1.        , 1.        , 1.        ],\n",
       "       [1.        , 1.        , 1.        ],\n",
       "       [1.        , 1.        , 1.        ],\n",
       "       [1.        , 1.        , 1.        ],\n",
       "       [1.        , 1.        , 1.        ],\n",
       "       [1.        , 1.        , 1.        ],\n",
       "       [1.        , 1.        , 1.        ],\n",
       "       [1.        , 1.        , 1.        ],\n",
       "       [1.        , 1.        , 1.        ],\n",
       "       [1.        , 1.        , 1.        ],\n",
       "       [1.        , 1.        , 1.        ],\n",
       "       [1.        , 1.        , 1.        ],\n",
       "       [1.        , 1.        , 1.        ],\n",
       "       [1.        , 1.        , 1.        ],\n",
       "       [1.        , 1.        , 1.        ],\n",
       "       [1.        , 1.        , 1.        ],\n",
       "       [1.        , 1.        , 1.        ],\n",
       "       [1.        , 1.        , 1.        ],\n",
       "       [1.        , 1.        , 1.        ],\n",
       "       [1.        , 1.        , 1.        ],\n",
       "       [1.        , 1.        , 1.        ],\n",
       "       [1.        , 1.        , 1.        ],\n",
       "       [1.        , 1.        , 1.        ],\n",
       "       [1.        , 1.        , 1.        ],\n",
       "       [1.        , 1.        , 1.        ],\n",
       "       [1.        , 1.        , 1.        ],\n",
       "       [1.        , 1.        , 1.        ],\n",
       "       [1.        , 1.        , 1.        ],\n",
       "       [1.        , 1.        , 1.        ],\n",
       "       [1.        , 1.        , 1.        ],\n",
       "       [1.        , 1.        , 1.        ]])"
      ]
     },
     "execution_count": 4,
     "metadata": {},
     "output_type": "execute_result"
    }
   ],
   "source": [
    "train_scores"
   ]
  },
  {
   "cell_type": "code",
   "execution_count": 7,
   "metadata": {},
   "outputs": [
    {
     "data": {
      "text/plain": [
       "array([0.92042293, 0.97690595, 0.99471341, 0.99860879, 0.99944352,\n",
       "       1.        , 0.99944352, 0.99972176, 1.        , 1.        ,\n",
       "       1.        , 1.        , 1.        , 1.        , 1.        ,\n",
       "       1.        , 1.        , 1.        , 1.        , 1.        ,\n",
       "       1.        , 1.        , 1.        , 1.        , 1.        ,\n",
       "       1.        , 1.        , 1.        , 1.        , 1.        ,\n",
       "       1.        , 1.        , 1.        , 1.        , 1.        ,\n",
       "       1.        , 1.        , 1.        , 1.        , 1.        ,\n",
       "       1.        , 1.        , 1.        , 1.        , 1.        ,\n",
       "       1.        , 1.        , 1.        , 1.        , 1.        ,\n",
       "       1.        , 1.        , 1.        , 1.        , 1.        ,\n",
       "       1.        , 1.        , 1.        , 1.        , 1.        ,\n",
       "       1.        , 1.        , 1.        , 1.        , 1.        ,\n",
       "       1.        , 1.        , 1.        , 1.        , 1.        ,\n",
       "       1.        , 1.        , 1.        , 1.        , 1.        ,\n",
       "       1.        , 1.        , 1.        , 1.        , 1.        ,\n",
       "       1.        , 1.        , 1.        , 1.        , 1.        ,\n",
       "       1.        , 1.        , 1.        , 1.        , 1.        ,\n",
       "       1.        , 1.        , 1.        , 1.        , 1.        ,\n",
       "       1.        , 1.        , 1.        , 1.        , 1.        ,\n",
       "       1.        , 1.        , 1.        , 1.        , 1.        ,\n",
       "       1.        , 1.        , 1.        , 1.        , 1.        ,\n",
       "       1.        , 1.        , 1.        , 1.        , 1.        ,\n",
       "       1.        , 1.        , 1.        , 1.        , 1.        ,\n",
       "       1.        , 1.        , 1.        , 1.        , 1.        ])"
      ]
     },
     "execution_count": 7,
     "metadata": {},
     "output_type": "execute_result"
    }
   ],
   "source": []
  },
  {
   "cell_type": "markdown",
   "metadata": {},
   "source": [
    "(이 책에서 다루는 여러 알고리즘을 포함해) 대부분의 훈련 알고리즘에는 훈련 과정을 시작하기 전에 선택해야만 하는 하이퍼파라미터가 있음. 예를 들어 랜덤 포레스트 분류기는 의사결정 트리의 앙상블(ensemble)을 만듬. 트리마다 샘플의 클래스를 예측. 랜덤 포레스트 분류기의 하이퍼파라미터는 앙상블을 할 트리의 개수. 많은 경우 하이퍼파라미터 값은 모델 선택(12장)과정을 통해 선택. 하지만 때로는 하이퍼파라미터 값의 변화에 따라 모델 성능의 변화를 시각화하는 것이 도움이 됌. 해결에서 트리 개수가 증가할 때 랜덤 포레스트 분류기의 훈련 세트 정확도와 교차검증 정확도의 변화를 그래프로 나타냄. 트리 개수가 적을 때는 훈련 세트의 점수와 교차 검증 점수가 모두 낮아 모델이 과소적합(underfit)되었음. 트리 개수를 250까지 증가하면 두 정확도 모두 변화가 없이 평탄해짐. 이 문제를 위해 대규모 랜덤 포레스트 모델을 훈련할 가치가 없음을 의미.\n",
    "\n",
    "-사이킷런에서 validation_curve 함수로 검증 곡선을 계산가능. 이 함수의 중요한 파라미터 세 개는 다음과 같음.\n",
    "\n",
    "1. param_name은 바꿀 하이퍼파라미터의 이름.\n",
    "\n",
    "2. param_range는 사용할 하이퍼파라미터의 범위.\n",
    "\n",
    "3. scoring은 모델을 평가하는 데 사용할 지표.\n",
    "\n",
    "- 사이킷런 문서: 검증 곡선(http://bit.ly/2FuwYFG)"
   ]
  },
  {
   "cell_type": "code",
   "execution_count": 15,
   "metadata": {
    "collapsed": true
   },
   "outputs": [],
   "source": [
    "validation_curve?"
   ]
  },
  {
   "cell_type": "code",
   "execution_count": 13,
   "metadata": {},
   "outputs": [
    {
     "data": {
      "text/plain": [
       "(125, 3)"
      ]
     },
     "execution_count": 13,
     "metadata": {},
     "output_type": "execute_result"
    }
   ],
   "source": [
    "train_scores.shape"
   ]
  },
  {
   "cell_type": "code",
   "execution_count": 14,
   "metadata": {},
   "outputs": [
    {
     "data": {
      "text/plain": [
       "(125, 3)"
      ]
     },
     "execution_count": 14,
     "metadata": {},
     "output_type": "execute_result"
    }
   ],
   "source": [
    "test_scores.shape"
   ]
  },
  {
   "cell_type": "code",
   "execution_count": null,
   "metadata": {
    "collapsed": true
   },
   "outputs": [],
   "source": []
  }
 ],
 "metadata": {
  "kernelspec": {
   "display_name": "Python 3",
   "language": "python",
   "name": "python3"
  },
  "language_info": {
   "codemirror_mode": {
    "name": "ipython",
    "version": 3
   },
   "file_extension": ".py",
   "mimetype": "text/x-python",
   "name": "python",
   "nbconvert_exporter": "python",
   "pygments_lexer": "ipython3",
   "version": "3.6.7"
  }
 },
 "nbformat": 4,
 "nbformat_minor": 2
}

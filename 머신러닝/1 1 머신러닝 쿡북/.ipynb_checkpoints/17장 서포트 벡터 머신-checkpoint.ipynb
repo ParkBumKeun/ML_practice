{
 "cells": [
  {
   "cell_type": "markdown",
   "metadata": {},
   "source": [
    "# 17.1 선형 분류기 훈련"
   ]
  },
  {
   "cell_type": "markdown",
   "metadata": {},
   "source": [
    "서포트 벡터 머신은 훈련 데이터를 분류하기 위해 클래스 사이의 마진(margin)을 최대화하는 초평면을 찾음. 두 개의 클래스가 있는 2차원,예를 들면 초평면을 두 클래스를 분할하는 널직하고 곧게 뻗은 띠(즉,마진을 가진 직선)로 생각할 수 있음.\n"
   ]
  },
  {
   "cell_type": "markdown",
   "metadata": {},
   "source": [
    "샘플 분류를 위해 모델을 훈련 - 서포트 벡터 분류기 (SVC)를 사용해 클래스 사이 마진을 최대화하는 초평면을 찾음."
   ]
  },
  {
   "cell_type": "code",
   "execution_count": 22,
   "metadata": {},
   "outputs": [],
   "source": [
    "from sklearn.svm import LinearSVC\n",
    "from sklearn import datasets\n",
    "from sklearn.preprocessing import StandardScaler\n",
    "import numpy as np\n",
    "\n",
    "iris = datasets.load_iris()\n",
    "X = iris.data[:100, :2]\n",
    "Y= iris.target[:100]\n",
    "\n",
    "# 특성을 표준화 함\n",
    "\n",
    "scaler = StandardScaler()\n",
    "X_standardized = scaler.fit_transform(X)\n",
    "\n",
    "# 서포트 벡터 분류기 생성\n",
    "svc = LinearSVC(C=1.0)\n",
    "\n",
    "# 모델 훈련\n",
    "\n",
    "model = svc.fit(X_standardized,Y)"
   ]
  },
  {
   "cell_type": "code",
   "execution_count": 5,
   "metadata": {},
   "outputs": [
    {
     "data": {
      "text/plain": [
       "array([[5.1, 3.5],\n",
       "       [4.9, 3. ],\n",
       "       [4.7, 3.2],\n",
       "       [4.6, 3.1],\n",
       "       [5. , 3.6],\n",
       "       [5.4, 3.9],\n",
       "       [4.6, 3.4],\n",
       "       [5. , 3.4],\n",
       "       [4.4, 2.9],\n",
       "       [4.9, 3.1],\n",
       "       [5.4, 3.7],\n",
       "       [4.8, 3.4],\n",
       "       [4.8, 3. ],\n",
       "       [4.3, 3. ],\n",
       "       [5.8, 4. ],\n",
       "       [5.7, 4.4],\n",
       "       [5.4, 3.9],\n",
       "       [5.1, 3.5],\n",
       "       [5.7, 3.8],\n",
       "       [5.1, 3.8],\n",
       "       [5.4, 3.4],\n",
       "       [5.1, 3.7],\n",
       "       [4.6, 3.6],\n",
       "       [5.1, 3.3],\n",
       "       [4.8, 3.4],\n",
       "       [5. , 3. ],\n",
       "       [5. , 3.4],\n",
       "       [5.2, 3.5],\n",
       "       [5.2, 3.4],\n",
       "       [4.7, 3.2],\n",
       "       [4.8, 3.1],\n",
       "       [5.4, 3.4],\n",
       "       [5.2, 4.1],\n",
       "       [5.5, 4.2],\n",
       "       [4.9, 3.1],\n",
       "       [5. , 3.2],\n",
       "       [5.5, 3.5],\n",
       "       [4.9, 3.6],\n",
       "       [4.4, 3. ],\n",
       "       [5.1, 3.4],\n",
       "       [5. , 3.5],\n",
       "       [4.5, 2.3],\n",
       "       [4.4, 3.2],\n",
       "       [5. , 3.5],\n",
       "       [5.1, 3.8],\n",
       "       [4.8, 3. ],\n",
       "       [5.1, 3.8],\n",
       "       [4.6, 3.2],\n",
       "       [5.3, 3.7],\n",
       "       [5. , 3.3],\n",
       "       [7. , 3.2],\n",
       "       [6.4, 3.2],\n",
       "       [6.9, 3.1],\n",
       "       [5.5, 2.3],\n",
       "       [6.5, 2.8],\n",
       "       [5.7, 2.8],\n",
       "       [6.3, 3.3],\n",
       "       [4.9, 2.4],\n",
       "       [6.6, 2.9],\n",
       "       [5.2, 2.7],\n",
       "       [5. , 2. ],\n",
       "       [5.9, 3. ],\n",
       "       [6. , 2.2],\n",
       "       [6.1, 2.9],\n",
       "       [5.6, 2.9],\n",
       "       [6.7, 3.1],\n",
       "       [5.6, 3. ],\n",
       "       [5.8, 2.7],\n",
       "       [6.2, 2.2],\n",
       "       [5.6, 2.5],\n",
       "       [5.9, 3.2],\n",
       "       [6.1, 2.8],\n",
       "       [6.3, 2.5],\n",
       "       [6.1, 2.8],\n",
       "       [6.4, 2.9],\n",
       "       [6.6, 3. ],\n",
       "       [6.8, 2.8],\n",
       "       [6.7, 3. ],\n",
       "       [6. , 2.9],\n",
       "       [5.7, 2.6],\n",
       "       [5.5, 2.4],\n",
       "       [5.5, 2.4],\n",
       "       [5.8, 2.7],\n",
       "       [6. , 2.7],\n",
       "       [5.4, 3. ],\n",
       "       [6. , 3.4],\n",
       "       [6.7, 3.1],\n",
       "       [6.3, 2.3],\n",
       "       [5.6, 3. ],\n",
       "       [5.5, 2.5],\n",
       "       [5.5, 2.6],\n",
       "       [6.1, 3. ],\n",
       "       [5.8, 2.6],\n",
       "       [5. , 2.3],\n",
       "       [5.6, 2.7],\n",
       "       [5.7, 3. ],\n",
       "       [5.7, 2.9],\n",
       "       [6.2, 2.9],\n",
       "       [5.1, 2.5],\n",
       "       [5.7, 2.8]])"
      ]
     },
     "execution_count": 5,
     "metadata": {},
     "output_type": "execute_result"
    }
   ],
   "source": [
    "X"
   ]
  },
  {
   "cell_type": "code",
   "execution_count": 6,
   "metadata": {},
   "outputs": [
    {
     "data": {
      "text/plain": [
       "array([0, 0, 0, 0, 0, 0, 0, 0, 0, 0, 0, 0, 0, 0, 0, 0, 0, 0, 0, 0, 0, 0,\n",
       "       0, 0, 0, 0, 0, 0, 0, 0, 0, 0, 0, 0, 0, 0, 0, 0, 0, 0, 0, 0, 0, 0,\n",
       "       0, 0, 0, 0, 0, 0, 1, 1, 1, 1, 1, 1, 1, 1, 1, 1, 1, 1, 1, 1, 1, 1,\n",
       "       1, 1, 1, 1, 1, 1, 1, 1, 1, 1, 1, 1, 1, 1, 1, 1, 1, 1, 1, 1, 1, 1,\n",
       "       1, 1, 1, 1, 1, 1, 1, 1, 1, 1, 1, 1])"
      ]
     },
     "execution_count": 6,
     "metadata": {},
     "output_type": "execute_result"
    }
   ],
   "source": [
    "Y"
   ]
  },
  {
   "cell_type": "code",
   "execution_count": 23,
   "metadata": {},
   "outputs": [
    {
     "data": {
      "text/plain": [
       "array([[-5.81065904e-01,  8.41837140e-01],\n",
       "       [-8.94308978e-01, -2.07835104e-01],\n",
       "       [-1.20755205e+00,  2.12033793e-01],\n",
       "       [-1.36417359e+00,  2.09934449e-03],\n",
       "       [-7.37687441e-01,  1.05177159e+00],\n",
       "       [-1.11201292e-01,  1.68157493e+00],\n",
       "       [-1.36417359e+00,  6.31902691e-01],\n",
       "       [-7.37687441e-01,  6.31902691e-01],\n",
       "       [-1.67741667e+00, -4.17769553e-01],\n",
       "       [-8.94308978e-01,  2.09934449e-03],\n",
       "       [-1.11201292e-01,  1.26170604e+00],\n",
       "       [-1.05093052e+00,  6.31902691e-01],\n",
       "       [-1.05093052e+00, -2.07835104e-01],\n",
       "       [-1.83403820e+00, -2.07835104e-01],\n",
       "       [ 5.15284858e-01,  1.89150938e+00],\n",
       "       [ 3.58663321e-01,  2.73124718e+00],\n",
       "       [-1.11201292e-01,  1.68157493e+00],\n",
       "       [-5.81065904e-01,  8.41837140e-01],\n",
       "       [ 3.58663321e-01,  1.47164049e+00],\n",
       "       [-5.81065904e-01,  1.47164049e+00],\n",
       "       [-1.11201292e-01,  6.31902691e-01],\n",
       "       [-5.81065904e-01,  1.26170604e+00],\n",
       "       [-1.36417359e+00,  1.05177159e+00],\n",
       "       [-5.81065904e-01,  4.21968242e-01],\n",
       "       [-1.05093052e+00,  6.31902691e-01],\n",
       "       [-7.37687441e-01, -2.07835104e-01],\n",
       "       [-7.37687441e-01,  6.31902691e-01],\n",
       "       [-4.24444366e-01,  8.41837140e-01],\n",
       "       [-4.24444366e-01,  6.31902691e-01],\n",
       "       [-1.20755205e+00,  2.12033793e-01],\n",
       "       [-1.05093052e+00,  2.09934449e-03],\n",
       "       [-1.11201292e-01,  6.31902691e-01],\n",
       "       [-4.24444366e-01,  2.10144383e+00],\n",
       "       [ 4.54202458e-02,  2.31137828e+00],\n",
       "       [-8.94308978e-01,  2.09934449e-03],\n",
       "       [-7.37687441e-01,  2.12033793e-01],\n",
       "       [ 4.54202458e-02,  8.41837140e-01],\n",
       "       [-8.94308978e-01,  1.05177159e+00],\n",
       "       [-1.67741667e+00, -2.07835104e-01],\n",
       "       [-5.81065904e-01,  6.31902691e-01],\n",
       "       [-7.37687441e-01,  8.41837140e-01],\n",
       "       [-1.52079513e+00, -1.67737625e+00],\n",
       "       [-1.67741667e+00,  2.12033793e-01],\n",
       "       [-7.37687441e-01,  8.41837140e-01],\n",
       "       [-5.81065904e-01,  1.47164049e+00],\n",
       "       [-1.05093052e+00, -2.07835104e-01],\n",
       "       [-5.81065904e-01,  1.47164049e+00],\n",
       "       [-1.36417359e+00,  2.12033793e-01],\n",
       "       [-2.67822829e-01,  1.26170604e+00],\n",
       "       [-7.37687441e-01,  4.21968242e-01],\n",
       "       [ 2.39474331e+00,  2.12033793e-01],\n",
       "       [ 1.45501408e+00,  2.12033793e-01],\n",
       "       [ 2.23812177e+00,  2.09934449e-03],\n",
       "       [ 4.54202458e-02, -1.67737625e+00],\n",
       "       [ 1.61163562e+00, -6.27704002e-01],\n",
       "       [ 3.58663321e-01, -6.27704002e-01],\n",
       "       [ 1.29839254e+00,  4.21968242e-01],\n",
       "       [-8.94308978e-01, -1.46744180e+00],\n",
       "       [ 1.76825716e+00, -4.17769553e-01],\n",
       "       [-4.24444366e-01, -8.37638451e-01],\n",
       "       [-7.37687441e-01, -2.30717959e+00],\n",
       "       [ 6.71906395e-01, -2.07835104e-01],\n",
       "       [ 8.28527933e-01, -1.88731069e+00],\n",
       "       [ 9.85149470e-01, -4.17769553e-01],\n",
       "       [ 2.02041783e-01, -4.17769553e-01],\n",
       "       [ 1.92487869e+00,  2.09934449e-03],\n",
       "       [ 2.02041783e-01, -2.07835104e-01],\n",
       "       [ 5.15284858e-01, -8.37638451e-01],\n",
       "       [ 1.14177101e+00, -1.88731069e+00],\n",
       "       [ 2.02041783e-01, -1.25750735e+00],\n",
       "       [ 6.71906395e-01,  2.12033793e-01],\n",
       "       [ 9.85149470e-01, -6.27704002e-01],\n",
       "       [ 1.29839254e+00, -1.25750735e+00],\n",
       "       [ 9.85149470e-01, -6.27704002e-01],\n",
       "       [ 1.45501408e+00, -4.17769553e-01],\n",
       "       [ 1.76825716e+00, -2.07835104e-01],\n",
       "       [ 2.08150023e+00, -6.27704002e-01],\n",
       "       [ 1.92487869e+00, -2.07835104e-01],\n",
       "       [ 8.28527933e-01, -4.17769553e-01],\n",
       "       [ 3.58663321e-01, -1.04757290e+00],\n",
       "       [ 4.54202458e-02, -1.46744180e+00],\n",
       "       [ 4.54202458e-02, -1.46744180e+00],\n",
       "       [ 5.15284858e-01, -8.37638451e-01],\n",
       "       [ 8.28527933e-01, -8.37638451e-01],\n",
       "       [-1.11201292e-01, -2.07835104e-01],\n",
       "       [ 8.28527933e-01,  6.31902691e-01],\n",
       "       [ 1.92487869e+00,  2.09934449e-03],\n",
       "       [ 1.29839254e+00, -1.67737625e+00],\n",
       "       [ 2.02041783e-01, -2.07835104e-01],\n",
       "       [ 4.54202458e-02, -1.25750735e+00],\n",
       "       [ 4.54202458e-02, -1.04757290e+00],\n",
       "       [ 9.85149470e-01, -2.07835104e-01],\n",
       "       [ 5.15284858e-01, -1.04757290e+00],\n",
       "       [-7.37687441e-01, -1.67737625e+00],\n",
       "       [ 2.02041783e-01, -8.37638451e-01],\n",
       "       [ 3.58663321e-01, -2.07835104e-01],\n",
       "       [ 3.58663321e-01, -4.17769553e-01],\n",
       "       [ 1.14177101e+00, -4.17769553e-01],\n",
       "       [-5.81065904e-01, -1.25750735e+00],\n",
       "       [ 3.58663321e-01, -6.27704002e-01]])"
      ]
     },
     "execution_count": 23,
     "metadata": {},
     "output_type": "execute_result"
    }
   ],
   "source": [
    "X_standardized"
   ]
  },
  {
   "cell_type": "markdown",
   "metadata": {},
   "source": [
    "사이킷런의 LinearSVC 클래스는 간단한 SVC를 구현. SVC가 하는 일을 이해하기 위해 데이터와 초평면 아래에 그림. SVC는 고차원 데이터에서 잘 작동하지만 해결에서는 두 개의 특성과 두 개의 클래스에 해당하는 일부 샘플만 선택. (모델을 시각화하기 위해) SVC는 클래스 사이 마진이 최대화 되는 초평면을 찾으려 함. 2차원일 때 이 초평면은 직선. 아래 코드에서 2차원 공간에 두 클래스와 초평면을 그림.\n"
   ]
  },
  {
   "cell_type": "code",
   "execution_count": 10,
   "metadata": {},
   "outputs": [
    {
     "data": {
      "text/plain": [
       "array([[ 1.45913169, -2.19037421]])"
      ]
     },
     "execution_count": 10,
     "metadata": {},
     "output_type": "execute_result"
    }
   ],
   "source": [
    "svc.coef_"
   ]
  },
  {
   "cell_type": "code",
   "execution_count": 24,
   "metadata": {},
   "outputs": [
    {
     "data": {
      "image/png": "[encoded data removed]",
      "text/plain": [
       "<matplotlib.figure.Figure at 0x27044998cf8>"
      ]
     },
     "metadata": {},
     "output_type": "display_data"
    },
    {
     "data": {
      "text/plain": [
       "'\\n이 그래프에서 클래스 0이 검은색이고 클래스 1의 샘플은 밝은 회색 이 초평면은 새로운 샘플을 분류하기 위한 결정 경계. 예를 들면 이 직선 위의\\n샘플은 클래스 0으로 분류되고 직선 아래 샘플은 클래스 1로 분류. \\n'"
      ]
     },
     "execution_count": 24,
     "metadata": {},
     "output_type": "execute_result"
    }
   ],
   "source": [
    "import matplotlib.pyplot as plt\n",
    "\n",
    "# 클래스를 색으로 구분한 산점도를 그림\n",
    "\n",
    "color = ['black' if c==0 else 'lightgrey' for c in Y]\n",
    "plt.scatter(X_standardized[:,0],X_standardized[:,1], c=color)\n",
    "\n",
    "\n",
    "# 초평면 생성\n",
    "############## 이거 공식 뭐더냐 !!!!!!!!!!!!!!!!!!!!!!!!\n",
    "w = svc.coef_[0]\n",
    "a = -w[0]/w[1]\n",
    "xx= np.linspace(-2.5,2.5)\n",
    "yy= a * xx - (svc.intercept_[0]) / w[1]\n",
    "\n",
    "# 초평면을 그림.\n",
    "\n",
    "plt.plot(xx,yy)\n",
    "plt.axis('off')\n",
    "plt.show()\n",
    "\n",
    "\n",
    "\n",
    "'''\n",
    "이 그래프에서 클래스 0이 검은색이고 클래스 1의 샘플은 밝은 회색 이 초평면은 새로운 샘플을 분류하기 위한 결정 경계. 예를 들면 이 직선 위의\n",
    "샘플은 클래스 0으로 분류되고 직선 아래 샘플은 클래스 1로 분류. \n",
    "'''"
   ]
  },
  {
   "cell_type": "code",
   "execution_count": 18,
   "metadata": {},
   "outputs": [
    {
     "data": {
      "text/plain": [
       "array([-1.08988083])"
      ]
     },
     "execution_count": 18,
     "metadata": {},
     "output_type": "execute_result"
    }
   ],
   "source": [
    "svc.intercept_"
   ]
  },
  {
   "cell_type": "code",
   "execution_count": 19,
   "metadata": {},
   "outputs": [
    {
     "data": {
      "text/plain": [
       "array([0])"
      ]
     },
     "execution_count": 19,
     "metadata": {},
     "output_type": "execute_result"
    }
   ],
   "source": [
    "# 새로운 샘플 생성\n",
    "new_observation = [[-2,3]]\n",
    "\n",
    "# 새로운 샘플의 클래스를 예측\n",
    "svc.predict(new_observation) # 0으로 예측"
   ]
  },
  {
   "cell_type": "markdown",
   "metadata": {},
   "source": [
    " # 초평면은 아쉽게도 거의 대부분 완전한 선형이 아님\n",
    "일반적으로 클래스를 완벽히 구분할 수 없음 이런 경우 초평면의 마진을 최대화 하는 SVC와 분류 오차를 최소화하는 것 사이에 균형을 잡아야 함. svc에서 오차에 부과하는 패널티인 하이퍼파라미터 C를 사용해 후자를 조절. C는 svc모델의 매개변수로 잘못 분류된 데이터 포인트에 부여하는 페널티. C가 작으면 분류기는 잘못 분류된 데이터 포인트를 허용(편향이 커지고 분산이 낮아짐). C가 크면 분류기는 잘못 분류된 데이터에 큰 페널티를 부과. 결국 잘못 분류된 데이터 포인트를 피하기 위해 이 데이터 뒤로 결정 정계가 기루어짐.(편향이 낮고 분산이 높아짐)"
   ]
  },
  {
   "cell_type": "markdown",
   "metadata": {},
   "source": [
    "## 17.2 커널을 사용해 선형적으로 구분되지 않는 클래스 다루기"
   ]
  },
  {
   "cell_type": "code",
   "execution_count": 25,
   "metadata": {},
   "outputs": [],
   "source": [
    "# 라이브러리를 임포트합니다.\n",
    "from sklearn.svm import SVC\n",
    "from sklearn import datasets\n",
    "from sklearn.preprocessing import StandardScaler\n",
    "import numpy as np\n",
    "\n",
    "# 랜덤 시드를 지정합니다.\n",
    "np.random.seed(0)\n",
    "\n",
    "# 두 개의 특성을 만듭니다.\n",
    "features = np.random.randn(200, 2)\n",
    "\n",
    "# XOR 연산(이것이 무엇인지 알 필요는 없습니다)을 사용하여\n",
    "# 선형적으로 구분할 수 없는 클래스를 만듭니다.\n",
    "target_xor = np.logical_xor(features[:, 0] > 0, features[:, 1] > 0)\n",
    "target = np.where(target_xor, 0, 1)\n",
    "\n",
    "# 방사 기저 함수 커널을 사용한 서포트 벡터 머신을 만듭니다.\n",
    "svc = SVC(kernel=\"rbf\", random_state=0, gamma=1, C=1)\n",
    "\n",
    "# 분류기를 훈련합니다.\n",
    "model = svc.fit(features, target)"
   ]
  },
  {
   "cell_type": "code",
   "execution_count": 26,
   "metadata": {
    "collapsed": true
   },
   "outputs": [],
   "source": [
    "# 샘플과 결정 경계를 그립니다.\n",
    "from matplotlib.colors import ListedColormap\n",
    "import matplotlib.pyplot as plt\n",
    "\n",
    "def plot_decision_regions(X, y, classifier):\n",
    "    cmap = ListedColormap((\"red\", \"blue\"))\n",
    "    xx1, xx2 = np.meshgrid(np.arange(-3, 3, 0.02), np.arange(-3, 3, 0.02))\n",
    "    Z = classifier.predict(np.array([xx1.ravel(), xx2.ravel()]).T)\n",
    "    Z = Z.reshape(xx1.shape)\n",
    "    plt.contourf(xx1, xx2, Z, alpha=0.1, cmap=cmap)\n",
    "\n",
    "    for idx, cl in enumerate(np.unique(y)):\n",
    "        plt.scatter(x=X[y == cl, 0], y=X[y == cl, 1],\n",
    "                    alpha=0.8, c=cmap.colors[idx],\n",
    "                    marker=\"+\", label=cl)"
   ]
  },
  {
   "cell_type": "code",
   "execution_count": 27,
   "metadata": {},
   "outputs": [
    {
     "data": {
      "text/plain": [
       "SVC(C=1, break_ties=False, cache_size=200, class_weight=None, coef0=0.0,\n",
       "    decision_function_shape='ovr', degree=3, gamma='scale', kernel='linear',\n",
       "    max_iter=-1, probability=False, random_state=0, shrinking=True, tol=0.001,\n",
       "    verbose=False)"
      ]
     },
     "execution_count": 27,
     "metadata": {},
     "output_type": "execute_result"
    }
   ],
   "source": [
    "# 선형 커널을 사용한 서포트 벡터 분류기를 만듭니다. with a linear kernel\n",
    "svc_linear = SVC(kernel=\"linear\", random_state=0, C=1)\n",
    "\n",
    "# 모델을 훈련합니다.\n",
    "svc_linear.fit(features, target)"
   ]
  },
  {
   "cell_type": "code",
   "execution_count": 28,
   "metadata": {},
   "outputs": [
    {
     "data": {
      "image/png": "[encoded data removed]",
      "text/plain": [
       "<matplotlib.figure.Figure at 0x270441934a8>"
      ]
     },
     "metadata": {},
     "output_type": "display_data"
    }
   ],
   "source": [
    "# 샘플과 초평면을 그립니다.\n",
    "plot_decision_regions(features, target, classifier=svc_linear)\n",
    "plt.axis(\"off\"), plt.show();"
   ]
  },
  {
   "cell_type": "markdown",
   "metadata": {},
   "source": [
    "초평면이 linear라 두 클래스를 제대로 분류 못함"
   ]
  },
  {
   "cell_type": "code",
   "execution_count": 29,
   "metadata": {
    "collapsed": true
   },
   "outputs": [],
   "source": [
    "# 방사 기저 함수 커널을 사용한 서포트 벡터 머신을 만듭니다.\n",
    "svc = SVC(kernel=\"rbf\", random_state=0, gamma=1, C=1)\n",
    "\n",
    "# 분류기를 훈련합니다.\n",
    "model = svc.fit(features, target)"
   ]
  },
  {
   "cell_type": "code",
   "execution_count": 30,
   "metadata": {},
   "outputs": [
    {
     "data": {
      "image/png": "[encoded data removed]",
      "text/plain": [
       "<matplotlib.figure.Figure at 0x270444845f8>"
      ]
     },
     "metadata": {},
     "output_type": "display_data"
    }
   ],
   "source": [
    "# 샘플과 초평면을 그립니다.\n",
    "plot_decision_regions(features, target, classifier=svc)\n",
    "plt.axis(\"off\"), plt.show();"
   ]
  },
  {
   "cell_type": "markdown",
   "metadata": {},
   "source": [
    "방사기저함수 rbf 를 커널로 사용해 두개를 제대로 분류"
   ]
  },
  {
   "cell_type": "markdown",
   "metadata": {},
   "source": [
    "# 17.3 예측확률 계산하기"
   ]
  },
  {
   "cell_type": "markdown",
   "metadata": {},
   "source": [
    "샘플에 대한 예측 클래스 확률을 알아야 함. -사이킷런의 SVC 클래스를 사용할 때 probability = True로 지정해 모델을 훈련하면 predict_proba 메서드에서 보정된 확률을 확인 가능"
   ]
  },
  {
   "cell_type": "code",
   "execution_count": 31,
   "metadata": {},
   "outputs": [
    {
     "data": {
      "text/plain": [
       "array([[0.00582525, 0.96725691, 0.02691783]])"
      ]
     },
     "execution_count": 31,
     "metadata": {},
     "output_type": "execute_result"
    }
   ],
   "source": [
    "# 라이브러리를 임포트합니다.\n",
    "from sklearn.svm import SVC\n",
    "from sklearn import datasets\n",
    "from sklearn.preprocessing import StandardScaler\n",
    "import numpy as np\n",
    "\n",
    "# 데이터를 로드합니다.\n",
    "iris = datasets.load_iris()\n",
    "features = iris.data\n",
    "target = iris.target\n",
    "\n",
    "# 특성을 표준화합니다.\n",
    "scaler = StandardScaler()\n",
    "features_standardized = scaler.fit_transform(features)\n",
    "\n",
    "# 서포트 벡터 분류기를 만듭니다. object\n",
    "svc = SVC(kernel=\"linear\", probability=True, random_state=0)\n",
    "\n",
    "# 분류기를 훈련합니다.\n",
    "model = svc.fit(features_standardized, target)\n",
    "\n",
    "# 새로운 샘플을 만듭니다.\n",
    "new_observation = [[.4, .4, .4, .4]]\n",
    "\n",
    "# 예측 확률을 확인합니다.\n",
    "model.predict_proba(new_observation)"
   ]
  },
  {
   "cell_type": "markdown",
   "metadata": {},
   "source": [
    "## 17.4 서포트 벡터 식별하기"
   ]
  },
  {
   "cell_type": "markdown",
   "metadata": {},
   "source": [
    "결정 초평면의 서포트 벡터가 어떤 샘플인지 식별. 모델은 훈련한 다음 support_vectors_ 속성을 확인 "
   ]
  },
  {
   "cell_type": "code",
   "execution_count": 32,
   "metadata": {},
   "outputs": [
    {
     "data": {
      "text/plain": [
       "array([[-0.5810659 ,  0.42196824, -0.80497402, -0.50860702],\n",
       "       [-1.52079513, -1.67737625, -1.08231219, -0.86427627],\n",
       "       [-0.89430898, -1.4674418 ,  0.30437864,  0.38056609],\n",
       "       [-0.5810659 , -1.25750735,  0.09637501,  0.55840072]])"
      ]
     },
     "execution_count": 32,
     "metadata": {},
     "output_type": "execute_result"
    }
   ],
   "source": [
    "# 라이브러리를 임포트합니다.\n",
    "from sklearn.svm import SVC\n",
    "from sklearn import datasets\n",
    "from sklearn.preprocessing import StandardScaler\n",
    "import numpy as np\n",
    "\n",
    "#데이터를 로드하고 두 개의 클래스만 선택합니다.\n",
    "iris = datasets.load_iris()\n",
    "features = iris.data[:100,:]\n",
    "target = iris.target[:100]\n",
    "\n",
    "# 특성을 표준화합니다.\n",
    "scaler = StandardScaler()\n",
    "features_standardized = scaler.fit_transform(features)\n",
    "\n",
    "# 서포트 벡터 분류기를 만듭니다. object\n",
    "svc = SVC(kernel=\"linear\", random_state=0)\n",
    "\n",
    "# 분류기를 훈련합니다.\n",
    "model = svc.fit(features_standardized, target)\n",
    "\n",
    "# 서포트 벡터를 확인합니다.\n",
    "model.support_vectors_"
   ]
  },
  {
   "cell_type": "markdown",
   "metadata": {},
   "source": [
    "서포트 벡터 머신은 초평면이 비교적 소수의 샘플에 의해 결정된다는 사실에서 이름이 유래. 이런 샘플을 서포트 벡터라고 부름. 이런 서포트 벡터가 초평면을 떠받들고 있다고 생각할 수 있음. 따라서 이런 서포트 벡터는 모델에서 아주 중요함. 예를 들어 서포트 벡터가 아닌 샘플을 데이터에서 삭제해도 모델은 변하지 않음. 하지만 서포트 벡터를 삭제하면 초평면이 만드는 최대 마진이 달라짐. 사이킷런은 SVC를 훈려하고 나서 서포트 벡터를 식별할 수 있는 여러 가지 방법을 제공. 해결에서 support_vectors_를 사용해 모델에 있는 서포트 벡터 네 개의 실제 샘플 특성을 출력. "
   ]
  },
  {
   "cell_type": "code",
   "execution_count": 33,
   "metadata": {},
   "outputs": [
    {
     "data": {
      "text/plain": [
       "array([23, 41, 57, 98])"
      ]
     },
     "execution_count": 33,
     "metadata": {},
     "output_type": "execute_result"
    }
   ],
   "source": [
    "model.support_ # 서포트 벡터의 인덱스를 확인 "
   ]
  },
  {
   "cell_type": "code",
   "execution_count": 34,
   "metadata": {},
   "outputs": [
    {
     "data": {
      "text/plain": [
       "array([2, 2])"
      ]
     },
     "execution_count": 34,
     "metadata": {},
     "output_type": "execute_result"
    }
   ],
   "source": [
    "model.n_support_ # 각 클래스에 속한 서포트 벡터의 개수를 확인 "
   ]
  },
  {
   "cell_type": "markdown",
   "metadata": {},
   "source": [
    "## 17.5 불균형한 클래스 다루기"
   ]
  },
  {
   "cell_type": "markdown",
   "metadata": {},
   "source": [
    "불균형한 클래스가 있을 때 서포트 벡터 머신 분류기를 훈련 : class_weight 매개변수를 이용해 작은 클래스를 잘못 분류했을 때 패널티를 증가시킴."
   ]
  },
  {
   "cell_type": "code",
   "execution_count": 35,
   "metadata": {
    "collapsed": true
   },
   "outputs": [],
   "source": [
    "# 라이브러리를 임포트합니다.\n",
    "from sklearn.svm import SVC\n",
    "from sklearn import datasets\n",
    "from sklearn.preprocessing import StandardScaler\n",
    "import numpy as np\n",
    "\n",
    "#데이터를 로드하고 두 개의 클래스만 선택합니다.\n",
    "iris = datasets.load_iris()\n",
    "features = iris.data[:100,:]\n",
    "target = iris.target[:100]\n",
    "\n",
    "# 처음 40개 샘플을 제거하여 불균형한 클래스를 만듭니다.\n",
    "features = features[40:,:]\n",
    "target = target[40:]\n",
    "\n",
    "# 타깃 벡터에서 0이 아닌 클래스는 모두 1로 만듭니다.\n",
    "target = np.where((target == 0), 0, 1)\n",
    "\n",
    "# 특성을 표준화합니다.\n",
    "scaler = StandardScaler()\n",
    "features_standardized = scaler.fit_transform(features)\n",
    "\n",
    "# 서포트 벡터 분류기를 만듭니다.\n",
    "svc = SVC(kernel=\"linear\", class_weight=\"balanced\", C=1.0, random_state=0)\n",
    "\n",
    "# 분류기를 훈련합니다.\n",
    "model = svc.fit(features_standardized, target)"
   ]
  },
  {
   "cell_type": "markdown",
   "metadata": {},
   "source": [
    "서포트 벡터 머신에서 C는 샘플의 분류 오차에 대한 페널티를 결정하는 하이퍼파라미터. 서포트 벡터 머신에서 불균형한 클래스를 다루는 한 가지 방법은 클래스별로 C를 가중하는 것."
   ]
  },
  {
   "cell_type": "code",
   "execution_count": null,
   "metadata": {
    "collapsed": true
   },
   "outputs": [],
   "source": []
  }
 ],
 "metadata": {
  "kernelspec": {
   "display_name": "Python 3",
   "language": "python",
   "name": "python3"
  },
  "language_info": {
   "codemirror_mode": {
    "name": "ipython",
    "version": 3
   },
   "file_extension": ".py",
   "mimetype": "text/x-python",
   "name": "python",
   "nbconvert_exporter": "python",
   "pygments_lexer": "ipython3",
   "version": "3.6.1"
  }
 },
 "nbformat": 4,
 "nbformat_minor": 2
}
